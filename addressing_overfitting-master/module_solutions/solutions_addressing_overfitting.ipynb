{
 "cells": [
  {
   "cell_type": "markdown",
   "metadata": {},
   "source": [
    "<img src=\"http://imgur.com/1ZcRyrc.png\" style=\"float: left; margin: 20px; height: 55px\">\n",
    "\n",
    "# Addressing Overfitting"
   ]
  },
  {
   "cell_type": "code",
   "execution_count": 1,
   "metadata": {},
   "outputs": [],
   "source": [
    "import matplotlib.pyplot as plt\n",
    "import numpy as np\n",
    "import pandas as pd\n",
    "from tqdm import tqdm"
   ]
  },
  {
   "cell_type": "code",
   "execution_count": 2,
   "metadata": {},
   "outputs": [],
   "source": [
    "%matplotlib inline"
   ]
  },
  {
   "cell_type": "markdown",
   "metadata": {},
   "source": [
    "Increasing model complexity can decrease bias but will eventually lead to overfitting. This lesson is about what to do when your model is overfitting."
   ]
  },
  {
   "cell_type": "markdown",
   "metadata": {
    "toc-hr-collapsed": true
   },
   "source": [
    "## Getting More Data"
   ]
  },
  {
   "cell_type": "markdown",
   "metadata": {},
   "source": [
    "Getting more data is the surest way to reduce overfitting."
   ]
  },
  {
   "cell_type": "code",
   "execution_count": 3,
   "metadata": {},
   "outputs": [],
   "source": [
    "ames_df = pd.read_csv('../assets/data/ames_train.csv')\n",
    "# Dropping `OverallQual` because it is not always available\n",
    "ames_df = ames_df.drop(['Id', 'OverallQual'], axis='columns')"
   ]
  },
  {
   "cell_type": "code",
   "execution_count": 4,
   "metadata": {},
   "outputs": [
    {
     "data": {
      "text/plain": [
       "(1460, 79)"
      ]
     },
     "execution_count": 4,
     "metadata": {},
     "output_type": "execute_result"
    }
   ],
   "source": [
    "ames_df.shape"
   ]
  },
  {
   "cell_type": "code",
   "execution_count": 5,
   "metadata": {},
   "outputs": [
    {
     "data": {
      "text/html": [
       "<div>\n",
       "<style scoped>\n",
       "    .dataframe tbody tr th:only-of-type {\n",
       "        vertical-align: middle;\n",
       "    }\n",
       "\n",
       "    .dataframe tbody tr th {\n",
       "        vertical-align: top;\n",
       "    }\n",
       "\n",
       "    .dataframe thead th {\n",
       "        text-align: right;\n",
       "    }\n",
       "</style>\n",
       "<table border=\"1\" class=\"dataframe\">\n",
       "  <thead>\n",
       "    <tr style=\"text-align: right;\">\n",
       "      <th></th>\n",
       "      <th>MSSubClass</th>\n",
       "      <th>MSZoning</th>\n",
       "      <th>LotFrontage</th>\n",
       "      <th>LotArea</th>\n",
       "      <th>Street</th>\n",
       "      <th>Alley</th>\n",
       "      <th>LotShape</th>\n",
       "      <th>LandContour</th>\n",
       "      <th>Utilities</th>\n",
       "      <th>LotConfig</th>\n",
       "      <th>...</th>\n",
       "      <th>PoolArea</th>\n",
       "      <th>PoolQC</th>\n",
       "      <th>Fence</th>\n",
       "      <th>MiscFeature</th>\n",
       "      <th>MiscVal</th>\n",
       "      <th>MoSold</th>\n",
       "      <th>YrSold</th>\n",
       "      <th>SaleType</th>\n",
       "      <th>SaleCondition</th>\n",
       "      <th>SalePrice</th>\n",
       "    </tr>\n",
       "  </thead>\n",
       "  <tbody>\n",
       "    <tr>\n",
       "      <th>0</th>\n",
       "      <td>60</td>\n",
       "      <td>RL</td>\n",
       "      <td>65.0</td>\n",
       "      <td>8450</td>\n",
       "      <td>Pave</td>\n",
       "      <td>NaN</td>\n",
       "      <td>Reg</td>\n",
       "      <td>Lvl</td>\n",
       "      <td>AllPub</td>\n",
       "      <td>Inside</td>\n",
       "      <td>...</td>\n",
       "      <td>0</td>\n",
       "      <td>NaN</td>\n",
       "      <td>NaN</td>\n",
       "      <td>NaN</td>\n",
       "      <td>0</td>\n",
       "      <td>2</td>\n",
       "      <td>2008</td>\n",
       "      <td>WD</td>\n",
       "      <td>Normal</td>\n",
       "      <td>208500</td>\n",
       "    </tr>\n",
       "    <tr>\n",
       "      <th>1</th>\n",
       "      <td>20</td>\n",
       "      <td>RL</td>\n",
       "      <td>80.0</td>\n",
       "      <td>9600</td>\n",
       "      <td>Pave</td>\n",
       "      <td>NaN</td>\n",
       "      <td>Reg</td>\n",
       "      <td>Lvl</td>\n",
       "      <td>AllPub</td>\n",
       "      <td>FR2</td>\n",
       "      <td>...</td>\n",
       "      <td>0</td>\n",
       "      <td>NaN</td>\n",
       "      <td>NaN</td>\n",
       "      <td>NaN</td>\n",
       "      <td>0</td>\n",
       "      <td>5</td>\n",
       "      <td>2007</td>\n",
       "      <td>WD</td>\n",
       "      <td>Normal</td>\n",
       "      <td>181500</td>\n",
       "    </tr>\n",
       "    <tr>\n",
       "      <th>2</th>\n",
       "      <td>60</td>\n",
       "      <td>RL</td>\n",
       "      <td>68.0</td>\n",
       "      <td>11250</td>\n",
       "      <td>Pave</td>\n",
       "      <td>NaN</td>\n",
       "      <td>IR1</td>\n",
       "      <td>Lvl</td>\n",
       "      <td>AllPub</td>\n",
       "      <td>Inside</td>\n",
       "      <td>...</td>\n",
       "      <td>0</td>\n",
       "      <td>NaN</td>\n",
       "      <td>NaN</td>\n",
       "      <td>NaN</td>\n",
       "      <td>0</td>\n",
       "      <td>9</td>\n",
       "      <td>2008</td>\n",
       "      <td>WD</td>\n",
       "      <td>Normal</td>\n",
       "      <td>223500</td>\n",
       "    </tr>\n",
       "    <tr>\n",
       "      <th>3</th>\n",
       "      <td>70</td>\n",
       "      <td>RL</td>\n",
       "      <td>60.0</td>\n",
       "      <td>9550</td>\n",
       "      <td>Pave</td>\n",
       "      <td>NaN</td>\n",
       "      <td>IR1</td>\n",
       "      <td>Lvl</td>\n",
       "      <td>AllPub</td>\n",
       "      <td>Corner</td>\n",
       "      <td>...</td>\n",
       "      <td>0</td>\n",
       "      <td>NaN</td>\n",
       "      <td>NaN</td>\n",
       "      <td>NaN</td>\n",
       "      <td>0</td>\n",
       "      <td>2</td>\n",
       "      <td>2006</td>\n",
       "      <td>WD</td>\n",
       "      <td>Abnorml</td>\n",
       "      <td>140000</td>\n",
       "    </tr>\n",
       "    <tr>\n",
       "      <th>4</th>\n",
       "      <td>60</td>\n",
       "      <td>RL</td>\n",
       "      <td>84.0</td>\n",
       "      <td>14260</td>\n",
       "      <td>Pave</td>\n",
       "      <td>NaN</td>\n",
       "      <td>IR1</td>\n",
       "      <td>Lvl</td>\n",
       "      <td>AllPub</td>\n",
       "      <td>FR2</td>\n",
       "      <td>...</td>\n",
       "      <td>0</td>\n",
       "      <td>NaN</td>\n",
       "      <td>NaN</td>\n",
       "      <td>NaN</td>\n",
       "      <td>0</td>\n",
       "      <td>12</td>\n",
       "      <td>2008</td>\n",
       "      <td>WD</td>\n",
       "      <td>Normal</td>\n",
       "      <td>250000</td>\n",
       "    </tr>\n",
       "  </tbody>\n",
       "</table>\n",
       "<p>5 rows × 79 columns</p>\n",
       "</div>"
      ],
      "text/plain": [
       "   MSSubClass MSZoning  LotFrontage  LotArea Street Alley LotShape  \\\n",
       "0          60       RL         65.0     8450   Pave   NaN      Reg   \n",
       "1          20       RL         80.0     9600   Pave   NaN      Reg   \n",
       "2          60       RL         68.0    11250   Pave   NaN      IR1   \n",
       "3          70       RL         60.0     9550   Pave   NaN      IR1   \n",
       "4          60       RL         84.0    14260   Pave   NaN      IR1   \n",
       "\n",
       "  LandContour Utilities LotConfig    ...    PoolArea PoolQC Fence MiscFeature  \\\n",
       "0         Lvl    AllPub    Inside    ...           0    NaN   NaN         NaN   \n",
       "1         Lvl    AllPub       FR2    ...           0    NaN   NaN         NaN   \n",
       "2         Lvl    AllPub    Inside    ...           0    NaN   NaN         NaN   \n",
       "3         Lvl    AllPub    Corner    ...           0    NaN   NaN         NaN   \n",
       "4         Lvl    AllPub       FR2    ...           0    NaN   NaN         NaN   \n",
       "\n",
       "  MiscVal MoSold  YrSold  SaleType  SaleCondition SalePrice  \n",
       "0       0      2    2008        WD         Normal    208500  \n",
       "1       0      5    2007        WD         Normal    181500  \n",
       "2       0      9    2008        WD         Normal    223500  \n",
       "3       0      2    2006        WD        Abnorml    140000  \n",
       "4       0     12    2008        WD         Normal    250000  \n",
       "\n",
       "[5 rows x 79 columns]"
      ]
     },
     "execution_count": 5,
     "metadata": {},
     "output_type": "execute_result"
    }
   ],
   "source": [
    "ames_df.head(5)"
   ]
  },
  {
   "cell_type": "code",
   "execution_count": 6,
   "metadata": {},
   "outputs": [],
   "source": [
    "# Make a function to calculate training score on the whole dataset\n",
    "# and cross-validated test score.\n",
    "# /scrub/\n",
    "from sklearn.linear_model import LinearRegression\n",
    "from sklearn.model_selection import cross_val_score, KFold\n",
    "\n",
    "def my_cv_score(estimator, X, y, n_splits=10):\n",
    "    estimator.fit(X, y)\n",
    "    train_score = estimator.score(X, y)\n",
    "    \n",
    "    kf = KFold(n_splits=n_splits, shuffle=True, random_state=42)\n",
    "    test_score = cross_val_score(estimator, X, y, cv=kf).mean()\n",
    "                          \n",
    "    return train_score, test_score"
   ]
  },
  {
   "cell_type": "code",
   "execution_count": 7,
   "metadata": {},
   "outputs": [
    {
     "data": {
      "text/plain": [
       "(0.8958123466965703, 0.605448662142623)"
      ]
     },
     "execution_count": 7,
     "metadata": {},
     "output_type": "execute_result"
    }
   ],
   "source": [
    "# Use 5-fold cross-validation to calculate training-set and test-set scores using 200 rows of data\n",
    "# /scrub/\n",
    "ames_df_num = ames_df.select_dtypes(['int64', 'float64']).dropna(axis='columns')\n",
    "ames_small = ames_df_num.sample(100, random_state=42)\n",
    "\n",
    "X_small = ames_small.drop('SalePrice', axis='columns')\n",
    "y_small = ames_small.loc[:, 'SalePrice']\n",
    "\n",
    "linreg = LinearRegression()\n",
    "my_cv_score(linreg, X_small, y_small)"
   ]
  },
  {
   "cell_type": "code",
   "execution_count": 8,
   "metadata": {},
   "outputs": [
    {
     "data": {
      "text/plain": [
       "(0.7788559155673486, 0.7307411610581306)"
      ]
     },
     "execution_count": 8,
     "metadata": {},
     "output_type": "execute_result"
    }
   ],
   "source": [
    "# Use 5-fold cross-validation to calculate training-set and test-set scores using all the data\n",
    "# /scrub/\n",
    "X = ames_df_num.drop('SalePrice', axis='columns')\n",
    "y = ames_df.loc[:, 'SalePrice']\n",
    "\n",
    "my_cv_score(linreg, X, y)"
   ]
  },
  {
   "cell_type": "markdown",
   "metadata": {},
   "source": [
    "**When collecting more data is not too expensive, it should be your first resort to address overfitting.**"
   ]
  },
  {
   "cell_type": "markdown",
   "metadata": {},
   "source": [
    "**Exercise (1 min.)**"
   ]
  },
  {
   "cell_type": "markdown",
   "metadata": {},
   "source": [
    "- How does getting more rows of data affect a given model type's bias and variance?"
   ]
  },
  {
   "cell_type": "markdown",
   "metadata": {},
   "source": [
    "/scrub/\n",
    "\n",
    "Has no effect on bias, decreases variance."
   ]
  },
  {
   "cell_type": "markdown",
   "metadata": {
    "toc-hr-collapsed": false
   },
   "source": [
    "## Feature Selection"
   ]
  },
  {
   "cell_type": "markdown",
   "metadata": {},
   "source": [
    "### Why Select Features?"
   ]
  },
  {
   "cell_type": "markdown",
   "metadata": {},
   "source": [
    "Often it is best not to use all of your features, for at least two reasons:\n",
    "\n",
    "1. Using more features makes your model harder to interpret.\n",
    "2. Removing features may improve overall predictive performance by reducing overfitting.\n",
    "\n",
    "These problems become particularly acute when you start using feature engineering to generate derived features."
   ]
  },
  {
   "cell_type": "markdown",
   "metadata": {
    "toc-hr-collapsed": false
   },
   "source": [
    "### Adding Features in Order of Importance"
   ]
  },
  {
   "cell_type": "markdown",
   "metadata": {},
   "source": [
    "Here is one recipe for optimizing a model through feature selection:\n",
    "\n",
    "1. Rank features according to some measure of importance *calculated on the training set*.\n",
    "2. Add features to your model in the order given by that ranking, fitting on the training set and measuring predictive performance on the test set each time.\n",
    "3. Choose the set of features that gives the best predictive performance."
   ]
  },
  {
   "cell_type": "markdown",
   "metadata": {},
   "source": [
    "It is inappropriate to use the test set in your calculation of feature importance because you will not have the benefit of information about feature importance for the data the model sees when you deploy it."
   ]
  },
  {
   "cell_type": "markdown",
   "metadata": {},
   "source": [
    "When using cross-validation, you need to calculate your measure of importance on the training set *for each fold*. With this approach, you can have different features in your model for different folds. You should think of cross-validation in this case as estimating the performance of your entire *model-generating procedure*, rather than the particular model that it produces."
   ]
  },
  {
   "cell_type": "markdown",
   "metadata": {},
   "source": [
    "#### Example: Using Random Forest Feature Importances"
   ]
  },
  {
   "cell_type": "markdown",
   "metadata": {},
   "source": [
    "Here we will fit a random forest and use the feature importances as our measure of predictive value."
   ]
  },
  {
   "cell_type": "markdown",
   "metadata": {},
   "source": [
    "Calculating random forest feature importances is computationally expensive, so we want to do it once for each fold, rather than once for each fold and each number of features.\n",
    "\n",
    "**Warning:** the code is about to get a little complicated."
   ]
  },
  {
   "cell_type": "code",
   "execution_count": 9,
   "metadata": {},
   "outputs": [],
   "source": [
    "# Make a function to calculate cross-validation scores by number of features\n",
    "# /scrub/\n",
    "def my_cv_score_by_num_features(estimator, X, y, rank_features_func, n_splits=10):\n",
    "    train_scores = []\n",
    "    test_scores = []\n",
    "\n",
    "    kf = KFold(n_splits=n_splits, shuffle=True)\n",
    "    for train_rows, test_rows in tqdm(kf.split(X, y), total=n_splits):\n",
    "        X_train = X.iloc[train_rows, :]\n",
    "        X_test = X.iloc[test_rows, :]\n",
    "        y_train = y.iloc[train_rows]\n",
    "        y_test = y.iloc[test_rows]\n",
    "\n",
    "        ranked_features = rank_features_func(X_train, y_train)\n",
    "\n",
    "        train_scores_fold = []\n",
    "        test_scores_fold = []\n",
    "        for num_features in range(1, len(ranked_features) + 1):\n",
    "            feature_cols = ranked_features[:num_features]\n",
    "            X_train_k = X_train.loc[:, feature_cols]\n",
    "            X_test_k = X_test.loc[:, feature_cols]\n",
    "\n",
    "            linreg.fit(X_train_k, y_train)\n",
    "            train_scores_fold.append(linreg.score(X_train_k, y_train))\n",
    "            test_scores_fold.append(linreg.score(X_test_k, y_test))\n",
    "\n",
    "        train_scores.append(train_scores_fold)\n",
    "        test_scores.append(test_scores_fold)\n",
    "\n",
    "    train_scores = np.array(train_scores).T.mean(axis=1)\n",
    "    test_scores = np.array(test_scores).T.mean(axis=1)\n",
    "    return pd.DataFrame({'num_features': range(1, len(ranked_features) + 1),\n",
    "                         'train': train_scores, 'test': test_scores\n",
    "                        })"
   ]
  },
  {
   "cell_type": "code",
   "execution_count": 10,
   "metadata": {},
   "outputs": [],
   "source": [
    "# Make a function to rank features according to estimator feature importances\n",
    "# /scrub/\n",
    "def rank_features_by_estimator_importances(X, y, estimator):\n",
    "    estimator.fit(X, y)\n",
    "    feature_ranks_worst_first = estimator.feature_importances_.argsort()\n",
    "    ranked_features = X.columns[feature_ranks_worst_first][::-1]\n",
    "    return ranked_features"
   ]
  },
  {
   "cell_type": "code",
   "execution_count": 11,
   "metadata": {},
   "outputs": [],
   "source": [
    "# Create a more specialized function to rank features according to random\n",
    "# forest regressor feature importances\n",
    "# /scrub/\n",
    "from functools import partial\n",
    "from sklearn.ensemble import RandomForestRegressor\n",
    "\n",
    "rfr = RandomForestRegressor(100)\n",
    "rank_features_by_rfr_importances = partial(rank_features_by_estimator_importances, estimator=rfr)"
   ]
  },
  {
   "cell_type": "code",
   "execution_count": 12,
   "metadata": {},
   "outputs": [
    {
     "name": "stderr",
     "output_type": "stream",
     "text": [
      "100%|██████████| 10/10 [00:01<00:00,  5.36it/s]\n"
     ]
    }
   ],
   "source": [
    "# Get scores by number of features for a linear regression model\n",
    "# on our sampled Ames dataset, adding features in order of\n",
    "# decreasing random forest regressor importances.\n",
    "# /scrub/\n",
    "scores = my_cv_score_by_num_features(\n",
    "    linreg, X_small, y_small, rank_features_by_rfr_importances\n",
    ")"
   ]
  },
  {
   "cell_type": "code",
   "execution_count": 13,
   "metadata": {},
   "outputs": [
    {
     "data": {
      "text/html": [
       "<div>\n",
       "<style scoped>\n",
       "    .dataframe tbody tr th:only-of-type {\n",
       "        vertical-align: middle;\n",
       "    }\n",
       "\n",
       "    .dataframe tbody tr th {\n",
       "        vertical-align: top;\n",
       "    }\n",
       "\n",
       "    .dataframe thead th {\n",
       "        text-align: right;\n",
       "    }\n",
       "</style>\n",
       "<table border=\"1\" class=\"dataframe\">\n",
       "  <thead>\n",
       "    <tr style=\"text-align: right;\">\n",
       "      <th></th>\n",
       "      <th>num_features</th>\n",
       "      <th>train</th>\n",
       "      <th>test</th>\n",
       "    </tr>\n",
       "  </thead>\n",
       "  <tbody>\n",
       "    <tr>\n",
       "      <th>0</th>\n",
       "      <td>1</td>\n",
       "      <td>0.572174</td>\n",
       "      <td>0.506557</td>\n",
       "    </tr>\n",
       "    <tr>\n",
       "      <th>1</th>\n",
       "      <td>2</td>\n",
       "      <td>0.681509</td>\n",
       "      <td>0.556319</td>\n",
       "    </tr>\n",
       "    <tr>\n",
       "      <th>2</th>\n",
       "      <td>3</td>\n",
       "      <td>0.747117</td>\n",
       "      <td>0.600645</td>\n",
       "    </tr>\n",
       "    <tr>\n",
       "      <th>3</th>\n",
       "      <td>4</td>\n",
       "      <td>0.782508</td>\n",
       "      <td>0.663093</td>\n",
       "    </tr>\n",
       "    <tr>\n",
       "      <th>4</th>\n",
       "      <td>5</td>\n",
       "      <td>0.806910</td>\n",
       "      <td>0.683064</td>\n",
       "    </tr>\n",
       "    <tr>\n",
       "      <th>5</th>\n",
       "      <td>6</td>\n",
       "      <td>0.817011</td>\n",
       "      <td>0.697747</td>\n",
       "    </tr>\n",
       "    <tr>\n",
       "      <th>6</th>\n",
       "      <td>7</td>\n",
       "      <td>0.832462</td>\n",
       "      <td>0.700876</td>\n",
       "    </tr>\n",
       "    <tr>\n",
       "      <th>7</th>\n",
       "      <td>8</td>\n",
       "      <td>0.837077</td>\n",
       "      <td>0.721728</td>\n",
       "    </tr>\n",
       "    <tr>\n",
       "      <th>8</th>\n",
       "      <td>9</td>\n",
       "      <td>0.849272</td>\n",
       "      <td>0.757512</td>\n",
       "    </tr>\n",
       "    <tr>\n",
       "      <th>9</th>\n",
       "      <td>10</td>\n",
       "      <td>0.857819</td>\n",
       "      <td>0.741653</td>\n",
       "    </tr>\n",
       "    <tr>\n",
       "      <th>10</th>\n",
       "      <td>11</td>\n",
       "      <td>0.861460</td>\n",
       "      <td>0.744073</td>\n",
       "    </tr>\n",
       "    <tr>\n",
       "      <th>11</th>\n",
       "      <td>12</td>\n",
       "      <td>0.865050</td>\n",
       "      <td>0.718948</td>\n",
       "    </tr>\n",
       "    <tr>\n",
       "      <th>12</th>\n",
       "      <td>13</td>\n",
       "      <td>0.865974</td>\n",
       "      <td>0.718358</td>\n",
       "    </tr>\n",
       "    <tr>\n",
       "      <th>13</th>\n",
       "      <td>14</td>\n",
       "      <td>0.871011</td>\n",
       "      <td>0.725172</td>\n",
       "    </tr>\n",
       "    <tr>\n",
       "      <th>14</th>\n",
       "      <td>15</td>\n",
       "      <td>0.871684</td>\n",
       "      <td>0.723118</td>\n",
       "    </tr>\n",
       "    <tr>\n",
       "      <th>15</th>\n",
       "      <td>16</td>\n",
       "      <td>0.875662</td>\n",
       "      <td>0.693981</td>\n",
       "    </tr>\n",
       "    <tr>\n",
       "      <th>16</th>\n",
       "      <td>17</td>\n",
       "      <td>0.877367</td>\n",
       "      <td>0.704875</td>\n",
       "    </tr>\n",
       "    <tr>\n",
       "      <th>17</th>\n",
       "      <td>18</td>\n",
       "      <td>0.880448</td>\n",
       "      <td>0.679821</td>\n",
       "    </tr>\n",
       "    <tr>\n",
       "      <th>18</th>\n",
       "      <td>19</td>\n",
       "      <td>0.883067</td>\n",
       "      <td>0.684068</td>\n",
       "    </tr>\n",
       "    <tr>\n",
       "      <th>19</th>\n",
       "      <td>20</td>\n",
       "      <td>0.885955</td>\n",
       "      <td>0.681519</td>\n",
       "    </tr>\n",
       "    <tr>\n",
       "      <th>20</th>\n",
       "      <td>21</td>\n",
       "      <td>0.890126</td>\n",
       "      <td>0.601309</td>\n",
       "    </tr>\n",
       "    <tr>\n",
       "      <th>21</th>\n",
       "      <td>22</td>\n",
       "      <td>0.893251</td>\n",
       "      <td>0.609029</td>\n",
       "    </tr>\n",
       "    <tr>\n",
       "      <th>22</th>\n",
       "      <td>23</td>\n",
       "      <td>0.895179</td>\n",
       "      <td>0.624788</td>\n",
       "    </tr>\n",
       "    <tr>\n",
       "      <th>23</th>\n",
       "      <td>24</td>\n",
       "      <td>0.896049</td>\n",
       "      <td>0.616124</td>\n",
       "    </tr>\n",
       "    <tr>\n",
       "      <th>24</th>\n",
       "      <td>25</td>\n",
       "      <td>0.898470</td>\n",
       "      <td>0.603498</td>\n",
       "    </tr>\n",
       "    <tr>\n",
       "      <th>25</th>\n",
       "      <td>26</td>\n",
       "      <td>0.899474</td>\n",
       "      <td>0.615131</td>\n",
       "    </tr>\n",
       "    <tr>\n",
       "      <th>26</th>\n",
       "      <td>27</td>\n",
       "      <td>0.901259</td>\n",
       "      <td>0.576559</td>\n",
       "    </tr>\n",
       "    <tr>\n",
       "      <th>27</th>\n",
       "      <td>28</td>\n",
       "      <td>0.902188</td>\n",
       "      <td>0.554468</td>\n",
       "    </tr>\n",
       "    <tr>\n",
       "      <th>28</th>\n",
       "      <td>29</td>\n",
       "      <td>0.903764</td>\n",
       "      <td>0.540975</td>\n",
       "    </tr>\n",
       "    <tr>\n",
       "      <th>29</th>\n",
       "      <td>30</td>\n",
       "      <td>0.904482</td>\n",
       "      <td>0.512371</td>\n",
       "    </tr>\n",
       "    <tr>\n",
       "      <th>30</th>\n",
       "      <td>31</td>\n",
       "      <td>0.904611</td>\n",
       "      <td>0.512440</td>\n",
       "    </tr>\n",
       "    <tr>\n",
       "      <th>31</th>\n",
       "      <td>32</td>\n",
       "      <td>0.904611</td>\n",
       "      <td>0.512440</td>\n",
       "    </tr>\n",
       "  </tbody>\n",
       "</table>\n",
       "</div>"
      ],
      "text/plain": [
       "    num_features     train      test\n",
       "0              1  0.572174  0.506557\n",
       "1              2  0.681509  0.556319\n",
       "2              3  0.747117  0.600645\n",
       "3              4  0.782508  0.663093\n",
       "4              5  0.806910  0.683064\n",
       "5              6  0.817011  0.697747\n",
       "6              7  0.832462  0.700876\n",
       "7              8  0.837077  0.721728\n",
       "8              9  0.849272  0.757512\n",
       "9             10  0.857819  0.741653\n",
       "10            11  0.861460  0.744073\n",
       "11            12  0.865050  0.718948\n",
       "12            13  0.865974  0.718358\n",
       "13            14  0.871011  0.725172\n",
       "14            15  0.871684  0.723118\n",
       "15            16  0.875662  0.693981\n",
       "16            17  0.877367  0.704875\n",
       "17            18  0.880448  0.679821\n",
       "18            19  0.883067  0.684068\n",
       "19            20  0.885955  0.681519\n",
       "20            21  0.890126  0.601309\n",
       "21            22  0.893251  0.609029\n",
       "22            23  0.895179  0.624788\n",
       "23            24  0.896049  0.616124\n",
       "24            25  0.898470  0.603498\n",
       "25            26  0.899474  0.615131\n",
       "26            27  0.901259  0.576559\n",
       "27            28  0.902188  0.554468\n",
       "28            29  0.903764  0.540975\n",
       "29            30  0.904482  0.512371\n",
       "30            31  0.904611  0.512440\n",
       "31            32  0.904611  0.512440"
      ]
     },
     "execution_count": 13,
     "metadata": {},
     "output_type": "execute_result"
    }
   ],
   "source": [
    "# Look at the scores\n",
    "# /scrub/\n",
    "scores"
   ]
  },
  {
   "cell_type": "code",
   "execution_count": 14,
   "metadata": {},
   "outputs": [
    {
     "data": {
      "image/png": "[encoded data removed]",
      "text/plain": [
       "<Figure size 432x288 with 1 Axes>"
      ]
     },
     "metadata": {
      "needs_background": "light"
     },
     "output_type": "display_data"
    }
   ],
   "source": [
    "# Plot scores\n",
    "# /scrub/\n",
    "ax = scores.plot(x='num_features')"
   ]
  },
  {
   "cell_type": "code",
   "execution_count": 15,
   "metadata": {},
   "outputs": [
    {
     "data": {
      "text/html": [
       "<div>\n",
       "<style scoped>\n",
       "    .dataframe tbody tr th:only-of-type {\n",
       "        vertical-align: middle;\n",
       "    }\n",
       "\n",
       "    .dataframe tbody tr th {\n",
       "        vertical-align: top;\n",
       "    }\n",
       "\n",
       "    .dataframe thead th {\n",
       "        text-align: right;\n",
       "    }\n",
       "</style>\n",
       "<table border=\"1\" class=\"dataframe\">\n",
       "  <thead>\n",
       "    <tr style=\"text-align: right;\">\n",
       "      <th></th>\n",
       "      <th>num_features</th>\n",
       "      <th>train</th>\n",
       "      <th>test</th>\n",
       "    </tr>\n",
       "  </thead>\n",
       "  <tbody>\n",
       "    <tr>\n",
       "      <th>8</th>\n",
       "      <td>9</td>\n",
       "      <td>0.849272</td>\n",
       "      <td>0.757512</td>\n",
       "    </tr>\n",
       "    <tr>\n",
       "      <th>10</th>\n",
       "      <td>11</td>\n",
       "      <td>0.861460</td>\n",
       "      <td>0.744073</td>\n",
       "    </tr>\n",
       "    <tr>\n",
       "      <th>9</th>\n",
       "      <td>10</td>\n",
       "      <td>0.857819</td>\n",
       "      <td>0.741653</td>\n",
       "    </tr>\n",
       "    <tr>\n",
       "      <th>13</th>\n",
       "      <td>14</td>\n",
       "      <td>0.871011</td>\n",
       "      <td>0.725172</td>\n",
       "    </tr>\n",
       "    <tr>\n",
       "      <th>14</th>\n",
       "      <td>15</td>\n",
       "      <td>0.871684</td>\n",
       "      <td>0.723118</td>\n",
       "    </tr>\n",
       "    <tr>\n",
       "      <th>7</th>\n",
       "      <td>8</td>\n",
       "      <td>0.837077</td>\n",
       "      <td>0.721728</td>\n",
       "    </tr>\n",
       "    <tr>\n",
       "      <th>11</th>\n",
       "      <td>12</td>\n",
       "      <td>0.865050</td>\n",
       "      <td>0.718948</td>\n",
       "    </tr>\n",
       "    <tr>\n",
       "      <th>12</th>\n",
       "      <td>13</td>\n",
       "      <td>0.865974</td>\n",
       "      <td>0.718358</td>\n",
       "    </tr>\n",
       "    <tr>\n",
       "      <th>16</th>\n",
       "      <td>17</td>\n",
       "      <td>0.877367</td>\n",
       "      <td>0.704875</td>\n",
       "    </tr>\n",
       "    <tr>\n",
       "      <th>6</th>\n",
       "      <td>7</td>\n",
       "      <td>0.832462</td>\n",
       "      <td>0.700876</td>\n",
       "    </tr>\n",
       "    <tr>\n",
       "      <th>5</th>\n",
       "      <td>6</td>\n",
       "      <td>0.817011</td>\n",
       "      <td>0.697747</td>\n",
       "    </tr>\n",
       "    <tr>\n",
       "      <th>15</th>\n",
       "      <td>16</td>\n",
       "      <td>0.875662</td>\n",
       "      <td>0.693981</td>\n",
       "    </tr>\n",
       "    <tr>\n",
       "      <th>18</th>\n",
       "      <td>19</td>\n",
       "      <td>0.883067</td>\n",
       "      <td>0.684068</td>\n",
       "    </tr>\n",
       "    <tr>\n",
       "      <th>4</th>\n",
       "      <td>5</td>\n",
       "      <td>0.806910</td>\n",
       "      <td>0.683064</td>\n",
       "    </tr>\n",
       "    <tr>\n",
       "      <th>19</th>\n",
       "      <td>20</td>\n",
       "      <td>0.885955</td>\n",
       "      <td>0.681519</td>\n",
       "    </tr>\n",
       "    <tr>\n",
       "      <th>17</th>\n",
       "      <td>18</td>\n",
       "      <td>0.880448</td>\n",
       "      <td>0.679821</td>\n",
       "    </tr>\n",
       "    <tr>\n",
       "      <th>3</th>\n",
       "      <td>4</td>\n",
       "      <td>0.782508</td>\n",
       "      <td>0.663093</td>\n",
       "    </tr>\n",
       "    <tr>\n",
       "      <th>22</th>\n",
       "      <td>23</td>\n",
       "      <td>0.895179</td>\n",
       "      <td>0.624788</td>\n",
       "    </tr>\n",
       "    <tr>\n",
       "      <th>23</th>\n",
       "      <td>24</td>\n",
       "      <td>0.896049</td>\n",
       "      <td>0.616124</td>\n",
       "    </tr>\n",
       "    <tr>\n",
       "      <th>25</th>\n",
       "      <td>26</td>\n",
       "      <td>0.899474</td>\n",
       "      <td>0.615131</td>\n",
       "    </tr>\n",
       "    <tr>\n",
       "      <th>21</th>\n",
       "      <td>22</td>\n",
       "      <td>0.893251</td>\n",
       "      <td>0.609029</td>\n",
       "    </tr>\n",
       "    <tr>\n",
       "      <th>24</th>\n",
       "      <td>25</td>\n",
       "      <td>0.898470</td>\n",
       "      <td>0.603498</td>\n",
       "    </tr>\n",
       "    <tr>\n",
       "      <th>20</th>\n",
       "      <td>21</td>\n",
       "      <td>0.890126</td>\n",
       "      <td>0.601309</td>\n",
       "    </tr>\n",
       "    <tr>\n",
       "      <th>2</th>\n",
       "      <td>3</td>\n",
       "      <td>0.747117</td>\n",
       "      <td>0.600645</td>\n",
       "    </tr>\n",
       "    <tr>\n",
       "      <th>26</th>\n",
       "      <td>27</td>\n",
       "      <td>0.901259</td>\n",
       "      <td>0.576559</td>\n",
       "    </tr>\n",
       "    <tr>\n",
       "      <th>1</th>\n",
       "      <td>2</td>\n",
       "      <td>0.681509</td>\n",
       "      <td>0.556319</td>\n",
       "    </tr>\n",
       "    <tr>\n",
       "      <th>27</th>\n",
       "      <td>28</td>\n",
       "      <td>0.902188</td>\n",
       "      <td>0.554468</td>\n",
       "    </tr>\n",
       "    <tr>\n",
       "      <th>28</th>\n",
       "      <td>29</td>\n",
       "      <td>0.903764</td>\n",
       "      <td>0.540975</td>\n",
       "    </tr>\n",
       "    <tr>\n",
       "      <th>30</th>\n",
       "      <td>31</td>\n",
       "      <td>0.904611</td>\n",
       "      <td>0.512440</td>\n",
       "    </tr>\n",
       "    <tr>\n",
       "      <th>31</th>\n",
       "      <td>32</td>\n",
       "      <td>0.904611</td>\n",
       "      <td>0.512440</td>\n",
       "    </tr>\n",
       "    <tr>\n",
       "      <th>29</th>\n",
       "      <td>30</td>\n",
       "      <td>0.904482</td>\n",
       "      <td>0.512371</td>\n",
       "    </tr>\n",
       "    <tr>\n",
       "      <th>0</th>\n",
       "      <td>1</td>\n",
       "      <td>0.572174</td>\n",
       "      <td>0.506557</td>\n",
       "    </tr>\n",
       "  </tbody>\n",
       "</table>\n",
       "</div>"
      ],
      "text/plain": [
       "    num_features     train      test\n",
       "8              9  0.849272  0.757512\n",
       "10            11  0.861460  0.744073\n",
       "9             10  0.857819  0.741653\n",
       "13            14  0.871011  0.725172\n",
       "14            15  0.871684  0.723118\n",
       "7              8  0.837077  0.721728\n",
       "11            12  0.865050  0.718948\n",
       "12            13  0.865974  0.718358\n",
       "16            17  0.877367  0.704875\n",
       "6              7  0.832462  0.700876\n",
       "5              6  0.817011  0.697747\n",
       "15            16  0.875662  0.693981\n",
       "18            19  0.883067  0.684068\n",
       "4              5  0.806910  0.683064\n",
       "19            20  0.885955  0.681519\n",
       "17            18  0.880448  0.679821\n",
       "3              4  0.782508  0.663093\n",
       "22            23  0.895179  0.624788\n",
       "23            24  0.896049  0.616124\n",
       "25            26  0.899474  0.615131\n",
       "21            22  0.893251  0.609029\n",
       "24            25  0.898470  0.603498\n",
       "20            21  0.890126  0.601309\n",
       "2              3  0.747117  0.600645\n",
       "26            27  0.901259  0.576559\n",
       "1              2  0.681509  0.556319\n",
       "27            28  0.902188  0.554468\n",
       "28            29  0.903764  0.540975\n",
       "30            31  0.904611  0.512440\n",
       "31            32  0.904611  0.512440\n",
       "29            30  0.904482  0.512371\n",
       "0              1  0.572174  0.506557"
      ]
     },
     "execution_count": 15,
     "metadata": {},
     "output_type": "execute_result"
    }
   ],
   "source": [
    "# Look at scores in descending order, identify\n",
    "# the number of features that worked best.\n",
    "# /scrub/\n",
    "scores.sort_values('test', ascending=False)"
   ]
  },
  {
   "cell_type": "markdown",
   "metadata": {},
   "source": [
    "See scikit-learn's [SelectKBest](https://scikit-learn.org/stable/modules/generated/sklearn.feature_selection.SelectKBest.html#sklearn.feature_selection.SelectKBest) for some alernatives to random forest feature importances."
   ]
  },
  {
   "cell_type": "markdown",
   "metadata": {
    "toc-hr-collapsed": false
   },
   "source": [
    "#### Limitations of Adding Features in Order of Importance"
   ]
  },
  {
   "cell_type": "markdown",
   "metadata": {},
   "source": [
    "##### Result May Not Be Optimal"
   ]
  },
  {
   "cell_type": "markdown",
   "metadata": {},
   "source": [
    "Picking an \"all-star team\" of features based on their individual performances can miss combinations of features that work better overall because they complement each other well.\n",
    "\n",
    "For instance, if you had temperature in Celsius and temperature in Fahrenheit in your data set and used correlation with the target as your measure of importance, this approach would use both of those features without regard for the fact that they are redundant. Using random forest feature importances addresses this problem to some extent."
   ]
  },
  {
   "cell_type": "markdown",
   "metadata": {},
   "source": [
    "##### Can Be Slow"
   ]
  },
  {
   "cell_type": "markdown",
   "metadata": {},
   "source": [
    "This approach requires fitting many times, so it can be quite slow, especially when you combine it with ensembling and cross-validation."
   ]
  },
  {
   "cell_type": "markdown",
   "metadata": {},
   "source": [
    "### Alternative Approaches to Feature Selection"
   ]
  },
  {
   "cell_type": "markdown",
   "metadata": {},
   "source": [
    "- Start with all of the features and gradually remove them.\n",
    "- Add/remove one feature at a time, each time testing how much the change helps or hurts. Choose the feature that helps the most at each stage, stopping when you cannot find one that helps substantially.\n",
    "- Choose the top $k$ features based on a measure of feature importance without fitting a model on each set of features.\n",
    "- Try all combinations of features. (This approach quickly becomes computationally infeasible.)\n",
    "- Try random combinations of features."
   ]
  },
  {
   "cell_type": "markdown",
   "metadata": {},
   "source": [
    "**Exercise (12 mins., in pairs)**"
   ]
  },
  {
   "cell_type": "markdown",
   "metadata": {},
   "source": [
    "There is some randomness in the processes used in this exercise, so we will not all get the same answers."
   ]
  },
  {
   "cell_type": "markdown",
   "metadata": {},
   "source": [
    "- How does dropping a feature typically affect a model's bias and variance?"
   ]
  },
  {
   "cell_type": "markdown",
   "metadata": {},
   "source": [
    "/scrub/\n",
    "\n",
    "Increases bias, decreases variance.\n",
    "\n",
    "Stricly: it can either increase bias or leave bias unchanged, and it can increase variance if the feature is highly informative."
   ]
  },
  {
   "cell_type": "markdown",
   "metadata": {},
   "source": [
    "- Create a feature matrix `X` and a target series `y` for the Titanic dataset (located in this lesson's  `assets/data` directory). Drop \"PassengerId\", \"Name\", and \"Ticket.\" Dummy-code string columns as needed. Impute missing values using a median."
   ]
  },
  {
   "cell_type": "code",
   "execution_count": 16,
   "metadata": {},
   "outputs": [],
   "source": [
    "# /scrub/\n",
    "titanic = pd.read_csv('../assets/data/titanic.csv')"
   ]
  },
  {
   "cell_type": "code",
   "execution_count": 17,
   "metadata": {},
   "outputs": [],
   "source": [
    "# /scrub/\n",
    "titanic = titanic.drop(['PassengerId', 'Name', 'Ticket', 'Cabin'], axis='columns')"
   ]
  },
  {
   "cell_type": "code",
   "execution_count": 18,
   "metadata": {},
   "outputs": [],
   "source": [
    "# /scrub/\n",
    "titanic_dummies = pd.get_dummies(titanic, columns=['Sex', 'Embarked'], drop_first=True)"
   ]
  },
  {
   "cell_type": "code",
   "execution_count": 19,
   "metadata": {},
   "outputs": [],
   "source": [
    "# /scrub/\n",
    "X = titanic_dummies.drop('Survived', axis='columns')\n",
    "y = titanic_dummies.loc[:, 'Survived']"
   ]
  },
  {
   "cell_type": "code",
   "execution_count": 20,
   "metadata": {},
   "outputs": [],
   "source": [
    "# /scrub/\n",
    "X.loc[:, 'Age'] = X.loc[:, 'Age'].fillna(X.loc[:, 'Age'].median())"
   ]
  },
  {
   "cell_type": "code",
   "execution_count": 21,
   "metadata": {},
   "outputs": [],
   "source": [
    "# Run this cell to check your work\n",
    "assert X.shape == (891, 8)\n",
    "assert y.shape == (891,)"
   ]
  },
  {
   "cell_type": "markdown",
   "metadata": {},
   "source": [
    "- We are going to use random forest feature importances for the Titanic dataset. What would be wrong with using a `RandomForestRegressor` for this purpose? What should we use instead? (Hint: we use this dataset for classification.)"
   ]
  },
  {
   "cell_type": "markdown",
   "metadata": {},
   "source": [
    "A `RandomForestRegressor` would be inappropriate for this problem because it does regression rather than classification. We should use a `RandomForestClassifier` instead."
   ]
  },
  {
   "cell_type": "markdown",
   "metadata": {},
   "source": [
    "- Create a function analogous to `rank_features_by_rfr_importances` that uses a `RandomForestClassifier` in place of a `RandomForestRegressor`."
   ]
  },
  {
   "cell_type": "code",
   "execution_count": 22,
   "metadata": {},
   "outputs": [],
   "source": [
    "# /scrub/\n",
    "from sklearn.ensemble import RandomForestClassifier\n",
    "\n",
    "rfc = RandomForestClassifier(100)\n",
    "rank_features_by_rfc_importances = partial(rank_features_by_estimator_importances, estimator=rfc)"
   ]
  },
  {
   "cell_type": "markdown",
   "metadata": {},
   "source": [
    "- Use `my_cv_score_by_num_features` to calculate training and cross-validation scores for a logistic regression model on the Titanic dataset by number of features, adding features in order of increasing `RandomForestClassifier` feature importance. Call your logistic regression estimator `logreg`."
   ]
  },
  {
   "cell_type": "code",
   "execution_count": 23,
   "metadata": {},
   "outputs": [
    {
     "name": "stderr",
     "output_type": "stream",
     "text": [
      "100%|██████████| 10/10 [00:01<00:00,  7.88it/s]\n"
     ]
    }
   ],
   "source": [
    "# /scrub/\n",
    "from sklearn.linear_model import LogisticRegression\n",
    "\n",
    "logreg = LogisticRegression()\n",
    "scores = my_cv_score_by_num_features(logreg, X, y, rank_features_func=rank_features_by_rfc_importances)"
   ]
  },
  {
   "cell_type": "markdown",
   "metadata": {},
   "source": [
    "- Plot the scores by number of features."
   ]
  },
  {
   "cell_type": "code",
   "execution_count": 24,
   "metadata": {},
   "outputs": [
    {
     "data": {
      "image/png": "[encoded data removed]",
      "text/plain": [
       "<Figure size 432x288 with 1 Axes>"
      ]
     },
     "metadata": {
      "needs_background": "light"
     },
     "output_type": "display_data"
    }
   ],
   "source": [
    "# /scrub/\n",
    "ax = scores.plot(x='num_features')"
   ]
  },
  {
   "cell_type": "markdown",
   "metadata": {},
   "source": [
    "- Identify the number of features that gave the best score."
   ]
  },
  {
   "cell_type": "code",
   "execution_count": 25,
   "metadata": {},
   "outputs": [
    {
     "data": {
      "text/plain": [
       "4    5\n",
       "Name: num_features, dtype: int64"
      ]
     },
     "execution_count": 25,
     "metadata": {},
     "output_type": "execute_result"
    }
   ],
   "source": [
    "# /scrub/\n",
    "scores.sort_values('test', ascending=False).head(1).loc[:, 'num_features']"
   ]
  },
  {
   "cell_type": "markdown",
   "metadata": {},
   "source": [
    "- **Bonus:** Calculate the training and test-set scores without using `my_cv_score_by_num_features`"
   ]
  },
  {
   "cell_type": "code",
   "execution_count": 26,
   "metadata": {},
   "outputs": [
    {
     "name": "stderr",
     "output_type": "stream",
     "text": [
      "  0%|          | 0/10 [00:00<?, ?it/s]/Users/gGandenberger/anaconda3/envs/ga/lib/python3.7/site-packages/sklearn/ensemble/forest.py:246: FutureWarning: The default value of n_estimators will change from 10 in version 0.20 to 100 in 0.22.\n",
      "  \"10 in version 0.20 to 100 in 0.22.\", FutureWarning)\n",
      "100%|██████████| 10/10 [00:00<00:00, 24.19it/s]\n"
     ]
    }
   ],
   "source": [
    "# /scrub/\n",
    "rfc = RandomForestClassifier()\n",
    "\n",
    "train_scores = []\n",
    "test_scores = []\n",
    "\n",
    "kf = KFold(n_splits=10, shuffle=True)\n",
    "for train_rows, test_rows in tqdm(kf.split(X, y), total=10):\n",
    "    X_train = X.iloc[train_rows, :]\n",
    "    X_test = X.iloc[test_rows, :]\n",
    "    y_train = y.iloc[train_rows]\n",
    "    y_test = y.iloc[test_rows]\n",
    "\n",
    "    model = rfc.fit(X_train, y_train)\n",
    "    importances = rfc.feature_importances_\n",
    "    feature_ranks_worst_first = rfc.feature_importances_.argsort()\n",
    "    ranked_features = X.columns[feature_ranks_worst_first][::-1]\n",
    "\n",
    "    train_scores_fold = []\n",
    "    test_scores_fold = []\n",
    "    for num_features in range(1, len(ranked_features) + 1):\n",
    "        feature_cols = ranked_features[:num_features]\n",
    "        X_train_k = X_train.loc[:, feature_cols]\n",
    "        X_test_k = X_test.loc[:, feature_cols]\n",
    "\n",
    "        linreg.fit(X_train_k, y_train)\n",
    "        train_scores_fold.append(linreg.score(X_train_k, y_train))\n",
    "        test_scores_fold.append(linreg.score(X_test_k, y_test))\n",
    "\n",
    "    train_scores.append(train_scores_fold)\n",
    "    test_scores.append(test_scores_fold)\n",
    "\n",
    "train_scores = np.array(train_scores).T.mean(axis=1)\n",
    "test_scores = np.array(test_scores).T.mean(axis=1)\n",
    "scores = pd.DataFrame({'num_features': range(1, len(ranked_features) + 1),\n",
    "                       'train': train_scores, 'test': test_scores\n",
    "                      })"
   ]
  },
  {
   "cell_type": "code",
   "execution_count": 27,
   "metadata": {},
   "outputs": [
    {
     "data": {
      "image/png": "[encoded data removed]",
      "text/plain": [
       "<Figure size 432x288 with 1 Axes>"
      ]
     },
     "metadata": {
      "needs_background": "light"
     },
     "output_type": "display_data"
    }
   ],
   "source": [
    "# /scrub/\n",
    "ax = scores.plot(x='num_features')"
   ]
  },
  {
   "cell_type": "markdown",
   "metadata": {},
   "source": [
    "$\\blacksquare$"
   ]
  },
  {
   "cell_type": "markdown",
   "metadata": {
    "toc-hr-collapsed": false
   },
   "source": [
    "## Dimensionality Reduction with PCA"
   ]
  },
  {
   "cell_type": "markdown",
   "metadata": {},
   "source": [
    "Feature selection is a kind of dimensionality reduction: every time we drop a feature, we reduce the number of dimensions in the feature space by 1."
   ]
  },
  {
   "cell_type": "markdown",
   "metadata": {},
   "source": [
    "Special dimensionality reduction techniques allow us to reduce the dimensionality of the feature space in a way that **preserves more information** than simply dropping features."
   ]
  },
  {
   "cell_type": "markdown",
   "metadata": {},
   "source": [
    "For instance, **Principle Component Analysis** finds the \"most informative\" *combinations of features* before dropping some of those combinations."
   ]
  },
  {
   "cell_type": "markdown",
   "metadata": {},
   "source": [
    "[Visual explanation of PCA](http://setosa.io/ev/principal-component-analysis/)"
   ]
  },
  {
   "cell_type": "markdown",
   "metadata": {},
   "source": [
    "### Example: PCA on Temp, Atemp"
   ]
  },
  {
   "cell_type": "code",
   "execution_count": 28,
   "metadata": {},
   "outputs": [],
   "source": [
    "bikes = pd.read_csv('../assets/data/bikeshare.csv')"
   ]
  },
  {
   "cell_type": "markdown",
   "metadata": {},
   "source": [
    "\"atemp\" and \"temp\" lie almost on a line, with \"atemp\" departing from temp based on factors such as wind and humidity.\n",
    "\n",
    "PCA returns that line as its first principal component and departures from that line as its second principal component."
   ]
  },
  {
   "cell_type": "code",
   "execution_count": 29,
   "metadata": {},
   "outputs": [
    {
     "data": {
      "image/png": "[encoded data removed]",
      "text/plain": [
       "<Figure size 432x288 with 1 Axes>"
      ]
     },
     "metadata": {
      "needs_background": "light"
     },
     "output_type": "display_data"
    }
   ],
   "source": [
    "# Plot atemp against temp\n",
    "# /scrub/\n",
    "ax = bikes.plot(kind='scatter', x='temp', y='atemp', alpha=.01)"
   ]
  },
  {
   "cell_type": "code",
   "execution_count": 30,
   "metadata": {},
   "outputs": [
    {
     "data": {
      "text/html": [
       "<div>\n",
       "<style scoped>\n",
       "    .dataframe tbody tr th:only-of-type {\n",
       "        vertical-align: middle;\n",
       "    }\n",
       "\n",
       "    .dataframe tbody tr th {\n",
       "        vertical-align: top;\n",
       "    }\n",
       "\n",
       "    .dataframe thead th {\n",
       "        text-align: right;\n",
       "    }\n",
       "</style>\n",
       "<table border=\"1\" class=\"dataframe\">\n",
       "  <thead>\n",
       "    <tr style=\"text-align: right;\">\n",
       "      <th></th>\n",
       "      <th>temp</th>\n",
       "      <th>atemp</th>\n",
       "    </tr>\n",
       "  </thead>\n",
       "  <tbody>\n",
       "    <tr>\n",
       "      <th>59</th>\n",
       "      <td>4.22</td>\n",
       "      <td>-0.0016</td>\n",
       "    </tr>\n",
       "    <tr>\n",
       "      <th>60</th>\n",
       "      <td>4.22</td>\n",
       "      <td>-0.0016</td>\n",
       "    </tr>\n",
       "    <tr>\n",
       "      <th>61</th>\n",
       "      <td>4.22</td>\n",
       "      <td>-0.0016</td>\n",
       "    </tr>\n",
       "    <tr>\n",
       "      <th>109</th>\n",
       "      <td>3.28</td>\n",
       "      <td>-0.0016</td>\n",
       "    </tr>\n",
       "    <tr>\n",
       "      <th>115</th>\n",
       "      <td>0.46</td>\n",
       "      <td>-0.0016</td>\n",
       "    </tr>\n",
       "    <tr>\n",
       "      <th>123</th>\n",
       "      <td>0.46</td>\n",
       "      <td>-0.0016</td>\n",
       "    </tr>\n",
       "    <tr>\n",
       "      <th>163</th>\n",
       "      <td>0.46</td>\n",
       "      <td>-0.0016</td>\n",
       "    </tr>\n",
       "    <tr>\n",
       "      <th>315</th>\n",
       "      <td>3.28</td>\n",
       "      <td>-0.0016</td>\n",
       "    </tr>\n",
       "    <tr>\n",
       "      <th>316</th>\n",
       "      <td>2.34</td>\n",
       "      <td>-0.0016</td>\n",
       "    </tr>\n",
       "    <tr>\n",
       "      <th>320</th>\n",
       "      <td>0.46</td>\n",
       "      <td>-0.0016</td>\n",
       "    </tr>\n",
       "    <tr>\n",
       "      <th>323</th>\n",
       "      <td>0.46</td>\n",
       "      <td>-0.0016</td>\n",
       "    </tr>\n",
       "    <tr>\n",
       "      <th>324</th>\n",
       "      <td>0.46</td>\n",
       "      <td>-0.0016</td>\n",
       "    </tr>\n",
       "    <tr>\n",
       "      <th>363</th>\n",
       "      <td>4.22</td>\n",
       "      <td>-0.0016</td>\n",
       "    </tr>\n",
       "    <tr>\n",
       "      <th>405</th>\n",
       "      <td>2.34</td>\n",
       "      <td>-0.0016</td>\n",
       "    </tr>\n",
       "    <tr>\n",
       "      <th>451</th>\n",
       "      <td>4.22</td>\n",
       "      <td>-0.0016</td>\n",
       "    </tr>\n",
       "    <tr>\n",
       "      <th>457</th>\n",
       "      <td>3.28</td>\n",
       "      <td>-0.0016</td>\n",
       "    </tr>\n",
       "    <tr>\n",
       "      <th>557</th>\n",
       "      <td>2.34</td>\n",
       "      <td>-0.0016</td>\n",
       "    </tr>\n",
       "    <tr>\n",
       "      <th>558</th>\n",
       "      <td>3.28</td>\n",
       "      <td>-0.0016</td>\n",
       "    </tr>\n",
       "    <tr>\n",
       "      <th>572</th>\n",
       "      <td>3.28</td>\n",
       "      <td>-0.0016</td>\n",
       "    </tr>\n",
       "    <tr>\n",
       "      <th>588</th>\n",
       "      <td>2.34</td>\n",
       "      <td>-0.0016</td>\n",
       "    </tr>\n",
       "    <tr>\n",
       "      <th>611</th>\n",
       "      <td>3.28</td>\n",
       "      <td>-0.0016</td>\n",
       "    </tr>\n",
       "    <tr>\n",
       "      <th>613</th>\n",
       "      <td>3.28</td>\n",
       "      <td>-0.0016</td>\n",
       "    </tr>\n",
       "    <tr>\n",
       "      <th>633</th>\n",
       "      <td>3.28</td>\n",
       "      <td>-0.0016</td>\n",
       "    </tr>\n",
       "    <tr>\n",
       "      <th>650</th>\n",
       "      <td>0.46</td>\n",
       "      <td>-0.0016</td>\n",
       "    </tr>\n",
       "    <tr>\n",
       "      <th>661</th>\n",
       "      <td>3.28</td>\n",
       "      <td>-0.0016</td>\n",
       "    </tr>\n",
       "    <tr>\n",
       "      <th>698</th>\n",
       "      <td>0.46</td>\n",
       "      <td>-0.0016</td>\n",
       "    </tr>\n",
       "    <tr>\n",
       "      <th>703</th>\n",
       "      <td>3.28</td>\n",
       "      <td>-0.0016</td>\n",
       "    </tr>\n",
       "    <tr>\n",
       "      <th>706</th>\n",
       "      <td>3.28</td>\n",
       "      <td>-0.0016</td>\n",
       "    </tr>\n",
       "    <tr>\n",
       "      <th>711</th>\n",
       "      <td>2.34</td>\n",
       "      <td>-0.0016</td>\n",
       "    </tr>\n",
       "    <tr>\n",
       "      <th>716</th>\n",
       "      <td>2.34</td>\n",
       "      <td>-0.0016</td>\n",
       "    </tr>\n",
       "    <tr>\n",
       "      <th>...</th>\n",
       "      <td>...</td>\n",
       "      <td>...</td>\n",
       "    </tr>\n",
       "    <tr>\n",
       "      <th>17293</th>\n",
       "      <td>4.22</td>\n",
       "      <td>-0.0016</td>\n",
       "    </tr>\n",
       "    <tr>\n",
       "      <th>17300</th>\n",
       "      <td>3.28</td>\n",
       "      <td>-0.0016</td>\n",
       "    </tr>\n",
       "    <tr>\n",
       "      <th>17301</th>\n",
       "      <td>3.28</td>\n",
       "      <td>-0.0016</td>\n",
       "    </tr>\n",
       "    <tr>\n",
       "      <th>17304</th>\n",
       "      <td>3.28</td>\n",
       "      <td>-0.0016</td>\n",
       "    </tr>\n",
       "    <tr>\n",
       "      <th>17307</th>\n",
       "      <td>3.28</td>\n",
       "      <td>-0.0016</td>\n",
       "    </tr>\n",
       "    <tr>\n",
       "      <th>17308</th>\n",
       "      <td>3.28</td>\n",
       "      <td>-0.0016</td>\n",
       "    </tr>\n",
       "    <tr>\n",
       "      <th>17309</th>\n",
       "      <td>3.28</td>\n",
       "      <td>-0.0016</td>\n",
       "    </tr>\n",
       "    <tr>\n",
       "      <th>17310</th>\n",
       "      <td>3.28</td>\n",
       "      <td>-0.0016</td>\n",
       "    </tr>\n",
       "    <tr>\n",
       "      <th>17311</th>\n",
       "      <td>3.28</td>\n",
       "      <td>-0.0016</td>\n",
       "    </tr>\n",
       "    <tr>\n",
       "      <th>17312</th>\n",
       "      <td>3.28</td>\n",
       "      <td>-0.0016</td>\n",
       "    </tr>\n",
       "    <tr>\n",
       "      <th>17313</th>\n",
       "      <td>4.22</td>\n",
       "      <td>-0.0016</td>\n",
       "    </tr>\n",
       "    <tr>\n",
       "      <th>17314</th>\n",
       "      <td>4.22</td>\n",
       "      <td>-0.0016</td>\n",
       "    </tr>\n",
       "    <tr>\n",
       "      <th>17315</th>\n",
       "      <td>4.22</td>\n",
       "      <td>-0.0016</td>\n",
       "    </tr>\n",
       "    <tr>\n",
       "      <th>17316</th>\n",
       "      <td>4.22</td>\n",
       "      <td>-0.0016</td>\n",
       "    </tr>\n",
       "    <tr>\n",
       "      <th>17317</th>\n",
       "      <td>4.22</td>\n",
       "      <td>-0.0016</td>\n",
       "    </tr>\n",
       "    <tr>\n",
       "      <th>17318</th>\n",
       "      <td>1.40</td>\n",
       "      <td>-0.0016</td>\n",
       "    </tr>\n",
       "    <tr>\n",
       "      <th>17319</th>\n",
       "      <td>1.40</td>\n",
       "      <td>-0.0016</td>\n",
       "    </tr>\n",
       "    <tr>\n",
       "      <th>17320</th>\n",
       "      <td>1.40</td>\n",
       "      <td>-0.0016</td>\n",
       "    </tr>\n",
       "    <tr>\n",
       "      <th>17321</th>\n",
       "      <td>3.28</td>\n",
       "      <td>-0.0016</td>\n",
       "    </tr>\n",
       "    <tr>\n",
       "      <th>17322</th>\n",
       "      <td>3.28</td>\n",
       "      <td>-0.0016</td>\n",
       "    </tr>\n",
       "    <tr>\n",
       "      <th>17323</th>\n",
       "      <td>6.10</td>\n",
       "      <td>-0.0016</td>\n",
       "    </tr>\n",
       "    <tr>\n",
       "      <th>17324</th>\n",
       "      <td>4.22</td>\n",
       "      <td>-0.0016</td>\n",
       "    </tr>\n",
       "    <tr>\n",
       "      <th>17325</th>\n",
       "      <td>6.10</td>\n",
       "      <td>-0.0016</td>\n",
       "    </tr>\n",
       "    <tr>\n",
       "      <th>17326</th>\n",
       "      <td>6.10</td>\n",
       "      <td>-0.0016</td>\n",
       "    </tr>\n",
       "    <tr>\n",
       "      <th>17327</th>\n",
       "      <td>6.10</td>\n",
       "      <td>-0.0016</td>\n",
       "    </tr>\n",
       "    <tr>\n",
       "      <th>17328</th>\n",
       "      <td>5.16</td>\n",
       "      <td>-0.0016</td>\n",
       "    </tr>\n",
       "    <tr>\n",
       "      <th>17329</th>\n",
       "      <td>4.22</td>\n",
       "      <td>-0.0016</td>\n",
       "    </tr>\n",
       "    <tr>\n",
       "      <th>17330</th>\n",
       "      <td>4.22</td>\n",
       "      <td>-0.0016</td>\n",
       "    </tr>\n",
       "    <tr>\n",
       "      <th>17333</th>\n",
       "      <td>4.22</td>\n",
       "      <td>-0.0016</td>\n",
       "    </tr>\n",
       "    <tr>\n",
       "      <th>17347</th>\n",
       "      <td>5.16</td>\n",
       "      <td>-0.0016</td>\n",
       "    </tr>\n",
       "  </tbody>\n",
       "</table>\n",
       "<p>293 rows × 2 columns</p>\n",
       "</div>"
      ],
      "text/plain": [
       "       temp   atemp\n",
       "59     4.22 -0.0016\n",
       "60     4.22 -0.0016\n",
       "61     4.22 -0.0016\n",
       "109    3.28 -0.0016\n",
       "115    0.46 -0.0016\n",
       "123    0.46 -0.0016\n",
       "163    0.46 -0.0016\n",
       "315    3.28 -0.0016\n",
       "316    2.34 -0.0016\n",
       "320    0.46 -0.0016\n",
       "323    0.46 -0.0016\n",
       "324    0.46 -0.0016\n",
       "363    4.22 -0.0016\n",
       "405    2.34 -0.0016\n",
       "451    4.22 -0.0016\n",
       "457    3.28 -0.0016\n",
       "557    2.34 -0.0016\n",
       "558    3.28 -0.0016\n",
       "572    3.28 -0.0016\n",
       "588    2.34 -0.0016\n",
       "611    3.28 -0.0016\n",
       "613    3.28 -0.0016\n",
       "633    3.28 -0.0016\n",
       "650    0.46 -0.0016\n",
       "661    3.28 -0.0016\n",
       "698    0.46 -0.0016\n",
       "703    3.28 -0.0016\n",
       "706    3.28 -0.0016\n",
       "711    2.34 -0.0016\n",
       "716    2.34 -0.0016\n",
       "...     ...     ...\n",
       "17293  4.22 -0.0016\n",
       "17300  3.28 -0.0016\n",
       "17301  3.28 -0.0016\n",
       "17304  3.28 -0.0016\n",
       "17307  3.28 -0.0016\n",
       "17308  3.28 -0.0016\n",
       "17309  3.28 -0.0016\n",
       "17310  3.28 -0.0016\n",
       "17311  3.28 -0.0016\n",
       "17312  3.28 -0.0016\n",
       "17313  4.22 -0.0016\n",
       "17314  4.22 -0.0016\n",
       "17315  4.22 -0.0016\n",
       "17316  4.22 -0.0016\n",
       "17317  4.22 -0.0016\n",
       "17318  1.40 -0.0016\n",
       "17319  1.40 -0.0016\n",
       "17320  1.40 -0.0016\n",
       "17321  3.28 -0.0016\n",
       "17322  3.28 -0.0016\n",
       "17323  6.10 -0.0016\n",
       "17324  4.22 -0.0016\n",
       "17325  6.10 -0.0016\n",
       "17326  6.10 -0.0016\n",
       "17327  6.10 -0.0016\n",
       "17328  5.16 -0.0016\n",
       "17329  4.22 -0.0016\n",
       "17330  4.22 -0.0016\n",
       "17333  4.22 -0.0016\n",
       "17347  5.16 -0.0016\n",
       "\n",
       "[293 rows x 2 columns]"
      ]
     },
     "execution_count": 30,
     "metadata": {},
     "output_type": "execute_result"
    }
   ],
   "source": [
    "# Inspect the anomalous points with atemp nearly zero but temp > 20\n",
    "# /scrub/\n",
    "anomalies = bikes.loc[abs(bikes.loc[:, 'atemp']) < .01, ['temp', 'atemp']]\n",
    "anomalies"
   ]
  },
  {
   "cell_type": "code",
   "execution_count": 31,
   "metadata": {},
   "outputs": [
    {
     "data": {
      "text/plain": [
       "-0.0016    293\n",
       "Name: atemp, dtype: int64"
      ]
     },
     "execution_count": 31,
     "metadata": {},
     "output_type": "execute_result"
    }
   ],
   "source": [
    "# Look closer at the \"atemp\" values\n",
    "# /scrub/\n",
    "anomalies.loc[:, 'atemp'].value_counts()"
   ]
  },
  {
   "cell_type": "code",
   "execution_count": 32,
   "metadata": {},
   "outputs": [],
   "source": [
    "# Filer out the anomalous rows\n",
    "# /scrub/\n",
    "bikes = bikes.loc[bikes.loc[:, 'atemp'] != -.0016, :]"
   ]
  },
  {
   "cell_type": "code",
   "execution_count": 33,
   "metadata": {},
   "outputs": [
    {
     "data": {
      "image/png": "[encoded data removed]",
      "text/plain": [
       "<Figure size 432x288 with 1 Axes>"
      ]
     },
     "metadata": {
      "needs_background": "light"
     },
     "output_type": "display_data"
    }
   ],
   "source": [
    "# Make a plot to confirm that we removed the anomalous points\n",
    "# /scrub/\n",
    "ax = bikes.plot(kind='scatter', x='temp', y='atemp', alpha=.01)"
   ]
  },
  {
   "cell_type": "code",
   "execution_count": 34,
   "metadata": {},
   "outputs": [],
   "source": [
    "# Instantiate a PCA transformer\n",
    "# /scrub/\n",
    "from sklearn.decomposition import PCA\n",
    "\n",
    "pca = PCA()"
   ]
  },
  {
   "cell_type": "code",
   "execution_count": 35,
   "metadata": {},
   "outputs": [],
   "source": [
    "# Apply transformer to bikes data\n",
    "# /scrub/\n",
    "bikes_pca = pca.fit_transform(bikes.loc[:, ['temp', 'atemp']])"
   ]
  },
  {
   "cell_type": "code",
   "execution_count": 36,
   "metadata": {},
   "outputs": [
    {
     "data": {
      "text/plain": [
       "array([[ 0.62340746,  0.78189714],\n",
       "       [-0.78189714,  0.62340746]])"
      ]
     },
     "execution_count": 36,
     "metadata": {},
     "output_type": "execute_result"
    }
   ],
   "source": [
    "# Check out principal components\n",
    "# The first is a line with slope slightly greater than one.\n",
    "# The second is exactly perpendicular to that line.\n",
    "# /scrub/\n",
    "pca.components_"
   ]
  },
  {
   "cell_type": "code",
   "execution_count": 37,
   "metadata": {},
   "outputs": [
    {
     "data": {
      "image/png": "[encoded data removed]",
      "text/plain": [
       "<Figure size 576x576 with 1 Axes>"
      ]
     },
     "metadata": {
      "needs_background": "light"
     },
     "output_type": "display_data"
    }
   ],
   "source": [
    "# Draw principal components on top of scatterplot\n",
    "def draw_vector(v0, v1, ax, c='r'):\n",
    "    arrowprops=dict(arrowstyle='->',\n",
    "                    linewidth=2,\n",
    "                    shrinkA=0,\n",
    "                    shrinkB=0,\n",
    "                    color=c\n",
    "                   )\n",
    "    ax.annotate('', v1, v0, arrowprops=arrowprops)\n",
    "\n",
    "fig, ax = plt.subplots(figsize=(8, 8))\n",
    "bikes.plot(kind='scatter', x='temp', y='atemp', alpha=0.1, ax=ax)\n",
    "for length, vector, color in zip(pca.explained_variance_, pca.components_, ['r', 'g']):\n",
    "    v = vector * 3 * np.sqrt(length)\n",
    "    draw_vector(pca.mean_, pca.mean_ + v, ax=ax, c=color)\n",
    "    draw_vector(pca.mean_, pca.mean_ - v, ax=ax, c=color)\n",
    "ax.set_aspect('equal')\n",
    "ax.set_xlim(ax.get_ylim());"
   ]
  },
  {
   "cell_type": "markdown",
   "metadata": {},
   "source": [
    "### Example: PCA on the Ames Dataset"
   ]
  },
  {
   "cell_type": "code",
   "execution_count": 38,
   "metadata": {},
   "outputs": [],
   "source": [
    "X = ames_small.drop('SalePrice', axis='columns')\n",
    "y = ames_small.loc[:, 'SalePrice']"
   ]
  },
  {
   "cell_type": "markdown",
   "metadata": {},
   "source": [
    "If one feature is measured on a scale of 1-10 while another is on a scale of 1-1000, for instance, then PCA will tend to focus on capturing the feature that is on a scale of 1-1000. We want PCA to identify maximally informative combinations of features regardless of their scale, so it is generally a good idea to avoid this problem by standardizing features before applying PCA. Standardizing gives each feature a mean of 0 and a variance of 1 by substracting the feature mean and dividing by its standard deviation. "
   ]
  },
  {
   "cell_type": "code",
   "execution_count": 39,
   "metadata": {},
   "outputs": [
    {
     "name": "stderr",
     "output_type": "stream",
     "text": [
      "/Users/gGandenberger/anaconda3/envs/ga/lib/python3.7/site-packages/sklearn/preprocessing/data.py:625: DataConversionWarning: Data with input dtype int64 were all converted to float64 by StandardScaler.\n",
      "  return self.partial_fit(X, y)\n",
      "/Users/gGandenberger/anaconda3/envs/ga/lib/python3.7/site-packages/sklearn/base.py:462: DataConversionWarning: Data with input dtype int64 were all converted to float64 by StandardScaler.\n",
      "  return self.fit(X, **fit_params).transform(X)\n"
     ]
    }
   ],
   "source": [
    "# Apply `StandardScaler` to `X`\n",
    "# /scrub/\n",
    "from sklearn.preprocessing import StandardScaler\n",
    "\n",
    "scaler = StandardScaler()\n",
    "X_scaled = scaler.fit_transform(X)"
   ]
  },
  {
   "cell_type": "code",
   "execution_count": 40,
   "metadata": {},
   "outputs": [
    {
     "data": {
      "text/html": [
       "<div>\n",
       "<style scoped>\n",
       "    .dataframe tbody tr th:only-of-type {\n",
       "        vertical-align: middle;\n",
       "    }\n",
       "\n",
       "    .dataframe tbody tr th {\n",
       "        vertical-align: top;\n",
       "    }\n",
       "\n",
       "    .dataframe thead th {\n",
       "        text-align: right;\n",
       "    }\n",
       "</style>\n",
       "<table border=\"1\" class=\"dataframe\">\n",
       "  <thead>\n",
       "    <tr style=\"text-align: right;\">\n",
       "      <th></th>\n",
       "      <th>0</th>\n",
       "      <th>1</th>\n",
       "      <th>2</th>\n",
       "      <th>3</th>\n",
       "      <th>4</th>\n",
       "      <th>5</th>\n",
       "      <th>6</th>\n",
       "      <th>7</th>\n",
       "      <th>8</th>\n",
       "      <th>9</th>\n",
       "      <th>...</th>\n",
       "      <th>22</th>\n",
       "      <th>23</th>\n",
       "      <th>24</th>\n",
       "      <th>25</th>\n",
       "      <th>26</th>\n",
       "      <th>27</th>\n",
       "      <th>28</th>\n",
       "      <th>29</th>\n",
       "      <th>30</th>\n",
       "      <th>31</th>\n",
       "    </tr>\n",
       "  </thead>\n",
       "  <tbody>\n",
       "    <tr>\n",
       "      <th>mean</th>\n",
       "      <td>7.244205e-17</td>\n",
       "      <td>6.661338e-18</td>\n",
       "      <td>-1.798561e-16</td>\n",
       "      <td>2.940981e-15</td>\n",
       "      <td>-2.081668e-17</td>\n",
       "      <td>-2.220446e-17</td>\n",
       "      <td>-4.884981e-17</td>\n",
       "      <td>3.441691e-17</td>\n",
       "      <td>5.939693e-17</td>\n",
       "      <td>2.707209e-16</td>\n",
       "      <td>...</td>\n",
       "      <td>9.572204e-17</td>\n",
       "      <td>9.325873e-17</td>\n",
       "      <td>4.440892e-18</td>\n",
       "      <td>-2.553513e-17</td>\n",
       "      <td>6.689094e-17</td>\n",
       "      <td>7.216450e-17</td>\n",
       "      <td>0.0</td>\n",
       "      <td>1.337819e-16</td>\n",
       "      <td>1.343370e-16</td>\n",
       "      <td>1.414424e-14</td>\n",
       "    </tr>\n",
       "    <tr>\n",
       "      <th>var</th>\n",
       "      <td>1.010101e+00</td>\n",
       "      <td>1.010101e+00</td>\n",
       "      <td>1.010101e+00</td>\n",
       "      <td>1.010101e+00</td>\n",
       "      <td>1.010101e+00</td>\n",
       "      <td>1.010101e+00</td>\n",
       "      <td>1.010101e+00</td>\n",
       "      <td>1.010101e+00</td>\n",
       "      <td>1.010101e+00</td>\n",
       "      <td>1.010101e+00</td>\n",
       "      <td>...</td>\n",
       "      <td>1.010101e+00</td>\n",
       "      <td>1.010101e+00</td>\n",
       "      <td>1.010101e+00</td>\n",
       "      <td>1.010101e+00</td>\n",
       "      <td>1.010101e+00</td>\n",
       "      <td>1.010101e+00</td>\n",
       "      <td>0.0</td>\n",
       "      <td>1.010101e+00</td>\n",
       "      <td>1.010101e+00</td>\n",
       "      <td>1.010101e+00</td>\n",
       "    </tr>\n",
       "  </tbody>\n",
       "</table>\n",
       "<p>2 rows × 32 columns</p>\n",
       "</div>"
      ],
      "text/plain": [
       "                0             1             2             3             4   \\\n",
       "mean  7.244205e-17  6.661338e-18 -1.798561e-16  2.940981e-15 -2.081668e-17   \n",
       "var   1.010101e+00  1.010101e+00  1.010101e+00  1.010101e+00  1.010101e+00   \n",
       "\n",
       "                5             6             7             8             9   \\\n",
       "mean -2.220446e-17 -4.884981e-17  3.441691e-17  5.939693e-17  2.707209e-16   \n",
       "var   1.010101e+00  1.010101e+00  1.010101e+00  1.010101e+00  1.010101e+00   \n",
       "\n",
       "          ...                 22            23            24            25  \\\n",
       "mean      ...       9.572204e-17  9.325873e-17  4.440892e-18 -2.553513e-17   \n",
       "var       ...       1.010101e+00  1.010101e+00  1.010101e+00  1.010101e+00   \n",
       "\n",
       "                26            27   28            29            30  \\\n",
       "mean  6.689094e-17  7.216450e-17  0.0  1.337819e-16  1.343370e-16   \n",
       "var   1.010101e+00  1.010101e+00  0.0  1.010101e+00  1.010101e+00   \n",
       "\n",
       "                31  \n",
       "mean  1.414424e-14  \n",
       "var   1.010101e+00  \n",
       "\n",
       "[2 rows x 32 columns]"
      ]
     },
     "execution_count": 40,
     "metadata": {},
     "output_type": "execute_result"
    }
   ],
   "source": [
    "# Confirm column means are 0 and variances are 1\n",
    "# /scrub/\n",
    "pd.DataFrame(X_scaled).agg(['mean', 'var'])"
   ]
  },
  {
   "cell_type": "code",
   "execution_count": 41,
   "metadata": {},
   "outputs": [],
   "source": [
    "# Apply PCA to scaled features\n",
    "# /scrub/\n",
    "from sklearn.decomposition import PCA\n",
    "\n",
    "pca = PCA()\n",
    "X_pca = pca.fit_transform(X_scaled)"
   ]
  },
  {
   "cell_type": "code",
   "execution_count": 42,
   "metadata": {},
   "outputs": [
    {
     "data": {
      "text/plain": [
       "array([[-1.86180914e+00, -3.87741107e-01, -2.97344985e-01,\n",
       "         2.32841742e+00,  1.73282870e+00, -2.64078474e+00,\n",
       "         3.37003900e+00,  2.05824339e+00, -3.85007541e-01,\n",
       "        -5.12464418e-01,  1.08032830e-01,  9.24938061e-01,\n",
       "        -1.51765648e+00, -3.20790411e-01,  1.17517559e+00,\n",
       "         4.61937473e-01, -1.23010658e+00, -4.49619962e-01,\n",
       "         5.80680032e-01, -7.23856763e-01,  6.29181434e-02,\n",
       "        -3.96753066e-01,  1.09038055e-01,  7.24436787e-01,\n",
       "         8.24448308e-03, -9.79612554e-02,  7.88941917e-02,\n",
       "         2.23635522e-01, -4.51053267e-02, -2.11315204e-16,\n",
       "         4.93241499e-16, -1.19020247e-16],\n",
       "       [ 4.55864936e+00,  1.08759329e+00, -5.80240374e-01,\n",
       "         1.14589229e+00, -2.27018040e-01, -6.15968340e-02,\n",
       "        -5.13353502e-01,  6.95275459e-01,  3.07295626e-01,\n",
       "         1.00991871e+00,  3.80139135e-01, -1.06776006e+00,\n",
       "         1.12313665e+00, -9.88538639e-01, -1.01572305e+00,\n",
       "        -2.27396534e-01, -2.46736774e-01, -4.37429002e-01,\n",
       "        -3.16143735e-01, -1.64218653e-01, -2.82730848e-01,\n",
       "         8.12038532e-02, -6.40378703e-01,  1.16198361e-01,\n",
       "        -5.48338761e-01,  2.80344820e-01,  2.15515707e-01,\n",
       "         8.28725689e-01,  4.73883371e-02,  7.40124137e-16,\n",
       "         3.28299752e-16, -1.95081014e-16]])"
      ]
     },
     "execution_count": 42,
     "metadata": {},
     "output_type": "execute_result"
    }
   ],
   "source": [
    "# Look at first two rows of PCA features\n",
    "# /scrub/\n",
    "X_pca[:2]"
   ]
  },
  {
   "cell_type": "markdown",
   "metadata": {},
   "source": [
    "Trying to interpret these features is usually a fool's errand."
   ]
  },
  {
   "cell_type": "markdown",
   "metadata": {},
   "source": [
    "PCA has generated a set of features in order of decreasing variance. Variance tends to be associated with informativeness about the target, so we can use this ordering for feature selection."
   ]
  },
  {
   "cell_type": "code",
   "execution_count": 43,
   "metadata": {},
   "outputs": [
    {
     "name": "stderr",
     "output_type": "stream",
     "text": [
      "100%|██████████| 10/10 [00:00<00:00, 11.84it/s]\n"
     ]
    }
   ],
   "source": [
    "# Get scores vs. number of PCA features\n",
    "# /scrub/\n",
    "def keep_feature_order(X, y):\n",
    "    return X.columns\n",
    "\n",
    "scores = my_cv_score_by_num_features(linreg, pd.DataFrame(X_pca), y, keep_feature_order)"
   ]
  },
  {
   "cell_type": "code",
   "execution_count": 44,
   "metadata": {},
   "outputs": [],
   "source": [
    "# Occasionally things go badly wrong and we get a huge negative score;\n",
    "# clip scores at 0 so that we can see what is going on in the other cases.\n",
    "# /scrub/\n",
    "scores.loc[:, 'test'] = scores.loc[:, 'test'].clip(0)"
   ]
  },
  {
   "cell_type": "code",
   "execution_count": 45,
   "metadata": {},
   "outputs": [
    {
     "data": {
      "image/png": "[encoded data removed]",
      "text/plain": [
       "<Figure size 432x288 with 1 Axes>"
      ]
     },
     "metadata": {
      "needs_background": "light"
     },
     "output_type": "display_data"
    }
   ],
   "source": [
    "# Plot scores\n",
    "# /scrub/\n",
    "ax = scores.plot(x='num_features')"
   ]
  },
  {
   "cell_type": "markdown",
   "metadata": {},
   "source": [
    "### PCA + Feature Selection Compared to Simple Feature Selection"
   ]
  },
  {
   "cell_type": "markdown",
   "metadata": {},
   "source": [
    "PCA followed by feature selection preserves more of the variation in the feature matrix than feature selection alone. As a result, it often allows you to decrease variance with less of an increase in bias. However, this outcome is not guaranteed.\n",
    "\n",
    "One downside of using PCA is that it typically makes your feature uninterpretable."
   ]
  },
  {
   "cell_type": "markdown",
   "metadata": {},
   "source": [
    "**Exercise (10 mins., in pairs)**"
   ]
  },
  {
   "cell_type": "markdown",
   "metadata": {},
   "source": [
    "- Load the `glass` dataset from the file `glass.csv` in this lesson's `assets/data` directory into a Pandas DataFrame called `glass`."
   ]
  },
  {
   "cell_type": "code",
   "execution_count": 46,
   "metadata": {},
   "outputs": [],
   "source": [
    "# /scrub/\n",
    "glass = pd.read_csv('../assets/data/glass.csv')"
   ]
  },
  {
   "cell_type": "markdown",
   "metadata": {},
   "source": [
    "- Create a new column \"household\" that has the value `1` where \"Type\" is greater than 4 and zero elsewhere."
   ]
  },
  {
   "cell_type": "code",
   "execution_count": 47,
   "metadata": {},
   "outputs": [],
   "source": [
    "# /scrub/\n",
    "glass.loc[:, 'household'] = (glass.loc[:, 'Type'] > 4).astype(int)"
   ]
  },
  {
   "cell_type": "markdown",
   "metadata": {},
   "source": [
    "- Using \"household\" as your target variable, define a feature matrix `X` and target vector `y` for the `glass` dataset. (Do not use \"Type\" as a feature variable!)"
   ]
  },
  {
   "cell_type": "code",
   "execution_count": 48,
   "metadata": {},
   "outputs": [],
   "source": [
    "# /scrub/\n",
    "X = glass.drop(['Type', 'household'], axis='columns')"
   ]
  },
  {
   "cell_type": "code",
   "execution_count": 49,
   "metadata": {},
   "outputs": [],
   "source": [
    "# /scrub/\n",
    "y = glass.loc[:, 'household']"
   ]
  },
  {
   "cell_type": "markdown",
   "metadata": {},
   "source": [
    "- Apply PCA to your feature matrix `X`, and call the result `X_pca`."
   ]
  },
  {
   "cell_type": "code",
   "execution_count": 50,
   "metadata": {},
   "outputs": [],
   "source": [
    "# /scrub/\n",
    "pca = PCA()\n",
    "X_pca = pca.fit_transform(X)"
   ]
  },
  {
   "cell_type": "markdown",
   "metadata": {},
   "source": [
    "- Use our function `my_cv_score_by_num_features` to add principal components one at a time to a logistic regression model for the glass dataset and get the score at each stage."
   ]
  },
  {
   "cell_type": "code",
   "execution_count": 51,
   "metadata": {},
   "outputs": [
    {
     "name": "stderr",
     "output_type": "stream",
     "text": [
      "100%|██████████| 10/10 [00:00<00:00, 36.64it/s]\n"
     ]
    }
   ],
   "source": [
    "# /scrub/\n",
    "scores = my_cv_score_by_num_features(logreg, pd.DataFrame(X_pca), y, keep_feature_order)"
   ]
  },
  {
   "cell_type": "markdown",
   "metadata": {},
   "source": [
    "- Clip and plot the scores"
   ]
  },
  {
   "cell_type": "code",
   "execution_count": 52,
   "metadata": {},
   "outputs": [],
   "source": [
    "# /scrub/\n",
    "scores.loc[:, 'test'] = scores.loc[:, 'test'].clip(0)"
   ]
  },
  {
   "cell_type": "code",
   "execution_count": 53,
   "metadata": {},
   "outputs": [
    {
     "data": {
      "image/png": "[encoded data removed]",
      "text/plain": [
       "<Figure size 432x288 with 1 Axes>"
      ]
     },
     "metadata": {
      "needs_background": "light"
     },
     "output_type": "display_data"
    }
   ],
   "source": [
    "# /scrub/\n",
    "ax = scores.plot(x='num_features')"
   ]
  },
  {
   "cell_type": "markdown",
   "metadata": {},
   "source": [
    "- **Bonus:** Calculate scores without using `my_cv_score_by_num_features`, and plot them."
   ]
  },
  {
   "cell_type": "code",
   "execution_count": 54,
   "metadata": {},
   "outputs": [
    {
     "name": "stderr",
     "output_type": "stream",
     "text": [
      "100%|██████████| 10/10 [00:00<00:00, 33.83it/s]\n"
     ]
    }
   ],
   "source": [
    "# /scrub/\n",
    "rfc = RandomForestClassifier()\n",
    "\n",
    "train_scores = []\n",
    "test_scores = []\n",
    "\n",
    "kf = KFold(n_splits=10, shuffle=True)\n",
    "for train_rows, test_rows in tqdm(kf.split(X, y), total=10):\n",
    "    X_train = X.iloc[train_rows, :]\n",
    "    X_test = X.iloc[test_rows, :]\n",
    "    y_train = y.iloc[train_rows]\n",
    "    y_test = y.iloc[test_rows]\n",
    "\n",
    "    ranked_features = X.columns\n",
    "\n",
    "    train_scores_fold = []\n",
    "    test_scores_fold = []\n",
    "    for num_features in range(1, len(ranked_features) + 1):\n",
    "        feature_cols = ranked_features[:num_features]\n",
    "        X_train_k = X_train.loc[:, feature_cols]\n",
    "        X_test_k = X_test.loc[:, feature_cols]\n",
    "\n",
    "        linreg.fit(X_train_k, y_train)\n",
    "        train_scores_fold.append(linreg.score(X_train_k, y_train))\n",
    "        test_scores_fold.append(linreg.score(X_test_k, y_test))\n",
    "\n",
    "    train_scores.append(train_scores_fold)\n",
    "    test_scores.append(test_scores_fold)\n",
    "\n",
    "train_scores = np.array(train_scores).T.mean(axis=1)\n",
    "test_scores = np.array(test_scores).T.mean(axis=1)\n",
    "scores = pd.DataFrame({'num_features': range(1, len(ranked_features) + 1),\n",
    "                       'train': train_scores, 'test': test_scores\n",
    "                      })"
   ]
  },
  {
   "cell_type": "code",
   "execution_count": 55,
   "metadata": {},
   "outputs": [
    {
     "data": {
      "text/plain": [
       "<matplotlib.axes._subplots.AxesSubplot at 0x1a18496ba8>"
      ]
     },
     "execution_count": 55,
     "metadata": {},
     "output_type": "execute_result"
    },
    {
     "data": {
      "image/png": "[encoded data removed]",
      "text/plain": [
       "<Figure size 432x288 with 1 Axes>"
      ]
     },
     "metadata": {
      "needs_background": "light"
     },
     "output_type": "display_data"
    }
   ],
   "source": [
    "# /scrub/\n",
    "scores.plot(x='num_features')"
   ]
  },
  {
   "cell_type": "markdown",
   "metadata": {},
   "source": [
    "$\\blacksquare$"
   ]
  },
  {
   "cell_type": "markdown",
   "metadata": {
    "toc-hr-collapsed": false
   },
   "source": [
    "## Regularization"
   ]
  },
  {
   "cell_type": "markdown",
   "metadata": {},
   "source": [
    "Regularization makes your model pay a penalty to use the features, so that it will use them only to the extent that the benefit in terms of improving fit on the training set outweighs the penalty."
   ]
  },
  {
   "cell_type": "markdown",
   "metadata": {},
   "source": [
    "You can think of regularization as a **continuous generalization** of feature selection: it allows the model to rely on a given feature *less* than it would, without regularization without taking its use of that variable all the way to zero."
   ]
  },
  {
   "cell_type": "markdown",
   "metadata": {
    "toc-hr-collapsed": true
   },
   "source": [
    "### Ridge Regression"
   ]
  },
  {
   "cell_type": "markdown",
   "metadata": {},
   "source": [
    "#### Example: Ridge Regression on the Mammals Dataset"
   ]
  },
  {
   "cell_type": "markdown",
   "metadata": {},
   "source": [
    "**Ridge regression** is linear regression with a twist: instead of minimizing mean squared error alone, it minimizes a weighted sum of the mean squared error and *the sum of the squares of the coefficients*."
   ]
  },
  {
   "cell_type": "markdown",
   "metadata": {},
   "source": [
    "The hyperparameter $\\alpha$ controls how much weight is put on keeping the coefficients small vs. reducing MSE. **A larger value for $\\alpha$ leads to more regularization.**."
   ]
  },
  {
   "cell_type": "code",
   "execution_count": 56,
   "metadata": {},
   "outputs": [],
   "source": [
    "mammals = pd.read_csv('../assets/data/mammals.txt', delimiter='\\t', names=['brain', 'body'], header=1)"
   ]
  },
  {
   "cell_type": "code",
   "execution_count": 57,
   "metadata": {},
   "outputs": [],
   "source": [
    "# Limit the scope of the model to mammals with body weights under 200 kg\n",
    "# to make it easier to see what's going on.\n",
    "# /scrub/\n",
    "mammals = mammals.loc[mammals.loc[:, 'body'] <= 200, :]"
   ]
  },
  {
   "cell_type": "code",
   "execution_count": 58,
   "metadata": {},
   "outputs": [],
   "source": [
    "# Create our feature matrix and target vector\n",
    "# /scrub/\n",
    "feature_cols = ['body']\n",
    "target_col = 'brain'\n",
    "\n",
    "X = mammals.loc[:, feature_cols]\n",
    "y = mammals.loc[:, target_col]"
   ]
  },
  {
   "cell_type": "code",
   "execution_count": 59,
   "metadata": {},
   "outputs": [],
   "source": [
    "# Get fifth-order polynomial features\n",
    "# /scrub/\n",
    "from sklearn.preprocessing import PolynomialFeatures\n",
    "\n",
    "pf = PolynomialFeatures(5, include_bias=False)\n",
    "X_poly = pf.fit_transform(X)"
   ]
  },
  {
   "cell_type": "code",
   "execution_count": 60,
   "metadata": {},
   "outputs": [
    {
     "name": "stderr",
     "output_type": "stream",
     "text": [
      "/Users/gGandenberger/anaconda3/envs/ga/lib/python3.7/site-packages/sklearn/linear_model/ridge.py:125: LinAlgWarning: scipy.linalg.solve\n",
      "Ill-conditioned matrix detected. Result is not guaranteed to be accurate.\n",
      "Reciprocal condition number2.093553e-21\n",
      "  overwrite_a=True).T\n",
      "/Users/gGandenberger/anaconda3/envs/ga/lib/python3.7/site-packages/sklearn/linear_model/ridge.py:125: LinAlgWarning: scipy.linalg.solve\n",
      "Ill-conditioned matrix detected. Result is not guaranteed to be accurate.\n",
      "Reciprocal condition number6.901558e-19\n",
      "  overwrite_a=True).T\n"
     ]
    },
    {
     "data": {
      "image/png": "[encoded data removed]",
      "text/plain": [
       "<Figure size 432x288 with 1 Axes>"
      ]
     },
     "metadata": {
      "needs_background": "light"
     },
     "output_type": "display_data"
    }
   ],
   "source": [
    "# Plot the fitted regression curve at four levels of alpha\n",
    "# /scrub/\n",
    "from sklearn.linear_model import Ridge\n",
    "\n",
    "ax = mammals.plot(x='body', y='brain', kind='scatter')\n",
    "\n",
    "for alpha in np.hstack([0, np.logspace(5, 15, 3)]):\n",
    "    ridge = Ridge(alpha=alpha)\n",
    "    ridge.fit(X_poly, y)\n",
    "    x_grid = np.linspace(mammals.loc[:, 'body'].min(), mammals.loc[:, 'body'].max(), 200).reshape(-1, 1)\n",
    "    X_grid_poly = pf.fit_transform(x_grid)\n",
    "    y_pred = ridge.predict(X_grid_poly)\n",
    "    ax.plot(x_grid, y_pred, label=f'alpha={alpha}')\n",
    "\n",
    "ax.legend();"
   ]
  },
  {
   "cell_type": "markdown",
   "metadata": {},
   "source": [
    "Ridge regression minimizes $SSE + \\alpha \\sum{\\beta_i^2}$, where $SSE$ is the sum of squared errors.\n",
    "\n",
    "Setting $\\alpha=0$ causes Ridge regression to minimize $SSE$ only, reducing it to standard linear regression.\n",
    "\n",
    "Increasing $\\alpha$ increases the penalty for large coefficients, which nudges the model toward simpler, flatter shapes."
   ]
  },
  {
   "cell_type": "markdown",
   "metadata": {},
   "source": [
    "**Exercise (1 min.)**"
   ]
  },
  {
   "cell_type": "markdown",
   "metadata": {},
   "source": [
    "- How does increase $\\alpha$ affect bias and variance?"
   ]
  },
  {
   "cell_type": "markdown",
   "metadata": {},
   "source": [
    "Increases bias, decreases variance."
   ]
  },
  {
   "cell_type": "markdown",
   "metadata": {},
   "source": [
    "#### Example: Ridge Regression on the Ames Dataset"
   ]
  },
  {
   "cell_type": "markdown",
   "metadata": {},
   "source": [
    "Let's apply Ridge regression to the Ames dataset."
   ]
  },
  {
   "cell_type": "code",
   "execution_count": 61,
   "metadata": {},
   "outputs": [],
   "source": [
    "X = ames_df_num.drop('SalePrice', axis='columns')\n",
    "y = ames_df.loc[:, 'SalePrice']"
   ]
  },
  {
   "cell_type": "markdown",
   "metadata": {},
   "source": [
    "It's generally a good idea to standardize features before applying regularization; otherwise the effects of regularization will depend on feature scale."
   ]
  },
  {
   "cell_type": "code",
   "execution_count": 62,
   "metadata": {},
   "outputs": [
    {
     "name": "stdout",
     "output_type": "stream",
     "text": [
      "(0.7788559155673486, 0.7307411610581306)\n",
      "(0.7663538653157506, 0.7385967034892499)\n"
     ]
    },
    {
     "name": "stderr",
     "output_type": "stream",
     "text": [
      "/Users/gGandenberger/anaconda3/envs/ga/lib/python3.7/site-packages/sklearn/preprocessing/data.py:625: DataConversionWarning: Data with input dtype int64 were all converted to float64 by StandardScaler.\n",
      "  return self.partial_fit(X, y)\n",
      "/Users/gGandenberger/anaconda3/envs/ga/lib/python3.7/site-packages/sklearn/base.py:462: DataConversionWarning: Data with input dtype int64 were all converted to float64 by StandardScaler.\n",
      "  return self.fit(X, **fit_params).transform(X)\n"
     ]
    }
   ],
   "source": [
    "# Use Ridge regression to reduce overfitting\n",
    "# /scrub/\n",
    "\n",
    "print(my_cv_score(linreg, X, y))\n",
    "      \n",
    "ridge = Ridge(alpha=500)\n",
    "X_scaled = scaler.fit_transform(X)\n",
    "print(my_cv_score(ridge, X_scaled, y))"
   ]
  },
  {
   "cell_type": "code",
   "execution_count": 63,
   "metadata": {},
   "outputs": [
    {
     "name": "stderr",
     "output_type": "stream",
     "text": [
      "/Users/gGandenberger/anaconda3/envs/ga/lib/python3.7/site-packages/sklearn/preprocessing/data.py:625: DataConversionWarning: Data with input dtype int64 were all converted to float64 by StandardScaler.\n",
      "  return self.partial_fit(X, y)\n",
      "/Users/gGandenberger/anaconda3/envs/ga/lib/python3.7/site-packages/sklearn/base.py:462: DataConversionWarning: Data with input dtype int64 were all converted to float64 by StandardScaler.\n",
      "  return self.fit(X, **fit_params).transform(X)\n",
      "100%|██████████| 201/201 [00:03<00:00, 57.63it/s]\n"
     ]
    }
   ],
   "source": [
    "# Measure training-set and test performance at different levels of alpha\n",
    "# /scrub/\n",
    "X_scale = scaler.fit_transform(X)\n",
    "scores = [(alpha, *my_cv_score(Ridge(alpha=alpha), X_scale, y))\n",
    "          for alpha in tqdm(np.linspace(1, 2001, 201))]"
   ]
  },
  {
   "cell_type": "code",
   "execution_count": 64,
   "metadata": {},
   "outputs": [
    {
     "data": {
      "text/html": [
       "<div>\n",
       "<style scoped>\n",
       "    .dataframe tbody tr th:only-of-type {\n",
       "        vertical-align: middle;\n",
       "    }\n",
       "\n",
       "    .dataframe tbody tr th {\n",
       "        vertical-align: top;\n",
       "    }\n",
       "\n",
       "    .dataframe thead th {\n",
       "        text-align: right;\n",
       "    }\n",
       "</style>\n",
       "<table border=\"1\" class=\"dataframe\">\n",
       "  <thead>\n",
       "    <tr style=\"text-align: right;\">\n",
       "      <th></th>\n",
       "      <th>alpha</th>\n",
       "      <th>train</th>\n",
       "      <th>test</th>\n",
       "    </tr>\n",
       "  </thead>\n",
       "  <tbody>\n",
       "    <tr>\n",
       "      <th>0</th>\n",
       "      <td>1.0</td>\n",
       "      <td>0.778856</td>\n",
       "      <td>0.730847</td>\n",
       "    </tr>\n",
       "    <tr>\n",
       "      <th>1</th>\n",
       "      <td>11.0</td>\n",
       "      <td>0.778820</td>\n",
       "      <td>0.731823</td>\n",
       "    </tr>\n",
       "    <tr>\n",
       "      <th>2</th>\n",
       "      <td>21.0</td>\n",
       "      <td>0.778735</td>\n",
       "      <td>0.732671</td>\n",
       "    </tr>\n",
       "    <tr>\n",
       "      <th>3</th>\n",
       "      <td>31.0</td>\n",
       "      <td>0.778611</td>\n",
       "      <td>0.733413</td>\n",
       "    </tr>\n",
       "    <tr>\n",
       "      <th>4</th>\n",
       "      <td>41.0</td>\n",
       "      <td>0.778456</td>\n",
       "      <td>0.734066</td>\n",
       "    </tr>\n",
       "  </tbody>\n",
       "</table>\n",
       "</div>"
      ],
      "text/plain": [
       "   alpha     train      test\n",
       "0    1.0  0.778856  0.730847\n",
       "1   11.0  0.778820  0.731823\n",
       "2   21.0  0.778735  0.732671\n",
       "3   31.0  0.778611  0.733413\n",
       "4   41.0  0.778456  0.734066"
      ]
     },
     "execution_count": 64,
     "metadata": {},
     "output_type": "execute_result"
    }
   ],
   "source": [
    "# Put scores into a DataFrame\n",
    "# /scrub/\n",
    "scores_df = pd.DataFrame(scores, columns=['alpha', 'train', 'test'])\n",
    "scores_df.head()"
   ]
  },
  {
   "cell_type": "markdown",
   "metadata": {},
   "source": [
    "As we increase $\\alpha$, training-set performance will decrease but test-set performance will often increase, then decrease."
   ]
  },
  {
   "cell_type": "code",
   "execution_count": 65,
   "metadata": {},
   "outputs": [
    {
     "data": {
      "image/png": "[encoded data removed]",
      "text/plain": [
       "<Figure size 432x288 with 1 Axes>"
      ]
     },
     "metadata": {
      "needs_background": "light"
     },
     "output_type": "display_data"
    }
   ],
   "source": [
    "# Plot scores, with a vertical line at the best alpha\n",
    "# /scrub/\n",
    "ax = scores_df.plot(x='alpha')\n",
    "ax.axvline(scores_df.loc[scores_df.loc[:, 'test'].idxmax(), 'alpha']);"
   ]
  },
  {
   "cell_type": "markdown",
   "metadata": {},
   "source": [
    "We can see how increasing $\\alpha$ causes Ridge regression to choose smaller coefficient values."
   ]
  },
  {
   "cell_type": "code",
   "execution_count": 66,
   "metadata": {},
   "outputs": [
    {
     "data": {
      "image/png": "[encoded data removed]",
      "text/plain": [
       "<Figure size 432x288 with 1 Axes>"
      ]
     },
     "metadata": {
      "needs_background": "light"
     },
     "output_type": "display_data"
    }
   ],
   "source": [
    "# Plot Ridge coefficients against alpha \n",
    "# /scrub/\n",
    "coefs = [Ridge(alpha=alpha).fit(X, y).coef_ for alpha in np.linspace(1, 2000, 100)]\n",
    "coefs_df = pd.DataFrame(coefs)\n",
    "coefs_df.plot(legend=False);"
   ]
  },
  {
   "cell_type": "markdown",
   "metadata": {},
   "source": [
    "### Lasso Regression"
   ]
  },
  {
   "cell_type": "markdown",
   "metadata": {},
   "source": [
    "Lasso regression is similar to Ridge regression, but it uses the sum of the absolute values of the coefficients as its penalty term instead of the sum of squares."
   ]
  },
  {
   "cell_type": "markdown",
   "metadata": {},
   "source": [
    "One consequence of this difference is that Lasson regression will take coefficients all the way to zero, while Ridge regression will not."
   ]
  },
  {
   "cell_type": "code",
   "execution_count": 67,
   "metadata": {},
   "outputs": [
    {
     "data": {
      "image/png": "[encoded data removed]",
      "text/plain": [
       "<Figure size 432x288 with 1 Axes>"
      ]
     },
     "metadata": {
      "needs_background": "light"
     },
     "output_type": "display_data"
    }
   ],
   "source": [
    "# Plot Lasso coefficients against alpha \n",
    "# /scrub/\n",
    "from sklearn.linear_model import Lasso\n",
    "\n",
    "coefs = [Lasso(alpha=alpha).fit(X, y).coef_ for alpha in np.linspace(1, 2000, 100)]\n",
    "coefs_df = pd.DataFrame(coefs)\n",
    "coefs_df.plot(legend=False);"
   ]
  },
  {
   "cell_type": "markdown",
   "metadata": {},
   "source": [
    "Lasso minimizes $SSE + \\alpha \\sum{|\\beta_i|}$, where $SSE$ is the sum of squared errors."
   ]
  },
  {
   "cell_type": "markdown",
   "metadata": {},
   "source": [
    "Using squared coefficients as a penalty term as in Ridge regression is called **$L_2$ regularization**, while using absolute values of coefficients as in Lasso is called **$L_1$ regularization**."
   ]
  },
  {
   "cell_type": "markdown",
   "metadata": {},
   "source": [
    "### Ridge or Lasso?"
   ]
  },
  {
   "cell_type": "markdown",
   "metadata": {},
   "source": [
    "If you only care about predictive accuracy, you can try both Lasso and Ridge regression and see which one works better."
   ]
  },
  {
   "cell_type": "markdown",
   "metadata": {},
   "source": [
    "If you also prefer a model that is easier to interpret and maintain, then the fact that Lasso drops variables is a point in its favor."
   ]
  },
  {
   "cell_type": "markdown",
   "metadata": {},
   "source": [
    "There is also an **[elastic net](https://scikit-learn.org/stable/modules/generated/sklearn.linear_model.Ridge.html)** algorithm that uses both $L_1$ and $L_2$ penalties."
   ]
  },
  {
   "cell_type": "markdown",
   "metadata": {},
   "source": [
    "**Exercise (6 mins., in pairs)**"
   ]
  },
  {
   "cell_type": "markdown",
   "metadata": {},
   "source": [
    "- Measure training-set and test-set performance at various levels of alpha between 0 and 5000 for Lasso regression on the Ames housing dataset features we used above. Set `max_iter=10_000` when you instantiage the Lasso class to ensure that the algorithm converges."
   ]
  },
  {
   "cell_type": "code",
   "execution_count": 68,
   "metadata": {},
   "outputs": [
    {
     "name": "stderr",
     "output_type": "stream",
     "text": [
      "/Users/gGandenberger/anaconda3/envs/ga/lib/python3.7/site-packages/sklearn/preprocessing/data.py:625: DataConversionWarning: Data with input dtype int64 were all converted to float64 by StandardScaler.\n",
      "  return self.partial_fit(X, y)\n",
      "/Users/gGandenberger/anaconda3/envs/ga/lib/python3.7/site-packages/sklearn/base.py:462: DataConversionWarning: Data with input dtype int64 were all converted to float64 by StandardScaler.\n",
      "  return self.fit(X, **fit_params).transform(X)\n",
      "100%|██████████| 201/201 [00:06<00:00, 32.03it/s]\n"
     ]
    }
   ],
   "source": [
    "# /scrub/\n",
    "X_scale = scaler.fit_transform(X)\n",
    "scores = [(alpha, *my_cv_score(Lasso(alpha=alpha, max_iter=10_000), X_scale, y))\n",
    "          for alpha in tqdm(np.linspace(1, 5001, 201))]"
   ]
  },
  {
   "cell_type": "markdown",
   "metadata": {},
   "source": [
    "- Plot those scores as a function of $\\alpha$, with a vertical line indicating the best value for $\\alpha$."
   ]
  },
  {
   "cell_type": "code",
   "execution_count": 69,
   "metadata": {},
   "outputs": [
    {
     "data": {
      "text/plain": [
       "<matplotlib.lines.Line2D at 0x1a18aa0320>"
      ]
     },
     "execution_count": 69,
     "metadata": {},
     "output_type": "execute_result"
    },
    {
     "data": {
      "image/png": "[encoded data removed]",
      "text/plain": [
       "<Figure size 432x288 with 1 Axes>"
      ]
     },
     "metadata": {
      "needs_background": "light"
     },
     "output_type": "display_data"
    }
   ],
   "source": [
    "# /scrub/\n",
    "scores_df = pd.DataFrame(scores, columns=['alpha', 'train', 'test'])\n",
    "ax = scores_df.plot(x='alpha')\n",
    "ax.axvline(scores_df.loc[scores_df.loc[:, 'test'].idxmax(), 'alpha'])"
   ]
  },
  {
   "cell_type": "markdown",
   "metadata": {},
   "source": [
    "- What value for $\\alpha$ gave the best results?"
   ]
  },
  {
   "cell_type": "code",
   "execution_count": 70,
   "metadata": {},
   "outputs": [
    {
     "data": {
      "text/plain": [
       "1201.0"
      ]
     },
     "execution_count": 70,
     "metadata": {},
     "output_type": "execute_result"
    }
   ],
   "source": [
    "# /scrub/\n",
    "scores_df.loc[scores_df.loc[:, 'test'].idxmax(), 'alpha']"
   ]
  },
  {
   "cell_type": "markdown",
   "metadata": {},
   "source": [
    "$\\blacksquare$"
   ]
  },
  {
   "cell_type": "markdown",
   "metadata": {},
   "source": [
    "$L_1$ and $L_2$ regularization can also be used with other models than linear regression. For instance, scikit-learn supports them for [logistic regression](https://scikit-learn.org/stable/modules/generated/sklearn.linear_model.LogisticRegression.html), and [XGBoost](https://xgboost.readthedocs.io/en/latest/) incorporates them into decision tree ensembling."
   ]
  },
  {
   "cell_type": "markdown",
   "metadata": {},
   "source": [
    "## Summary"
   ]
  },
  {
   "cell_type": "markdown",
   "metadata": {},
   "source": [
    "- The surest way to address overfitting is to get more data. When getting more data is not an option, you can try feature selection, dimensionality reduction, and regularization.\n",
    "- Feature selection can yield good predictive performance, is easy to understand, and yields simpler models.\n",
    "- Dimensionality reduction, for instance with PCA, can yield better predictive performance by giving the model more information to work with at a given degree of complexity. However, it is harder to understand and typically yields uninterpretable models.\n",
    "- Regularization can be thought of as a continuous generalization of feature selection: it nudges all coefficients toward zero rather than setting some of them fully to zero without affecting the others. It can drop some variables entirely when used with an $L_1$ penalty, but not with an $L_2$ penalty."
   ]
  }
 ],
 "metadata": {
  "kernelspec": {
   "display_name": "Python 3",
   "language": "python",
   "name": "python3"
  },
  "language_info": {
   "codemirror_mode": {
    "name": "ipython",
    "version": 3
   },
   "file_extension": ".py",
   "mimetype": "text/x-python",
   "name": "python",
   "nbconvert_exporter": "python",
   "pygments_lexer": "ipython3",
   "version": "3.6.8"
  }
 },
 "nbformat": 4,
 "nbformat_minor": 2
}
