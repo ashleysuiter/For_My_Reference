{
 "cells": [
  {
   "cell_type": "markdown",
   "metadata": {},
   "source": [
    "<img src=\"http://imgur.com/1ZcRyrc.png\" style=\"float: left; margin: 20px; height: 55px\">\n",
    "\n",
    "# Python Development Environments\n",
    "\n",
    "_Authors: Kiefer Katovich (San Francisco), Dave Yerrington (San Francisco), Sam Stack (Washington, D.C.) _"
   ]
  },
  {
   "cell_type": "markdown",
   "metadata": {},
   "source": [
    "To work in a programming language such as Python, you need a way to write text files and way to execute them. Your options largely fall into the following categories:\n",
    "\n",
    "- REPL\n",
    "- Notebook\n",
    "- Text editor + Terminal\n",
    "- IDE"
   ]
  },
  {
   "cell_type": "markdown",
   "metadata": {},
   "source": [
    "## REPL\n",
    "\n",
    "In your terminal, you can enter into a Python shell by simply typing `python`.\n",
    "\n",
    "Within the Python shell, we can execute Python expressions.\n",
    "\n",
    "```python\n",
    ">>> # assigning a variable\n",
    ">>> x = 'hello world'\n",
    "\n",
    ">>> # printing a variables contents\n",
    ">>> print(x)\n",
    "hello world\n",
    "```\n",
    "\n",
    "This environment is called a Read-Evaluate-Print Loop (REPL) because it repeatedly reads code, evaluates it, and prints the result to the console.\n",
    "\n",
    "The Anaconda distribution of Python comes with a much nicer REPL called `ipython`, which provides syntax highlighting and better support for multi-line code blocks.\n",
    "\n",
    "**Pros:**\n",
    "\n",
    "- Easy to start up.\n",
    "- Provides immediate feedback.\n",
    "\n",
    "**Cons:**\n",
    "\n",
    "- Ugly\n",
    "- Lacks many of the conveniences of a good text editor, especially for multi-line code blocks.\n",
    "- Doesn't naturally provide a clean record of the steps you performed.\n",
    "\n",
    "**Overall:** Useful for quickly testing simple procedures."
   ]
  },
  {
   "cell_type": "markdown",
   "metadata": {},
   "source": [
    "## Notebook\n",
    "\n",
    "A notebook is basically a nicer interface layer on top of a REPL. In fact, Jupyter Notebook uses the `ipython` REPL behind the scenes. (JupyterLab is a newer interface layer that supports terminal and text editor panes as well as notebooks.)\n",
    "\n",
    "**Examples:**\n",
    "\n",
    "- Jupyter (by far the most popular for data science)\n",
    "- Zeppelin (next most popular, good for collaborative work)\n",
    "\n",
    "**Pros:**\n",
    "\n",
    "- Provides immediate feedback.\n",
    "- Provides flexibility in how you execute code, including editing code and re-running it.\n",
    "- Allows you to mix Markdown cells and various kinds of media with Python code.\n",
    "\n",
    "**Cons:**\n",
    "\n",
    "- It is difficult to ensure that your work is reproducible because of the flexibility in code execution.\n",
    "- Can't be deployed directly.\n",
    "- Do not work well with version control systems because notebook files contain output and metadata in addition to code.\n",
    "\n",
    "**Overall:** Notebooks are fantastic for *exploratory work at the beginning of a project* and *technical presentations at the end of a project*. They generally are not good for holding the final code that will actually be deployed."
   ]
  },
  {
   "cell_type": "markdown",
   "metadata": {},
   "source": [
    "## Text Editor + Terminal\n",
    "\n",
    "You can use a text editor to edit text files containing Python code and then execute those files from the terminal using a command like the following:\n",
    "\n",
    "```bash\n",
    "python foo.py\n",
    "```\n",
    "\n",
    "Microsoft Word and Google Docs are **not** text editors. They operate on files that are stored in proprietary formats that encode a lot of information e.g. about formatting in addition to the text itself. By contrast, a text editor works on **plain text files** where the content of the file just is the text that you see when you open it.\n",
    "\n",
    "**Examples:**\n",
    "\n",
    "Too simple for serious coding work:\n",
    "\n",
    "- nano\n",
    "- Notepad (Windows)\n",
    "- textEdit (Mac)\n",
    "\n",
    "Beginner-friendly yet powerful:\n",
    "\n",
    "- Atom\n",
    "- Sublime Text\n",
    "- Visual Studio Code\n",
    "\n",
    "Extremely powerful, with serious learning curves:\n",
    "\n",
    "- Vim (see [\"How to Exit the Vim Editor\"](https://stackoverflow.com/questions/11828270/how-to-exit-the-vim-editor))\n",
    "- Emacs\n",
    "\n",
    "**Pros:**\n",
    "\n",
    "- A good code editor will provide many useful features such as syntax highlighting, multiselect, and keyboard shortcuts e.g. for deleting an entire line at once.\n",
    "- Python source code files can be deployed. They can be written to take command-line arguments to vary their inputs, and standard tools can run them automatically using the appropriate shell commands.\n",
    "- Python source code files are typically highly reproducible.\n",
    "- Python source code files work well with version control systems.\n",
    "- Text editors that run inside the Terminal are very convenient to access.\n",
    "\n",
    "**Cons:**\n",
    "\n",
    "- Lack of interactivity can be a challenge in exploratory work.\n",
    "- Going back and forth between a text editor and a Terminal is a bit of a nuisance.\n",
    "- Text editors lack some of the advanced features that full-fledged IDEs provide."
   ]
  },
  {
   "cell_type": "markdown",
   "metadata": {},
   "source": [
    "## IDE\n",
    "\n",
    "An Integrated Development Environment (IDE) aims to provide everything you need to develop and execute code in a single program.\n",
    "\n",
    "**Examples:**\n",
    "\n",
    "- Spyder (comes with Anaconda, aimed at data scientists, resembles Matlab)\n",
    "- Rodeo (aimed at data scientists, resembles RStudio)\n",
    "- PyCharm/IntelliJ with Python plugin (aimed at package developers)\n",
    "\n",
    "**Pros:**\n",
    "\n",
    "- Provides all the advantages of a text editor listed above, except that no IDE runs inside the Terminal.\n",
    "- Allows you to execute code inside the same program you use to create it.\n",
    "- May provide advanced support for projects, e.g. allowing you to change the name of a function across multiple files all at once.\n",
    "- May provide additional features such as interactive debugging and code profiling.\n",
    "\n",
    "**Cons:**\n",
    "\n",
    "- Takes up a lot of disk space.\n",
    "- Slow to start up.\n",
    "- Steeper initial learning curve than a typical text editor.\n",
    "- Especially for beginners, there is a risk of becoming dependent on a specific IDE."
   ]
  },
  {
   "cell_type": "markdown",
   "metadata": {
    "toc-hr-collapsed": true
   },
   "source": [
    "## My Opinionated Advice\n",
    "\n",
    "- For this course, just use Jupyter Lab.\n",
    "- When you want greater reproducibility, start creating .py files in a code editor or lightweight, data science-friendly IDE. Continue using JupyterLab for exploratory work.\n",
    "- When you are comfortable working with Python source code files and want to move from writing individual scripts to developing packages, move to PyCharm. Continue using JupyterLab for exploratory work and a lighter-weight code editor for individual scripts.\n",
    "- At some point, try Vim and Emacs. If you like their key bindings but want the modern features of a different text editor or IDE, see if that other program provides a vim/emacs mode."
   ]
  }
 ],
 "metadata": {
  "kernelspec": {
   "display_name": "Python 3",
   "language": "python",
   "name": "python3"
  },
  "language_info": {
   "codemirror_mode": {
    "name": "ipython",
    "version": 3
   },
   "file_extension": ".py",
   "mimetype": "text/x-python",
   "name": "python",
   "nbconvert_exporter": "python",
   "pygments_lexer": "ipython3",
   "version": "3.6.8"
  }
 },
 "nbformat": 4,
 "nbformat_minor": 2
}
