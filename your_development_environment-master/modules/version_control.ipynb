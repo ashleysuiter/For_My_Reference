{
 "cells": [
  {
   "cell_type": "markdown",
   "metadata": {
    "toc-hr-collapsed": false
   },
   "source": [
    "<img src=\"http://imgur.com/1ZcRyrc.png\" style=\"float: left; margin: 20px; height: 55px\">\n",
    "\n",
    "# Version Control\n",
    "\n",
    "_Authors: Kiefer Katovich (San Francisco), Dave Yerrington (San Francisco), Sam Stack (Washington, D.C.) _"
   ]
  },
  {
   "cell_type": "markdown",
   "metadata": {},
   "source": [
    "\"Version control by filename\" is better than nothing, but it has downsides that will be familiar:\n",
    "\n",
    "![](../assets/images/version_control_by_filename.png)\n",
    "\n",
    "We can do better."
   ]
  },
  {
   "cell_type": "markdown",
   "metadata": {
    "toc-hr-collapsed": true
   },
   "source": [
    "## Demo"
   ]
  },
  {
   "cell_type": "markdown",
   "metadata": {},
   "source": [
    "### Creating Our First Commit"
   ]
  },
  {
   "cell_type": "markdown",
   "metadata": {},
   "source": [
    "I wrote a Python script that allows you to set a timer to run for a specified number of hours, minutes, and seconds:\n",
    "\n",
    "```python\n",
    "import argparse\n",
    "\n",
    "import time\n",
    "\n",
    "from tqdm import tqdm\n",
    "\n",
    "\n",
    "def main(args):\n",
    "    num_seconds = 60**2 * args['hours'] + 60 * args['minutes'] + args['seconds']\n",
    "    for i in tqdm(range(num_seconds)):\n",
    "        time.sleep(1)\n",
    "    beep()\n",
    "\n",
    "\n",
    "def beep():\n",
    "    for _ in range(3):\n",
    "        for _ in range(3):\n",
    "            print('\\a')\n",
    "            time.sleep(.1)\n",
    "        time.sleep(.5)\n",
    "\n",
    "\n",
    "def _parse_args():\n",
    "    parser = argparse.ArgumentParser()\n",
    "    parser.add_argument('-r', '--hours', required=False, default=0, type=int)\n",
    "    parser.add_argument('-m', '--minutes', required=False, default=0, type=int)\n",
    "    parser.add_argument('-s', '--seconds', required=False, default=0, type=int)\n",
    "    args = vars(parser.parse_args())\n",
    "    return args\n",
    "\n",
    "\n",
    "if __name__ == '__main__':\n",
    "    args = _parse_args()\n",
    "    main(args)\n",
    "```"
   ]
  },
  {
   "cell_type": "markdown",
   "metadata": {},
   "source": [
    "Let's put this script into a file `timer.py` in a new directory and initialize a Git repository there:\n",
    "\n",
    "```bash\n",
    "git init\n",
    "```"
   ]
  },
  {
   "cell_type": "markdown",
   "metadata": {},
   "source": [
    "We can also create a snapshot \"commit\" of the initial state of our file. We do so in two steps:\n",
    "\n",
    "1. Add the file to the \"staging area\":\n",
    "\n",
    "```bash\n",
    "git add timer.py\n",
    "```\n",
    "\n",
    "2. Create a snapshot of the changes called a \"commit\":\n",
    "\n",
    "```bash\n",
    "git commit -m \"Initial commit\"\n",
    "```\n",
    "\n",
    "The `-m \"Initial commit\"` part of this command attaches the message \"Initial commit\" to the snapshot. When we make changes in future commits, we will provide messages that indicate what changed."
   ]
  },
  {
   "cell_type": "markdown",
   "metadata": {},
   "source": [
    "### Changing One File"
   ]
  },
  {
   "cell_type": "markdown",
   "metadata": {},
   "source": [
    "We are now ready to track changes to this script."
   ]
  },
  {
   "cell_type": "markdown",
   "metadata": {},
   "source": [
    "Let's revise the script to allow millisecond rather than second precision:\n",
    "\n",
    "```python\n",
    "import argparse\n",
    "\n",
    "import time\n",
    "\n",
    "from tqdm import tqdm\n",
    "\n",
    "\n",
    "def main(args):\n",
    "    num_seconds = 1000*(60**2 * args['hours'] + 60 * args['minutes'] + args['seconds']) + args['milliseconds']\n",
    "    for i in tqdm(range(num_seconds)):\n",
    "        time.sleep(1/1000)\n",
    "    beep()\n",
    "\n",
    "\n",
    "def beep():\n",
    "    for _ in range(3):\n",
    "        for _ in range(3):\n",
    "            print('\\a')\n",
    "            time.sleep(.1)\n",
    "        time.sleep(.5)\n",
    "\n",
    "\n",
    "def _parse_args():\n",
    "    parser = argparse.ArgumentParser()\n",
    "    parser.add_argument('-r', '--hours', required=False, default=0, type=int)\n",
    "    parser.add_argument('-m', '--minutes', required=False, default=0, type=int)\n",
    "    parser.add_argument('-s', '--seconds', required=False, default=0, type=int)\n",
    "    parser.add_argument('-i', '--milliseconds', required=False, default=0, type=int)\n",
    "    args = vars(parser.parse_args())\n",
    "    return args\n",
    "\n",
    "\n",
    "if __name__ == '__main__':\n",
    "    args = _parse_args()\n",
    "    main(args)\n",
    "```"
   ]
  },
  {
   "cell_type": "markdown",
   "metadata": {},
   "source": [
    "This command tells us what has changed:\n",
    "\n",
    "```bash\n",
    "git status\n",
    "```"
   ]
  },
  {
   "cell_type": "markdown",
   "metadata": {},
   "source": [
    "To make a commit of the changes, we run the same two steps as above:\n",
    "\n",
    "1. Add the file to the staging area:\n",
    "\n",
    "```bash\n",
    "git add timer.py\n",
    "```\n",
    "\n",
    "2. Create a new commit with a descriptive message:\n",
    "\n",
    "```bash\n",
    "git commit -m \"Use millisecond precision\"\n",
    "```"
   ]
  },
  {
   "cell_type": "markdown",
   "metadata": {},
   "source": [
    "This command shows us the history of our commits:\n",
    "\n",
    "```bash\n",
    "git log\n",
    "```"
   ]
  },
  {
   "cell_type": "markdown",
   "metadata": {},
   "source": [
    "### Rolling Back One Commit"
   ]
  },
  {
   "cell_type": "markdown",
   "metadata": {},
   "source": [
    "We can use this command to roll back our changes, replacing `<git hash>` with the sequence of characters shown with the commit when we run `git log`:\n",
    "\n",
    "```bash\n",
    "git revert <git hash>\n",
    "```"
   ]
  },
  {
   "cell_type": "markdown",
   "metadata": {},
   "source": [
    "### Changing Two Files"
   ]
  },
  {
   "cell_type": "markdown",
   "metadata": {},
   "source": [
    "Suppose we wanted to reorganize our code by moving the function `beep` to a separate file `util.py`."
   ]
  },
  {
   "cell_type": "markdown",
   "metadata": {},
   "source": [
    "The revised `timer.py`:\n",
    "\n",
    "```python\n",
    "import argparse\n",
    "\n",
    "import time\n",
    "\n",
    "from tqdm import tqdm\n",
    "\n",
    "from util import beep\n",
    "\n",
    "\n",
    "def main(args):\n",
    "    num_seconds = 1000*(60**2 * args['hours'] + 60 * args['minutes'] + args['seconds']) + args['milliseconds']\n",
    "    for i in tqdm(range(num_seconds)):\n",
    "        time.sleep(1/1000)\n",
    "    beep()\n",
    "\n",
    "\n",
    "def _parse_args():\n",
    "    parser = argparse.ArgumentParser()\n",
    "    parser.add_argument('-r', '--hours', required=False, default=0, type=int)\n",
    "    parser.add_argument('-m', '--minutes', required=False, default=0, type=int)\n",
    "    parser.add_argument('-s', '--seconds', required=False, default=0, type=int)\n",
    "    parser.add_argument('-i', '--milliseconds', required=False, default=0, type=int)\n",
    "    args = vars(parser.parse_args())\n",
    "    return args\n",
    "\n",
    "\n",
    "if __name__ == '__main__':\n",
    "    args = _parse_args()\n",
    "    main(args)\n",
    "```\n",
    "\n",
    "The new file `util.py`:\n",
    "\n",
    "```python\n",
    "import time\n",
    "\n",
    "\n",
    "def beep():\n",
    "    for _ in range(3):\n",
    "        for _ in range(3):\n",
    "            print('\\a')\n",
    "            time.sleep(.1)\n",
    "        time.sleep(.5)\n",
    "```"
   ]
  },
  {
   "cell_type": "markdown",
   "metadata": {},
   "source": [
    "1. Add the file to the staging area:\n",
    "\n",
    "```bash\n",
    "git add timer.py util.py\n",
    "```\n",
    "\n",
    "2. Create a new commit with a descriptive message:\n",
    "\n",
    "```bash\n",
    "git commit -m \"Move beep to a separate file\"\n",
    "```"
   ]
  },
  {
   "cell_type": "markdown",
   "metadata": {
    "toc-hr-collapsed": false
   },
   "source": [
    "## How Git Works\n",
    "\n",
    "- The **working directory** stores the current state of the files in your repository on your hard drive.\n",
    "- A **git commit** is a record of selected changes in your working directory that have occurred since the previous commit.\n",
    "- When you are ready to capture some set of changes, you first add them to the **staging area** and then commit them."
   ]
  },
  {
   "cell_type": "markdown",
   "metadata": {},
   "source": [
    "## Why Is It So Complicated?\n",
    "\n",
    "Google Docs takes snapshots of your files automatically and allows you to roll back to those snapshots. Why not use that approach with code?\n",
    "\n",
    "- Automatic snapshots would not work well because code is usually broken while it is being edited.\n",
    "- File-level histories would not work well because changes often need to be coordinated across files (e.g. when we moved `beep` from `timer.py` to `util.py`). Using a \"staging area\" allows us to include exactly the files whose changes we want to capture in a given commit.\n",
    "- In addition, Git allows you to create \"branches\" where you can work on a feature separately from other features and from the stable code on your main `master` branch until that feature is ready. Multiple people who are working on the same repo can use \"pull requests\" to review each other's changes on their branches before \"merging\" them into the `master` branch. You will not need to work with branches or pull requests in this course."
   ]
  },
  {
   "cell_type": "markdown",
   "metadata": {
    "toc-hr-collapsed": true
   },
   "source": [
    "## GitHub"
   ]
  },
  {
   "cell_type": "markdown",
   "metadata": {},
   "source": [
    "### What is GitHub?\n",
    "\n",
    "[GitHub](https://github.com/) is:\n",
    "\n",
    "- A hosting service for Git repositories.\n",
    "- A web interface to explore Git repositories.\n",
    "- A social network of programmers."
   ]
  },
  {
   "cell_type": "markdown",
   "metadata": {},
   "source": [
    "### What is GitHub Enterprise (GHE)?\n",
    "[GitHub Enterprise](https://enterprise.github.com/home) is essentially GitHub with some adiditional privacy, security, and administrative features that make it easier for large organizations to manage their code."
   ]
  },
  {
   "cell_type": "markdown",
   "metadata": {},
   "source": [
    "### For This Course\n",
    "\n",
    "Course materials are hosted on GitHub Enterprise. You will need a GitHub Enterprise account to access them. You should not need to use Git to manage changes to these materials.\n",
    "\n",
    "Each of your projects will live inside a Git repository on your local machine. You will also post it to GitHub. To do so, you will need a GitHub account that is separate from your GitHub Enterprise account."
   ]
  },
  {
   "cell_type": "markdown",
   "metadata": {
    "toc-hr-collapsed": false
   },
   "source": [
    "## Code-Along"
   ]
  },
  {
   "cell_type": "markdown",
   "metadata": {
    "toc-hr-collapsed": true
   },
   "source": [
    "### Git"
   ]
  },
  {
   "cell_type": "markdown",
   "metadata": {},
   "source": [
    "#### Configure Git\n",
    "\n",
    "If you haven't yet used Git on your machine, you will need to configure it. Run these commands with your own username and email address:\n",
    "\n",
    "```bash\n",
    "git config --global user.name \"John Doe\"\n",
    "git config --global user.email \"your_email@example.com\"\n",
    "```"
   ]
  },
  {
   "cell_type": "markdown",
   "metadata": {},
   "source": [
    "#### Initialize a Git Repo\n",
    "\n",
    "First, create a directory on your Desktop.\n",
    "\n",
    "```bash\n",
    "$ cd ~/Desktop\n",
    "$ mkdir hello-world\n",
    "```\n",
    "\n",
    "You can place this directory under Git revision control using the following command:\n",
    "\n",
    "```bash\n",
    "$ cd hello-world      # don't forget to CD into the folder.\n",
    "$ git init\n",
    "```\n",
    "\n",
    "Git will reply:\n",
    "\n",
    "```bash\n",
    "Initialized empty Git repository in <location>\n",
    "```\n",
    "\n",
    "You've now initialized the working directory."
   ]
  },
  {
   "cell_type": "markdown",
   "metadata": {},
   "source": [
    "#### The .git folder\n",
    "\n",
    "We can look at the contents of this empty folder using this command:\n",
    "\n",
    "```bash\n",
    "ls -a\n",
    "```\n",
    "\n",
    "We should see that there is now a hidden folder called `.git`. This is where all of the information about your repository is stored. You should not touch this folder; this `git` program will manage it for you."
   ]
  },
  {
   "cell_type": "markdown",
   "metadata": {},
   "source": [
    "#### Add a file\n",
    "\n",
    "Let's create a new file.\n",
    "\n",
    "```bash\n",
    "$ touch a.txt\n",
    "```\n",
    "\n",
    "If we run `git status`, we should get:\n",
    "\n",
    "```bash\n",
    "On branch master\n",
    "\n",
    "Initial commit\n",
    "\n",
    "Untracked files:\n",
    "  (use \"git add <file>...\" to include in what will be committed)\n",
    "\n",
    "\ta.txt\n",
    "\n",
    "nothing added to commit but untracked files present (use \"git add\" to track)\n",
    "```\n",
    "\n",
    "This means that there is a new, **untracked** file. Next, tell Git to add `a.txt` to the staging area, ready to be committed.\n",
    "\n",
    "```bash\n",
    "$ git add a.txt\n",
    "```\n",
    "\n",
    "To confirm the file is staged and ready to be committed, again run `git status`.\n",
    "\n",
    "You can alternatively add _all_ new and modified files at once using the command below. This is not recommended, because you can accidentally add extra files if you are not careful! However, sometimes it is useful if you are adding many files at once and carefully use `git status` for verification.\n",
    "\n",
    "```bash\n",
    "$ git add .\n",
    "```"
   ]
  },
  {
   "cell_type": "markdown",
   "metadata": {},
   "source": [
    "#### Commit\n",
    "\n",
    "To permanently store the contents of the staging area in the repository, you need to run the following command:\n",
    "\n",
    "```bash\n",
    "$ git commit -m \"Create a.txt\"\n",
    "```\n",
    "\n",
    "You should now get something like the following:\n",
    "\n",
    "```bash\n",
    "[master (root-commit) 6dd2a9c] Create a.txt\n",
    " 1 file changed, 0 insertions(+), 0 deletions(-)\n",
    " create mode 100644 a.txt\n",
    "```"
   ]
  },
  {
   "cell_type": "markdown",
   "metadata": {
    "toc-hr-collapsed": false
   },
   "source": [
    "#### Check the Log\n",
    "\n",
    "If we want to view the commit history, we can run:\n",
    "\n",
    "```bash\n",
    "git log\n",
    "```\n",
    "\n",
    "As a result, you should see something like this:\n",
    "\n",
    "```bash\n",
    "commit 6dd2a9c3a185ea4ced6ab137b708daeac86e583a (HEAD -> master)\n",
    "Author: gsganden <greg@gandenberger.org>\n",
    "Date:   Sun Apr 15 21:07:18 2018 -0500\n",
    "\n",
    "    Create a.txt\n",
    "```"
   ]
  },
  {
   "cell_type": "markdown",
   "metadata": {
    "toc-hr-collapsed": false
   },
   "source": [
    "### GitHub"
   ]
  },
  {
   "cell_type": "markdown",
   "metadata": {},
   "source": [
    "A repository on GitHub/GHE is called a **remote** repository. We can **clone** a remote repository to a local machine, creating a **local** repository, create new commits on the local repository, and then **push** those commits to GitHub/GHE. If any other changes are pushed to the remote repository, we can **pull** those changes down to our local repository to keep it up-to-date."
   ]
  },
  {
   "cell_type": "markdown",
   "metadata": {},
   "source": [
    "#### Create a Remote Repository"
   ]
  },
  {
   "cell_type": "markdown",
   "metadata": {},
   "source": [
    "**Let's do this together:**\n",
    "\n",
    "1. Go to your GitHub account.\n",
    "2. On the right-hand side, create a `New repository`.\n",
    "3. Name your repository `hello-world`.\n",
    "    - **DO NOT initialize the repository with a `README`, `.gitignore`, or license.**\n",
    "4. Click the big, green `Create Repository` button.\n",
    "\n",
    "We now need to connect our local Git repository with our newly created remote repository on GitHub. We have to add a \"remote\" repository, an address where we can send our local files to be stored.\n",
    "\n",
    "On the right-hand side of your GitHub there should be a green 'Clone or download' button. This button should reveal a tiny window with a URL.  Copy the provided URL, which is the path to this remote repo.  \n",
    "\n",
    "Make sure you changed directories into `hello-world` prior to running this command:\n",
    "\n",
    "```bash\n",
    "git remote add origin <url from GitHub>\n",
    "```"
   ]
  },
  {
   "cell_type": "markdown",
   "metadata": {},
   "source": [
    "#### Push to Your Remote Repository\n",
    "\n",
    "In order to send files from our local machine to our remote repository on GitHub, we need to use the command `git push`. However, you also need to add the name of the remote repo — in this case, we called it `origin` — and the name of the branch, in this case `master`.\n",
    "\n",
    "```bash\n",
    "git push -u origin master\n",
    "```\n",
    "\n",
    "Refresh your GitHub web page, and your files should appear.\n",
    "\n",
    "You only need to use the `-u` flag the first time you push a particular local branch to a particular remote repository. Git will then associate that local branch with the corresponding remote branch."
   ]
  },
  {
   "cell_type": "markdown",
   "metadata": {},
   "source": [
    "#### Create a File and Push Changes\n",
    "\n",
    "Let's create a `README.md` file and push it to GitHub! \n",
    "\n",
    "Any file ending with `.md` is a Markdown file -- a text file with optional [Markdown formatting](https://daringfireball.net/projects/markdown/syntax). On GitHub, the contents of the displayed directory's `README.md` is automatically displayed.\n",
    "\n",
    "Create a new `README.md` text file and add some text. (We'll try the command-line text editor `nano` this time!)\n",
    "\n",
    "```bash\n",
    "nano README.md\n",
    "```"
   ]
  },
  {
   "cell_type": "markdown",
   "metadata": {},
   "source": [
    "**Exercise (4 mins.)**\n",
    "\n",
    "Use the same procedure as before to:\n",
    "\n",
    "1. Add the new `README.md` file to the staging area.\n",
    "2. Verify the file is in the staging area, ready to be committed.\n",
    "3. Commit the file.\n",
    "4. Push the commits to GitHub.\n",
    "\n",
    "Refresh your GitHub web page, and the new `README.md` file should appear. Take a look underneath the directory tree, and its contents will be automatically displayed."
   ]
  },
  {
   "cell_type": "markdown",
   "metadata": {},
   "source": [
    "$\\blacksquare$"
   ]
  },
  {
   "cell_type": "markdown",
   "metadata": {},
   "source": [
    "#### Pull from GitHub\n",
    "\n",
    "On GitHub, click on README.md, then click on the pencil to edit the file. Make a few changes, then scroll to the bottom of the page, add a short message, and click \"Commit changes.\"\n",
    "\n",
    "Locally, we will need to `fetch` these changes and `merge` them with our local files. To do both of these steps at once, run the `pull` command:\n",
    "\n",
    "```bash\n",
    "git pull origin master\n",
    "```\n",
    "\n",
    "Use a Terminal command to confirm that your local file has changed."
   ]
  },
  {
   "cell_type": "markdown",
   "metadata": {},
   "source": [
    "#### Clone a Repository\n",
    "\n",
    "Use the Terminal to navigate back to your Desktop and **delete your `hello-world` repository**:\n",
    "\n",
    "```bash\n",
    "cd ..\n",
    "rm -r hello-world\n",
    "```\n",
    "\n",
    "Now go to *my* hello world repository on GitHub (https://www.github.com/gsganden/hello-world), click on Clone or Download, and use the URL there to *clone* the repository."
   ]
  },
  {
   "cell_type": "markdown",
   "metadata": {},
   "source": [
    "```bash\n",
    "$ git clone <URL>\n",
    "```\n",
    "\n",
    "Git should reply:\n",
    "\n",
    "```bash\n",
    "Cloning into 'hello-world'...\n",
    "remote: Counting objects: 3, done.\n",
    "remote: Total 3 (delta 0), reused 3 (delta 0), pack-reused 0\n",
    "Receiving objects: 100% (3/3), done.\n",
    "Checking connectivity... done.\n",
    "```\n",
    "\n",
    "Run `git log` to confirm that you have retrieved not only the files in my working directory, but also my Git history. By contrast, when you *download* a repository you get only its current state."
   ]
  },
  {
   "cell_type": "markdown",
   "metadata": {
    "toc-hr-collapsed": true
   },
   "source": [
    "## How we will use Git and GitHub in this class.\n",
    "\n",
    "I try to keep your interactions with Git and GitHub simple because I would rather focus on Python and machine learning in this course.\n",
    "\n",
    "You may download the course materials from GHE rather than cloning them. You should not have to do any additional git commands on them.\n",
    "\n",
    "You will need to put your project materials on GitHub, which requires initializing a local Git repository, creating commits, creating a remote GitHub repository, and pushing your commits to that remote repository. I would encourage you to work on using Git as you go along to make snapshots every time you do a significant amount of work, rather than leaving all of the Git commands until the end."
   ]
  },
  {
   "cell_type": "markdown",
   "metadata": {
    "toc-hr-collapsed": true
   },
   "source": [
    "## Lesson Review\n",
    "\n",
    "- The **working directory** stores the current state of the files in your repository on your hard drive.\n",
    "- A **git commit** is a record of selected changes in your working directory that have occurred since the previous commit.\n",
    "- When you are ready to capture some set of changes, you first add them to the **staging area** and then **commit them**.\n",
    "- You can also **clone** repositories on GitHub and **push** to and **pull** from them."
   ]
  }
 ],
 "metadata": {
  "kernelspec": {
   "display_name": "Python 3",
   "language": "python",
   "name": "python3"
  },
  "language_info": {
   "codemirror_mode": {
    "name": "ipython",
    "version": 3
   },
   "file_extension": ".py",
   "mimetype": "text/x-python",
   "name": "python",
   "nbconvert_exporter": "python",
   "pygments_lexer": "ipython3",
   "version": "3.6.8"
  }
 },
 "nbformat": 4,
 "nbformat_minor": 2
}
