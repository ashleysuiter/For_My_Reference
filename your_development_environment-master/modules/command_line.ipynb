{
 "cells": [
  {
   "cell_type": "markdown",
   "metadata": {
    "toc-hr-collapsed": false
   },
   "source": [
    "<img src=\"http://imgur.com/1ZcRyrc.png\" style=\"float: left; margin: 20px; height: 55px\">\n",
    "\n",
    "# Using the Command Line\n",
    "\n",
    "_Authors: Kiefer Katovich (San Francisco), Dave Yerrington (San Francisco), Sam Stack (Washington, D.C.) _"
   ]
  },
  {
   "cell_type": "markdown",
   "metadata": {
    "slideshow": {
     "slide_type": "slide"
    }
   },
   "source": [
    "##  What is a Command-Line Interface?\n",
    "\n",
    "A typical app has a **graphical user interface (GUI, pronounced \"gooey\")**: you interact with it via graphical elements such as menus and buttons.\n",
    "\n",
    "By contrast, you interact with a program that has a **command-line interface (CLI)** via text.\n",
    "\n",
    "GUIs make it easier to get started, but **CLIs provide greater flexibility**."
   ]
  },
  {
   "cell_type": "markdown",
   "metadata": {
    "slideshow": {
     "slide_type": "slide"
    },
    "toc-hr-collapsed": true
   },
   "source": [
    "## What Is a Shell?\n",
    "\n",
    "A **shell** is a program for interacting with your computer's operating system via a command-line interface.\n",
    "\n",
    "We use **Git Bash** on Windows and the **Terminal** on macOS to issue shell commands. We can also issue commands from inside a Jupyter notebook by placing `!` at the start of a code cell. For instance, this command lists the contents of the current directory:"
   ]
  },
  {
   "cell_type": "code",
   "execution_count": null,
   "metadata": {},
   "outputs": [],
   "source": [
    "!ls"
   ]
  },
  {
   "cell_type": "markdown",
   "metadata": {},
   "source": [
    "### Example"
   ]
  },
  {
   "cell_type": "markdown",
   "metadata": {},
   "source": [
    "When I started teaching for GA, someone had changed the names of all of the README files from `readme.md` to `README.md` without updating dozens of links that pointed to them."
   ]
  },
  {
   "cell_type": "markdown",
   "metadata": {},
   "source": [
    "Addressing this problem through a GUI text editor would have been tedious and error-prone. With a \"Bash\" shell, it required running one command."
   ]
  },
  {
   "cell_type": "markdown",
   "metadata": {},
   "source": [
    "Let's see what it would take to reverse this process -- changing each occurrance of `readme.md` with `README.md`. I don't expect you to follow every detail at this point -- I just want you to get a general idea for what this lesson is about."
   ]
  },
  {
   "cell_type": "markdown",
   "metadata": {},
   "source": [
    "1. Print the name of every file within the directory that contains the sequence of characters \"README.md\":"
   ]
  },
  {
   "cell_type": "code",
   "execution_count": null,
   "metadata": {},
   "outputs": [],
   "source": []
  },
  {
   "cell_type": "markdown",
   "metadata": {},
   "source": [
    "**Explanation:**\n",
    "\n",
    "- `grep` looks for specified text within files. Here I am telling it to look for \"README.md\" within `~/ga/lessons`, where `~` is an alias for my home directory. I need to write `README\\.md` rather than `README.md` because `grep` treats \".\" as a special wildcard character unless I use `\\` to indicate that I mean it as the literal \".\" symbol.\n",
    "- By default `grep` looks in a single file. However, the `-r` \"recursive\" flag tells `grep` to look at every file within the specified directory, and all of its subdirectories, and all of their subdirectories, and so on.\n",
    "- By default, `grep` would print every line in the specified set of files that contains the sequence of characters \"README.md\". The `-l` flag (here combined with `-r`) tells it to print out just the filenames instead.m"
   ]
  },
  {
   "cell_type": "markdown",
   "metadata": {},
   "source": [
    "3. Do a find-and-replace within one of those files:"
   ]
  },
  {
   "cell_type": "code",
   "execution_count": null,
   "metadata": {},
   "outputs": [],
   "source": []
  },
  {
   "cell_type": "markdown",
   "metadata": {},
   "source": [
    "**Explanation:**\n",
    "\n",
    "- `sed 's/original/new/'` replaces the first occurrence of \"original\" with \"new\" within a specified file and prints the result.\n",
    "- Adding \"g\" to the command tells it to do a \"global\" find-and-replace, replacing *every* occurrence of \"original\" with \"new\" instead of just the first.\n",
    "- Adding the flag `-i` would cause `sed` to do the replacement \"in-place,\" changing the file itself rather than just printing the result."
   ]
  },
  {
   "cell_type": "markdown",
   "metadata": {},
   "source": [
    "4. Here's where the magic happens: take the list of filenames we get from our `grep` command and pass it to our `sed` command."
   ]
  },
  {
   "cell_type": "code",
   "execution_count": null,
   "metadata": {},
   "outputs": [],
   "source": []
  },
  {
   "cell_type": "markdown",
   "metadata": {},
   "source": [
    "**Explanation:**\n",
    "\n",
    "- `|` \"pipes\" the output of the `grep` command forward, and `xargs` compiles that output into a list of arguments to pass to `sed`.\n",
    "- We are excluding special files in `.git` directories that should not be edited directly."
   ]
  },
  {
   "cell_type": "markdown",
   "metadata": {},
   "source": [
    "This example illustrates the power of the Bash shell, which is standard for Linux and macOS and which Git Bash emulates: it provides many relatively simple tools that can be chained together to perform complex tasks.\n",
    "\n",
    "We will not do anything so fancy in the rest of this lesson, but **we will work on getting comfortable with navigating through the file system in a Terminal and running basic commands with flags and file paths.**"
   ]
  },
  {
   "cell_type": "markdown",
   "metadata": {
    "slideshow": {
     "slide_type": "slide"
    },
    "toc-hr-collapsed": true
   },
   "source": [
    "\n",
    "## Paths\n",
    "\n",
    "We will refer often to the file system shown in the image below during this lesson. Right-click on the tab for this notebook and select \"New View for Notebook\" so that we can keep in view.\n",
    "\n",
    "<img src=\"../assets/images/file_tree.png\">\n",
    "\n",
    "In a typical file system, files and folders are organized hierarchically. You can refer to a file by specifying its location as either a **relative path** or an **absolute path**.\n",
    "\n",
    "**Note:** I will use the term \"directory\" interchangeably with \"folder.\""
   ]
  },
  {
   "cell_type": "markdown",
   "metadata": {
    "slideshow": {
     "slide_type": "slide"
    }
   },
   "source": [
    "### Absolute Paths\n",
    "\n",
    "An absolute path specifies a file or folder's position starting at the **root directory**, typically shown as `/`. For instance, the file `drinks.csv` in the example above has the absolute path `/Users/gGandenberger/ga/lessons/exploratory_data_analysis_in_pandas/assets/data/drinks.csv`. I can print its contents by applying the `cat` command to it:\n",
    "\n",
    "```bash\n",
    "cat /Users/gGandenberger/ga/lessons/exploratory_data_analysis_in_pandas/assets/data/drinks.csv\n",
    "```\n",
    "\n",
    "**Notes**\n",
    "\n",
    "- **A user's home directory is not the same as the root directory.** Typically your **home** directory is at `/Users/[Your Username]`. For instance, mine is at `/Users/gGandenberger`.\n",
    "- Windows uses backslashes \"`\\`\" instead of forward slashes \"`/`\" in paths natively, but Git Bash on Windows uses forward slashes."
   ]
  },
  {
   "cell_type": "markdown",
   "metadata": {
    "slideshow": {
     "slide_type": "slide"
    }
   },
   "source": [
    "### Relative Paths\n",
    "\n",
    "A relative path specifies how to get to a file or folder from your current position in the file system, called the **working directory**. For instance, if we are in the home directory `/Users/gGandenberger` and we want to print the contents of `drinks.csv`, we could use this command:\n",
    "\n",
    "```bash\n",
    "cat ga/lessons/exploratory_data_analysis_in_pandas/assets/data/drinks.csv\n",
    "```\n",
    "\n",
    "or\n",
    "\n",
    "```bash\n",
    "cat ./ga/lessons/exploratory_data_analysis_in_pandas/assets/data/drinks.csv\n",
    "```\n",
    "\n",
    "(`.` always refers to the current directory.)\n",
    "\n",
    "Notice that **relative paths do not start with** `/`. `/` at the start of a path refers to the root directory.\n",
    "\n",
    "Now suppose our working directory is `/Users/gGandenberger/ga/lessons/exploratory_data_analysis_in_pandas/practice`. We can still use a relative path for `drinks.csv` by using `..` to refer to the directory \"up a level\" from our current position.\n",
    "\n",
    "```bash\n",
    "cat ../assets/data/drinks.csv\n",
    "```\n",
    "\n",
    "If our working directory is `/Users/gGandenberger/ga/lessons/exploratory_data_analysis_in_pandas/practice/eda-data_cleaning_intro-lab-master`, then we just need to go up a level twice:\n",
    "\n",
    "```bash\n",
    "cat ../../assets/data/drinks.csv\n",
    "```"
   ]
  },
  {
   "cell_type": "markdown",
   "metadata": {},
   "source": [
    "**Exercise (3 mins).**"
   ]
  },
  {
   "cell_type": "markdown",
   "metadata": {},
   "source": [
    "- Suppose our working directory is `/Users/gGandenberger/ga/lessons/apis/modules`. What is the relative path to `/Users/gGandenberger/ga/lessons/decision_trees/modules/decision_tree_practice.ipynb`? (These locations are not shown in the image.)"
   ]
  },
  {
   "cell_type": "markdown",
   "metadata": {},
   "source": []
  },
  {
   "cell_type": "markdown",
   "metadata": {},
   "source": [
    "- Suppose our working directory is `/Users/username/repos/shared/my_awesome_project/`. What is the absolute path to the file with relative path `../../personal/my_lame_project/do_stuff.py`? (This filesystem is not shown in the image.)"
   ]
  },
  {
   "cell_type": "markdown",
   "metadata": {},
   "source": []
  },
  {
   "cell_type": "markdown",
   "metadata": {},
   "source": [
    "$\\blacksquare$"
   ]
  },
  {
   "cell_type": "markdown",
   "metadata": {
    "slideshow": {
     "slide_type": "slide"
    },
    "toc-hr-collapsed": true
   },
   "source": [
    "## Navigating Using the Command Prompt"
   ]
  },
  {
   "cell_type": "markdown",
   "metadata": {},
   "source": [
    "### cd\n",
    "\n",
    "We use `cd` (\"change directory\") to move around the file system.\n",
    "\n",
    "For instance, to go from `/Users/gGandenberger/ga` to `/Users/gGandenberger/ga/projects/final_project`, we could run any of the following commands:\n",
    "\n",
    "```bash\n",
    "cd projects/final_project\n",
    "```\n",
    "\n",
    "(relative path)\n",
    "\n",
    "```bash\n",
    "cd ./projects/final_project\n",
    "```\n",
    "\n",
    "(relative path with explicit reference to current directory)\n",
    "\n",
    "```bash\n",
    "cd /Users/gGandenberger/ga/projects/final_project\n",
    "```\n",
    "\n",
    "(absolute path)\n",
    "\n",
    "Running `cd` with no arguments takes you to your home directory:\n",
    "\n",
    "```bash\n",
    "cd\n",
    "```\n",
    "\n",
    "The tilde (`~`) character is an alias for your home directory, so you can also return to the home directory as follows:\n",
    "\n",
    "```bash\n",
    "cd ~\n",
    "```\n",
    "\n",
    "The tilde is useful for saving keystrokes when typing absolute paths. For example, here is another way to navigate to `/Users/gGandenberger/ga/projects/final_project`:\n",
    "\n",
    "```bash\n",
    "cd ~/ga/projects/final_project\n",
    "```\n",
    "\n",
    "`-` is an alias for your previous working directory, so this command takes you back to your previous location:\n",
    "\n",
    "```bash\n",
    "cd -\n",
    "```"
   ]
  },
  {
   "cell_type": "markdown",
   "metadata": {},
   "source": [
    "### pwd\n",
    "\n",
    "`pwd` (print working directory) gives you the absolute path of your current location in the filesystem."
   ]
  },
  {
   "cell_type": "markdown",
   "metadata": {
    "slideshow": {
     "slide_type": "slide"
    }
   },
   "source": [
    "### ls\n",
    "\n",
    "The `ls` command lists files and directories in the current folder.\n",
    "\n",
    "```bash\n",
    "ls\n",
    "```\n",
    "\n",
    "It can also be used to list files located in any directory. For example, to list your applications, you can type:\n",
    "```bash\n",
    "ls /Applications\n",
    "```"
   ]
  },
  {
   "cell_type": "markdown",
   "metadata": {
    "slideshow": {
     "slide_type": "slide"
    }
   },
   "source": [
    "## Creating and Destroying Files and Directories"
   ]
  },
  {
   "cell_type": "markdown",
   "metadata": {},
   "source": [
    "To create a new file, type e.g.\n",
    "```bash\n",
    "touch my_file.txt\n",
    "```\n",
    "\n",
    "To remove a file, type e.g.\n",
    "```bash\n",
    "rm my_file.txt\n",
    "```\n",
    "\n",
    "To make a new directory, type e.g.\n",
    "```bash\n",
    "mkdir my_directory\n",
    "```\n",
    "\n",
    "To remove a new directory, add the `-r` (\"recursive\") flag to `rm`, e.g.\n",
    "```bash\n",
    "rm -r my_directory\n",
    "```\n",
    "\n",
    "Be careful!\n",
    "\n",
    "- **`rm` deletes files and folders immediately**, rather than sending them to the Trash Can.\n",
    "- **Shells generally have no \"Undo\" button!**"
   ]
  },
  {
   "cell_type": "markdown",
   "metadata": {
    "toc-hr-collapsed": true
   },
   "source": [
    "## More About the Bash Shell"
   ]
  },
  {
   "cell_type": "markdown",
   "metadata": {},
   "source": [
    "### General Format for Shell Commands"
   ]
  },
  {
   "cell_type": "markdown",
   "metadata": {},
   "source": [
    "`<command> -<options> <arguments>`\n",
    "* `<command>` is the action we want the computer to take.\n",
    "* `<options>` (or \"flags\") modify the behavior of the command.\n",
    "* `<arguments>` are the things we want the command to act on."
   ]
  },
  {
   "cell_type": "markdown",
   "metadata": {
    "slideshow": {
     "slide_type": "slide"
    }
   },
   "source": [
    "### Example: Some `ls` Flags\n",
    "\n",
    "List contents in long format:\n",
    "\n",
    "```bash\n",
    "ls -l\n",
    "```\n",
    "\n",
    "Include hidden files and directories, whose names begin with `.`:\n",
    "\n",
    "```bash\n",
    "ls -a\n",
    "```\n",
    "\n",
    "Combine these options:\n",
    "\n",
    "```bash\n",
    "ls -la\n",
    "```\n",
    "\n",
    "Also make the file sizes more human-readable:\n",
    "\n",
    "```bash\n",
    "ls -lha\n",
    "```"
   ]
  },
  {
   "cell_type": "markdown",
   "metadata": {
    "slideshow": {
     "slide_type": "slide"
    },
    "toc-hr-collapsed": true
   },
   "source": [
    "### Wildcards\n",
    "\n",
    "The wildcard symbol (`*`) is useful for using commands to operate on multiple\n",
    "files. To provide an example, first create a folder on your desktop and add some\n",
    "files.\n",
    "```bash\n",
    "mkdir ~/Desktop/example_folder\n",
    "cd ~/Desktop/example_folder\n",
    "touch pig.txt\n",
    "touch dog.txt\n",
    "touch bird.txt\n",
    "touch fish.txt\n",
    "```\n",
    "\n",
    "You can then use the wildcard `*` to operate on subsets of files. List any\n",
    "file with \"i\" in the file name, for example:\n",
    "```bash\n",
    "ls *i*\n",
    "```\n",
    "\n",
    "Or remove all files with the `.txt` extension:\n",
    "\n",
    "```bash\n",
    "ls *.txt\n",
    "```\n",
    "\n",
    "(first list the files to make sure you are deleting the right items)\n",
    "\n",
    "```bash\n",
    "rm *.txt\n",
    "```\n",
    "\n",
    "(actually delete the files)\n",
    "\n",
    "```bash\n",
    "ls\n",
    "```\n",
    "\n",
    "(view the result)"
   ]
  },
  {
   "cell_type": "markdown",
   "metadata": {
    "slideshow": {
     "slide_type": "slide"
    },
    "toc-hr-collapsed": true
   },
   "source": [
    "## Editing and Examining Files\n",
    "\n",
    "Use the following command to open a simple text editor inside the Terminal:\n",
    "\n",
    "```bash\n",
    "nano [filename]\n",
    "```"
   ]
  },
  {
   "cell_type": "markdown",
   "metadata": {
    "slideshow": {
     "slide_type": "slide"
    }
   },
   "source": [
    "### View File Content in the Terminal\n",
    "\n",
    "The `cat` command can be used to print the entire contents of a file (`cat` is also used for concatenating files, hence its name!):\n",
    "\n",
    "```bash\n",
    "cat /etc/passwd\n",
    "```\n",
    "\n",
    "(`/etc/passwd` traditionally contained user passwords but no longer does for security reasons, so it is safe to display.)\n",
    "\n",
    "**Only the first few lines of a file**\n",
    "\n",
    "This command is useful when looking at files that might be too large to open in a traditional editor such as Sublime or Atom.\n",
    "\n",
    "```bash\n",
    "head /etc/passwd\n",
    "```\n",
    "\n",
    "**Only the last few lines of a file**\n",
    "\n",
    "```bash\n",
    "tail /etc/passwd\n",
    "```\n",
    "\n",
    "You can also pass the parameter `-n` to `head` and `tail` to control the amount of output displayed."
   ]
  },
  {
   "cell_type": "markdown",
   "metadata": {
    "slideshow": {
     "slide_type": "slide"
    }
   },
   "source": [
    "### Finding Files by Contents\n",
    "\n",
    "**Find all files with the word \"the\" inside.**\n",
    "\n",
    "```bash\n",
    "grep -r \"the\" *\n",
    "```\n",
    "\n",
    "Omitting `-r` will cause `grep` to only look within the current subdirectory.\n",
    "Using `-i` will make `grep` ignore the casing of characters."
   ]
  },
  {
   "cell_type": "markdown",
   "metadata": {
    "slideshow": {
     "slide_type": "slide"
    }
   },
   "source": [
    "### Finding Files by Name\n",
    "\n",
    "**Find all notebook files within subdirectories of the current working directory:**\n",
    "\n",
    "```bash\n",
    "find . -name \"*.ipynb\"\n",
    "```\n",
    "\n",
    "**Find specific file(s) with a substring match across all user files:**\n",
    "\n",
    "```bash\n",
    "find ~ -name \"*data*\"\n",
    "```"
   ]
  },
  {
   "cell_type": "markdown",
   "metadata": {
    "slideshow": {
     "slide_type": "slide"
    },
    "toc-hr-collapsed": true
   },
   "source": [
    "### Assessing the Size of a File\n",
    "\n",
    "\n",
    "**Find the number of lines in a file:**\n",
    "\n",
    "```bash\n",
    "wc -l ~/.bash_profile\n",
    "```\n",
    "\n",
    "**Find the number of words in a file:**\n",
    "\n",
    "```bash\n",
    "wc -w ~/.bash_profile\n",
    "```\n",
    "\n",
    "**Find the number of lines, words, and bytes in a file:**\n",
    "\n",
    "```bash\n",
    "wc ~/.bash_profile\n",
    "```"
   ]
  },
  {
   "cell_type": "markdown",
   "metadata": {
    "slideshow": {
     "slide_type": "slide"
    },
    "toc-hr-collapsed": true
   },
   "source": [
    "## Optional Material: I/O Redirection and Piping\n",
    "\n",
    "Command-line tools are designed to take in a stream of plain text, apply a transformation to it, and output a stream of plain text in a simple format that could serve as the input to another tool. Unlocking their real power requires getting comfortable with using pipes \"`|`\" and I/O redirection to chain them together. Here is some optional reading on this topic.\n",
    "\n",
    "* [I/O redirection](http://linuxcommand.org/lc3_lts0070.php)\n",
    "* [Good examples of piping commands together](http://unix.stackexchange.com/questions/30759/whats-a-good-example-of-piping-commands-together)"
   ]
  },
  {
   "cell_type": "markdown",
   "metadata": {},
   "source": [
    "Simple example:\n",
    "\n",
    "```bash\n",
    "history | grep ls\n",
    "```"
   ]
  },
  {
   "cell_type": "markdown",
   "metadata": {
    "slideshow": {
     "slide_type": "slide"
    }
   },
   "source": [
    "<a id='independent_practice'></a>\n",
    "\n",
    "**Exercise (12 mins., in pairs)**\n",
    "\n",
    "Have one person share his or her screen and perform each of the following steps in the Terminal. Then switch places and have the other person perform the steps."
   ]
  },
  {
   "cell_type": "markdown",
   "metadata": {},
   "source": [
    "- Use an absolute path to navigate to a directory of your choice that is one level below your home directory."
   ]
  },
  {
   "cell_type": "markdown",
   "metadata": {},
   "source": []
  },
  {
   "cell_type": "markdown",
   "metadata": {},
   "source": [
    "- Use a relative path to create a directory `foo` inside your home directory"
   ]
  },
  {
   "cell_type": "markdown",
   "metadata": {},
   "source": []
  },
  {
   "cell_type": "markdown",
   "metadata": {},
   "source": [
    "- Navigate to the directory you just created."
   ]
  },
  {
   "cell_type": "markdown",
   "metadata": {},
   "source": []
  },
  {
   "cell_type": "markdown",
   "metadata": {},
   "source": [
    "- Confirm that you are in the right place."
   ]
  },
  {
   "cell_type": "markdown",
   "metadata": {},
   "source": []
  },
  {
   "cell_type": "markdown",
   "metadata": {},
   "source": [
    "- Create an empty file `foo.txt` inside that directory."
   ]
  },
  {
   "cell_type": "markdown",
   "metadata": {},
   "source": []
  },
  {
   "cell_type": "markdown",
   "metadata": {},
   "source": [
    "- List the contents of the directory."
   ]
  },
  {
   "cell_type": "markdown",
   "metadata": {},
   "source": []
  },
  {
   "cell_type": "markdown",
   "metadata": {},
   "source": [
    "- Use `nano` to add some content to `foo.txt`. (Record just the initial command you use, and not what you type inside `nano`.)"
   ]
  },
  {
   "cell_type": "markdown",
   "metadata": {},
   "source": []
  },
  {
   "cell_type": "markdown",
   "metadata": {},
   "source": [
    "- Print those contents in the terminal"
   ]
  },
  {
   "cell_type": "markdown",
   "metadata": {},
   "source": []
  },
  {
   "cell_type": "markdown",
   "metadata": {},
   "source": [
    "- Delete foo.txt"
   ]
  },
  {
   "cell_type": "markdown",
   "metadata": {},
   "source": []
  },
  {
   "cell_type": "markdown",
   "metadata": {},
   "source": [
    "- Navigate back to your home directory without providing any arguments."
   ]
  },
  {
   "cell_type": "markdown",
   "metadata": {},
   "source": []
  },
  {
   "cell_type": "markdown",
   "metadata": {},
   "source": [
    "- Delete the directory `foo` by running THIS EXACT COMMAND.\n",
    "\n",
    "The `-r` flag makes `rm` recursive, meaning that it deletes the contents of all subdirectories, subdirectories of subdirectories, etc.\n",
    "\n",
    "BE CAREFUL: running `rm -r` on your home or root directory will severely mess up your computer."
   ]
  },
  {
   "cell_type": "markdown",
   "metadata": {},
   "source": [
    "```bash\n",
    "rm -r foo/\n",
    "```"
   ]
  },
  {
   "cell_type": "markdown",
   "metadata": {},
   "source": [
    "- List the contents of your current directory to confirm that `foo` was deleted."
   ]
  },
  {
   "cell_type": "markdown",
   "metadata": {},
   "source": []
  },
  {
   "cell_type": "markdown",
   "metadata": {},
   "source": [
    "$\\blacksquare$"
   ]
  }
 ],
 "metadata": {
  "kernelspec": {
   "display_name": "Python 3",
   "language": "python",
   "name": "python3"
  },
  "language_info": {
   "codemirror_mode": {
    "name": "ipython",
    "version": 3
   },
   "file_extension": ".py",
   "mimetype": "text/x-python",
   "name": "python",
   "nbconvert_exporter": "python",
   "pygments_lexer": "ipython3",
   "version": "3.6.8"
  }
 },
 "nbformat": 4,
 "nbformat_minor": 2
}
