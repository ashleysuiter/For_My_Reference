{
 "cells": [
  {
   "cell_type": "markdown",
   "metadata": {
    "slideshow": {
     "slide_type": "slide"
    },
    "toc-hr-collapsed": false
   },
   "source": [
    "<img src=\"http://imgur.com/1ZcRyrc.png\" style=\"float: left; margin: 20px; height: 55px\">\n",
    "\n",
    "# Linear Algebra\n",
    "\n",
    "---"
   ]
  },
  {
   "cell_type": "markdown",
   "metadata": {
    "toc-hr-collapsed": false
   },
   "source": [
    "## Introduction"
   ]
  },
  {
   "cell_type": "markdown",
   "metadata": {},
   "source": [
    "### Demo"
   ]
  },
  {
   "cell_type": "markdown",
   "metadata": {},
   "source": [
    "Let's look at the Ames housing data again."
   ]
  },
  {
   "cell_type": "code",
   "execution_count": 2,
   "metadata": {},
   "outputs": [],
   "source": [
    "import numpy as np\n",
    "import pandas as pd"
   ]
  },
  {
   "cell_type": "code",
   "execution_count": 3,
   "metadata": {},
   "outputs": [],
   "source": [
    "ames_df = pd.read_csv('C:/Users/Ashley/Desktop/General_Assembly/Lessons/descriptive_statistics_in_python-master/assets/data/ames_train.csv')"
   ]
  },
  {
   "cell_type": "code",
   "execution_count": 5,
   "metadata": {},
   "outputs": [
    {
     "name": "stdout",
     "output_type": "stream",
     "text": [
      "   OverallQual  GarageCars\n",
      "0            7           2\n",
      "1            6           2\n",
      "2            7           2\n",
      "3            7           3\n",
      "4            8           3\n"
     ]
    },
    {
     "data": {
      "text/plain": [
       "(1460, 2)"
      ]
     },
     "execution_count": 5,
     "metadata": {},
     "output_type": "execute_result"
    }
   ],
   "source": [
    "# Pick out two features to focus on\n",
    "X = ames_df.loc[:, ['OverallQual', 'GarageCars']]\n",
    "print(X.head())\n",
    "X.shape"
   ]
  },
  {
   "cell_type": "markdown",
   "metadata": {},
   "source": [
    "`X` is a 2D array of numbers with 1460 rows and 3 columns. We call a two-dimensional array of numbers a **matrix**."
   ]
  },
  {
   "cell_type": "code",
   "execution_count": 6,
   "metadata": {},
   "outputs": [
    {
     "name": "stdout",
     "output_type": "stream",
     "text": [
      "0    208500\n",
      "1    181500\n",
      "2    223500\n",
      "3    140000\n",
      "4    250000\n",
      "Name: SalePrice, dtype: int64\n",
      "(1460,)\n"
     ]
    }
   ],
   "source": [
    "y = ames_df.loc[:, 'SalePrice']\n",
    "print(y.head())\n",
    "print(y.shape)"
   ]
  },
  {
   "cell_type": "markdown",
   "metadata": {},
   "source": [
    "`y` is a one-dimensional sequence of numbers with 1460 elements. We call a one dimensional sequence of numbers a **vector**."
   ]
  },
  {
   "cell_type": "markdown",
   "metadata": {},
   "source": [
    "We could model the average price of a house as some baseline number, plus some multiple of \"OverallQual\", plus some multiple of \"GarageCars.\" To do that, let's add a column of 1s to `X` and consider multiplying each column by a constant and adding up the results within each row"
   ]
  },
  {
   "cell_type": "code",
   "execution_count": 7,
   "metadata": {},
   "outputs": [],
   "source": [
    "X.loc[:, 'Constant'] = 1"
   ]
  },
  {
   "cell_type": "code",
   "execution_count": 8,
   "metadata": {},
   "outputs": [
    {
     "data": {
      "text/html": [
       "<div>\n",
       "<style scoped>\n",
       "    .dataframe tbody tr th:only-of-type {\n",
       "        vertical-align: middle;\n",
       "    }\n",
       "\n",
       "    .dataframe tbody tr th {\n",
       "        vertical-align: top;\n",
       "    }\n",
       "\n",
       "    .dataframe thead th {\n",
       "        text-align: right;\n",
       "    }\n",
       "</style>\n",
       "<table border=\"1\" class=\"dataframe\">\n",
       "  <thead>\n",
       "    <tr style=\"text-align: right;\">\n",
       "      <th></th>\n",
       "      <th>OverallQual</th>\n",
       "      <th>GarageCars</th>\n",
       "      <th>Constant</th>\n",
       "    </tr>\n",
       "  </thead>\n",
       "  <tbody>\n",
       "    <tr>\n",
       "      <th>0</th>\n",
       "      <td>7</td>\n",
       "      <td>2</td>\n",
       "      <td>1</td>\n",
       "    </tr>\n",
       "    <tr>\n",
       "      <th>1</th>\n",
       "      <td>6</td>\n",
       "      <td>2</td>\n",
       "      <td>1</td>\n",
       "    </tr>\n",
       "    <tr>\n",
       "      <th>2</th>\n",
       "      <td>7</td>\n",
       "      <td>2</td>\n",
       "      <td>1</td>\n",
       "    </tr>\n",
       "    <tr>\n",
       "      <th>3</th>\n",
       "      <td>7</td>\n",
       "      <td>3</td>\n",
       "      <td>1</td>\n",
       "    </tr>\n",
       "    <tr>\n",
       "      <th>4</th>\n",
       "      <td>8</td>\n",
       "      <td>3</td>\n",
       "      <td>1</td>\n",
       "    </tr>\n",
       "  </tbody>\n",
       "</table>\n",
       "</div>"
      ],
      "text/plain": [
       "   OverallQual  GarageCars  Constant\n",
       "0            7           2         1\n",
       "1            6           2         1\n",
       "2            7           2         1\n",
       "3            7           3         1\n",
       "4            8           3         1"
      ]
     },
     "execution_count": 8,
     "metadata": {},
     "output_type": "execute_result"
    }
   ],
   "source": [
    "X.head()"
   ]
  },
  {
   "cell_type": "markdown",
   "metadata": {},
   "source": [
    "Let's take a wild guess that average sales price in dollars is $10,000 * OverallQual + 20,000 * GarageCars + 100,000$:"
   ]
  },
  {
   "cell_type": "code",
   "execution_count": 9,
   "metadata": {},
   "outputs": [
    {
     "data": {
      "text/plain": [
       "0    210000\n",
       "1    200000\n",
       "2    210000\n",
       "3    230000\n",
       "4    240000\n",
       "dtype: int64"
      ]
     },
     "execution_count": 9,
     "metadata": {},
     "output_type": "execute_result"
    }
   ],
   "source": [
    "wild_guess = (10_000 * X.loc[:, 'OverallQual']\n",
    "              + 20_000 * X.loc[:, 'GarageCars']\n",
    "              + 100_000 * X.loc[:, 'Constant']\n",
    "             )\n",
    "wild_guess.head()"
   ]
  },
  {
   "cell_type": "markdown",
   "metadata": {},
   "source": [
    "How good was our guess? Let's calculate a standard measure of regression model error, the Root Mean Squared Error (RMSE)."
   ]
  },
  {
   "cell_type": "code",
   "execution_count": 10,
   "metadata": {},
   "outputs": [
    {
     "data": {
      "text/plain": [
       "62851.14548349673"
      ]
     },
     "execution_count": 10,
     "metadata": {},
     "output_type": "execute_result"
    }
   ],
   "source": [
    "np.sqrt(((wild_guess - y)**2).mean())"
   ]
  },
  {
   "cell_type": "markdown",
   "metadata": {},
   "source": [
    "We could play around with the numbers we multiplied each column by (called *coefficients*) to try to reduce this measure of error, but luckily we don't have to: **it is possible to use linear algebra to derive a formula for the set of coefficients that gives us the smallest possible RMSE.**"
   ]
  },
  {
   "cell_type": "markdown",
   "metadata": {},
   "source": [
    "If you are curious, the formula is $(X^TX)^{-1}X^Ty$. My favorite presentation of a derivation of this result is at the end of [this video](https://www.youtube.com/watch?v=5u4G23_OohI)."
   ]
  },
  {
   "cell_type": "markdown",
   "metadata": {},
   "source": [
    "Incidentally, what we just did is **linear regression**, the first type of model that we will discuss in this course."
   ]
  },
  {
   "cell_type": "markdown",
   "metadata": {},
   "source": [
    "### Linear Algebra and Data Science"
   ]
  },
  {
   "cell_type": "markdown",
   "metadata": {
    "slideshow": {
     "slide_type": "notes"
    }
   },
   "source": [
    "Not only linear regression but most of what we do in data science consists of vector and matrix operations, which are the topic of linear algebra. As a result, **linear algebra is the most important area of math for data science.**\n",
    "\n",
    "You don't need to be able to carry out linear algebra calculations by hand, but a data science does need to have a strong understanding of how they work.\n",
    "\n",
    "We can't teach you everything that a data scientist needs to know about linear algebra in this course, but we can give you a refresher if you are familiar with it and introduce you to some of the key concepts if you are not. The lesson README provides links to additional resources."
   ]
  },
  {
   "cell_type": "markdown",
   "metadata": {},
   "source": [
    "## NumPy"
   ]
  },
  {
   "cell_type": "markdown",
   "metadata": {},
   "source": [
    "NumPy is the foundational Python library for working with vectors and matrices."
   ]
  },
  {
   "cell_type": "markdown",
   "metadata": {},
   "source": [
    "NumPy arrays look similar to Python lists, but they represent vectors and matrices and are optimized for math rather than for serving as general-purposes containers."
   ]
  },
  {
   "cell_type": "code",
   "execution_count": 11,
   "metadata": {},
   "outputs": [
    {
     "data": {
      "text/plain": [
       "[1, 2, 3, 4, 5, 6]"
      ]
     },
     "execution_count": 11,
     "metadata": {},
     "output_type": "execute_result"
    }
   ],
   "source": [
    "# Python lists aren't designed for doing math\n",
    "[1,2,3] + [4,5,6]"
   ]
  },
  {
   "cell_type": "code",
   "execution_count": 13,
   "metadata": {},
   "outputs": [
    {
     "data": {
      "text/plain": [
       "array([5, 7, 9])"
      ]
     },
     "execution_count": 13,
     "metadata": {},
     "output_type": "execute_result"
    }
   ],
   "source": [
    "# NumPy applies basic arithmetic operations elementwise\n",
    "np.array([1,2,3]) + np.array([4,5,6])"
   ]
  },
  {
   "cell_type": "markdown",
   "metadata": {},
   "source": [
    "Levels of nesting in a NumPy array correspond to different dimensions."
   ]
  },
  {
   "cell_type": "code",
   "execution_count": 16,
   "metadata": {},
   "outputs": [
    {
     "data": {
      "text/plain": [
       "[[1, 2], [3, 4], [5, 6]]"
      ]
     },
     "execution_count": 16,
     "metadata": {},
     "output_type": "execute_result"
    }
   ],
   "source": [
    "# Python lists can be nested\n",
    "[[1,2],[3,4], [5,6]]"
   ]
  },
  {
   "cell_type": "code",
   "execution_count": 17,
   "metadata": {},
   "outputs": [
    {
     "data": {
      "text/plain": [
       "array([[1, 2],\n",
       "       [3, 4],\n",
       "       [5, 6]])"
      ]
     },
     "execution_count": 17,
     "metadata": {},
     "output_type": "execute_result"
    }
   ],
   "source": [
    "# NumPy interprets nesting as indicating dimensions.\n",
    "# This array represents a 3x2 matrix (3 rows, 2 columns).\n",
    "np.array([[1,2],[3,4], [5,6]])"
   ]
  },
  {
   "cell_type": "code",
   "execution_count": 18,
   "metadata": {},
   "outputs": [
    {
     "data": {
      "text/plain": [
       "(3, 2)"
      ]
     },
     "execution_count": 18,
     "metadata": {},
     "output_type": "execute_result"
    }
   ],
   "source": [
    "# A NumPy array has a `shape` attribute\n",
    "np.array([[1,2],[3,4], [5,6]]).shape"
   ]
  },
  {
   "cell_type": "markdown",
   "metadata": {},
   "source": [
    "`pandas` DataFrames are built on top of Numpy arrays"
   ]
  },
  {
   "cell_type": "code",
   "execution_count": 26,
   "metadata": {},
   "outputs": [
    {
     "data": {
      "text/html": [
       "<div>\n",
       "<style scoped>\n",
       "    .dataframe tbody tr th:only-of-type {\n",
       "        vertical-align: middle;\n",
       "    }\n",
       "\n",
       "    .dataframe tbody tr th {\n",
       "        vertical-align: top;\n",
       "    }\n",
       "\n",
       "    .dataframe thead th {\n",
       "        text-align: right;\n",
       "    }\n",
       "</style>\n",
       "<table border=\"1\" class=\"dataframe\">\n",
       "  <thead>\n",
       "    <tr style=\"text-align: right;\">\n",
       "      <th></th>\n",
       "      <th>x</th>\n",
       "      <th>y</th>\n",
       "    </tr>\n",
       "  </thead>\n",
       "  <tbody>\n",
       "    <tr>\n",
       "      <th>0</th>\n",
       "      <td>1</td>\n",
       "      <td>2</td>\n",
       "    </tr>\n",
       "    <tr>\n",
       "      <th>1</th>\n",
       "      <td>3</td>\n",
       "      <td>4</td>\n",
       "    </tr>\n",
       "    <tr>\n",
       "      <th>2</th>\n",
       "      <td>5</td>\n",
       "      <td>6</td>\n",
       "    </tr>\n",
       "  </tbody>\n",
       "</table>\n",
       "</div>"
      ],
      "text/plain": [
       "   x  y\n",
       "0  1  2\n",
       "1  3  4\n",
       "2  5  6"
      ]
     },
     "execution_count": 26,
     "metadata": {},
     "output_type": "execute_result"
    }
   ],
   "source": [
    "# Create a DataFrame\n",
    "b = pd.DataFrame({'x': [1, 3, 5], 'y': [2, 4, 6]})\n",
    "b"
   ]
  },
  {
   "cell_type": "code",
   "execution_count": 27,
   "metadata": {},
   "outputs": [
    {
     "data": {
      "text/plain": [
       "array([[1, 2],\n",
       "       [3, 4],\n",
       "       [5, 6]], dtype=int64)"
      ]
     },
     "execution_count": 27,
     "metadata": {},
     "output_type": "execute_result"
    }
   ],
   "source": [
    "# Pull out the underlying numpy array\n",
    "b.values"
   ]
  },
  {
   "cell_type": "markdown",
   "metadata": {
    "slideshow": {
     "slide_type": "slide"
    }
   },
   "source": [
    "## Scalars, Vectors, and Matrices\n",
    "\n",
    "- A **scalar** is single number, e.g. $a=5.328$ or $b=7$.\n",
    "- A **vector** is an ordered sequence of numbers, e.g. $\\vec{u} = \\left[ \\begin{array}{c} 1&3&7 \\end{array} \\right]$\n",
    "- An $m\\times n$ **matrix** is a rectangular array of numbers with $m$ rows and $n$ columns. The entry in the $i$th row and $j$th column of a matrix $\\mathbf{A}$ is denoted $a_{ij}$.\n",
    "\n",
    "$$\\mathbf{A}= \\left[ \\begin{array}{c}\n",
    "a_{11} & a_{12} & ... & a_{1n}  \\\\\n",
    "a_{21} & a_{22} & ... & a_{2n}  \\\\\n",
    "... & ... & ... & ... \\\\\n",
    "a_{m1} & a_{m2} & ... & a_{mn}\n",
    "\\end{array} \\right]$$"
   ]
  },
  {
   "cell_type": "markdown",
   "metadata": {
    "slideshow": {
     "slide_type": "notes"
    }
   },
   "source": [
    "**Conventions**:\n",
    "\n",
    "- Use a lowercase letter to denote a scalar.\n",
    "- Use a lowercase letter to denote a vector (such as `y`), possibly with some kind of annotation such as an arrow overhead (but not in code).\n",
    "- Use an uppercase letter to denote a matrix (such as `X`).\n",
    "- **Math**: start counting with 1\n",
    "- **Python**: Start counting with 0."
   ]
  },
  {
   "cell_type": "markdown",
   "metadata": {
    "slideshow": {
     "slide_type": "slide"
    }
   },
   "source": [
    "**Exercise (1 min., post to Slack right away)**\n",
    "\n",
    "- What is $M_{32}$ in the example below, using the standard **mathematician**'s convention of starting counting with 1?"
   ]
  },
  {
   "cell_type": "code",
   "execution_count": 28,
   "metadata": {
    "slideshow": {
     "slide_type": "subslide"
    }
   },
   "outputs": [
    {
     "data": {
      "text/plain": [
       "array([[1, 3, 7],\n",
       "       [2, 6, 3],\n",
       "       [9, 8, 0],\n",
       "       [4, 5, 6]])"
      ]
     },
     "execution_count": 28,
     "metadata": {},
     "output_type": "execute_result"
    }
   ],
   "source": [
    "M = np.array([[1, 3, 7], [2, 6, 3], [9, 8, 0], [4, 5, 6]])\n",
    "M"
   ]
  },
  {
   "cell_type": "markdown",
   "metadata": {},
   "source": [
    "8"
   ]
  },
  {
   "cell_type": "markdown",
   "metadata": {},
   "source": [
    "- What is `M[3, 2]`, using the **Python** convention of starting counting with 0?"
   ]
  },
  {
   "cell_type": "markdown",
   "metadata": {},
   "source": []
  },
  {
   "cell_type": "markdown",
   "metadata": {},
   "source": [
    "$\\blacksquare$ 6\n"
   ]
  },
  {
   "cell_type": "markdown",
   "metadata": {
    "slideshow": {
     "slide_type": "slide"
    },
    "toc-hr-collapsed": false
   },
   "source": [
    "## Basic Matrix Algebra"
   ]
  },
  {
   "cell_type": "markdown",
   "metadata": {
    "slideshow": {
     "slide_type": "slide"
    }
   },
   "source": [
    "### Addition and Subtraction\n",
    "Vector **addition** is done elementwise:\n",
    "\n",
    "$\\vec{v} + \\vec{w} =\n",
    "\\left[ \\begin{array}{c}\n",
    "1 \\\\\n",
    "3 \\\\\n",
    "7\n",
    "\\end{array} \\right] + \\left[ \\begin{array}{c}\n",
    "1 \\\\\n",
    "0 \\\\\n",
    "1\n",
    "\\end{array} \\right] = \n",
    "\\left[ \\begin{array}{c}\n",
    "1+1 \\\\\n",
    "3+0 \\\\\n",
    "7+1\n",
    "\\end{array} \\right] = \n",
    "\\left[ \\begin{array}{c}\n",
    "2 \\\\\n",
    "3 \\\\\n",
    "8\n",
    "\\end{array} \\right]\n",
    "$\n",
    "\n",
    "So is vector **subtraction**:\n",
    "\n",
    "$\\vec{v} - \\vec{w} =\n",
    "\\left[ \\begin{array}{c}\n",
    "1 \\\\\n",
    "3 \\\\\n",
    "7\n",
    "\\end{array} \\right] - \\left[ \\begin{array}{c}\n",
    "1 \\\\\n",
    "0 \\\\\n",
    "1\n",
    "\\end{array} \\right] = \n",
    "\\left[ \\begin{array}{c}\n",
    "1-1 \\\\\n",
    "3-0 \\\\\n",
    "7-1\n",
    "\\end{array} \\right] = \n",
    "\\left[ \\begin{array}{c}\n",
    "0 \\\\\n",
    "3 \\\\\n",
    "6\n",
    "\\end{array} \\right]\n",
    "$"
   ]
  },
  {
   "cell_type": "code",
   "execution_count": 40,
   "metadata": {
    "slideshow": {
     "slide_type": "slide"
    }
   },
   "outputs": [],
   "source": [
    "# Create numpy arrays corresponding to v and w above\n",
    "v = np.array([1,3,7])\n",
    "w = np.array([1,0,1])"
   ]
  },
  {
   "cell_type": "code",
   "execution_count": 33,
   "metadata": {},
   "outputs": [
    {
     "name": "stdout",
     "output_type": "stream",
     "text": [
      "[2 3 8]\n",
      "[0 3 6]\n"
     ]
    }
   ],
   "source": [
    "# Add and subtract\n",
    "print(v+w)\n",
    "print(v-w)"
   ]
  },
  {
   "cell_type": "markdown",
   "metadata": {
    "slideshow": {
     "slide_type": "slide"
    }
   },
   "source": [
    "**Matrix** addition and subtraction is also done elementwise.\n",
    "\n",
    "Addition:\n",
    "\n",
    "$A + B = \\left[ \\begin{array}{c}\n",
    "1 & 2 & 6  \\\\\n",
    "4 & 8 & 3  \\\\\n",
    "9 & 2 & 1 \\\\\n",
    "\\end{array} \\right]\n",
    "+\n",
    "\\left[ \\begin{array}{c}\n",
    "9 & 7 & 3  \\\\\n",
    "6 & 8 & 2  \\\\\n",
    "4 & 2 & 4 \\\\\n",
    "\\end{array} \\right]\n",
    "=\n",
    "\\left[ \\begin{array}{c}\n",
    "1+9 & 2+7 & 6+3  \\\\\n",
    "4+6 & 8+8 & 3+2  \\\\\n",
    "9+4 & 2+2 & 1+4 \\\\\n",
    "\\end{array} \\right]\n",
    "=\n",
    "\\left[ \\begin{array}{c}\n",
    "10 & 9 & 9  \\\\\n",
    "10 & 16 & 5  \\\\\n",
    "13 & 4 & 5 \\\\\n",
    "\\end{array} \\right]\n",
    "$\n",
    "\n",
    "Subtraction:\n",
    "\n",
    "$A - B = \\left[ \\begin{array}{c}\n",
    "1 & 2 & 6  \\\\\n",
    "4 & 8 & 3  \\\\\n",
    "9 & 2 & 1 \\\\\n",
    "\\end{array} \\right]\n",
    "-\n",
    "\\left[ \\begin{array}{c}\n",
    "9 & 7 & 3  \\\\\n",
    "6 & 8 & 2  \\\\\n",
    "4 & 2 & 4 \\\\\n",
    "\\end{array} \\right]\n",
    "=\n",
    "\\left[ \\begin{array}{c}\n",
    "1-9 & 2-7 & 6-3  \\\\\n",
    "4-6 & 8-8 & 3-2  \\\\\n",
    "9-4 & 2-2 & 1-4 \\\\\n",
    "\\end{array} \\right]\n",
    "=\n",
    "\\left[ \\begin{array}{c}\n",
    "-8 & -5 & 3  \\\\\n",
    "-2 & 0 & 1  \\\\\n",
    "5 & 0 & -3 \\\\\n",
    "\\end{array} \\right]\n",
    "$"
   ]
  },
  {
   "cell_type": "code",
   "execution_count": 34,
   "metadata": {
    "slideshow": {
     "slide_type": "slide"
    }
   },
   "outputs": [],
   "source": [
    "# Create 2D NumPy arrays corresponding to A and B above\n",
    "A = np.array([[1,2,6],[4,8,9],[9,2,1]])\n",
    "B =np.array([[9,7,3],[6,8,2],[4,2,4]])"
   ]
  },
  {
   "cell_type": "code",
   "execution_count": 35,
   "metadata": {},
   "outputs": [
    {
     "name": "stdout",
     "output_type": "stream",
     "text": [
      "[[10  9  9]\n",
      " [10 16 11]\n",
      " [13  4  5]]\n",
      "[[-8 -5  3]\n",
      " [-2  0  7]\n",
      " [ 5  0 -3]]\n"
     ]
    }
   ],
   "source": [
    "# Add and subtract\n",
    "print(A+B)\n",
    "print(A-B)"
   ]
  },
  {
   "cell_type": "markdown",
   "metadata": {
    "slideshow": {
     "slide_type": "slide"
    }
   },
   "source": [
    "### Multiplication\n",
    "\n",
    "Multiplying with vectors and matrices can take a few different forms."
   ]
  },
  {
   "cell_type": "markdown",
   "metadata": {},
   "source": [
    "#### Elementwise multiplication"
   ]
  },
  {
   "cell_type": "markdown",
   "metadata": {},
   "source": [
    "$\\vec{v} * \\vec{w} =\n",
    "\\left[ \\begin{array}{c}\n",
    "1 \\\\\n",
    "3 \\\\\n",
    "7\n",
    "\\end{array} \\right] * \\left[ \\begin{array}{c}\n",
    "1 \\\\\n",
    "0 \\\\\n",
    "1\n",
    "\\end{array} \\right] = \n",
    "\\left[ \\begin{array}{c}\n",
    "1*1 \\\\\n",
    "3*0 \\\\\n",
    "7*1\n",
    "\\end{array} \\right] = \n",
    "\\left[ \\begin{array}{c}\n",
    "1 \\\\\n",
    "0 \\\\\n",
    "7\n",
    "\\end{array} \\right]\n",
    "$\n"
   ]
  },
  {
   "cell_type": "code",
   "execution_count": 36,
   "metadata": {},
   "outputs": [
    {
     "name": "stdout",
     "output_type": "stream",
     "text": [
      "[1 0 7]\n"
     ]
    }
   ],
   "source": [
    "# NumPy uses `*` for elementwise multiplication\n",
    "print(v*w)"
   ]
  },
  {
   "cell_type": "markdown",
   "metadata": {
    "slideshow": {
     "slide_type": "slide"
    }
   },
   "source": [
    "#### Scalar Multiplication: A Vector or Matrix times a *Number*\n",
    "Multiplying a vector or matrix by a scalar (single quantity) is a matter of simply multiplying all of its elements by that scalar:\n",
    "\n",
    "$ 2 \\cdot \\vec{v} = 2 \\cdot \\left[ \\begin{array}{c}\n",
    "1 \\\\\n",
    "3 \\\\\n",
    "7\n",
    "\\end{array} \\right] = \n",
    " \\left[ \\begin{array}{c}\n",
    "2 \\cdot 1 \\\\\n",
    "2 \\cdot 3 \\\\\n",
    "2 \\cdot 7\n",
    "\\end{array} \\right] = \n",
    " \\left[ \\begin{array}{c}\n",
    "2 \\\\\n",
    "6 \\\\\n",
    "14\n",
    "\\end{array} \\right]$ \n",
    "\n",
    "$3 \\cdot A =\n",
    "3 \\cdot \\left[ \\begin{array}{c}\n",
    "1 & 2 & 6  \\\\\n",
    "4 & 8 & 3  \\\\\n",
    "9 & 2 & 1 \\\\\n",
    "\\end{array} \\right]\n",
    "=\n",
    "\\left[ \\begin{array}{c}\n",
    "3\\cdot1 & 3\\cdot2 & 3\\cdot6  \\\\\n",
    "3\\cdot4 & 3\\cdot8 & 3\\cdot3  \\\\\n",
    "3\\cdot9 & 3\\cdot2 & 3\\cdot1 \\\\\n",
    "\\end{array} \\right]\n",
    "=\n",
    "\\left[ \\begin{array}{c}\n",
    "3 & 6 & 18  \\\\\n",
    "12 & 24 & 9  \\\\\n",
    "27 & 6 & 3 \\\\\n",
    "\\end{array} \\right]\n",
    "$"
   ]
  },
  {
   "cell_type": "code",
   "execution_count": 37,
   "metadata": {},
   "outputs": [
    {
     "name": "stdout",
     "output_type": "stream",
     "text": [
      "[ 2  6 14]\n"
     ]
    }
   ],
   "source": [
    "# Multiply v by a scalar\n",
    "print(2*v)"
   ]
  },
  {
   "cell_type": "code",
   "execution_count": 38,
   "metadata": {},
   "outputs": [
    {
     "name": "stdout",
     "output_type": "stream",
     "text": [
      "[[ 3  6 18]\n",
      " [12 24 27]\n",
      " [27  6  3]]\n"
     ]
    }
   ],
   "source": [
    "# Multiply A by a scalar\n",
    "print(A*3)"
   ]
  },
  {
   "cell_type": "markdown",
   "metadata": {
    "slideshow": {
     "slide_type": "slide"
    }
   },
   "source": [
    "#### Dot Product: Multiplying *Two Vectors* and Reducing the Result to a Single Number\n",
    "Suppose three girl scout troops have 1, 3, and 7 members, respectively. Each member of the first troop sells 5 boxes of girl scout cookies; each member of the second troop sells 4; and each member of the third troop sells 2. How many boxes did they sell in all?\n",
    "\n",
    "$1 \\cdot 5 + 3 \\cdot 4 + 7 \\cdot 2 = 5 + 12 + 14 = 31$\n",
    "\n",
    "This calculation is an examples of a **dot product**, which you calculate by multiplying corresponding elements of two vectors and adding the results:\n",
    "\n",
    "$\\vec{v} = \\left[ \\begin{array}{c}\n",
    "1 \\\\\n",
    "3 \\\\\n",
    "7\n",
    "\\end{array} \\right], \\vec{w} = \\left[ \\begin{array}{c}\n",
    "5 \\\\\n",
    "4 \\\\\n",
    "2\n",
    "\\end{array} \\right]$\n",
    "\n",
    "$ \\vec{v} \\cdot \\vec{w} = \\left[ \\begin{array}{c}\n",
    "1 & 3 & 7\n",
    "\\end{array} \\right] \\cdot \\left[ \\begin{array}{c}\n",
    "5 \\\\\n",
    "4 \\\\\n",
    "2\n",
    "\\end{array} \\right] = 1 \\cdot 5 + 3 \\cdot 4 + 7 \\cdot 2 = 31 $"
   ]
  },
  {
   "cell_type": "markdown",
   "metadata": {
    "slideshow": {
     "slide_type": "notes"
    }
   },
   "source": [
    "If you think of vectors as arrows in space, then the dot product of two vectors reflects both *how big they are* and *the extent to which they point in the same direction.*"
   ]
  },
  {
   "cell_type": "markdown",
   "metadata": {
    "slideshow": {
     "slide_type": "slide"
    }
   },
   "source": []
  },
  {
   "cell_type": "code",
   "execution_count": 41,
   "metadata": {},
   "outputs": [
    {
     "name": "stdout",
     "output_type": "stream",
     "text": [
      "8\n"
     ]
    }
   ],
   "source": [
    "# Calculate the dot product of v and w\n",
    "print(v@w)"
   ]
  },
  {
   "cell_type": "markdown",
   "metadata": {},
   "source": [
    "#### Matrix-Vector Multiplication"
   ]
  },
  {
   "cell_type": "markdown",
   "metadata": {},
   "source": [
    "Suppose you wanted to take the dot products of a bunch of vectors with one particular vector. You could arrange each of the vectors in the first set horizontally and stack them on top of each other, and put the results of those dot products in a stack in the same order."
   ]
  },
  {
   "cell_type": "markdown",
   "metadata": {},
   "source": [
    "Let's see [what this process looks like](http://matrixmultiplication.xyz/)."
   ]
  },
  {
   "cell_type": "markdown",
   "metadata": {},
   "source": [
    "**This is exactly what we did in the demo at the start of this lesson.**"
   ]
  },
  {
   "cell_type": "markdown",
   "metadata": {},
   "source": [
    "Consider the first row of `X`:"
   ]
  },
  {
   "cell_type": "code",
   "execution_count": 42,
   "metadata": {},
   "outputs": [
    {
     "data": {
      "text/html": [
       "<div>\n",
       "<style scoped>\n",
       "    .dataframe tbody tr th:only-of-type {\n",
       "        vertical-align: middle;\n",
       "    }\n",
       "\n",
       "    .dataframe tbody tr th {\n",
       "        vertical-align: top;\n",
       "    }\n",
       "\n",
       "    .dataframe thead th {\n",
       "        text-align: right;\n",
       "    }\n",
       "</style>\n",
       "<table border=\"1\" class=\"dataframe\">\n",
       "  <thead>\n",
       "    <tr style=\"text-align: right;\">\n",
       "      <th></th>\n",
       "      <th>OverallQual</th>\n",
       "      <th>GarageCars</th>\n",
       "      <th>Constant</th>\n",
       "    </tr>\n",
       "  </thead>\n",
       "  <tbody>\n",
       "    <tr>\n",
       "      <th>0</th>\n",
       "      <td>7</td>\n",
       "      <td>2</td>\n",
       "      <td>1</td>\n",
       "    </tr>\n",
       "  </tbody>\n",
       "</table>\n",
       "</div>"
      ],
      "text/plain": [
       "   OverallQual  GarageCars  Constant\n",
       "0            7           2         1"
      ]
     },
     "execution_count": 42,
     "metadata": {},
     "output_type": "execute_result"
    }
   ],
   "source": [
    "X.head(1)"
   ]
  },
  {
   "cell_type": "markdown",
   "metadata": {},
   "source": [
    "We multiplied the three elements of this row by $10,000$, $20,000$, and $100,000$, respectively, and added up the results. That's just this dot product:"
   ]
  },
  {
   "cell_type": "markdown",
   "metadata": {},
   "source": [
    "$\\left[ \\begin{array}{c}\n",
    "7 &\n",
    "2 &\n",
    "1\n",
    "\\end{array} \\right] \\cdot \\left[ \\begin{array}{c}\n",
    "10,000 \\\\\n",
    "20,000 \\\\\n",
    "100,000\n",
    "\\end{array} \\right]\n",
    "= 7 * 10,000 + 2 * 20,000 + 1 * 100,000 = 70,000 + 40,000 + 100,000 = 210,000\n",
    "$"
   ]
  },
  {
   "cell_type": "markdown",
   "metadata": {},
   "source": [
    "To calculate more predictions for more houses, we just stack up the vectors representing the features of those houses and stack up the resulting dot products:"
   ]
  },
  {
   "cell_type": "markdown",
   "metadata": {},
   "source": [
    "$\\left[ \\begin{array}{c}\n",
    "7 &\n",
    "2 &\n",
    "1 \\\\\n",
    "6 &\n",
    "2 &\n",
    "1 \\\\\n",
    "& \\ldots &\n",
    "\\end{array} \\right] \\cdot \\left[ \\begin{array}{c}\n",
    "10,000 \\\\\n",
    "20,000 \\\\\n",
    "100,000\n",
    "\\end{array} \\right]\n",
    "=\n",
    "\\left[ \\begin{array}{c}\n",
    "7 * 10,000 + 2 * 20,000 + 1 * 100,000 \\\\\n",
    "6 * 10,000 + 2 * 20,000 + 1 * 100,000 \\\\\n",
    "\\ldots\n",
    "\\end{array} \\right]\n",
    "= \n",
    "\\left[ \\begin{array}{c}\n",
    "210,000 \\\\\n",
    "200,000 \\\\\n",
    "\\ldots\n",
    "\\end{array} \\right]\n",
    "$"
   ]
  },
  {
   "cell_type": "code",
   "execution_count": 44,
   "metadata": {},
   "outputs": [
    {
     "data": {
      "text/plain": [
       "0       120000\n",
       "1       110000\n",
       "2       120000\n",
       "3       140000\n",
       "4       150000\n",
       "5       100000\n",
       "6       130000\n",
       "7       120000\n",
       "8       120000\n",
       "9        80000\n",
       "10       80000\n",
       "11      160000\n",
       "12       80000\n",
       "13      140000\n",
       "14       90000\n",
       "15      120000\n",
       "16      110000\n",
       "17       90000\n",
       "18      100000\n",
       "19       80000\n",
       "20      150000\n",
       "21      100000\n",
       "22      130000\n",
       "23      100000\n",
       "24       80000\n",
       "25      150000\n",
       "26      100000\n",
       "27      150000\n",
       "28       80000\n",
       "29       70000\n",
       "         ...  \n",
       "1430    100000\n",
       "1431    110000\n",
       "1432     70000\n",
       "1433    110000\n",
       "1434    100000\n",
       "1435    110000\n",
       "1436     90000\n",
       "1437    150000\n",
       "1438    110000\n",
       "1439    120000\n",
       "1440    110000\n",
       "1441    110000\n",
       "1442    170000\n",
       "1443     90000\n",
       "1444    120000\n",
       "1445     90000\n",
       "1446     80000\n",
       "1447    130000\n",
       "1448     70000\n",
       "1449     60000\n",
       "1450     60000\n",
       "1451    150000\n",
       "1452    100000\n",
       "1453     60000\n",
       "1454    120000\n",
       "1455    110000\n",
       "1456    110000\n",
       "1457    100000\n",
       "1458     80000\n",
       "1459     80000\n",
       "Length: 1460, dtype: int64"
      ]
     },
     "execution_count": 44,
     "metadata": {},
     "output_type": "execute_result"
    }
   ],
   "source": [
    "# Calculate the dot product of X with our wild-guess coefficients\n",
    "X@np.array([10000,20000,10000])"
   ]
  },
  {
   "cell_type": "markdown",
   "metadata": {
    "slideshow": {
     "slide_type": "slide"
    }
   },
   "source": [
    "#### Matrix-Matrix Multiplication\n",
    "\n",
    "Suppose we wanted to dot-product each of one bunch of vectors with each of another bunch of vectors. We could arrange the vectors in the first set horizontally and stack them on top of each other as before; arrange the vectors in the second set vertically and stack them next to each other; and store the dot product of the $i$th row of the first set and the $j$th column of the second set in the $i$th row and $j$th column of an output matrix. That's matrix multiplication."
   ]
  },
  {
   "cell_type": "markdown",
   "metadata": {},
   "source": [
    "Let's see [what this process looks like](http://matrixmultiplication.xyz/)."
   ]
  },
  {
   "cell_type": "markdown",
   "metadata": {},
   "source": [
    "**Matrix multiplication is just a bunch of vector dot products.**"
   ]
  },
  {
   "cell_type": "markdown",
   "metadata": {},
   "source": [
    "In the demo at the start of the lesson, we said that $(X^TX)^{-1}X^Ty$ was the formula for the coefficients that minimize RMSE. Let's take a look at the $X^TX$ component of this expression."
   ]
  },
  {
   "cell_type": "markdown",
   "metadata": {},
   "source": [
    "$X^T$ is the result of swapping rows with columns, so that e.g. the 10th row of $X$ is the 10th column of $X^T$:"
   ]
  },
  {
   "cell_type": "code",
   "execution_count": 45,
   "metadata": {},
   "outputs": [
    {
     "data": {
      "text/html": [
       "<div>\n",
       "<style scoped>\n",
       "    .dataframe tbody tr th:only-of-type {\n",
       "        vertical-align: middle;\n",
       "    }\n",
       "\n",
       "    .dataframe tbody tr th {\n",
       "        vertical-align: top;\n",
       "    }\n",
       "\n",
       "    .dataframe thead th {\n",
       "        text-align: right;\n",
       "    }\n",
       "</style>\n",
       "<table border=\"1\" class=\"dataframe\">\n",
       "  <thead>\n",
       "    <tr style=\"text-align: right;\">\n",
       "      <th></th>\n",
       "      <th>0</th>\n",
       "      <th>1</th>\n",
       "      <th>2</th>\n",
       "      <th>3</th>\n",
       "      <th>4</th>\n",
       "      <th>5</th>\n",
       "      <th>6</th>\n",
       "      <th>7</th>\n",
       "      <th>8</th>\n",
       "      <th>9</th>\n",
       "      <th>...</th>\n",
       "      <th>1450</th>\n",
       "      <th>1451</th>\n",
       "      <th>1452</th>\n",
       "      <th>1453</th>\n",
       "      <th>1454</th>\n",
       "      <th>1455</th>\n",
       "      <th>1456</th>\n",
       "      <th>1457</th>\n",
       "      <th>1458</th>\n",
       "      <th>1459</th>\n",
       "    </tr>\n",
       "  </thead>\n",
       "  <tbody>\n",
       "    <tr>\n",
       "      <th>OverallQual</th>\n",
       "      <td>7</td>\n",
       "      <td>6</td>\n",
       "      <td>7</td>\n",
       "      <td>7</td>\n",
       "      <td>8</td>\n",
       "      <td>5</td>\n",
       "      <td>8</td>\n",
       "      <td>7</td>\n",
       "      <td>7</td>\n",
       "      <td>5</td>\n",
       "      <td>...</td>\n",
       "      <td>5</td>\n",
       "      <td>8</td>\n",
       "      <td>5</td>\n",
       "      <td>5</td>\n",
       "      <td>7</td>\n",
       "      <td>6</td>\n",
       "      <td>6</td>\n",
       "      <td>7</td>\n",
       "      <td>5</td>\n",
       "      <td>5</td>\n",
       "    </tr>\n",
       "    <tr>\n",
       "      <th>GarageCars</th>\n",
       "      <td>2</td>\n",
       "      <td>2</td>\n",
       "      <td>2</td>\n",
       "      <td>3</td>\n",
       "      <td>3</td>\n",
       "      <td>2</td>\n",
       "      <td>2</td>\n",
       "      <td>2</td>\n",
       "      <td>2</td>\n",
       "      <td>1</td>\n",
       "      <td>...</td>\n",
       "      <td>0</td>\n",
       "      <td>3</td>\n",
       "      <td>2</td>\n",
       "      <td>0</td>\n",
       "      <td>2</td>\n",
       "      <td>2</td>\n",
       "      <td>2</td>\n",
       "      <td>1</td>\n",
       "      <td>1</td>\n",
       "      <td>1</td>\n",
       "    </tr>\n",
       "    <tr>\n",
       "      <th>Constant</th>\n",
       "      <td>1</td>\n",
       "      <td>1</td>\n",
       "      <td>1</td>\n",
       "      <td>1</td>\n",
       "      <td>1</td>\n",
       "      <td>1</td>\n",
       "      <td>1</td>\n",
       "      <td>1</td>\n",
       "      <td>1</td>\n",
       "      <td>1</td>\n",
       "      <td>...</td>\n",
       "      <td>1</td>\n",
       "      <td>1</td>\n",
       "      <td>1</td>\n",
       "      <td>1</td>\n",
       "      <td>1</td>\n",
       "      <td>1</td>\n",
       "      <td>1</td>\n",
       "      <td>1</td>\n",
       "      <td>1</td>\n",
       "      <td>1</td>\n",
       "    </tr>\n",
       "  </tbody>\n",
       "</table>\n",
       "<p>3 rows × 1460 columns</p>\n",
       "</div>"
      ],
      "text/plain": [
       "             0     1     2     3     4     5     6     7     8     9     ...  \\\n",
       "OverallQual     7     6     7     7     8     5     8     7     7     5  ...   \n",
       "GarageCars      2     2     2     3     3     2     2     2     2     1  ...   \n",
       "Constant        1     1     1     1     1     1     1     1     1     1  ...   \n",
       "\n",
       "             1450  1451  1452  1453  1454  1455  1456  1457  1458  1459  \n",
       "OverallQual     5     8     5     5     7     6     6     7     5     5  \n",
       "GarageCars      0     3     2     0     2     2     2     1     1     1  \n",
       "Constant        1     1     1     1     1     1     1     1     1     1  \n",
       "\n",
       "[3 rows x 1460 columns]"
      ]
     },
     "execution_count": 45,
     "metadata": {},
     "output_type": "execute_result"
    }
   ],
   "source": [
    "X.T"
   ]
  },
  {
   "cell_type": "markdown",
   "metadata": {},
   "source": [
    "To make the problem easier, let's throw away all but the first four rows of `X`."
   ]
  },
  {
   "cell_type": "code",
   "execution_count": 46,
   "metadata": {},
   "outputs": [],
   "source": [
    "X_small = X.head(4)"
   ]
  },
  {
   "cell_type": "code",
   "execution_count": 47,
   "metadata": {},
   "outputs": [
    {
     "name": "stdout",
     "output_type": "stream",
     "text": [
      "[[7 6 7 7]\n",
      " [2 2 2 3]\n",
      " [1 1 1 1]]\n",
      "[[7 2 1]\n",
      " [6 2 1]\n",
      " [7 2 1]\n",
      " [7 3 1]]\n"
     ]
    }
   ],
   "source": [
    "print(X_small.T.values)\n",
    "print(X_small.values)"
   ]
  },
  {
   "cell_type": "markdown",
   "metadata": {},
   "source": [
    "Multiplying $X^T$ by $X$ amounts to finding the dot product of every row of $X^T$ (i.e. every column of $X$) with every column of $X$."
   ]
  },
  {
   "cell_type": "markdown",
   "metadata": {},
   "source": [
    "![](../assets/images/matrix_mult_whiteboard.png)"
   ]
  },
  {
   "cell_type": "code",
   "execution_count": 48,
   "metadata": {},
   "outputs": [
    {
     "data": {
      "text/html": [
       "<div>\n",
       "<style scoped>\n",
       "    .dataframe tbody tr th:only-of-type {\n",
       "        vertical-align: middle;\n",
       "    }\n",
       "\n",
       "    .dataframe tbody tr th {\n",
       "        vertical-align: top;\n",
       "    }\n",
       "\n",
       "    .dataframe thead th {\n",
       "        text-align: right;\n",
       "    }\n",
       "</style>\n",
       "<table border=\"1\" class=\"dataframe\">\n",
       "  <thead>\n",
       "    <tr style=\"text-align: right;\">\n",
       "      <th></th>\n",
       "      <th>OverallQual</th>\n",
       "      <th>GarageCars</th>\n",
       "      <th>Constant</th>\n",
       "    </tr>\n",
       "  </thead>\n",
       "  <tbody>\n",
       "    <tr>\n",
       "      <th>OverallQual</th>\n",
       "      <td>57105</td>\n",
       "      <td>16642</td>\n",
       "      <td>8905</td>\n",
       "    </tr>\n",
       "    <tr>\n",
       "      <th>GarageCars</th>\n",
       "      <td>16642</td>\n",
       "      <td>5374</td>\n",
       "      <td>2580</td>\n",
       "    </tr>\n",
       "    <tr>\n",
       "      <th>Constant</th>\n",
       "      <td>8905</td>\n",
       "      <td>2580</td>\n",
       "      <td>1460</td>\n",
       "    </tr>\n",
       "  </tbody>\n",
       "</table>\n",
       "</div>"
      ],
      "text/plain": [
       "             OverallQual  GarageCars  Constant\n",
       "OverallQual        57105       16642      8905\n",
       "GarageCars         16642        5374      2580\n",
       "Constant            8905        2580      1460"
      ]
     },
     "execution_count": 48,
     "metadata": {},
     "output_type": "execute_result"
    }
   ],
   "source": [
    "# Calculate the dot product of X.T with X\n",
    "X.T@X"
   ]
  },
  {
   "cell_type": "markdown",
   "metadata": {
    "slideshow": {
     "slide_type": "slide"
    }
   },
   "source": [
    "**Exercise (4 mins., in pairs)**\n",
    "\n",
    "Compute this matrix product by hand (I suggest on paper), and then with Python. Make sure that your answers agree!\n",
    "\n",
    "**Note:** data scientists don't have to be good at multiplying matrices by hand -- the computer does that. However, working some problems by hand is important for developing an understanding of the process.\n",
    "\n",
    "$\n",
    "\\left[ \\begin{array}{c}\n",
    "1 & 2 \\\\\n",
    "4 & 8 \\\\\n",
    "\\end{array} \\right]\n",
    "\\times \\left[ \\begin{array}{c}\n",
    "2 & 9 \\\\\n",
    "3 & 6 \\\\\n",
    "\\end{array} \\right]\n",
    "$"
   ]
  },
  {
   "cell_type": "markdown",
   "metadata": {
    "slideshow": {
     "slide_type": "slide"
    }
   },
   "source": []
  },
  {
   "cell_type": "code",
   "execution_count": 50,
   "metadata": {
    "slideshow": {
     "slide_type": "slide"
    }
   },
   "outputs": [
    {
     "name": "stdout",
     "output_type": "stream",
     "text": [
      "[[ 8 21]\n",
      " [32 84]]\n"
     ]
    }
   ],
   "source": [
    "n =np.array([[1,2],[4,8]])\n",
    "m=np.array([[2,9],[3,6]])\n",
    "print(n@m)"
   ]
  },
  {
   "cell_type": "code",
   "execution_count": 51,
   "metadata": {},
   "outputs": [
    {
     "data": {
      "text/plain": [
       "array([[ 8, 21],\n",
       "       [32, 84]])"
      ]
     },
     "execution_count": 51,
     "metadata": {},
     "output_type": "execute_result"
    }
   ],
   "source": [
    "np.array([[8,21],[32,84]])"
   ]
  },
  {
   "cell_type": "markdown",
   "metadata": {},
   "source": [
    "$\\blacksquare$"
   ]
  },
  {
   "cell_type": "markdown",
   "metadata": {
    "toc-hr-collapsed": false
   },
   "source": [
    "## How Linear Algebra Is Used in Machine Learning"
   ]
  },
  {
   "cell_type": "markdown",
   "metadata": {},
   "source": [
    "- Supervised learning models usually use a **matrix** of features $X$ (with one column for each variable and one row for each observation) to predict a corresponding **vector** target $y$ (with one row for each observation).\n",
    "- Unsupervised learning models usually look for structure in a **matrix** of features $X$.\n",
    "- The math underlying these models is typically a set of standard linear algebra operations (multiplication, inversion, projection, etc.)\n",
    "\n",
    "The computer will do the math for you, but understanding how it works will help you choose appropriate algorithms and diagnose problems when you aren't getting what you expect."
   ]
  }
 ],
 "metadata": {
  "kernelspec": {
   "display_name": "Python 3",
   "language": "python",
   "name": "python3"
  },
  "language_info": {
   "codemirror_mode": {
    "name": "ipython",
    "version": 3
   },
   "file_extension": ".py",
   "mimetype": "text/x-python",
   "name": "python",
   "nbconvert_exporter": "python",
   "pygments_lexer": "ipython3",
   "version": "3.6.8"
  }
 },
 "nbformat": 4,
 "nbformat_minor": 2
}
