{
 "cells": [
  {
   "cell_type": "markdown",
   "metadata": {
    "toc-hr-collapsed": false
   },
   "source": [
    "<img src=\"http://imgur.com/1ZcRyrc.png\" style=\"float: left; margin: 20px; height: 55px\">\n",
    "\n",
    "# Getting Started With Linear Regression\n",
    "\n",
    "_Authors: Kevin Markham (Washington, D.C.), Ed Podojil (New York City)_"
   ]
  },
  {
   "cell_type": "markdown",
   "metadata": {},
   "source": [
    "**Warning:** Many students find this lesson substantially more challenging than previous lessons in the course. Don't panic if certain parts of it don't click right away. Do put in the time to review, practice, and read about these topics as needed."
   ]
  },
  {
   "cell_type": "code",
   "execution_count": 1,
   "metadata": {},
   "outputs": [],
   "source": [
    "import matplotlib.pyplot as plt\n",
    "import numpy as np\n",
    "import seaborn as sns\n",
    "import pandas as pd\n",
    "\n",
    "plt.style.use('fivethirtyeight')"
   ]
  },
  {
   "cell_type": "code",
   "execution_count": 2,
   "metadata": {},
   "outputs": [],
   "source": [
    "%matplotlib inline"
   ]
  },
  {
   "cell_type": "markdown",
   "metadata": {},
   "source": [
    "## Demo"
   ]
  },
  {
   "cell_type": "markdown",
   "metadata": {},
   "source": [
    "Let's use linear regression to predict prices in the Ames housing dataset."
   ]
  },
  {
   "cell_type": "code",
   "execution_count": 3,
   "metadata": {},
   "outputs": [],
   "source": [
    "# Use pandas to load in the data\n",
    "ames_df = pd.read_csv('../assets/data/ames_train.csv')"
   ]
  },
  {
   "cell_type": "code",
   "execution_count": 4,
   "metadata": {},
   "outputs": [],
   "source": [
    "# To get us started, use just the numeric columns without missing data\n",
    "ames_df = ames_df.select_dtypes(['int64', 'float64']).dropna(axis='columns').drop('Id', axis='columns')"
   ]
  },
  {
   "cell_type": "code",
   "execution_count": 5,
   "metadata": {},
   "outputs": [],
   "source": [
    "# Split the data into the column `y` we want to predict and the \n",
    "# columns `X` we will use to make the predictions\n",
    "X = ames_df.drop('SalePrice', axis='columns')\n",
    "y = ames_df.loc[:, 'SalePrice']"
   ]
  },
  {
   "cell_type": "code",
   "execution_count": 6,
   "metadata": {},
   "outputs": [],
   "source": [
    "# Set aside 25% of the data for testing the model\n",
    "from sklearn.model_selection import train_test_split\n",
    "\n",
    "X_train, X_test, y_train, y_test = train_test_split(X, y, random_state=42)"
   ]
  },
  {
   "cell_type": "code",
   "execution_count": 7,
   "metadata": {},
   "outputs": [
    {
     "data": {
      "text/plain": [
       "LinearRegression(copy_X=True, fit_intercept=True, n_jobs=None,\n",
       "         normalize=False)"
      ]
     },
     "execution_count": 7,
     "metadata": {},
     "output_type": "execute_result"
    }
   ],
   "source": [
    "# Import a model class\n",
    "from sklearn.linear_model import LinearRegression\n",
    "\n",
    "# Create a model from that class\n",
    "lr = LinearRegression()\n",
    "\n",
    "# Ask the model to learn a function that predicts `y` from `X`\n",
    "lr.fit(X_train, y_train)"
   ]
  },
  {
   "cell_type": "markdown",
   "metadata": {},
   "source": [
    "That's it! We just built a machine learning model.\n",
    "\n",
    "Is it any good? Let's test it on data that it hasn't seen."
   ]
  },
  {
   "cell_type": "code",
   "execution_count": 8,
   "metadata": {},
   "outputs": [
    {
     "data": {
      "text/plain": [
       "0.8199197610891817"
      ]
     },
     "execution_count": 8,
     "metadata": {},
     "output_type": "execute_result"
    }
   ],
   "source": [
    "# Score the model on the test data\n",
    "lr.score(X_test, y_test)"
   ]
  },
  {
   "cell_type": "markdown",
   "metadata": {},
   "source": [
    "This score tells us (roughly) by what factor (0 to 1) our model's errors are on average than the errors that we would get if we just guessed the average price every time. This number is substantially greater than 0, so our model works!"
   ]
  },
  {
   "cell_type": "markdown",
   "metadata": {},
   "source": [
    "We can also look at the model's predictions and compare them to the actual values:"
   ]
  },
  {
   "cell_type": "code",
   "execution_count": 9,
   "metadata": {},
   "outputs": [
    {
     "data": {
      "text/plain": [
       "[(154791.87399431365, 154500),\n",
       " (310820.93527537433, 325000),\n",
       " (114033.99534952093, 115000),\n",
       " (180382.91865354078, 159000),\n",
       " (302203.28161839326, 315500),\n",
       " (45878.9760465048, 75500),\n",
       " (226197.94972165616, 311500),\n",
       " (150467.825424309, 146000),\n",
       " (42900.88162823889, 84500),\n",
       " (151952.49477002735, 135500),\n",
       " (156407.488849184, 145000),\n",
       " (114827.02728915866, 130000),\n",
       " (81941.86247199273, 81000),\n",
       " (210927.99571450741, 214000),\n",
       " (191975.720073057, 181000),\n",
       " (142655.00142217998, 134500),\n",
       " (214274.87782462698, 183500),\n",
       " (137012.44081333454, 135000),\n",
       " (118640.22607918724, 118400),\n",
       " (232571.19338999444, 226000),\n",
       " (186708.35789662786, 155000),\n",
       " (216155.41463124915, 210000),\n",
       " (193720.12402393273, 173500),\n",
       " (132737.39219830057, 129000),\n",
       " (213838.036330031, 192000),\n",
       " (152133.21549386473, 153900),\n",
       " (199805.1287979436, 181134),\n",
       " (89479.99728387163, 141000),\n",
       " (185705.99141456012, 181000),\n",
       " (183354.1920649911, 208900),\n",
       " (114815.93261392554, 127000),\n",
       " (272569.5146358685, 284000),\n",
       " (232979.92128713627, 200500),\n",
       " (87968.70554322435, 135750),\n",
       " (271384.4862353116, 255000),\n",
       " (164214.5482133635, 140000),\n",
       " (151780.3748355331, 138000),\n",
       " (219627.3950627033, 219500),\n",
       " (309029.18148256233, 310000),\n",
       " (89532.79702012904, 97000),\n",
       " (131637.27380833006, 114500),\n",
       " (252316.29507470957, 205000),\n",
       " (104465.03497436398, 119500),\n",
       " (277387.20683026034, 253293),\n",
       " (130496.30003674922, 128500),\n",
       " (132754.15528678254, 117500),\n",
       " (104794.18236867641, 115000),\n",
       " (130126.39815897902, 127000),\n",
       " (359405.9516810938, 451950),\n",
       " (129487.1107557317, 144000),\n",
       " (107305.4290030339, 119000),\n",
       " (220229.0174759673, 196000),\n",
       " (93011.29195534892, 115000),\n",
       " (330517.5695753555, 287000),\n",
       " (162128.1981046846, 144500),\n",
       " (250683.75888811797, 260000),\n",
       " (229309.64575611637, 213000),\n",
       " (151792.29042051022, 175000),\n",
       " (159391.16726686351, 107000),\n",
       " (110369.89759382477, 107500),\n",
       " (57331.834209927765, 68500),\n",
       " (141786.07199714694, 154000),\n",
       " (283858.88533133, 317000),\n",
       " (256499.67953432316, 264132),\n",
       " (274892.6781450029, 283463),\n",
       " (219470.69698746048, 243000),\n",
       " (97348.31963059411, 109000),\n",
       " (306494.3407245107, 305000),\n",
       " (102328.79044336115, 93500),\n",
       " (160486.0091552852, 176000),\n",
       " (122562.95724553033, 118858),\n",
       " (115002.97586339142, 134000),\n",
       " (79435.74596718966, 109008),\n",
       " (54391.126022563025, 93500),\n",
       " (373689.59944434965, 611657),\n",
       " (187833.37378439016, 173000),\n",
       " (294680.3904595424, 348000),\n",
       " (290731.71467658377, 341000),\n",
       " (125462.67791861715, 141000),\n",
       " (114200.04941696592, 124900),\n",
       " (122313.99128781655, 118000),\n",
       " (87988.12766134401, 67000),\n",
       " (116567.23204602918, 113000),\n",
       " (100399.19634585641, 91300),\n",
       " (165655.7994524932, 149500),\n",
       " (115713.19186545769, 133000),\n",
       " (265757.117024794, 266000),\n",
       " (213632.10496007232, 190000),\n",
       " (157649.5506195298, 155900),\n",
       " (206990.6111323404, 155835),\n",
       " (160430.97130239045, 153500),\n",
       " (149226.09231773613, 152000),\n",
       " (124947.39310469257, 124500),\n",
       " (259106.12357368798, 301000),\n",
       " (94561.17714011681, 136500),\n",
       " (185852.4084477462, 169990),\n",
       " (182459.43123486685, 205000),\n",
       " (183130.96124886745, 183900),\n",
       " (217318.44448091113, 204900),\n",
       " (266246.0916294935, 260000),\n",
       " (201601.6670483275, 163500),\n",
       " (230445.274765232, 224900),\n",
       " (286020.6495793505, 244000),\n",
       " (150334.37296289683, 132000),\n",
       " (170372.94718404522, 194000),\n",
       " (185002.40997558716, 156500),\n",
       " (168220.45254481584, 156000),\n",
       " (238183.8395829131, 275000),\n",
       " (134143.04150007584, 145000),\n",
       " (181626.62406706542, 135000),\n",
       " (14923.712914028438, 60000),\n",
       " (105367.27186180907, 124000),\n",
       " (138559.8778389733, 127000),\n",
       " (121361.67891023087, 137500),\n",
       " (221292.40759501315, 213500),\n",
       " (120194.9434530203, 119000),\n",
       " (88583.68491748383, 107900),\n",
       " (117083.35734409385, 123000),\n",
       " (158404.9195969532, 112000),\n",
       " (279679.5716113341, 284000),\n",
       " (153963.38989892497, 133000),\n",
       " (157705.6127403063, 149000),\n",
       " (187065.55931890535, 169000),\n",
       " (188835.3704796153, 207000),\n",
       " (199262.85288604628, 175000),\n",
       " (122626.89447589195, 137000),\n",
       " (238999.85834908672, 236000),\n",
       " (84576.93683952896, 79500),\n",
       " (136595.83832473552, 144000),\n",
       " (211923.66970733413, 162900),\n",
       " (199404.1555541217, 185900),\n",
       " (318395.4272627167, 369900),\n",
       " (207336.82758783922, 197900),\n",
       " (124986.4776935135, 104000),\n",
       " (25799.078855623433, 35311),\n",
       " (321892.7229813612, 337500),\n",
       " (308668.3235331158, 367294),\n",
       " (122842.97581453517, 130250),\n",
       " (243142.14391588187, 230000),\n",
       " (446823.8776777893, 755000),\n",
       " (310511.88413731847, 403000),\n",
       " (122138.49929065153, 132000),\n",
       " (187661.89900289604, 178000),\n",
       " (164339.8402945298, 136500),\n",
       " (119373.20987111004, 145000),\n",
       " (115283.84951920202, 123000),\n",
       " (214707.91013697, 250000),\n",
       " (201228.87765313475, 187100),\n",
       " (114573.53502888954, 133900),\n",
       " (36263.18285671197, 67000),\n",
       " (84642.32147754077, 137500),\n",
       " (155906.47890094016, 155000),\n",
       " (245556.74753556133, 200624),\n",
       " (171680.02758673474, 154300),\n",
       " (54557.45155154209, 91000),\n",
       " (110062.92662941036, 136000),\n",
       " (144874.87625032722, 108959),\n",
       " (159575.33396848151, 140000),\n",
       " (69436.42507492553, 86000),\n",
       " (141946.23794076615, 131400),\n",
       " (216844.2123475751, 179900),\n",
       " (170449.19435332075, 144000),\n",
       " (283935.76917749445, 293077),\n",
       " (142943.11316626787, 144500),\n",
       " (117113.44801422732, 118500),\n",
       " (99829.61492833134, 141000),\n",
       " (238628.22022017802, 239000),\n",
       " (300408.93073951325, 276000),\n",
       " (344852.43483174755, 556581),\n",
       " (225098.7993050624, 244400),\n",
       " (326930.51840712293, 360000),\n",
       " (69603.1994020961, 103200),\n",
       " (90679.99495905684, 102000),\n",
       " (164700.2201751558, 151000),\n",
       " (292039.1186771953, 285000),\n",
       " (116674.26039715263, 134432),\n",
       " (134461.05698616512, 113000),\n",
       " (222693.4347529643, 187500),\n",
       " (121623.3316179784, 125500),\n",
       " (151279.41821350448, 177500),\n",
       " (153144.08636702236, 179900),\n",
       " (109202.57804116083, 55993),\n",
       " (116294.271909873, 132500),\n",
       " (164916.02056361642, 135000),\n",
       " (268409.7790772496, 255000),\n",
       " (182540.47588607937, 140000),\n",
       " (284589.7333643158, 271000),\n",
       " (235311.2549365114, 246578),\n",
       " (195266.95701656165, 202500),\n",
       " (63249.23593274958, 75000),\n",
       " (137850.06050230598, 122500),\n",
       " (93721.819715271, 108480),\n",
       " (145439.10683935112, 160000),\n",
       " (135629.57752106467, 171000),\n",
       " (196402.30515202973, 196000),\n",
       " (199805.31834027893, 225000),\n",
       " (217341.41549518355, 197000),\n",
       " (69319.10953426047, 40000),\n",
       " (224374.64092159248, 172500),\n",
       " (112921.83526120149, 154900),\n",
       " (250536.5291463039, 280000),\n",
       " (206569.8761801388, 175000),\n",
       " (111065.27720013843, 147000),\n",
       " (301165.5481795167, 315000),\n",
       " (212686.69738587632, 185000),\n",
       " (102638.81311430782, 135500),\n",
       " (249911.11804887257, 239500),\n",
       " (138374.3141917223, 139000),\n",
       " (164735.26570160268, 140000),\n",
       " (98667.30361017364, 110000),\n",
       " (259857.76966285042, 225000),\n",
       " (165603.97104003618, 143500),\n",
       " (104583.40064810368, 128950),\n",
       " (152336.9280819369, 172500),\n",
       " (220288.5894338152, 241500),\n",
       " (255645.17501983873, 262500),\n",
       " (202207.38814436563, 194201),\n",
       " (127077.47285071947, 143000),\n",
       " (108470.19181172806, 130000),\n",
       " (132088.4056546325, 126000),\n",
       " (144075.47069599247, 142500),\n",
       " (231534.50612723385, 254000),\n",
       " (198088.92202807008, 217500),\n",
       " (90181.65430343291, 66500),\n",
       " (242026.0769729393, 201000),\n",
       " (167053.13263312308, 155000),\n",
       " (86712.65401993727, 68400),\n",
       " (70620.19843086286, 64500),\n",
       " (171782.06903009384, 173000),\n",
       " (87395.33267324616, 102776),\n",
       " (95459.8749069866, 84900),\n",
       " (181508.61899538338, 165600),\n",
       " (135674.48753852793, 120000),\n",
       " (110179.54968101275, 135000),\n",
       " (260711.73192684352, 220000),\n",
       " (150997.34552083386, 153575),\n",
       " (218552.52567669714, 195400),\n",
       " (166525.21070774633, 147000),\n",
       " (256547.55223366723, 277000),\n",
       " (127410.04435139301, 143000),\n",
       " (130557.664389816, 105900),\n",
       " (267951.5924673859, 242000),\n",
       " (234739.55528784532, 194500),\n",
       " (365815.51810508315, 438780),\n",
       " (189032.56945008866, 185000),\n",
       " (88750.81739667954, 107500),\n",
       " (138766.01364957227, 165000),\n",
       " (196363.2218683157, 176000),\n",
       " (139084.4572994177, 129900),\n",
       " (90188.13872508903, 115000),\n",
       " (179689.94570946274, 192140),\n",
       " (193555.39088432712, 160000),\n",
       " (143154.91903354658, 145000),\n",
       " (72063.74852301471, 86000),\n",
       " (141912.2961010621, 158000),\n",
       " (146019.76063037862, 127500),\n",
       " (128228.7970796267, 115000),\n",
       " (109124.61865615915, 119500),\n",
       " (179358.40585126518, 175900),\n",
       " (271040.02051839733, 240000),\n",
       " (288799.2142417043, 395000),\n",
       " (184550.6201344591, 165000),\n",
       " (124387.80881690641, 128200),\n",
       " (254505.6225950371, 275000),\n",
       " (286619.4122013395, 311872),\n",
       " (224537.75237050338, 214000),\n",
       " (178678.6866608071, 153500),\n",
       " (157166.61024587508, 144000),\n",
       " (103312.56244866014, 115000),\n",
       " (196733.436165498, 180000),\n",
       " (348011.28643923835, 465000),\n",
       " (224890.22745682404, 180000),\n",
       " (233499.2968459488, 253000),\n",
       " (72170.40224598174, 85000),\n",
       " (91107.56506540452, 101800),\n",
       " (138229.15044631902, 148500),\n",
       " (188691.55922009703, 137500),\n",
       " (259359.80334559747, 318061),\n",
       " (213722.02907653083, 143000),\n",
       " (140787.99872488517, 140000),\n",
       " (219634.3241110423, 192500),\n",
       " (71219.80774266203, 92000),\n",
       " (196137.67622284312, 197000),\n",
       " (107933.53970755264, 109500),\n",
       " (285426.6415034721, 297000),\n",
       " (182876.00348041113, 185750),\n",
       " (225436.49389589415, 230000),\n",
       " (120915.68348263751, 89471),\n",
       " (245359.32510818169, 260000),\n",
       " (217939.20986100484, 189000),\n",
       " (104708.14627317712, 108000),\n",
       " (98603.00310631027, 124500),\n",
       " (141251.28363442433, 145000),\n",
       " (187204.29483961593, 178000),\n",
       " (73358.86466256634, 85000),\n",
       " (158159.0269535283, 175000),\n",
       " (127372.87013180752, 127000),\n",
       " (145545.02688193787, 149900),\n",
       " (184417.03673755517, 174000),\n",
       " (111722.99832673522, 125500),\n",
       " (195520.1233223112, 175500),\n",
       " (231767.87801420118, 225000),\n",
       " (119015.78210153047, 129000),\n",
       " (134998.53101781243, 159950),\n",
       " (211324.52652057167, 157000),\n",
       " (237957.07699324004, 205000),\n",
       " (164972.2379944895, 140000),\n",
       " (216003.52099397918, 200000),\n",
       " (225036.97769201326, 217000),\n",
       " (130229.85468009033, 125000),\n",
       " (166281.49677076354, 159500),\n",
       " (222629.29949306988, 184000),\n",
       " (79619.68234704377, 96500),\n",
       " (218093.11389727937, 200000),\n",
       " (129657.86891286331, 149000),\n",
       " (188652.88156341517, 178900),\n",
       " (210891.6636370509, 184900),\n",
       " (164446.05454510346, 164700),\n",
       " (257996.29618972458, 335000),\n",
       " (54265.648692170565, 87500),\n",
       " (209938.8240575376, 233170),\n",
       " (125407.52445297723, 149350),\n",
       " (118708.04809250194, 133000),\n",
       " (90580.73480508837, 98000),\n",
       " (217958.89189754822, 207500),\n",
       " (176919.25114053907, 150000),\n",
       " (132048.26892352942, 134900),\n",
       " (218368.54497287516, 187750),\n",
       " (195884.00068638427, 149500),\n",
       " (78667.86550533865, 116050),\n",
       " (156887.87882334949, 153337),\n",
       " (158272.21904604265, 165000),\n",
       " (126843.6670305311, 130500),\n",
       " (246104.68946691754, 206300),\n",
       " (172353.9977464358, 146000),\n",
       " (119778.0643609747, 126500),\n",
       " (137325.57605964283, 139000),\n",
       " (50647.98854883597, 113000),\n",
       " (96579.83413742448, 79000),\n",
       " (201036.27067375567, 182000),\n",
       " (209352.99390646035, 188000),\n",
       " (137050.18462535122, 129000),\n",
       " (95360.90121759707, 160000),\n",
       " (201149.92568350595, 174000),\n",
       " (238574.23374934494, 219210),\n",
       " (334790.07985260175, 310000),\n",
       " (313229.59939504624, 374000),\n",
       " (114812.2728372264, 100000),\n",
       " (262215.85260872473, 250000),\n",
       " (120206.92602839484, 145000),\n",
       " (302633.99794822896, 325000),\n",
       " (332379.03627318924, 380000),\n",
       " (254569.6172314518, 275000),\n",
       " (193831.79017327842, 180000),\n",
       " (255820.52672625834, 245350),\n",
       " (112095.23698268773, 151500),\n",
       " (115000.90110681392, 134500),\n",
       " (80067.80198124482, 94000),\n",
       " (218407.50327432493, 216000),\n",
       " (314350.9791822921, 350000),\n",
       " (193655.0605598957, 195000),\n",
       " (121555.89250008855, 120000),\n",
       " (255926.52248381067, 228500),\n",
       " (234260.25106963865, 248000),\n",
       " (117937.8386103859, 124000)]"
      ]
     },
     "execution_count": 9,
     "metadata": {},
     "output_type": "execute_result"
    }
   ],
   "source": [
    "list(zip(lr.predict(X_test), y_test))"
   ]
  },
  {
   "cell_type": "code",
   "execution_count": 10,
   "metadata": {},
   "outputs": [
    {
     "data": {
      "text/plain": [
       "Index(['MSSubClass', 'LotArea', 'OverallQual', 'OverallCond', 'YearBuilt',\n",
       "       'YearRemodAdd', 'BsmtFinSF1', 'BsmtFinSF2', 'BsmtUnfSF', 'TotalBsmtSF',\n",
       "       '1stFlrSF', '2ndFlrSF', 'LowQualFinSF', 'GrLivArea', 'BsmtFullBath',\n",
       "       'BsmtHalfBath', 'FullBath', 'HalfBath', 'BedroomAbvGr', 'KitchenAbvGr',\n",
       "       'TotRmsAbvGrd', 'Fireplaces', 'GarageCars', 'GarageArea', 'WoodDeckSF',\n",
       "       'OpenPorchSF', 'EnclosedPorch', '3SsnPorch', 'ScreenPorch', 'PoolArea',\n",
       "       'MiscVal', 'MoSold', 'YrSold'],\n",
       "      dtype='object')"
      ]
     },
     "execution_count": 10,
     "metadata": {},
     "output_type": "execute_result"
    }
   ],
   "source": [
    "# Get the names of the features\n",
    "X.columns"
   ]
  },
  {
   "cell_type": "markdown",
   "metadata": {},
   "source": [
    "Linear regression simply takes each of our features, multiplies it by a number, and adds up the result plus an \"intercept\" term. So in this case,\n",
    "\n",
    "$$\\text{Predicted Price} = \\beta_0 + \\beta_1 * MSSubClass + \\beta_2 * LotArea + \\ldots + \\beta_{33} YrSold $$\n",
    "\n",
    "where $\\beta_0, \\beta_1, \\ldots, \\beta_{33}$ are numbers that the linear regression algorithm picks for us."
   ]
  },
  {
   "cell_type": "markdown",
   "metadata": {},
   "source": [
    "(If you absorbed our lesson on linear algebra, you may see that for a linear regression model, predicted price for a given house is the inner product of our features with a vector of coefficients $[\\beta_0, \\beta_1, \\ldots, \\beta_{33}]$, except that we tack on a vector of ones to our features for the intercept term.)"
   ]
  },
  {
   "cell_type": "markdown",
   "metadata": {},
   "source": [
    "We can actually look at the intercept and coefficients that our algorithm came up with:"
   ]
  },
  {
   "cell_type": "code",
   "execution_count": 11,
   "metadata": {},
   "outputs": [
    {
     "name": "stdout",
     "output_type": "stream",
     "text": [
      "-463154.8190735362\n",
      "[('MSSubClass', -183.38773641191813), ('LotArea', 0.40315560276887835), ('OverallQual', 18484.14620979848), ('OverallCond', 3416.4599783763156), ('YearBuilt', 336.08233555052834), ('YearRemodAdd', 166.9084714845825), ('BsmtFinSF1', 9.277514581156725), ('BsmtFinSF2', -3.904411253852561), ('BsmtUnfSF', 0.05538075084887228), ('TotalBsmtSF', 5.428484077695707), ('1stFlrSF', 12.572264236563294), ('2ndFlrSF', 14.222238941655295), ('LowQualFinSF', 4.865653067049201), ('GrLivArea', 31.660156254019498), ('BsmtFullBath', 11755.31290630639), ('BsmtHalfBath', -412.5440064465763), ('FullBath', 3809.2868701864613), ('HalfBath', -1527.7105268490868), ('BedroomAbvGr', -8821.087876789985), ('KitchenAbvGr', -12721.997902728092), ('TotRmsAbvGrd', 5166.550395149576), ('Fireplaces', 4544.50019743572), ('GarageCars', 12747.312751351206), ('GarageArea', -0.18424589710888312), ('WoodDeckSF', 24.161390875105596), ('OpenPorchSF', -11.659823923549059), ('EnclosedPorch', -1.1384144697185938), ('3SsnPorch', 43.998631166117356), ('ScreenPorch', 66.14025688440506), ('PoolArea', -33.41556414240999), ('MiscVal', -2.2315147406692666), ('MoSold', -105.30250257904936), ('YrSold', -291.90493711191317)]\n"
     ]
    }
   ],
   "source": [
    "# Print the intercept and the coefficients paired with the corresponding column names\n",
    "print(lr.intercept_)\n",
    "print(list(zip(ames_df.columns, lr.coef_)))"
   ]
  },
  {
   "cell_type": "markdown",
   "metadata": {},
   "source": [
    "You will learn in this lesson how to interpret those numbers."
   ]
  },
  {
   "cell_type": "markdown",
   "metadata": {
    "toc-hr-collapsed": true
   },
   "source": [
    "## The Bikeshare Data Set"
   ]
  },
  {
   "cell_type": "markdown",
   "metadata": {},
   "source": [
    "We are going to use bikeshare data to build a simple demand forecasting model."
   ]
  },
  {
   "cell_type": "code",
   "execution_count": 12,
   "metadata": {},
   "outputs": [],
   "source": [
    "# Read the data and set the datetime as the index.\n",
    "# /scrub/\n",
    "bikes_path = '../assets/data/bikeshare.csv'\n",
    "bikes = pd.read_csv(bikes_path, index_col='datetime', parse_dates=True)"
   ]
  },
  {
   "cell_type": "code",
   "execution_count": 13,
   "metadata": {},
   "outputs": [
    {
     "data": {
      "text/html": [
       "<div>\n",
       "<style scoped>\n",
       "    .dataframe tbody tr th:only-of-type {\n",
       "        vertical-align: middle;\n",
       "    }\n",
       "\n",
       "    .dataframe tbody tr th {\n",
       "        vertical-align: top;\n",
       "    }\n",
       "\n",
       "    .dataframe thead th {\n",
       "        text-align: right;\n",
       "    }\n",
       "</style>\n",
       "<table border=\"1\" class=\"dataframe\">\n",
       "  <thead>\n",
       "    <tr style=\"text-align: right;\">\n",
       "      <th></th>\n",
       "      <th>season</th>\n",
       "      <th>holiday</th>\n",
       "      <th>workingday</th>\n",
       "      <th>weather</th>\n",
       "      <th>temp</th>\n",
       "      <th>atemp</th>\n",
       "      <th>humidity</th>\n",
       "      <th>windspeed</th>\n",
       "      <th>casual</th>\n",
       "      <th>registered</th>\n",
       "      <th>count</th>\n",
       "    </tr>\n",
       "    <tr>\n",
       "      <th>datetime</th>\n",
       "      <th></th>\n",
       "      <th></th>\n",
       "      <th></th>\n",
       "      <th></th>\n",
       "      <th></th>\n",
       "      <th></th>\n",
       "      <th></th>\n",
       "      <th></th>\n",
       "      <th></th>\n",
       "      <th></th>\n",
       "      <th></th>\n",
       "    </tr>\n",
       "  </thead>\n",
       "  <tbody>\n",
       "    <tr>\n",
       "      <th>2011-01-01 00:00:00</th>\n",
       "      <td>1</td>\n",
       "      <td>0</td>\n",
       "      <td>0</td>\n",
       "      <td>1</td>\n",
       "      <td>3.28</td>\n",
       "      <td>3.0014</td>\n",
       "      <td>81</td>\n",
       "      <td>0.0</td>\n",
       "      <td>3</td>\n",
       "      <td>13</td>\n",
       "      <td>16</td>\n",
       "    </tr>\n",
       "    <tr>\n",
       "      <th>2011-01-01 01:00:00</th>\n",
       "      <td>1</td>\n",
       "      <td>0</td>\n",
       "      <td>0</td>\n",
       "      <td>1</td>\n",
       "      <td>2.34</td>\n",
       "      <td>1.9982</td>\n",
       "      <td>80</td>\n",
       "      <td>0.0</td>\n",
       "      <td>8</td>\n",
       "      <td>32</td>\n",
       "      <td>40</td>\n",
       "    </tr>\n",
       "    <tr>\n",
       "      <th>2011-01-01 02:00:00</th>\n",
       "      <td>1</td>\n",
       "      <td>0</td>\n",
       "      <td>0</td>\n",
       "      <td>1</td>\n",
       "      <td>2.34</td>\n",
       "      <td>1.9982</td>\n",
       "      <td>80</td>\n",
       "      <td>0.0</td>\n",
       "      <td>5</td>\n",
       "      <td>27</td>\n",
       "      <td>32</td>\n",
       "    </tr>\n",
       "    <tr>\n",
       "      <th>2011-01-01 03:00:00</th>\n",
       "      <td>1</td>\n",
       "      <td>0</td>\n",
       "      <td>0</td>\n",
       "      <td>1</td>\n",
       "      <td>3.28</td>\n",
       "      <td>3.0014</td>\n",
       "      <td>75</td>\n",
       "      <td>0.0</td>\n",
       "      <td>3</td>\n",
       "      <td>10</td>\n",
       "      <td>13</td>\n",
       "    </tr>\n",
       "    <tr>\n",
       "      <th>2011-01-01 04:00:00</th>\n",
       "      <td>1</td>\n",
       "      <td>0</td>\n",
       "      <td>0</td>\n",
       "      <td>1</td>\n",
       "      <td>3.28</td>\n",
       "      <td>3.0014</td>\n",
       "      <td>75</td>\n",
       "      <td>0.0</td>\n",
       "      <td>0</td>\n",
       "      <td>1</td>\n",
       "      <td>1</td>\n",
       "    </tr>\n",
       "  </tbody>\n",
       "</table>\n",
       "</div>"
      ],
      "text/plain": [
       "                     season  holiday  workingday  weather  temp   atemp  \\\n",
       "datetime                                                                  \n",
       "2011-01-01 00:00:00       1        0           0        1  3.28  3.0014   \n",
       "2011-01-01 01:00:00       1        0           0        1  2.34  1.9982   \n",
       "2011-01-01 02:00:00       1        0           0        1  2.34  1.9982   \n",
       "2011-01-01 03:00:00       1        0           0        1  3.28  3.0014   \n",
       "2011-01-01 04:00:00       1        0           0        1  3.28  3.0014   \n",
       "\n",
       "                     humidity  windspeed  casual  registered  count  \n",
       "datetime                                                             \n",
       "2011-01-01 00:00:00        81        0.0       3          13     16  \n",
       "2011-01-01 01:00:00        80        0.0       8          32     40  \n",
       "2011-01-01 02:00:00        80        0.0       5          27     32  \n",
       "2011-01-01 03:00:00        75        0.0       3          10     13  \n",
       "2011-01-01 04:00:00        75        0.0       0           1      1  "
      ]
     },
     "execution_count": 13,
     "metadata": {},
     "output_type": "execute_result"
    }
   ],
   "source": [
    "# Preview the first five rows of the DataFrame.\n",
    "# /scrub/\n",
    "bikes.head()"
   ]
  },
  {
   "cell_type": "markdown",
   "metadata": {},
   "source": [
    "Each observation is an hour of events.\n",
    "\n",
    "`count` indicates the total number of riders. It will be the target variable that we try to forecast."
   ]
  },
  {
   "cell_type": "markdown",
   "metadata": {},
   "source": [
    "`casual` and `registered` are segments of the total users, so they are alternative target variables  that aren't available for forecasting total users."
   ]
  },
  {
   "cell_type": "markdown",
   "metadata": {},
   "source": [
    "### Data dictionary"
   ]
  },
  {
   "cell_type": "markdown",
   "metadata": {},
   "source": [
    "| Variable| Description |\n",
    "|---------|----------------|\n",
    "|datetime| hourly date + timestamp  |\n",
    "|season|  1 = winter, 2 = spring, 3 = summer, 4 = fall |\n",
    "|holiday| whether the day is considered a holiday|\n",
    "|workingday| whether the day is neither a weekend nor holiday|\n",
    "|weather| See below|\n",
    "|temp| temp_celsius in Celsius|\n",
    "|atemp| \"feels like\" temp_celsius in Celsius|\n",
    "|humidity| relative humidity|\n",
    "|windspeed| wind speed|\n",
    "|casual| number of non-num_registered_users user rentals initiated|\n",
    "|registered| number of num_registered_users user rentals initiated|\n",
    "|count| number of total rentals|\n",
    "\n",
    "_Details on Weather Variable_:\n",
    "\n",
    "- **1**: Clear, Few clouds, Partly cloudy, Partly cloudy\n",
    "- **2**: Mist + Cloudy, Mist + Broken clouds, Mist + Few clouds, Mist\n",
    "- **3**: Light Snow, Light Rain + Thunderstorm + Scattered clouds, Light Rain + Scattered clouds\n",
    "- **4**: Heavy Rain + Ice Pallets + Thunderstorm + Mist, Snow + Fog"
   ]
  },
  {
   "cell_type": "code",
   "execution_count": 14,
   "metadata": {},
   "outputs": [],
   "source": [
    "# Make names more explicit\n",
    "bikes = bikes.rename(\n",
    "    columns={'temp':'temp_celsius',\n",
    "             'atemp':'atemp_celsius',\n",
    "             'windspeed': 'windspeed_knots',\n",
    "             'casual': 'num_casual_users',\n",
    "             'registered': 'num_registered_users',\n",
    "             'season': 'season_num',\n",
    "             'holiday': 'is_holiday',\n",
    "             'workingday': 'is_workingday',\n",
    "             'humidity': 'humidity_percent',\n",
    "             'count': 'num_total_users'\n",
    "            },\n",
    ")"
   ]
  },
  {
   "cell_type": "markdown",
   "metadata": {},
   "source": [
    "## A Linear Model for the Bikeshare Dataset"
   ]
  },
  {
   "cell_type": "code",
   "execution_count": 15,
   "metadata": {},
   "outputs": [
    {
     "data": {
      "image/png": "[encoded data removed]",
      "text/plain": [
       "<Figure size 432x288 with 1 Axes>"
      ]
     },
     "metadata": {
      "needs_background": "light"
     },
     "output_type": "display_data"
    }
   ],
   "source": [
    "# make a scatterplot of `num_total_users` against `temp_celsius`\n",
    "# /scrub/\n",
    "ax = bikes.plot(kind='scatter', x='temp_celsius', y='num_total_users', alpha=0.2);"
   ]
  },
  {
   "cell_type": "code",
   "execution_count": 16,
   "metadata": {},
   "outputs": [
    {
     "name": "stderr",
     "output_type": "stream",
     "text": [
      "/Users/gGandenberger/anaconda3/envs/ga/lib/python3.7/site-packages/scipy/stats/stats.py:1713: FutureWarning: Using a non-tuple sequence for multidimensional indexing is deprecated; use `arr[tuple(seq)]` instead of `arr[seq]`. In the future this will be interpreted as an array index, `arr[np.array(seq)]`, which will result either in an error or a different result.\n",
      "  return np.add.reduce(sorted[indexer] * weights, axis=axis) / sumval\n"
     ]
    },
    {
     "data": {
      "image/png": "[encoded data removed]",
      "text/plain": [
       "<Figure size 540x360 with 1 Axes>"
      ]
     },
     "metadata": {
      "needs_background": "light"
     },
     "output_type": "display_data"
    }
   ],
   "source": [
    "# Use Seaborn to create a scatterplot with regression line\n",
    "# sns.lmplot does not allow us to pass in an Axes object.\n",
    "# It creates a FaceGrid object that has the relevant Axes object\n",
    "# as its ax attribute.\n",
    "# /scrub/\n",
    "g = sns.lmplot(x='temp_celsius',\n",
    "               y='num_total_users',\n",
    "               data=bikes,\n",
    "               aspect=1.5, # aspect ratio (width:height)\n",
    "               scatter_kws={'alpha':0.2}, # this is how you pass arguments to the underlying scatterplot\n",
    "               );\n",
    "g.ax.set_title('We just created a statistical model');"
   ]
  },
  {
   "cell_type": "markdown",
   "metadata": {},
   "source": [
    "We just created a linear regression model!\n",
    "\n",
    "- **Formula for a line:** $y = mx + b$\n",
    "- **Alternative notation:** $y = \\beta_0 + \\beta_1 * x$\n",
    "- **Our model:** $\\mbox{num_total_users} = \\beta_0 + \\beta_1 * \\mbox{temp_celsius} + \\epsilon$"
   ]
  },
  {
   "cell_type": "markdown",
   "metadata": {},
   "source": [
    "We call $\\beta_0$ the **model intercept** and $\\beta_1$ the **coefficient of `temp_celsius`**.\n",
    "\n",
    "We call $\\epsilon$ the **noise** or **error term**. It accounts for the fact that our points do not lie exactly on a line. Linear regression is designed to be optimal when this noise is normally distributed with constant variance. We ignore it when we use the model to make predictions."
   ]
  },
  {
   "cell_type": "markdown",
   "metadata": {},
   "source": [
    "**Exercise (4 mins, in groups).** Answer each question below in terms of $\\beta_0$ (\"beta naught\"), $\\beta_1$, and $\\epsilon$ (\"epsilon\")."
   ]
  },
  {
   "cell_type": "markdown",
   "metadata": {},
   "source": [
    "- What would our model predict for `num_total_users` at `temp_celsius=0`?"
   ]
  },
  {
   "cell_type": "markdown",
   "metadata": {},
   "source": [
    "/scrub/\n",
    "\n",
    "$\\beta_0$"
   ]
  },
  {
   "cell_type": "markdown",
   "metadata": {},
   "source": [
    "- If `temp_celsius` increases by 1, how does our model's prediction for `num_total_users` change? What if $\\beta_1$ were negative?"
   ]
  },
  {
   "cell_type": "markdown",
   "metadata": {},
   "source": [
    "/scrub/\n",
    "\n",
    "It increases by $\\beta_1$. If $\\beta_1$ were negative, then it would decrease by $|\\beta_1|$."
   ]
  },
  {
   "cell_type": "markdown",
   "metadata": {},
   "source": [
    "$\\blacksquare$"
   ]
  },
  {
   "cell_type": "markdown",
   "metadata": {},
   "source": [
    "It's important to understand that this model does **not** tell us what would happen if we were to *intervene* to change the temperature in Celsius (say, by deploying thousands of heat lamps around the city). It may be that temperature is correlated with ridership purely because students are more likely to ride when they are on break and they have their longest break during the summer, and not directly because of the temperature. In that case, intervene to change the temperature directly will have no effect.\n",
    "\n",
    "**Machine learning models trained on passively collected data (as opposed to data from an experiment) cannot be expected to generalize to scenarios in which you are interfering with the system.** We will talk more about this issue in a lesson on causation."
   ]
  },
  {
   "cell_type": "markdown",
   "metadata": {},
   "source": [
    "**Takeaways:**\n",
    "\n",
    "- Linear regression with one input feature chooses the *line* that \"best fits\" a scatterplot of the target variable against that input feature.\n",
    "- The model intercept tells you what the model would predict if all of the input variables were zero.\n",
    "- The coefficient on a variable tells you how much and in what direction the model's prediction would change if the relevant variable were to increase by 1.\n",
    "- If the data was collected passively (e.g. not as part of a randomized experiment), then a linear regression model is **not** reliable for telling you what would happen if you were to intervene to change the value of a feature."
   ]
  },
  {
   "cell_type": "markdown",
   "metadata": {
    "toc-hr-collapsed": true
   },
   "source": [
    "## Building a Linear Regression Model with scikit-learn"
   ]
  },
  {
   "cell_type": "markdown",
   "metadata": {},
   "source": [
    "When we called `sns.lmplot`, `seaborn` created a linear regression model which it then displayed to us.\n",
    "\n",
    "A more typical workflow for creating a linear regression model uses scikit-learn."
   ]
  },
  {
   "cell_type": "markdown",
   "metadata": {},
   "source": [
    "scikit-learn is the most popular Python library for machine learning.\n",
    "\n",
    "**Strengths:**\n",
    "\n",
    "- Includes good implementations of a wide range of algorithms.\n",
    "- Provides consistent interface across model types.\n",
    "- Provides excellent documentation.\n",
    "- Large community --> tons of resources for learning and getting questions answered.\n",
    "\n",
    "**Limitations:**\n",
    "\n",
    "- Designed primarily for single-thread, in-memory computing.\n",
    "- Has only basic capabilites for deep learning.\n",
    "- Reflects machine learning rather than statistics mindset: focuses on predictive accuracy on held-out data rather than hypothesis testing, parameter estimation, and model interpretation."
   ]
  },
  {
   "cell_type": "markdown",
   "metadata": {},
   "source": [
    "### Preparing the Data"
   ]
  },
  {
   "cell_type": "code",
   "execution_count": 17,
   "metadata": {},
   "outputs": [],
   "source": [
    "# 1. Split your feature columns from your target column\n",
    "# /scrub/\n",
    "target_col = 'num_total_users'\n",
    "X = bikes.drop(target_col, axis='columns')\n",
    "y = bikes.loc[:, target_col]"
   ]
  },
  {
   "cell_type": "code",
   "execution_count": 18,
   "metadata": {},
   "outputs": [],
   "source": [
    "# 2. Refine your feature columns.\n",
    "# In machine learning competitions, most of the work happens in this step.\n",
    "# We will talk more about \"feature engineering\" in another lesson.\n",
    "# For now, let's just select the temp_celsius column.\n",
    "# /scrub/\n",
    "feature_cols = ['temp_celsius']\n",
    "X = X.loc[:, feature_cols]"
   ]
  },
  {
   "cell_type": "code",
   "execution_count": 19,
   "metadata": {},
   "outputs": [],
   "source": [
    "# 3. Split your rows into a training set and a test set.\n",
    "# Setting a value for `random_state` ensures that we get the same\n",
    "# result if we run this code more than once, which can be helpful\n",
    "# for debugging. What we set it to is arbitrary.\n",
    "# /scrub/\n",
    "X_train, X_test, y_train, y_test = train_test_split(X, y, random_state=16)"
   ]
  },
  {
   "cell_type": "markdown",
   "metadata": {},
   "source": [
    "### Training the Model"
   ]
  },
  {
   "cell_type": "code",
   "execution_count": 20,
   "metadata": {},
   "outputs": [],
   "source": [
    "# 1. Import the LinearRegression model class.\n",
    "# /scrub/\n",
    "from sklearn.linear_model import LinearRegression"
   ]
  },
  {
   "cell_type": "code",
   "execution_count": 21,
   "metadata": {},
   "outputs": [
    {
     "data": {
      "text/plain": [
       "sklearn.linear_model.base.LinearRegression"
      ]
     },
     "execution_count": 21,
     "metadata": {},
     "output_type": "execute_result"
    }
   ],
   "source": [
    "# 2. Make an instance of the LinearRegression class.\n",
    "# /scrub/\n",
    "lr_celsius = LinearRegression()\n",
    "type(lr_celsius)"
   ]
  },
  {
   "cell_type": "code",
   "execution_count": 22,
   "metadata": {},
   "outputs": [
    {
     "data": {
      "text/plain": [
       "LinearRegression(copy_X=True, fit_intercept=True, n_jobs=None,\n",
       "         normalize=False)"
      ]
     },
     "execution_count": 22,
     "metadata": {},
     "output_type": "execute_result"
    }
   ],
   "source": [
    "# 3. Train the model instance on the training set.\n",
    "# Fitting changes the model `lr_celsius` in-place. scikit-learn is figuring out\n",
    "# the values to use for $\\beta_0$ and $\\beta_1$ and storing them inside the model\n",
    "# so that it can be used for prediction.\n",
    "# /scrub/\n",
    "lr_celsius.fit(X_train, y_train)"
   ]
  },
  {
   "cell_type": "markdown",
   "metadata": {},
   "source": [
    "### Evaluating the Model"
   ]
  },
  {
   "cell_type": "code",
   "execution_count": 23,
   "metadata": {},
   "outputs": [
    {
     "data": {
      "text/plain": [
       "0.16374148858298476"
      ]
     },
     "execution_count": 23,
     "metadata": {},
     "output_type": "execute_result"
    }
   ],
   "source": [
    "# Score the model on the test set.\n",
    "# /scrub/\n",
    "lr_celsius.score(X_test, y_test)"
   ]
  },
  {
   "cell_type": "code",
   "execution_count": 24,
   "metadata": {},
   "outputs": [
    {
     "data": {
      "image/png": "[encoded data removed]",
      "text/plain": [
       "<Figure size 576x288 with 1 Axes>"
      ]
     },
     "metadata": {
      "needs_background": "light"
     },
     "output_type": "display_data"
    }
   ],
   "source": [
    "# Look at the model's errors against time\n",
    "# /scrub/\n",
    "fig, ax = plt.subplots(figsize=(8, 4))\n",
    "residuals = y_test - lr_celsius.predict(X_test)\n",
    "ax.scatter(x=X_test.index, y=residuals, alpha=.1);"
   ]
  },
  {
   "cell_type": "markdown",
   "metadata": {},
   "source": [
    "**Exercise (4 mins.)**"
   ]
  },
  {
   "cell_type": "markdown",
   "metadata": {},
   "source": [
    "- What would the plot above look like if our model's predictions were perfectly accurate?"
   ]
  },
  {
   "cell_type": "markdown",
   "metadata": {},
   "source": [
    "/scrub/\n",
    "\n",
    "The points would all lie on the line `y=0`."
   ]
  },
  {
   "cell_type": "markdown",
   "metadata": {},
   "source": [
    "- Recall that linear regression is designed to be optimal when errors around a linear model are normally distributed around zero with constant variance. Is that what we see in this case?"
   ]
  },
  {
   "cell_type": "markdown",
   "metadata": {},
   "source": [
    "/scrub/\n",
    "\n",
    "No, we see right-skewed errors with changing bias and increasing variance."
   ]
  },
  {
   "cell_type": "markdown",
   "metadata": {},
   "source": [
    "$\\blacksquare$"
   ]
  },
  {
   "cell_type": "markdown",
   "metadata": {},
   "source": [
    "### Takeaway: Basic Scikit-Learn Supervised Learning Workflow"
   ]
  },
  {
   "cell_type": "markdown",
   "metadata": {},
   "source": [
    "- **Prepare the data:**\n",
    "    - Load it in. Reshape it is necessary so that each row is an observation and each column is a variable.\n",
    "    - Split columnwise into a target variable and one or more feature variables.\n",
    "    - Transform your variables to make them more useful to your model.\n",
    "    - Split rowwise into a training set and a test set.\n",
    "- **Train the model:**\n",
    "    - Import the model class.\n",
    "    - \"Instantiate\" the class. You can specify \"hyperparameters\" at this point.\n",
    "    - Fit the model instance on the training set. (This step changes the model object in-place.)\n",
    "- **Measure the model's performance on the test set.**"
   ]
  },
  {
   "cell_type": "markdown",
   "metadata": {
    "toc-hr-collapsed": true
   },
   "source": [
    "## Linear Regression with Multiple Features"
   ]
  },
  {
   "cell_type": "markdown",
   "metadata": {},
   "source": [
    "- **Using `temp_celsius` only:** $\\mbox{num_total_users} = \\beta_0 +  \\beta_1 * \\mbox{temp_celsius} + \\epsilon$\n",
    "- **Using `temp_celsius` and `humidity_percent`:** $\\mbox{num_total_users} = \\beta_0 +  \\beta_1 * \\mbox{temp_celsius} +  \\beta_2 * \\mbox{humidity_percent} + \\epsilon$"
   ]
  },
  {
   "cell_type": "markdown",
   "metadata": {},
   "source": [
    "Linear regression with two input features chooses the *plane* that \"best fits\" a 3D scatterplot of the target variable against those input features."
   ]
  },
  {
   "cell_type": "markdown",
   "metadata": {},
   "source": [
    "<img src=\"../assets/images/3d_scatterplot.png\" style=\"height: 350px\">"
   ]
  },
  {
   "cell_type": "markdown",
   "metadata": {},
   "source": [
    "In general, linear regression chooses the \"hyperplane\" that \"best fits\" a scatterplot of the target variable against the input features."
   ]
  },
  {
   "cell_type": "markdown",
   "metadata": {},
   "source": [
    "**Exercise (7 mins., in groups)** Answer each question below for the second model written out above, in terms of $\\beta_0$, $\\beta_1$, $\\beta_2$, and $\\epsilon$ (\"epsilon\")."
   ]
  },
  {
   "cell_type": "markdown",
   "metadata": {},
   "source": [
    "- What would our model predict for `num_total_users` at `temp_celsius=0` and `humidity_percent=0`?"
   ]
  },
  {
   "cell_type": "markdown",
   "metadata": {},
   "source": [
    "/scrub/\n",
    "\n",
    "$\\beta_0$"
   ]
  },
  {
   "cell_type": "markdown",
   "metadata": {},
   "source": [
    "- If `temp_celsius` increases by 5 while `percent_humidity` remains the same, how does our model's prediction for `num_total_users` change?"
   ]
  },
  {
   "cell_type": "markdown",
   "metadata": {},
   "source": [
    "/scrub/\n",
    "\n",
    "It increases by $5*\\beta_1$."
   ]
  },
  {
   "cell_type": "markdown",
   "metadata": {},
   "source": [
    "- If `percent_humidity` decreases by 3 while `temp_celsius` remains the same, how does our model's prediction for `num_total_users` change?"
   ]
  },
  {
   "cell_type": "markdown",
   "metadata": {},
   "source": [
    "/scrub/\n",
    "\n",
    "It decreases by $3*\\beta_2$"
   ]
  },
  {
   "cell_type": "markdown",
   "metadata": {},
   "source": [
    "- Why does the previous question say \"while `temp_celsius` remains the same?\""
   ]
  },
  {
   "cell_type": "markdown",
   "metadata": {},
   "source": [
    "/scrub/\n",
    "\n",
    "`humidity_percent` might be correlated with temperature, for instance. In that case, a typical day with `humidity_percent` 60 would be warmer than a typical day with `humidity_percent` 57. The coefficient on `humidity_percent` doesn't reflect this relationship. It only reflects the influence of `humidity_percent` on the model's predictions *all else being equal*."
   ]
  },
  {
   "cell_type": "markdown",
   "metadata": {},
   "source": [
    "- What would it mean if a feature had a coefficient of 0?"
   ]
  },
  {
   "cell_type": "markdown",
   "metadata": {},
   "source": [
    "/scrub/\n",
    "\n",
    "It would mean that the feature made no difference to the model's predictions, holding all other features fixed."
   ]
  },
  {
   "cell_type": "markdown",
   "metadata": {},
   "source": [
    "$\\blacksquare$"
   ]
  },
  {
   "cell_type": "markdown",
   "metadata": {},
   "source": [
    "**Takeaways:** Interpretation of the parameters of a linear regression model does not change as we add more variables, except that each coefficient tells us how the model's prediction would change if the associated variable were to change *while all other variables remained the same*."
   ]
  },
  {
   "cell_type": "markdown",
   "metadata": {},
   "source": [
    "Let's build a linear regression model with two features."
   ]
  },
  {
   "cell_type": "code",
   "execution_count": 25,
   "metadata": {},
   "outputs": [],
   "source": [
    "# 1. Split your feature columns from your target column\n",
    "# We still have `y` from before, but we'll create it again for practice.\n",
    "# We have to start over with `X` because we kept only \"temp_celsius\" before.\n",
    "# /scrub/\n",
    "target_col = 'num_total_users'\n",
    "X = bikes.drop(target_col, axis='columns')\n",
    "y = bikes.loc[:, target_col]"
   ]
  },
  {
   "cell_type": "code",
   "execution_count": 26,
   "metadata": {},
   "outputs": [],
   "source": [
    "# 2. Refine your feature columns.\n",
    "# /scrub/\n",
    "feature_cols = ['temp_celsius', 'humidity_percent']\n",
    "X = X.loc[:, feature_cols]"
   ]
  },
  {
   "cell_type": "code",
   "execution_count": 27,
   "metadata": {},
   "outputs": [],
   "source": [
    "# 3. Split your rows into a training set and a test set.\n",
    "# /scrub/\n",
    "X_train, X_test, y_train, y_test = train_test_split(X, y, random_state=16)"
   ]
  },
  {
   "cell_type": "markdown",
   "metadata": {
    "toc-hr-collapsed": false
   },
   "source": [
    "### Training the Model"
   ]
  },
  {
   "cell_type": "code",
   "execution_count": 28,
   "metadata": {},
   "outputs": [],
   "source": [
    "# 1. Import the LinearRegression model class.\n",
    "# We don't have to do this again, but we will for practice.\n",
    "# /scrub/\n",
    "from sklearn.linear_model import LinearRegression"
   ]
  },
  {
   "cell_type": "code",
   "execution_count": 29,
   "metadata": {},
   "outputs": [
    {
     "data": {
      "text/plain": [
       "sklearn.linear_model.base.LinearRegression"
      ]
     },
     "execution_count": 29,
     "metadata": {},
     "output_type": "execute_result"
    }
   ],
   "source": [
    "# 2. Make an instance of the LinearRegression class.\n",
    "# We could retrain our original model, but it seems more natural\n",
    "# to start over with a new model.\n",
    "# /scrub/\n",
    "lr2 = LinearRegression()\n",
    "type(lr2)"
   ]
  },
  {
   "cell_type": "code",
   "execution_count": 30,
   "metadata": {},
   "outputs": [
    {
     "data": {
      "text/plain": [
       "LinearRegression(copy_X=True, fit_intercept=True, n_jobs=None,\n",
       "         normalize=False)"
      ]
     },
     "execution_count": 30,
     "metadata": {},
     "output_type": "execute_result"
    }
   ],
   "source": [
    "# 3. Train the model instance on the training set.\n",
    "# /scrub/\n",
    "lr2.fit(X_train, y_train)"
   ]
  },
  {
   "cell_type": "code",
   "execution_count": 31,
   "metadata": {},
   "outputs": [
    {
     "data": {
      "text/plain": [
       "0.25383517958265567"
      ]
     },
     "execution_count": 31,
     "metadata": {},
     "output_type": "execute_result"
    }
   ],
   "source": [
    "# 4. Score the model on the test set.\n",
    "# /scrub/\n",
    "lr2.score(X_test, y_test)"
   ]
  },
  {
   "cell_type": "markdown",
   "metadata": {},
   "source": [
    "**Exercise (8 mins., in pairs)**"
   ]
  },
  {
   "cell_type": "markdown",
   "metadata": {},
   "source": [
    "Build another linear regression model, this time using all of our features (not including except `num_casual_users`, `num_registered_users`, and `num_total_users`) as inputs instead of just `temp_celsius`."
   ]
  },
  {
   "cell_type": "markdown",
   "metadata": {},
   "source": [
    "**Model using all columns as given:** $\\mbox{num_total_users} = \\beta_0 + \\beta_1 * \\mbox{season_num} + \\beta_2 * \\mbox{is_holiday} + \\beta_3 * \\mbox{is_workingday} + \\beta_4 * \\mbox{weather} + \\beta_5 * \\mbox{temp_celsius} + \\beta_6 * \\mbox{atemp_celsius} + \\beta_7 * \\mbox{humidity_percent} + \\beta_8 * \\mbox{windspeed_knots} + \\epsilon$"
   ]
  },
  {
   "cell_type": "markdown",
   "metadata": {},
   "source": [
    "- Split your feature columns from your target column."
   ]
  },
  {
   "cell_type": "code",
   "execution_count": 32,
   "metadata": {},
   "outputs": [],
   "source": [
    "# /scrub/\n",
    "target_col = 'num_total_users'\n",
    "X = bikes.drop(target_col, axis='columns')\n",
    "y = bikes.loc[:, target_col]"
   ]
  },
  {
   "cell_type": "markdown",
   "metadata": {},
   "source": [
    "- Refine your feature columns -- just drop the columns we aren't using."
   ]
  },
  {
   "cell_type": "code",
   "execution_count": 33,
   "metadata": {},
   "outputs": [],
   "source": [
    "# /scrub/\n",
    "X = X.drop(['num_casual_users', 'num_registered_users'], axis='columns')"
   ]
  },
  {
   "cell_type": "markdown",
   "metadata": {},
   "source": [
    "- Run the cell below to check your work. (You do not have to understand how this code works -- just know that it will raise an error if your X or y has the wrong type or shape.)"
   ]
  },
  {
   "cell_type": "code",
   "execution_count": 34,
   "metadata": {
    "scrolled": true
   },
   "outputs": [],
   "source": [
    "# Tests\n",
    "assert isinstance(y, pd.Series)\n",
    "assert isinstance(X, pd.DataFrame)\n",
    "assert y.shape == (bikes.shape[0],)\n",
    "assert X.shape == (bikes.shape[0], 8)"
   ]
  },
  {
   "cell_type": "markdown",
   "metadata": {},
   "source": [
    "- Split your rows into a training set and a test set."
   ]
  },
  {
   "cell_type": "code",
   "execution_count": 35,
   "metadata": {},
   "outputs": [],
   "source": [
    "# /scrub/\n",
    "X_train, X_test, y_train, y_test = train_test_split(X, y, random_state=16)"
   ]
  },
  {
   "cell_type": "markdown",
   "metadata": {},
   "source": [
    "- Let's not import the `LinearRegression` class again. Just make a new instance of it. Call that instance lr_all to distinguish it from our last model."
   ]
  },
  {
   "cell_type": "code",
   "execution_count": 36,
   "metadata": {},
   "outputs": [],
   "source": [
    "# /scrub/\n",
    "lr_all = LinearRegression()"
   ]
  },
  {
   "cell_type": "markdown",
   "metadata": {},
   "source": [
    "- Train the model instance on the training set."
   ]
  },
  {
   "cell_type": "code",
   "execution_count": 37,
   "metadata": {},
   "outputs": [
    {
     "data": {
      "text/plain": [
       "LinearRegression(copy_X=True, fit_intercept=True, n_jobs=None,\n",
       "         normalize=False)"
      ]
     },
     "execution_count": 37,
     "metadata": {},
     "output_type": "execute_result"
    }
   ],
   "source": [
    "# /scrub/\n",
    "lr_all.fit(X_train, y_train)"
   ]
  },
  {
   "cell_type": "markdown",
   "metadata": {},
   "source": [
    "- Score the model on the test set."
   ]
  },
  {
   "cell_type": "code",
   "execution_count": 38,
   "metadata": {},
   "outputs": [
    {
     "data": {
      "text/plain": [
       "0.2713195998140574"
      ]
     },
     "execution_count": 38,
     "metadata": {},
     "output_type": "execute_result"
    }
   ],
   "source": [
    "# /scrub/\n",
    "lr_all.score(X_test, y_test)"
   ]
  },
  {
   "cell_type": "markdown",
   "metadata": {},
   "source": [
    "$\\blacksquare$"
   ]
  },
  {
   "cell_type": "markdown",
   "metadata": {},
   "source": [
    "### Exploring the intercept and coefficients of the linear model"
   ]
  },
  {
   "cell_type": "code",
   "execution_count": 39,
   "metadata": {
    "scrolled": true
   },
   "outputs": [
    {
     "name": "stdout",
     "output_type": "stream",
     "text": [
      "218.09834976205892\n",
      "[ 18.86772248 -23.50804226   2.31536083   8.55638388   0.83262738\n",
      "   4.9635344   -2.99739306  48.9440354 ]\n"
     ]
    }
   ],
   "source": [
    "# Print intercept and coefficients\n",
    "# /scrub/\n",
    "print(lr_all.intercept_)\n",
    "print(lr_all.coef_)"
   ]
  },
  {
   "cell_type": "code",
   "execution_count": 40,
   "metadata": {},
   "outputs": [
    {
     "data": {
      "text/plain": [
       "[('a', 1), ('b', 2), ('c', 3)]"
      ]
     },
     "execution_count": 40,
     "metadata": {},
     "output_type": "execute_result"
    }
   ],
   "source": [
    "# `zip` example\n",
    "# /scrub/\n",
    "list(zip(['a', 'b', 'c'], [1, 2, 3]))"
   ]
  },
  {
   "cell_type": "code",
   "execution_count": 41,
   "metadata": {},
   "outputs": [
    {
     "data": {
      "text/plain": [
       "[('season_num', 18.867722478880335),\n",
       " ('is_holiday', -23.508042255544026),\n",
       " ('is_workingday', 2.3153608290035765),\n",
       " ('weather', 8.556383884307763),\n",
       " ('temp_celsius', 0.8326273805476504),\n",
       " ('atemp_celsius', 4.96353440077634),\n",
       " ('humidity_percent', -2.997393055175135),\n",
       " ('windspeed_knots', 48.94403540043124)]"
      ]
     },
     "execution_count": 41,
     "metadata": {},
     "output_type": "execute_result"
    }
   ],
   "source": [
    "# Use `zip` to get variable names next to coefficients\n",
    "# /scrub/\n",
    "list(zip(X.columns, lr_all.coef_))"
   ]
  },
  {
   "cell_type": "markdown",
   "metadata": {},
   "source": [
    "**Exercise (1 min.).** How do the model's predictions change for a holiday vs. a non-holiday, all else being equal?"
   ]
  },
  {
   "cell_type": "code",
   "execution_count": 42,
   "metadata": {},
   "outputs": [
    {
     "data": {
      "text/plain": [
       "Index(['season_num', 'is_holiday', 'is_workingday', 'weather', 'temp_celsius',\n",
       "       'atemp_celsius', 'humidity_percent', 'windspeed_knots'],\n",
       "      dtype='object')"
      ]
     },
     "execution_count": 42,
     "metadata": {},
     "output_type": "execute_result"
    }
   ],
   "source": [
    "# /scrub/\n",
    "X.columns"
   ]
  },
  {
   "cell_type": "markdown",
   "metadata": {},
   "source": [
    "/scrub/\n",
    "\n",
    "They decrease by 21.8"
   ]
  },
  {
   "cell_type": "markdown",
   "metadata": {},
   "source": [
    "$\\blacksquare$"
   ]
  },
  {
   "cell_type": "code",
   "execution_count": 44,
   "metadata": {},
   "outputs": [],
   "source": [
    "# Write the dataset to disk with our modifications so that we can pick up\n",
    "# where we left off in the next module\n",
    "# /scrub/\n",
    "bikes.to_csv('../assets/data/bikeshare_modified.csv')"
   ]
  },
  {
   "cell_type": "markdown",
   "metadata": {
    "toc-hr-collapsed": true
   },
   "source": [
    "## A Little Theory"
   ]
  },
  {
   "cell_type": "markdown",
   "metadata": {},
   "source": [
    "### What \"Best Fits\" Means"
   ]
  },
  {
   "cell_type": "markdown",
   "metadata": {},
   "source": [
    "Fitting a linear regression selects the coefficients and intercept that minimize the **sum of squared errors** of the fitted values on the training set.\n",
    "\n",
    "![Estimating coefficients](../assets/images/estimating_coefficients.png)\n",
    "\n",
    "In the diagram above:\n",
    "\n",
    "- The black dots are the **observed values** of x and y.\n",
    "- The blue line is our **least squares line**.\n",
    "- The red lines are the **residuals**, which are the vertical distances between the observed values and the least squares line."
   ]
  },
  {
   "cell_type": "markdown",
   "metadata": {},
   "source": [
    "### An Overview of Supervised Learning\n",
    "\n",
    "![Supervised learning diagram](../assets/images/supervised_learning.png)"
   ]
  },
  {
   "cell_type": "markdown",
   "metadata": {},
   "source": [
    "## Summary"
   ]
  },
  {
   "cell_type": "markdown",
   "metadata": {},
   "source": [
    "### Linear Regression\n",
    "\n",
    "- Linear regression predicts a target variable by multiplying each feature by a coefficient and adding up the results along with an additional intercept term.\n",
    "- Fitting a linear regression model chooses the coefficients and intercept that minimize mean squared error on the training set.\n",
    "- The intercept tells you what the model predicts when all features are 0.\n",
    "- Each coefficient tells you how the model's predictions change when that variables value increases by one and all other variables stay the same."
   ]
  },
  {
   "cell_type": "markdown",
   "metadata": {},
   "source": [
    "### Supervised Learning\n",
    "\n",
    "- In general, a supervised learning algorithm learns a function that it can use to predict the target variable from the input features.\n",
    "- Scikit-learn supervised learning workflow:\n",
    "    - Prepare the data:\n",
    "        - Load it in. Reshape it is necessary so that each row is an observation and each column is a variable.\n",
    "        - Split columnwise into a target variable and one or more feature variables.\n",
    "        - Transform your variables to make them more useful to your model.\n",
    "        - Split rowwise into a training set and a test set.\n",
    "    - Train the model:\n",
    "        - Import the model class.\n",
    "        - \"Instantiate\" the class. You can specify \"hyperparameters\" at this point.\n",
    "        - Fit the model instance on the training set. (This step changes the model object in-place.)\n",
    "    - Measure the model's performance on the test set.\n",
    "- A machine learning model trained on passively collected data is not reliable for predicting what will happen if we intervene to change something in the system."
   ]
  }
 ],
 "metadata": {
  "kernelspec": {
   "display_name": "Python 3",
   "language": "python",
   "name": "python3"
  },
  "language_info": {
   "codemirror_mode": {
    "name": "ipython",
    "version": 3
   },
   "file_extension": ".py",
   "mimetype": "text/x-python",
   "name": "python",
   "nbconvert_exporter": "python",
   "pygments_lexer": "ipython3",
   "version": "3.6.8"
  }
 },
 "nbformat": 4,
 "nbformat_minor": 2
}
