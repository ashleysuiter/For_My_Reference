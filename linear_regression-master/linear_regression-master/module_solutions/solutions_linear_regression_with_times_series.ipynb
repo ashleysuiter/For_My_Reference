{
 "cells": [
  {
   "cell_type": "markdown",
   "metadata": {
    "toc-hr-collapsed": false
   },
   "source": [
    "<img src=\"http://imgur.com/1ZcRyrc.png\" style=\"float: left; margin: 20px; height: 55px\">\n",
    "\n",
    "# Linear Regression for Time Series Data\n",
    "\n",
    "_Authors: Kevin Markham (Washington, D.C.), Ed Podojil (New York City)_"
   ]
  },
  {
   "cell_type": "code",
   "execution_count": 1,
   "metadata": {},
   "outputs": [],
   "source": [
    "import matplotlib.pyplot as plt\n",
    "import numpy as np\n",
    "import seaborn as sns\n",
    "import pandas as pd\n",
    "from pandas.plotting import register_matplotlib_converters\n",
    "\n",
    "register_matplotlib_converters()\n",
    "plt.style.use('fivethirtyeight')"
   ]
  },
  {
   "cell_type": "code",
   "execution_count": 2,
   "metadata": {},
   "outputs": [],
   "source": [
    "%matplotlib inline"
   ]
  },
  {
   "cell_type": "code",
   "execution_count": 3,
   "metadata": {},
   "outputs": [],
   "source": [
    "bikes = pd.read_csv('../assets/data/bikeshare_modified.csv',\n",
    "                    index_col='datetime',\n",
    "                    parse_dates=True\n",
    "                   )"
   ]
  },
  {
   "cell_type": "markdown",
   "metadata": {
    "toc-hr-collapsed": false
   },
   "source": [
    "## Hang on a Second..."
   ]
  },
  {
   "cell_type": "markdown",
   "metadata": {},
   "source": [
    "There's something fishy about our model. We are trying to \"predict\" the number of riders at a given time from the values that other variables have *at that same time*. That's...not prediction."
   ]
  },
  {
   "cell_type": "markdown",
   "metadata": {},
   "source": [
    "Traditional time series modeling techniques that have been developed in statistics and econometrics would predict the value of `num_total_users` at a given time from values of that same variable at previous times. In this notebook, we will instead adapt linear regression to predict `num_total_users` from other variables.\n",
    "\n",
    "This general approach of applying standard supervised learning models to time-series data often gives better results than traditional time series modeling in machine learning competitions."
   ]
  },
  {
   "cell_type": "markdown",
   "metadata": {
    "toc-hr-collapsed": true
   },
   "source": [
    "## Using a Standard Supervised Learning Model with Time-Series Data"
   ]
  },
  {
   "cell_type": "markdown",
   "metadata": {},
   "source": [
    "### Time-Shifting the Feature Variables"
   ]
  },
  {
   "cell_type": "markdown",
   "metadata": {},
   "source": [
    "If we want to be able to predict ridership two hours in advance, for instance, then we need to do it using only information that is available two hours in advance."
   ]
  },
  {
   "cell_type": "markdown",
   "metadata": {},
   "source": [
    "One way to do that is to take the variables that we cannot know in advance and to shift them back in time. For instance, at 6pm we cannot use the temperature at 8pm to predict ridership at 8pm, but we can use the temperature at 6pm, which is after all strongly correlated with the temperature at 6pm."
   ]
  },
  {
   "cell_type": "code",
   "execution_count": 4,
   "metadata": {},
   "outputs": [],
   "source": [
    "# Shift variables that cannot be known in advance forward in time\n",
    "# /scrub/\n",
    "time_sensitive_features = ['weather',\n",
    "                           'temp_celsius',\n",
    "                           'atemp_celsius',\n",
    "                           'humidity_percent',\n",
    "                           'windspeed_knots'\n",
    "                          ]\n",
    "for feature in time_sensitive_features:\n",
    "    new_feature = feature + '_2hrs_ago'\n",
    "    bikes.loc[:, new_feature] = bikes.loc[:, feature].shift(2)"
   ]
  },
  {
   "cell_type": "code",
   "execution_count": 5,
   "metadata": {},
   "outputs": [
    {
     "data": {
      "text/html": [
       "<div>\n",
       "<style scoped>\n",
       "    .dataframe tbody tr th:only-of-type {\n",
       "        vertical-align: middle;\n",
       "    }\n",
       "\n",
       "    .dataframe tbody tr th {\n",
       "        vertical-align: top;\n",
       "    }\n",
       "\n",
       "    .dataframe thead th {\n",
       "        text-align: right;\n",
       "    }\n",
       "</style>\n",
       "<table border=\"1\" class=\"dataframe\">\n",
       "  <thead>\n",
       "    <tr style=\"text-align: right;\">\n",
       "      <th></th>\n",
       "      <th>season_num</th>\n",
       "      <th>is_holiday</th>\n",
       "      <th>is_workingday</th>\n",
       "      <th>weather</th>\n",
       "      <th>temp_celsius</th>\n",
       "      <th>atemp_celsius</th>\n",
       "      <th>humidity_percent</th>\n",
       "      <th>windspeed_knots</th>\n",
       "      <th>num_casual_users</th>\n",
       "      <th>num_registered_users</th>\n",
       "      <th>num_total_users</th>\n",
       "      <th>weather_2hrs_ago</th>\n",
       "      <th>temp_celsius_2hrs_ago</th>\n",
       "      <th>atemp_celsius_2hrs_ago</th>\n",
       "      <th>humidity_percent_2hrs_ago</th>\n",
       "      <th>windspeed_knots_2hrs_ago</th>\n",
       "    </tr>\n",
       "    <tr>\n",
       "      <th>datetime</th>\n",
       "      <th></th>\n",
       "      <th></th>\n",
       "      <th></th>\n",
       "      <th></th>\n",
       "      <th></th>\n",
       "      <th></th>\n",
       "      <th></th>\n",
       "      <th></th>\n",
       "      <th></th>\n",
       "      <th></th>\n",
       "      <th></th>\n",
       "      <th></th>\n",
       "      <th></th>\n",
       "      <th></th>\n",
       "      <th></th>\n",
       "      <th></th>\n",
       "    </tr>\n",
       "  </thead>\n",
       "  <tbody>\n",
       "    <tr>\n",
       "      <th>2011-01-01 00:00:00</th>\n",
       "      <td>1</td>\n",
       "      <td>0</td>\n",
       "      <td>0</td>\n",
       "      <td>1</td>\n",
       "      <td>3.28</td>\n",
       "      <td>3.0014</td>\n",
       "      <td>81</td>\n",
       "      <td>0.0</td>\n",
       "      <td>3</td>\n",
       "      <td>13</td>\n",
       "      <td>16</td>\n",
       "      <td>NaN</td>\n",
       "      <td>NaN</td>\n",
       "      <td>NaN</td>\n",
       "      <td>NaN</td>\n",
       "      <td>NaN</td>\n",
       "    </tr>\n",
       "    <tr>\n",
       "      <th>2011-01-01 01:00:00</th>\n",
       "      <td>1</td>\n",
       "      <td>0</td>\n",
       "      <td>0</td>\n",
       "      <td>1</td>\n",
       "      <td>2.34</td>\n",
       "      <td>1.9982</td>\n",
       "      <td>80</td>\n",
       "      <td>0.0</td>\n",
       "      <td>8</td>\n",
       "      <td>32</td>\n",
       "      <td>40</td>\n",
       "      <td>NaN</td>\n",
       "      <td>NaN</td>\n",
       "      <td>NaN</td>\n",
       "      <td>NaN</td>\n",
       "      <td>NaN</td>\n",
       "    </tr>\n",
       "    <tr>\n",
       "      <th>2011-01-01 02:00:00</th>\n",
       "      <td>1</td>\n",
       "      <td>0</td>\n",
       "      <td>0</td>\n",
       "      <td>1</td>\n",
       "      <td>2.34</td>\n",
       "      <td>1.9982</td>\n",
       "      <td>80</td>\n",
       "      <td>0.0</td>\n",
       "      <td>5</td>\n",
       "      <td>27</td>\n",
       "      <td>32</td>\n",
       "      <td>1.0</td>\n",
       "      <td>3.28</td>\n",
       "      <td>3.0014</td>\n",
       "      <td>81.0</td>\n",
       "      <td>0.0</td>\n",
       "    </tr>\n",
       "    <tr>\n",
       "      <th>2011-01-01 03:00:00</th>\n",
       "      <td>1</td>\n",
       "      <td>0</td>\n",
       "      <td>0</td>\n",
       "      <td>1</td>\n",
       "      <td>3.28</td>\n",
       "      <td>3.0014</td>\n",
       "      <td>75</td>\n",
       "      <td>0.0</td>\n",
       "      <td>3</td>\n",
       "      <td>10</td>\n",
       "      <td>13</td>\n",
       "      <td>1.0</td>\n",
       "      <td>2.34</td>\n",
       "      <td>1.9982</td>\n",
       "      <td>80.0</td>\n",
       "      <td>0.0</td>\n",
       "    </tr>\n",
       "    <tr>\n",
       "      <th>2011-01-01 04:00:00</th>\n",
       "      <td>1</td>\n",
       "      <td>0</td>\n",
       "      <td>0</td>\n",
       "      <td>1</td>\n",
       "      <td>3.28</td>\n",
       "      <td>3.0014</td>\n",
       "      <td>75</td>\n",
       "      <td>0.0</td>\n",
       "      <td>0</td>\n",
       "      <td>1</td>\n",
       "      <td>1</td>\n",
       "      <td>1.0</td>\n",
       "      <td>2.34</td>\n",
       "      <td>1.9982</td>\n",
       "      <td>80.0</td>\n",
       "      <td>0.0</td>\n",
       "    </tr>\n",
       "  </tbody>\n",
       "</table>\n",
       "</div>"
      ],
      "text/plain": [
       "                     season_num  is_holiday  is_workingday  weather  \\\n",
       "datetime                                                              \n",
       "2011-01-01 00:00:00           1           0              0        1   \n",
       "2011-01-01 01:00:00           1           0              0        1   \n",
       "2011-01-01 02:00:00           1           0              0        1   \n",
       "2011-01-01 03:00:00           1           0              0        1   \n",
       "2011-01-01 04:00:00           1           0              0        1   \n",
       "\n",
       "                     temp_celsius  atemp_celsius  humidity_percent  \\\n",
       "datetime                                                             \n",
       "2011-01-01 00:00:00          3.28         3.0014                81   \n",
       "2011-01-01 01:00:00          2.34         1.9982                80   \n",
       "2011-01-01 02:00:00          2.34         1.9982                80   \n",
       "2011-01-01 03:00:00          3.28         3.0014                75   \n",
       "2011-01-01 04:00:00          3.28         3.0014                75   \n",
       "\n",
       "                     windspeed_knots  num_casual_users  num_registered_users  \\\n",
       "datetime                                                                       \n",
       "2011-01-01 00:00:00              0.0                 3                    13   \n",
       "2011-01-01 01:00:00              0.0                 8                    32   \n",
       "2011-01-01 02:00:00              0.0                 5                    27   \n",
       "2011-01-01 03:00:00              0.0                 3                    10   \n",
       "2011-01-01 04:00:00              0.0                 0                     1   \n",
       "\n",
       "                     num_total_users  weather_2hrs_ago  temp_celsius_2hrs_ago  \\\n",
       "datetime                                                                        \n",
       "2011-01-01 00:00:00               16               NaN                    NaN   \n",
       "2011-01-01 01:00:00               40               NaN                    NaN   \n",
       "2011-01-01 02:00:00               32               1.0                   3.28   \n",
       "2011-01-01 03:00:00               13               1.0                   2.34   \n",
       "2011-01-01 04:00:00                1               1.0                   2.34   \n",
       "\n",
       "                     atemp_celsius_2hrs_ago  humidity_percent_2hrs_ago  \\\n",
       "datetime                                                                 \n",
       "2011-01-01 00:00:00                     NaN                        NaN   \n",
       "2011-01-01 01:00:00                     NaN                        NaN   \n",
       "2011-01-01 02:00:00                  3.0014                       81.0   \n",
       "2011-01-01 03:00:00                  1.9982                       80.0   \n",
       "2011-01-01 04:00:00                  1.9982                       80.0   \n",
       "\n",
       "                     windspeed_knots_2hrs_ago  \n",
       "datetime                                       \n",
       "2011-01-01 00:00:00                       NaN  \n",
       "2011-01-01 01:00:00                       NaN  \n",
       "2011-01-01 02:00:00                       0.0  \n",
       "2011-01-01 03:00:00                       0.0  \n",
       "2011-01-01 04:00:00                       0.0  "
      ]
     },
     "execution_count": 5,
     "metadata": {},
     "output_type": "execute_result"
    }
   ],
   "source": [
    "bikes.head()"
   ]
  },
  {
   "cell_type": "code",
   "execution_count": 6,
   "metadata": {},
   "outputs": [],
   "source": [
    "# Delete the rows for which we do not have shifted weather information\n",
    "# /scrub/\n",
    "bikes = bikes.iloc[2:, :]"
   ]
  },
  {
   "cell_type": "markdown",
   "metadata": {},
   "source": [
    "### Taking the Test Set from the End"
   ]
  },
  {
   "cell_type": "markdown",
   "metadata": {},
   "source": [
    "We should also take the test set from the *end* of the time period covered by the data, because in practice when we deploy the model it will run on data that comes from later in time than the data it was trained on."
   ]
  },
  {
   "cell_type": "markdown",
   "metadata": {},
   "source": [
    "Let's see how our model does with these modifications."
   ]
  },
  {
   "cell_type": "code",
   "execution_count": 7,
   "metadata": {},
   "outputs": [],
   "source": [
    "# 1. Split your feature columns from your target column\n",
    "# /scrub/\n",
    "target_col = 'num_total_users'\n",
    "X = bikes.drop(target_col, axis='columns')\n",
    "y = bikes.loc[:, target_col]"
   ]
  },
  {
   "cell_type": "code",
   "execution_count": 8,
   "metadata": {},
   "outputs": [],
   "source": [
    "# 2. Refine your feature columns.\n",
    "# /scrub/\n",
    "feature_cols = [feature + '_2hrs_ago' for feature in time_sensitive_features]\n",
    "X = X.loc[:, feature_cols]"
   ]
  },
  {
   "cell_type": "markdown",
   "metadata": {},
   "source": [
    "The cell above uses the handy \"list comprehension\" to build up a list inside a for-loop. It is equivalent to the following more verbose code:\n",
    "\n",
    "```python\n",
    "feature_cols = []\n",
    "for var in time_sensitive_features:\n",
    "    feature_cols.append(var)\n",
    "```"
   ]
  },
  {
   "cell_type": "code",
   "execution_count": 9,
   "metadata": {},
   "outputs": [],
   "source": [
    "# 3. Split your rows into a training set and a test set.\n",
    "# /scrub/\n",
    "from sklearn.model_selection import train_test_split\n",
    "\n",
    "X_train, X_test, y_train, y_test = train_test_split(X, y, shuffle=False, random_state=16)"
   ]
  },
  {
   "cell_type": "code",
   "execution_count": 10,
   "metadata": {},
   "outputs": [
    {
     "name": "stdout",
     "output_type": "stream",
     "text": [
      "DatetimeIndex(['2011-01-01 02:00:00', '2011-01-01 03:00:00',\n",
      "               '2011-01-01 04:00:00', '2011-01-01 05:00:00',\n",
      "               '2011-01-01 06:00:00', '2011-01-01 07:00:00',\n",
      "               '2011-01-01 08:00:00', '2011-01-01 09:00:00',\n",
      "               '2011-01-01 10:00:00', '2011-01-01 11:00:00',\n",
      "               ...\n",
      "               '2012-07-01 21:00:00', '2012-07-01 22:00:00',\n",
      "               '2012-07-01 23:00:00', '2012-07-02 00:00:00',\n",
      "               '2012-07-02 01:00:00', '2012-07-02 02:00:00',\n",
      "               '2012-07-02 03:00:00', '2012-07-02 04:00:00',\n",
      "               '2012-07-02 05:00:00', '2012-07-02 06:00:00'],\n",
      "              dtype='datetime64[ns]', name='datetime', length=13032, freq=None)\n",
      "DatetimeIndex(['2012-07-02 07:00:00', '2012-07-02 08:00:00',\n",
      "               '2012-07-02 09:00:00', '2012-07-02 10:00:00',\n",
      "               '2012-07-02 11:00:00', '2012-07-02 12:00:00',\n",
      "               '2012-07-02 13:00:00', '2012-07-02 14:00:00',\n",
      "               '2012-07-02 15:00:00', '2012-07-02 16:00:00',\n",
      "               ...\n",
      "               '2012-12-31 14:00:00', '2012-12-31 15:00:00',\n",
      "               '2012-12-31 16:00:00', '2012-12-31 17:00:00',\n",
      "               '2012-12-31 18:00:00', '2012-12-31 19:00:00',\n",
      "               '2012-12-31 20:00:00', '2012-12-31 21:00:00',\n",
      "               '2012-12-31 22:00:00', '2012-12-31 23:00:00'],\n",
      "              dtype='datetime64[ns]', name='datetime', length=4345, freq=None)\n"
     ]
    }
   ],
   "source": [
    "# Confirm that the split worked as expected\n",
    "# /scrub/\n",
    "print(X_train.index)\n",
    "print(X_test.index)"
   ]
  },
  {
   "cell_type": "code",
   "execution_count": 11,
   "metadata": {},
   "outputs": [],
   "source": [
    "# 1. Import the LinearRegression class.\n",
    "# /scrub/\n",
    "from sklearn.linear_model import LinearRegression"
   ]
  },
  {
   "cell_type": "code",
   "execution_count": 12,
   "metadata": {},
   "outputs": [
    {
     "data": {
      "text/plain": [
       "sklearn.linear_model.base.LinearRegression"
      ]
     },
     "execution_count": 12,
     "metadata": {},
     "output_type": "execute_result"
    }
   ],
   "source": [
    "# 2. Make an instance of the LinearRegression class.\n",
    "# /scrub/\n",
    "lr_ts = LinearRegression()\n",
    "type(lr_ts)"
   ]
  },
  {
   "cell_type": "code",
   "execution_count": 13,
   "metadata": {},
   "outputs": [
    {
     "data": {
      "text/plain": [
       "LinearRegression(copy_X=True, fit_intercept=True, n_jobs=None,\n",
       "         normalize=False)"
      ]
     },
     "execution_count": 13,
     "metadata": {},
     "output_type": "execute_result"
    }
   ],
   "source": [
    "# 3. Train the model instance on the training set.\n",
    "# /scrub/\n",
    "lr_ts.fit(X_train, y_train)"
   ]
  },
  {
   "cell_type": "code",
   "execution_count": 14,
   "metadata": {},
   "outputs": [
    {
     "data": {
      "text/plain": [
       "212.64445129141262"
      ]
     },
     "execution_count": 14,
     "metadata": {},
     "output_type": "execute_result"
    }
   ],
   "source": [
    "# 4. Score the model on the test set.\n",
    "# /scrub/\n",
    "from sklearn.metrics import mean_squared_error\n",
    "\n",
    "predictions = lr_ts.predict(X_test)\n",
    "np.sqrt(mean_squared_error(y_test, predictions))"
   ]
  },
  {
   "cell_type": "markdown",
   "metadata": {},
   "source": [
    "Rats -- our model is a lot worse when we use it for actual prediction."
   ]
  },
  {
   "cell_type": "markdown",
   "metadata": {},
   "source": [
    "### Incorporating Time-Based Features"
   ]
  },
  {
   "cell_type": "markdown",
   "metadata": {},
   "source": [
    "Ridership depends heavily on time of day and day of week:"
   ]
  },
  {
   "cell_type": "code",
   "execution_count": 15,
   "metadata": {},
   "outputs": [
    {
     "data": {
      "image/png": "[encoded data removed]",
      "text/plain": [
       "<Figure size 1440x576 with 1 Axes>"
      ]
     },
     "metadata": {
      "needs_background": "light"
     },
     "output_type": "display_data"
    }
   ],
   "source": [
    "# Plot ridership vs. time for the first week of data\n",
    "# /scrub/\n",
    "ax = bikes.loc[:'2011-01-07', 'num_total_users'].plot(figsize=(20, 8), linewidth=.5);"
   ]
  },
  {
   "cell_type": "markdown",
   "metadata": {},
   "source": [
    "It also depends on the month of the year and on time since the start of the program:"
   ]
  },
  {
   "cell_type": "code",
   "execution_count": 16,
   "metadata": {},
   "outputs": [
    {
     "data": {
      "image/png": "[encoded data removed]",
      "text/plain": [
       "<Figure size 1440x576 with 1 Axes>"
      ]
     },
     "metadata": {
      "needs_background": "light"
     },
     "output_type": "display_data"
    }
   ],
   "source": [
    "# Plot total monthly ridership vs. time\n",
    "bikes.loc[:, 'num_total_users'].resample('M').sum().plot(figsize=(20, 8), linewidth=.5);"
   ]
  },
  {
   "cell_type": "markdown",
   "metadata": {},
   "source": [
    "Why not create features for these variables?"
   ]
  },
  {
   "cell_type": "code",
   "execution_count": 17,
   "metadata": {},
   "outputs": [],
   "source": [
    "# Create a feature for hour of day\n",
    "# /scrub/\n",
    "bikes.loc[:, 'hour_of_day'] = bikes.index.hour"
   ]
  },
  {
   "cell_type": "markdown",
   "metadata": {},
   "source": [
    "We already have an \"is_workingday\" variable that should capture the \"day of week\" effect to some extent."
   ]
  },
  {
   "cell_type": "code",
   "execution_count": 18,
   "metadata": {},
   "outputs": [],
   "source": [
    "# Create a feature for hours from start of dataset\n",
    "# /scrub/\n",
    "bikes.loc[:, 'hours_from_start'] = range(len(bikes))"
   ]
  },
  {
   "cell_type": "code",
   "execution_count": 19,
   "metadata": {},
   "outputs": [],
   "source": [
    "# Create a feature for month of year\n",
    "# /scrub/\n",
    "bikes.loc[:, 'month'] = bikes.index.month"
   ]
  },
  {
   "cell_type": "code",
   "execution_count": 20,
   "metadata": {},
   "outputs": [],
   "source": [
    "# Dummy-code hour of day and month of year\n",
    "# /scrub/\n",
    "bikes = pd.get_dummies(bikes, columns=['hour_of_day', 'month'], drop_first=True)"
   ]
  },
  {
   "cell_type": "code",
   "execution_count": 21,
   "metadata": {},
   "outputs": [
    {
     "data": {
      "text/html": [
       "<div>\n",
       "<style scoped>\n",
       "    .dataframe tbody tr th:only-of-type {\n",
       "        vertical-align: middle;\n",
       "    }\n",
       "\n",
       "    .dataframe tbody tr th {\n",
       "        vertical-align: top;\n",
       "    }\n",
       "\n",
       "    .dataframe thead th {\n",
       "        text-align: right;\n",
       "    }\n",
       "</style>\n",
       "<table border=\"1\" class=\"dataframe\">\n",
       "  <thead>\n",
       "    <tr style=\"text-align: right;\">\n",
       "      <th></th>\n",
       "      <th>season_num</th>\n",
       "      <th>is_holiday</th>\n",
       "      <th>is_workingday</th>\n",
       "      <th>weather</th>\n",
       "      <th>temp_celsius</th>\n",
       "      <th>atemp_celsius</th>\n",
       "      <th>humidity_percent</th>\n",
       "      <th>windspeed_knots</th>\n",
       "      <th>num_casual_users</th>\n",
       "      <th>num_registered_users</th>\n",
       "      <th>...</th>\n",
       "      <th>month_3</th>\n",
       "      <th>month_4</th>\n",
       "      <th>month_5</th>\n",
       "      <th>month_6</th>\n",
       "      <th>month_7</th>\n",
       "      <th>month_8</th>\n",
       "      <th>month_9</th>\n",
       "      <th>month_10</th>\n",
       "      <th>month_11</th>\n",
       "      <th>month_12</th>\n",
       "    </tr>\n",
       "    <tr>\n",
       "      <th>datetime</th>\n",
       "      <th></th>\n",
       "      <th></th>\n",
       "      <th></th>\n",
       "      <th></th>\n",
       "      <th></th>\n",
       "      <th></th>\n",
       "      <th></th>\n",
       "      <th></th>\n",
       "      <th></th>\n",
       "      <th></th>\n",
       "      <th></th>\n",
       "      <th></th>\n",
       "      <th></th>\n",
       "      <th></th>\n",
       "      <th></th>\n",
       "      <th></th>\n",
       "      <th></th>\n",
       "      <th></th>\n",
       "      <th></th>\n",
       "      <th></th>\n",
       "      <th></th>\n",
       "    </tr>\n",
       "  </thead>\n",
       "  <tbody>\n",
       "    <tr>\n",
       "      <th>2011-01-01 02:00:00</th>\n",
       "      <td>1</td>\n",
       "      <td>0</td>\n",
       "      <td>0</td>\n",
       "      <td>1</td>\n",
       "      <td>2.34</td>\n",
       "      <td>1.9982</td>\n",
       "      <td>80</td>\n",
       "      <td>0.0000</td>\n",
       "      <td>5</td>\n",
       "      <td>27</td>\n",
       "      <td>...</td>\n",
       "      <td>0</td>\n",
       "      <td>0</td>\n",
       "      <td>0</td>\n",
       "      <td>0</td>\n",
       "      <td>0</td>\n",
       "      <td>0</td>\n",
       "      <td>0</td>\n",
       "      <td>0</td>\n",
       "      <td>0</td>\n",
       "      <td>0</td>\n",
       "    </tr>\n",
       "    <tr>\n",
       "      <th>2011-01-01 03:00:00</th>\n",
       "      <td>1</td>\n",
       "      <td>0</td>\n",
       "      <td>0</td>\n",
       "      <td>1</td>\n",
       "      <td>3.28</td>\n",
       "      <td>3.0014</td>\n",
       "      <td>75</td>\n",
       "      <td>0.0000</td>\n",
       "      <td>3</td>\n",
       "      <td>10</td>\n",
       "      <td>...</td>\n",
       "      <td>0</td>\n",
       "      <td>0</td>\n",
       "      <td>0</td>\n",
       "      <td>0</td>\n",
       "      <td>0</td>\n",
       "      <td>0</td>\n",
       "      <td>0</td>\n",
       "      <td>0</td>\n",
       "      <td>0</td>\n",
       "      <td>0</td>\n",
       "    </tr>\n",
       "    <tr>\n",
       "      <th>2011-01-01 04:00:00</th>\n",
       "      <td>1</td>\n",
       "      <td>0</td>\n",
       "      <td>0</td>\n",
       "      <td>1</td>\n",
       "      <td>3.28</td>\n",
       "      <td>3.0014</td>\n",
       "      <td>75</td>\n",
       "      <td>0.0000</td>\n",
       "      <td>0</td>\n",
       "      <td>1</td>\n",
       "      <td>...</td>\n",
       "      <td>0</td>\n",
       "      <td>0</td>\n",
       "      <td>0</td>\n",
       "      <td>0</td>\n",
       "      <td>0</td>\n",
       "      <td>0</td>\n",
       "      <td>0</td>\n",
       "      <td>0</td>\n",
       "      <td>0</td>\n",
       "      <td>0</td>\n",
       "    </tr>\n",
       "    <tr>\n",
       "      <th>2011-01-01 05:00:00</th>\n",
       "      <td>1</td>\n",
       "      <td>0</td>\n",
       "      <td>0</td>\n",
       "      <td>2</td>\n",
       "      <td>3.28</td>\n",
       "      <td>1.0016</td>\n",
       "      <td>75</td>\n",
       "      <td>0.0896</td>\n",
       "      <td>0</td>\n",
       "      <td>1</td>\n",
       "      <td>...</td>\n",
       "      <td>0</td>\n",
       "      <td>0</td>\n",
       "      <td>0</td>\n",
       "      <td>0</td>\n",
       "      <td>0</td>\n",
       "      <td>0</td>\n",
       "      <td>0</td>\n",
       "      <td>0</td>\n",
       "      <td>0</td>\n",
       "      <td>0</td>\n",
       "    </tr>\n",
       "    <tr>\n",
       "      <th>2011-01-01 06:00:00</th>\n",
       "      <td>1</td>\n",
       "      <td>0</td>\n",
       "      <td>0</td>\n",
       "      <td>1</td>\n",
       "      <td>2.34</td>\n",
       "      <td>1.9982</td>\n",
       "      <td>80</td>\n",
       "      <td>0.0000</td>\n",
       "      <td>2</td>\n",
       "      <td>0</td>\n",
       "      <td>...</td>\n",
       "      <td>0</td>\n",
       "      <td>0</td>\n",
       "      <td>0</td>\n",
       "      <td>0</td>\n",
       "      <td>0</td>\n",
       "      <td>0</td>\n",
       "      <td>0</td>\n",
       "      <td>0</td>\n",
       "      <td>0</td>\n",
       "      <td>0</td>\n",
       "    </tr>\n",
       "  </tbody>\n",
       "</table>\n",
       "<p>5 rows × 51 columns</p>\n",
       "</div>"
      ],
      "text/plain": [
       "                     season_num  is_holiday  is_workingday  weather  \\\n",
       "datetime                                                              \n",
       "2011-01-01 02:00:00           1           0              0        1   \n",
       "2011-01-01 03:00:00           1           0              0        1   \n",
       "2011-01-01 04:00:00           1           0              0        1   \n",
       "2011-01-01 05:00:00           1           0              0        2   \n",
       "2011-01-01 06:00:00           1           0              0        1   \n",
       "\n",
       "                     temp_celsius  atemp_celsius  humidity_percent  \\\n",
       "datetime                                                             \n",
       "2011-01-01 02:00:00          2.34         1.9982                80   \n",
       "2011-01-01 03:00:00          3.28         3.0014                75   \n",
       "2011-01-01 04:00:00          3.28         3.0014                75   \n",
       "2011-01-01 05:00:00          3.28         1.0016                75   \n",
       "2011-01-01 06:00:00          2.34         1.9982                80   \n",
       "\n",
       "                     windspeed_knots  num_casual_users  num_registered_users  \\\n",
       "datetime                                                                       \n",
       "2011-01-01 02:00:00           0.0000                 5                    27   \n",
       "2011-01-01 03:00:00           0.0000                 3                    10   \n",
       "2011-01-01 04:00:00           0.0000                 0                     1   \n",
       "2011-01-01 05:00:00           0.0896                 0                     1   \n",
       "2011-01-01 06:00:00           0.0000                 2                     0   \n",
       "\n",
       "                     ...  month_3  month_4  month_5  month_6  month_7  \\\n",
       "datetime             ...                                                \n",
       "2011-01-01 02:00:00  ...        0        0        0        0        0   \n",
       "2011-01-01 03:00:00  ...        0        0        0        0        0   \n",
       "2011-01-01 04:00:00  ...        0        0        0        0        0   \n",
       "2011-01-01 05:00:00  ...        0        0        0        0        0   \n",
       "2011-01-01 06:00:00  ...        0        0        0        0        0   \n",
       "\n",
       "                     month_8  month_9  month_10  month_11  month_12  \n",
       "datetime                                                             \n",
       "2011-01-01 02:00:00        0        0         0         0         0  \n",
       "2011-01-01 03:00:00        0        0         0         0         0  \n",
       "2011-01-01 04:00:00        0        0         0         0         0  \n",
       "2011-01-01 05:00:00        0        0         0         0         0  \n",
       "2011-01-01 06:00:00        0        0         0         0         0  \n",
       "\n",
       "[5 rows x 51 columns]"
      ]
     },
     "execution_count": 21,
     "metadata": {},
     "output_type": "execute_result"
    }
   ],
   "source": [
    "bikes.head()"
   ]
  },
  {
   "cell_type": "code",
   "execution_count": 22,
   "metadata": {},
   "outputs": [],
   "source": [
    "# 1. Split your feature columns from your target column\n",
    "# We still have `y` from before.\n",
    "# /scrub/\n",
    "X = bikes.drop(target_col, axis='columns')"
   ]
  },
  {
   "cell_type": "code",
   "execution_count": 23,
   "metadata": {},
   "outputs": [
    {
     "data": {
      "text/plain": [
       "['weather_2hrs_ago',\n",
       " 'temp_celsius_2hrs_ago',\n",
       " 'atemp_celsius_2hrs_ago',\n",
       " 'humidity_percent_2hrs_ago',\n",
       " 'windspeed_knots_2hrs_ago',\n",
       " 'hours_from_start',\n",
       " 'hour_of_day_1',\n",
       " 'hour_of_day_2',\n",
       " 'hour_of_day_3',\n",
       " 'hour_of_day_4',\n",
       " 'hour_of_day_5',\n",
       " 'hour_of_day_6',\n",
       " 'hour_of_day_7',\n",
       " 'hour_of_day_8',\n",
       " 'hour_of_day_9',\n",
       " 'hour_of_day_10',\n",
       " 'hour_of_day_11',\n",
       " 'hour_of_day_12',\n",
       " 'hour_of_day_13',\n",
       " 'hour_of_day_14',\n",
       " 'hour_of_day_15',\n",
       " 'hour_of_day_16',\n",
       " 'hour_of_day_17',\n",
       " 'hour_of_day_18',\n",
       " 'hour_of_day_19',\n",
       " 'hour_of_day_20',\n",
       " 'hour_of_day_21',\n",
       " 'hour_of_day_22',\n",
       " 'hour_of_day_23',\n",
       " 'month_2',\n",
       " 'month_3',\n",
       " 'month_4',\n",
       " 'month_5',\n",
       " 'month_6',\n",
       " 'month_7',\n",
       " 'month_8',\n",
       " 'month_9',\n",
       " 'month_10',\n",
       " 'month_11',\n",
       " 'month_12',\n",
       " 'is_workingday']"
      ]
     },
     "execution_count": 23,
     "metadata": {},
     "output_type": "execute_result"
    }
   ],
   "source": [
    "# Create list of feature variable names\n",
    "# /scrub/\n",
    "time_cols = [col for col in bikes.columns if col.startswith(('hour', 'month'))] + ['is_workingday']\n",
    "feature_cols += time_cols\n",
    "feature_cols"
   ]
  },
  {
   "cell_type": "code",
   "execution_count": 24,
   "metadata": {},
   "outputs": [],
   "source": [
    "# 2. Refine your feature columns.\n",
    "# /scrub/\n",
    "X = X.loc[:, feature_cols]"
   ]
  },
  {
   "cell_type": "markdown",
   "metadata": {},
   "source": [
    "The cell above uses the handy \"list comprehension\" to build up a list inside a for-loop. It is equivalent to the following more verbose code:\n",
    "\n",
    "```python\n",
    "feature_cols = []\n",
    "for var in time_sensitive_features:\n",
    "    feature_cols.append(var)\n",
    "```"
   ]
  },
  {
   "cell_type": "code",
   "execution_count": 25,
   "metadata": {},
   "outputs": [],
   "source": [
    "# 3. Split your rows into a training set and a test set.\n",
    "# /scrub/\n",
    "from sklearn.model_selection import train_test_split\n",
    "\n",
    "X_train, X_test, y_train, y_test = train_test_split(X, y, shuffle=False, random_state=16)"
   ]
  },
  {
   "cell_type": "code",
   "execution_count": 26,
   "metadata": {},
   "outputs": [
    {
     "data": {
      "text/plain": [
       "sklearn.linear_model.base.LinearRegression"
      ]
     },
     "execution_count": 26,
     "metadata": {},
     "output_type": "execute_result"
    }
   ],
   "source": [
    "# 2. Make an instance of the LinearRegression class.\n",
    "# /scrub/\n",
    "lr_ts = LinearRegression()\n",
    "type(lr_ts)"
   ]
  },
  {
   "cell_type": "code",
   "execution_count": 27,
   "metadata": {},
   "outputs": [
    {
     "data": {
      "text/plain": [
       "LinearRegression(copy_X=True, fit_intercept=True, n_jobs=None,\n",
       "         normalize=False)"
      ]
     },
     "execution_count": 27,
     "metadata": {},
     "output_type": "execute_result"
    }
   ],
   "source": [
    "# 3. Train the model instance on the training set.\n",
    "# /scrub/\n",
    "lr_ts.fit(X_train, y_train)"
   ]
  },
  {
   "cell_type": "code",
   "execution_count": 28,
   "metadata": {},
   "outputs": [
    {
     "data": {
      "text/plain": [
       "137.44996882981954"
      ]
     },
     "execution_count": 28,
     "metadata": {},
     "output_type": "execute_result"
    }
   ],
   "source": [
    "# 4. Score the model on the test set.\n",
    "# /scrub/\n",
    "predictions = lr_ts.predict(X_test)\n",
    "np.sqrt(mean_squared_error(y_test, predictions))"
   ]
  },
  {
   "cell_type": "markdown",
   "metadata": {},
   "source": [
    "$\\blacksquare$"
   ]
  },
  {
   "cell_type": "markdown",
   "metadata": {},
   "source": [
    "## Summary"
   ]
  },
  {
   "cell_type": "markdown",
   "metadata": {},
   "source": [
    "- We can use standard supervised learning techniques to predict the values of one variable in a multivariate time series from the values of other variables in that time series, but not before those values are available. One way to address this problem is to shift the feature variables whose values cannot be known in advance forward in time relative to the target variable.\n",
    "- With time series data we should also make sure that all of the training data comes from earlier in time than all of the test data.\n",
    "- Using various aspects of time itself as features (e.g. hour of day, day of week, month of year) can be very powerful for data sets that show strong temporal patterns (called \"seasonality\")."
   ]
  }
 ],
 "metadata": {
  "kernelspec": {
   "display_name": "Python 3",
   "language": "python",
   "name": "python3"
  },
  "language_info": {
   "codemirror_mode": {
    "name": "ipython",
    "version": 3
   },
   "file_extension": ".py",
   "mimetype": "text/x-python",
   "name": "python",
   "nbconvert_exporter": "python",
   "pygments_lexer": "ipython3",
   "version": "3.6.8"
  }
 },
 "nbformat": 4,
 "nbformat_minor": 2
}
