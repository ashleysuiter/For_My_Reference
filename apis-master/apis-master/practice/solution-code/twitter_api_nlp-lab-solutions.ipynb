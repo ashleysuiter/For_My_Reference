{
 "cells": [
  {
   "cell_type": "markdown",
   "metadata": {},
   "source": [
    "<img src=\"http://imgur.com/1ZcRyrc.png\" style=\"float: left; margin: 20px; height: 55px\">\n",
    "\n",
    "# NLP Using the Twitter API: Guided Lab\n",
    "\n",
    "_Authors: Dave Yerrington (SF)_\n",
    "\n",
    "---\n",
    "\n",
    "\n",
    "<img src=\"https://snag.gy/RNAEgP.jpg\" width=\"600\">\n",
    "\n",
    "### Can we correctly identify which of these two old men tweeted what?\n",
    "\n",
    "> *Note: this lab is intended to be a guided lab until the independent practice questions.*\n"
   ]
  },
  {
   "cell_type": "markdown",
   "metadata": {},
   "source": [
    "## Goals\n",
    "---\n",
    "\n",
    "We are going to attempt to classify whether a tweet comes from Trump or Sanders.  This lab involves multiple steps:\n",
    "- Create a developer account on Twitter\n",
    "- Create a method to pull a list of tweets from the Twitter API\n",
    "- Perform proper preprocessing on our text\n",
    "- Engineer sentiment feature in our dataset using TextBlob\n",
    "- Explore supervised classification techniques\n"
   ]
  },
  {
   "cell_type": "markdown",
   "metadata": {},
   "source": [
    "## Twitter API Developer Registration\n",
    "---\n",
    "\n",
    "If you haven't registered a Twitter account yet, this is a requirement in order to have a \"developer\" account.\n",
    "\n",
    "[Twitter Rest API](https://dev.twitter.com/rest/public)\n",
    "\n"
   ]
  },
  {
   "cell_type": "markdown",
   "metadata": {},
   "source": [
    "## Create an \"App\"\n",
    "\n",
    "---\n",
    "\n",
    "![](https://snag.gy/HPBQbJ.jpg)\n",
    "\n",
    "Go to Twitter and register an \"app\" [apps.twitter.com](https://apps.twitter.com/).\n",
    "\n",
    "> **Note**: For the required website field you can put a placeholder.\n",
    "\n",
    "After you set up our app, you will only need to reference the cooresponding keys Twitter generates for our app.  These are the keys that we will use with our application to communicate with the Twitter API."
   ]
  },
  {
   "cell_type": "markdown",
   "metadata": {},
   "source": [
    "## Install Python Twitter API library\n",
    "\n",
    "---\n",
    "\n",
    "Someone was nice enough to build a Python libary for us. It makes pulling tweets simple: we only need to plug in our keys and start collecting data. The library we will be using is provided by [Python Twitter Tools](http://mike.verdone.ca/twitter/).\n",
    "\n",
    "To install it, just run the next frame (there is no conda package)."
   ]
  },
  {
   "cell_type": "code",
   "execution_count": 1,
   "metadata": {
    "scrolled": true
   },
   "outputs": [
    {
     "name": "stdout",
     "output_type": "stream",
     "text": [
      "Requirement already satisfied: twitter in /Users/gGandenberger/anaconda3/envs/py37/lib/python3.7/site-packages (1.18.0)\n",
      "Requirement already satisfied: python-twitter in /Users/gGandenberger/anaconda3/envs/py37/lib/python3.7/site-packages (3.4.2)\n",
      "Requirement already satisfied: requests-oauthlib in /Users/gGandenberger/anaconda3/envs/py37/lib/python3.7/site-packages (from python-twitter) (1.0.0)\n",
      "Requirement already satisfied: future in /Users/gGandenberger/anaconda3/envs/py37/lib/python3.7/site-packages (from python-twitter) (0.17.1)\n",
      "Requirement already satisfied: requests in /Users/gGandenberger/anaconda3/envs/py37/lib/python3.7/site-packages (from python-twitter) (2.5.0)\n",
      "Requirement already satisfied: oauthlib>=0.6.2 in /Users/gGandenberger/anaconda3/envs/py37/lib/python3.7/site-packages (from requests-oauthlib->python-twitter) (2.1.0)\n",
      "\u001b[33mYou are using pip version 18.1, however version 19.0.1 is available.\n",
      "You should consider upgrading via the 'pip install --upgrade pip' command.\u001b[0m\n"
     ]
    }
   ],
   "source": [
    "!pip install twitter python-twitter"
   ]
  },
  {
   "cell_type": "markdown",
   "metadata": {},
   "source": [
    "## Some Boring Twitter Rules\n",
    "---\n",
    "\n",
    "**Twitter notifies you they will rate limit your requests:**\n",
    "\n",
    ">When using application-only authentication, rate limits are determined globally for the entire application. If a method allows for 15 requests per rate limit window, then it allows you to make 15 requests per window — on behalf of your application. This limit is considered completely separately from per-user limits. https://dev.twitter.com/rest/public/rate-limiting\n",
    "\n",
    "Here's a quick overview of what Twitter says are \"the rules\":\n",
    "\n",
    "![](https://snag.gy/yJ6vIH.jpg)\n"
   ]
  },
  {
   "cell_type": "markdown",
   "metadata": {},
   "source": [
    "## About those Keys: OAuth Review\n",
    "---\n",
    "\n",
    "![](https://g.twimg.com/dev/documentation/image/appauth_0.png)"
   ]
  },
  {
   "cell_type": "markdown",
   "metadata": {},
   "source": [
    "## What's going on here?  Take a minute.."
   ]
  },
  {
   "cell_type": "markdown",
   "metadata": {},
   "source": [
    "## Our Application Keys\n",
    "---\n",
    "\n",
    "Take note of your application keys you will use to connect to Twitter and mine tweets from the official Bernie Sanders and Donald Trump twitter accounts:\n",
    "\n",
    "![](https://snag.gy/H1djQK.jpg)"
   ]
  },
  {
   "cell_type": "markdown",
   "metadata": {},
   "source": [
    "## `TweetMiner` class structure\n",
    "\n",
    "---\n",
    "\n",
    "The following code will get you up and running, providing connectivity to twitter. The class has the ability to make requests and can eventually transform the JSON responses into DataFrames.\n",
    "\n",
    "This is a great example of using object-oriented Python to organize our code!\n",
    "\n",
    "> **Note:** \"request_limit\" is used in this class to limit the number of tweets that are pulled per instance request.  Setting it to something lower until you've worked the bugs out of your request, and captured the data you want, is essential to avoiding the rate limit blocks.\n",
    "\n",
    "### Twitter API key setup\n",
    "\n",
    "Fill the information below in with the keys for your account.\n",
    "\n",
    "- **consumer_key** - Find this in your app page under the \"Keys and Access Tokens\"\n",
    "- **consumer_secret** - Right under **consumer_key** in the \"Keys and Access Tokens\" tab\n",
    "- **access_token_key** - You will need to click the button to generate tokens to get this\n",
    "- **access_token_secret** - Also available after you generate tokens\n"
   ]
  },
  {
   "cell_type": "code",
   "execution_count": 2,
   "metadata": {},
   "outputs": [],
   "source": [
    "import twitter, re, datetime, pandas as pd\n",
    "\n",
    "twitter_keys = {\n",
    "    'consumer_key':        'lA6UQplM5sxIAIr83ueUl9sgE',\n",
    "    'consumer_secret':     'f94t4BD6Vj7aCVkX1qAIVwsP4x69J2vXvm61lTIuwb9GfmdsuP',\n",
    "    'access_token_key':    '1203210464-dYE1FvoUx1GjVcoyok3U1brWDpELBJEcSNGC1OC',\n",
    "    'access_token_secret': 'kuVli1j010RPdYTboz9iIyp8QxX6PqRApdi49baLqBgzo'\n",
    "}\n",
    "\n",
    "api = twitter.Api(\n",
    "    consumer_key         =   twitter_keys['consumer_key'],\n",
    "    consumer_secret      =   twitter_keys['consumer_secret'],\n",
    "    access_token_key     =   twitter_keys['access_token_key'],\n",
    "    access_token_secret  =   twitter_keys['access_token_secret']\n",
    ")\n"
   ]
  },
  {
   "cell_type": "code",
   "execution_count": 3,
   "metadata": {},
   "outputs": [],
   "source": [
    "class TweetMiner(object):\n",
    "\n",
    "    result_limit    =   20    \n",
    "    api             =   False\n",
    "    data            =   []\n",
    "    \n",
    "    twitter_keys = {\n",
    "        'consumer_key':        'KmN03M1X1pImZ43sqdIu4yfnE',\n",
    "        'consumer_secret':     'ePlIrIX5VXbZnO7DBu1RbFlw5lOai9dQr9n5TZb6vxnIdrr5Fz',\n",
    "        'access_token_key':    '185036086-Q7K5IjuSoQZJwSIqD0wyHf6t62iPKatmfaPkriAM',\n",
    "        'access_token_secret': 'cYpQz3xWHQbLplOj8iSeiNSOmMcsTOXmWcKMrJ9buLj5d'\n",
    "    }\n",
    "    \n",
    "    def __init__(self, keys_dict, api, result_limit = 20):\n",
    "        \n",
    "        self.api = api\n",
    "        self.twitter_keys = keys_dict\n",
    "        \n",
    "        self.result_limit = result_limit\n",
    "        \n",
    "\n",
    "    def mine_user_tweets(self, user=\"dyerrington\", mine_rewteets=False, max_pages=5):\n",
    "\n",
    "        data           =  []\n",
    "        last_tweet_id  =  False\n",
    "        page           =  1\n",
    "        \n",
    "        while page <= max_pages:\n",
    "            \n",
    "            if last_tweet_id:\n",
    "                statuses   =   self.api.GetUserTimeline(screen_name=user, count=self.result_limit, max_id=last_tweet_id - 1)        \n",
    "            else:\n",
    "                statuses   =   self.api.GetUserTimeline(screen_name=user, count=self.result_limit)\n",
    "                \n",
    "            for item in statuses:\n",
    "\n",
    "                mined = {\n",
    "                    'tweet_id':        item.id,\n",
    "                    'handle':          item.user.name,\n",
    "                    'retweet_count':   item.retweet_count,\n",
    "                    'text':            item.text,\n",
    "                    'mined_at':        datetime.datetime.now(),\n",
    "                    'created_at':      item.created_at,\n",
    "                }\n",
    "                \n",
    "                last_tweet_id = item.id\n",
    "                data.append(mined)\n",
    "                \n",
    "            page += 1\n",
    "            \n",
    "        return data"
   ]
  },
  {
   "cell_type": "markdown",
   "metadata": {},
   "source": [
    "## Instantiate the class\n",
    "---\n",
    "\n",
    "Make sure you pass the keys dictionary and the api as arguments.\n",
    "\n",
    "**Check:** call the object's `mine_user_tweets()` method, providing a user to pull the tweets of."
   ]
  },
  {
   "cell_type": "code",
   "execution_count": 4,
   "metadata": {},
   "outputs": [],
   "source": [
    "miner = TweetMiner(twitter_keys, api, result_limit=2)"
   ]
  },
  {
   "cell_type": "code",
   "execution_count": 5,
   "metadata": {},
   "outputs": [],
   "source": [
    "sanders = miner.mine_user_tweets(user=\"berniesanders\", max_pages=5)\n",
    "donald = miner.mine_user_tweets(user=\"realDonaldTrump\", max_pages=5)"
   ]
  },
  {
   "cell_type": "code",
   "execution_count": 6,
   "metadata": {},
   "outputs": [
    {
     "name": "stdout",
     "output_type": "stream",
     "text": [
      "{'tweet_id': 1090427254981705729, 'handle': 'Bernie Sanders', 'retweet_count': 447, 'text': 'We must recommit ourselves to bringing all people together in the fight for a just and humane world. When we stand together, we can win.', 'mined_at': datetime.datetime(2019, 1, 29, 20, 59, 13, 380644), 'created_at': 'Wed Jan 30 01:51:31 +0000 2019'}\n"
     ]
    }
   ],
   "source": [
    "print(sanders[0])"
   ]
  },
  {
   "cell_type": "code",
   "execution_count": 7,
   "metadata": {},
   "outputs": [
    {
     "name": "stdout",
     "output_type": "stream",
     "text": [
      "{'tweet_id': 1090244651578204160, 'handle': 'Donald J. Trump', 'retweet_count': 19280, 'text': 'A low level staffer that I hardly knew named Cliff Sims wrote yet another boring book based on made up stories and… https://t.co/SGN2UN9Ohw', 'mined_at': datetime.datetime(2019, 1, 29, 20, 59, 16, 970350), 'created_at': 'Tue Jan 29 13:45:55 +0000 2019'}\n"
     ]
    }
   ],
   "source": [
    "print(donald[0])"
   ]
  },
  {
   "cell_type": "markdown",
   "metadata": {},
   "source": [
    "### Convert the tweet ouputs to a pandas DataFrame\n",
    "\n",
    "> *Hint: this is as easy as passing it to the DataFrame constructor!*"
   ]
  },
  {
   "cell_type": "code",
   "execution_count": 8,
   "metadata": {},
   "outputs": [
    {
     "data": {
      "text/html": [
       "<div>\n",
       "<style scoped>\n",
       "    .dataframe tbody tr th:only-of-type {\n",
       "        vertical-align: middle;\n",
       "    }\n",
       "\n",
       "    .dataframe tbody tr th {\n",
       "        vertical-align: top;\n",
       "    }\n",
       "\n",
       "    .dataframe thead th {\n",
       "        text-align: right;\n",
       "    }\n",
       "</style>\n",
       "<table border=\"1\" class=\"dataframe\">\n",
       "  <thead>\n",
       "    <tr style=\"text-align: right;\">\n",
       "      <th></th>\n",
       "      <th>created_at</th>\n",
       "      <th>handle</th>\n",
       "      <th>mined_at</th>\n",
       "      <th>retweet_count</th>\n",
       "      <th>text</th>\n",
       "      <th>tweet_id</th>\n",
       "    </tr>\n",
       "  </thead>\n",
       "  <tbody>\n",
       "    <tr>\n",
       "      <th>0</th>\n",
       "      <td>Wed Jan 30 01:51:31 +0000 2019</td>\n",
       "      <td>Bernie Sanders</td>\n",
       "      <td>2019-01-29 20:59:13.380644</td>\n",
       "      <td>447</td>\n",
       "      <td>We must recommit ourselves to bringing all peo...</td>\n",
       "      <td>1090427254981705729</td>\n",
       "    </tr>\n",
       "    <tr>\n",
       "      <th>1</th>\n",
       "      <td>Tue Jan 29 23:21:03 +0000 2019</td>\n",
       "      <td>Bernie Sanders</td>\n",
       "      <td>2019-01-29 20:59:13.380665</td>\n",
       "      <td>1386</td>\n",
       "      <td>Big Pharma is one of the wealthiest and most p...</td>\n",
       "      <td>1090389390579372032</td>\n",
       "    </tr>\n",
       "    <tr>\n",
       "      <th>2</th>\n",
       "      <td>Tue Jan 29 21:53:06 +0000 2019</td>\n",
       "      <td>Bernie Sanders</td>\n",
       "      <td>2019-01-29 20:59:15.258176</td>\n",
       "      <td>1957</td>\n",
       "      <td>One of the major, untold stories of our time i...</td>\n",
       "      <td>1090367255710494725</td>\n",
       "    </tr>\n",
       "    <tr>\n",
       "      <th>3</th>\n",
       "      <td>Sat Jan 26 23:56:35 +0000 2019</td>\n",
       "      <td>Bernie Sanders</td>\n",
       "      <td>2019-01-29 20:59:15.258184</td>\n",
       "      <td>2639</td>\n",
       "      <td>Real and fundamental change never comes from t...</td>\n",
       "      <td>1089311166554349568</td>\n",
       "    </tr>\n",
       "    <tr>\n",
       "      <th>4</th>\n",
       "      <td>Sat Jan 26 22:24:54 +0000 2019</td>\n",
       "      <td>Bernie Sanders</td>\n",
       "      <td>2019-01-29 20:59:15.622173</td>\n",
       "      <td>1959</td>\n",
       "      <td>In the twenty-first century, a public educatio...</td>\n",
       "      <td>1089288093495115776</td>\n",
       "    </tr>\n",
       "  </tbody>\n",
       "</table>\n",
       "</div>"
      ],
      "text/plain": [
       "                       created_at          handle                   mined_at  \\\n",
       "0  Wed Jan 30 01:51:31 +0000 2019  Bernie Sanders 2019-01-29 20:59:13.380644   \n",
       "1  Tue Jan 29 23:21:03 +0000 2019  Bernie Sanders 2019-01-29 20:59:13.380665   \n",
       "2  Tue Jan 29 21:53:06 +0000 2019  Bernie Sanders 2019-01-29 20:59:15.258176   \n",
       "3  Sat Jan 26 23:56:35 +0000 2019  Bernie Sanders 2019-01-29 20:59:15.258184   \n",
       "4  Sat Jan 26 22:24:54 +0000 2019  Bernie Sanders 2019-01-29 20:59:15.622173   \n",
       "\n",
       "   retweet_count                                               text  \\\n",
       "0            447  We must recommit ourselves to bringing all peo...   \n",
       "1           1386  Big Pharma is one of the wealthiest and most p...   \n",
       "2           1957  One of the major, untold stories of our time i...   \n",
       "3           2639  Real and fundamental change never comes from t...   \n",
       "4           1959  In the twenty-first century, a public educatio...   \n",
       "\n",
       "              tweet_id  \n",
       "0  1090427254981705729  \n",
       "1  1090389390579372032  \n",
       "2  1090367255710494725  \n",
       "3  1089311166554349568  \n",
       "4  1089288093495115776  "
      ]
     },
     "execution_count": 8,
     "metadata": {},
     "output_type": "execute_result"
    }
   ],
   "source": [
    "pd.DataFrame(sanders).head()"
   ]
  },
  {
   "cell_type": "markdown",
   "metadata": {},
   "source": [
    "##  Create the training data\n",
    "\n",
    "---\n",
    "\n",
    "Let's get our \"mined\" data from the Twitter API.  \n",
    "\n",
    "1. Mine Trump tweets\n",
    "- Create a tweet DataFrame\n",
    "- Mine Sanders tweets\n",
    "- Append the results to our DataFrame"
   ]
  },
  {
   "cell_type": "code",
   "execution_count": 9,
   "metadata": {},
   "outputs": [],
   "source": [
    "# we only need to \"instantiate\" once.  Then we can call mine_user_tweets as much as we want.\n",
    "miner = TweetMiner(twitter_keys, api, result_limit=400)\n",
    "trump_tweets = miner.mine_user_tweets(\"realDonaldTrump\")"
   ]
  },
  {
   "cell_type": "code",
   "execution_count": 10,
   "metadata": {},
   "outputs": [
    {
     "name": "stdout",
     "output_type": "stream",
     "text": [
      "(1000, 6)\n"
     ]
    }
   ],
   "source": [
    "trump_df = pd.DataFrame(trump_tweets)\n",
    "print(trump_df.shape)"
   ]
  },
  {
   "cell_type": "code",
   "execution_count": 11,
   "metadata": {},
   "outputs": [],
   "source": [
    "bernie_tweets = miner.mine_user_tweets('berniesanders')"
   ]
  },
  {
   "cell_type": "code",
   "execution_count": 12,
   "metadata": {},
   "outputs": [
    {
     "name": "stdout",
     "output_type": "stream",
     "text": [
      "(1000, 6)\n"
     ]
    }
   ],
   "source": [
    "bernie_df = pd.DataFrame(bernie_tweets) \n",
    "print(bernie_df.shape)"
   ]
  },
  {
   "cell_type": "code",
   "execution_count": 13,
   "metadata": {},
   "outputs": [
    {
     "data": {
      "text/plain": [
       "(2000, 6)"
      ]
     },
     "execution_count": 13,
     "metadata": {},
     "output_type": "execute_result"
    }
   ],
   "source": [
    "tweets = pd.concat([trump_df, bernie_df], axis=0)\n",
    "tweets.shape"
   ]
  },
  {
   "cell_type": "markdown",
   "metadata": {},
   "source": [
    "## Any interesting ngrams going on with Trump?\n",
    "---\n",
    "\n",
    "Set up a vectorizer from sklearn and fit the text of Trump's tweets with an ngram range from 2 to 4. Figure out what the most common ngrams are.\n",
    "\n",
    "> **Note:** It's up to you whether you want to remove stopwords or not. How does keeping or removing stopwords affect the results?"
   ]
  },
  {
   "cell_type": "code",
   "execution_count": 14,
   "metadata": {},
   "outputs": [
    {
     "data": {
      "text/plain": [
       "[('https co', 751),\n",
       " ('of the', 112),\n",
       " ('in the', 68),\n",
       " ('will be', 58),\n",
       " ('for the', 45),\n",
       " ('at the', 45),\n",
       " ('rt realdonaldtrump', 40),\n",
       " ('and the', 38),\n",
       " ('on the', 35),\n",
       " ('fake news', 33),\n",
       " ('our country', 33),\n",
       " ('border security', 33),\n",
       " ('thank you', 31),\n",
       " ('the democrats', 31),\n",
       " ('we are', 29),\n",
       " ('united states', 28),\n",
       " ('it is', 28),\n",
       " ('the wall', 28),\n",
       " ('to be', 28),\n",
       " ('to the', 27)]"
      ]
     },
     "execution_count": 14,
     "metadata": {},
     "output_type": "execute_result"
    }
   ],
   "source": [
    "from sklearn.feature_extraction.text import TfidfVectorizer\n",
    "from collections import Counter\n",
    "\n",
    "# We can use the TfidfVectorizer to find ngrams for us\n",
    "vect = TfidfVectorizer(ngram_range=(2,4))\n",
    "\n",
    "# Pulls all of trumps tweet text's into one giant string\n",
    "summaries = \"\".join(trump_df['text'])\n",
    "ngrams_summaries = vect.build_analyzer()(summaries)\n",
    "\n",
    "Counter(ngrams_summaries).most_common(20)"
   ]
  },
  {
   "cell_type": "markdown",
   "metadata": {},
   "source": [
    "### Look at the ngrams for Bernie Sanders"
   ]
  },
  {
   "cell_type": "code",
   "execution_count": 15,
   "metadata": {},
   "outputs": [
    {
     "data": {
      "text/plain": [
       "[('https co', 789),\n",
       " ('of the', 67),\n",
       " ('in the', 66),\n",
       " ('we must', 56),\n",
       " ('to the', 56),\n",
       " ('to be', 52),\n",
       " ('we can', 42),\n",
       " ('this country', 41),\n",
       " ('we have', 38),\n",
       " ('for the', 37),\n",
       " ('on the', 37),\n",
       " ('for all', 36),\n",
       " ('it is', 35),\n",
       " ('in this', 34),\n",
       " ('health care', 34),\n",
       " ('is not', 33),\n",
       " ('thank you', 30),\n",
       " ('bernie sanders', 30),\n",
       " ('is the', 29),\n",
       " ('and the', 27)]"
      ]
     },
     "execution_count": 15,
     "metadata": {},
     "output_type": "execute_result"
    }
   ],
   "source": [
    "# We can use the TfidfVectorizer to find ngrams for us\n",
    "vect = TfidfVectorizer(ngram_range=(2,4))\n",
    "\n",
    "# Pulls all of trumps tweet text's into one giant string\n",
    "summaries = \"\".join(bernie_df['text'])\n",
    "ngrams_summaries = vect.build_analyzer()(summaries)\n",
    "\n",
    "Counter(ngrams_summaries).most_common(20)"
   ]
  },
  {
   "cell_type": "markdown",
   "metadata": {},
   "source": [
    "## Processing the tweets and building a model\n",
    "\n",
    "---\n",
    "\n",
    "To do classfication we will need to convert the tweets into a set of features.\n",
    "\n",
    "**You will need to:**\n",
    "- Vectorize input text data.\n",
    "- Intialize a model (try Logistic regression).\n",
    "- Train / Predict / cross-validate.\n",
    "- Evaluate the performance of the model.\n",
    "\n",
    "> **Bonus:** you may have noticed that there are website links in the tweets. What additional preprocessing steps can you do before building the model?\n"
   ]
  },
  {
   "cell_type": "code",
   "execution_count": 16,
   "metadata": {},
   "outputs": [
    {
     "name": "stdout",
     "output_type": "stream",
     "text": [
      "Requirement already satisfied: textacy in /Users/gGandenberger/anaconda3/envs/py37/lib/python3.7/site-packages (0.6.2)\n",
      "Requirement already satisfied: pyphen>=0.9.4 in /Users/gGandenberger/anaconda3/envs/py37/lib/python3.7/site-packages (from textacy) (0.9.5)\n",
      "Requirement already satisfied: unidecode>=0.04.19 in /Users/gGandenberger/anaconda3/envs/py37/lib/python3.7/site-packages (from textacy) (1.0.22)\n",
      "Requirement already satisfied: ijson>=2.3 in /Users/gGandenberger/anaconda3/envs/py37/lib/python3.7/site-packages (from textacy) (2.3)\n",
      "Requirement already satisfied: scipy>=0.17.0 in /Users/gGandenberger/anaconda3/envs/py37/lib/python3.7/site-packages (from textacy) (1.1.0)\n",
      "Requirement already satisfied: ftfy<5.0.0,>=4.2.0 in /Users/gGandenberger/anaconda3/envs/py37/lib/python3.7/site-packages (from textacy) (4.4.3)\n",
      "Requirement already satisfied: numpy<2.0.0,>=1.9.0 in /Users/gGandenberger/anaconda3/envs/py37/lib/python3.7/site-packages (from textacy) (1.15.4)\n",
      "Requirement already satisfied: networkx>=1.11 in /Users/gGandenberger/anaconda3/envs/py37/lib/python3.7/site-packages (from textacy) (2.2)\n",
      "Requirement already satisfied: scikit-learn>=0.17.0 in /Users/gGandenberger/anaconda3/envs/py37/lib/python3.7/site-packages (from textacy) (0.20.0)\n",
      "Requirement already satisfied: python-levenshtein>=0.12.0 in /Users/gGandenberger/anaconda3/envs/py37/lib/python3.7/site-packages (from textacy) (0.12.0)\n",
      "Requirement already satisfied: tqdm>=4.11.1 in /Users/gGandenberger/anaconda3/envs/py37/lib/python3.7/site-packages (from textacy) (4.28.1)\n",
      "Requirement already satisfied: pyemd>=0.3.0 in /Users/gGandenberger/anaconda3/envs/py37/lib/python3.7/site-packages (from textacy) (0.5.1)\n",
      "Requirement already satisfied: cytoolz>=0.8.0 in /Users/gGandenberger/anaconda3/envs/py37/lib/python3.7/site-packages (from textacy) (0.9.0.1)\n",
      "Collecting requests>=2.10.0 (from textacy)\n",
      "\u001b[?25l  Downloading https://files.pythonhosted.org/packages/7d/e3/20f3d364d6c8e5d2353c72a67778eb189176f08e873c9900e10c0287b84b/requests-2.21.0-py2.py3-none-any.whl (57kB)\n",
      "\u001b[K    100% |████████████████████████████████| 61kB 997kB/s \n",
      "\u001b[?25hRequirement already satisfied: spacy>=2.0.0 in /Users/gGandenberger/anaconda3/envs/py37/lib/python3.7/site-packages (from textacy) (2.0.16)\n",
      "Requirement already satisfied: cachetools>=2.0.0 in /Users/gGandenberger/anaconda3/envs/py37/lib/python3.7/site-packages (from textacy) (2.1.0)\n",
      "Requirement already satisfied: html5lib in /Users/gGandenberger/anaconda3/envs/py37/lib/python3.7/site-packages (from ftfy<5.0.0,>=4.2.0->textacy) (1.0.1)\n",
      "Requirement already satisfied: wcwidth in /Users/gGandenberger/anaconda3/envs/py37/lib/python3.7/site-packages (from ftfy<5.0.0,>=4.2.0->textacy) (0.1.7)\n",
      "Requirement already satisfied: decorator>=4.3.0 in /Users/gGandenberger/anaconda3/envs/py37/lib/python3.7/site-packages (from networkx>=1.11->textacy) (4.3.0)\n",
      "Requirement already satisfied: setuptools in /Users/gGandenberger/anaconda3/envs/py37/lib/python3.7/site-packages (from python-levenshtein>=0.12.0->textacy) (40.4.3)\n",
      "Requirement already satisfied: toolz>=0.8.0 in /Users/gGandenberger/anaconda3/envs/py37/lib/python3.7/site-packages (from cytoolz>=0.8.0->textacy) (0.9.0)\n",
      "Requirement already satisfied: chardet<3.1.0,>=3.0.2 in /Users/gGandenberger/anaconda3/envs/py37/lib/python3.7/site-packages (from requests>=2.10.0->textacy) (3.0.4)\n",
      "Requirement already satisfied: urllib3<1.25,>=1.21.1 in /Users/gGandenberger/anaconda3/envs/py37/lib/python3.7/site-packages (from requests>=2.10.0->textacy) (1.23)\n",
      "Requirement already satisfied: certifi>=2017.4.17 in /Users/gGandenberger/anaconda3/envs/py37/lib/python3.7/site-packages (from requests>=2.10.0->textacy) (2018.11.29)\n",
      "Requirement already satisfied: idna<2.9,>=2.5 in /Users/gGandenberger/anaconda3/envs/py37/lib/python3.7/site-packages (from requests>=2.10.0->textacy) (2.7)\n",
      "Collecting ujson>=1.35 (from spacy>=2.0.0->textacy)\n",
      "\u001b[?25l  Downloading https://files.pythonhosted.org/packages/16/c4/79f3409bc710559015464e5f49b9879430d8f87498ecdc335899732e5377/ujson-1.35.tar.gz (192kB)\n",
      "\u001b[K    100% |████████████████████████████████| 194kB 4.0MB/s \n",
      "\u001b[?25hRequirement already satisfied: regex==2018.01.10 in /Users/gGandenberger/anaconda3/envs/py37/lib/python3.7/site-packages (from spacy>=2.0.0->textacy) (2018.1.10)\n",
      "Requirement already satisfied: plac<1.0.0,>=0.9.6 in /Users/gGandenberger/anaconda3/envs/py37/lib/python3.7/site-packages (from spacy>=2.0.0->textacy) (0.9.6)\n",
      "Requirement already satisfied: cymem<2.1.0,>=2.0.2 in /Users/gGandenberger/anaconda3/envs/py37/lib/python3.7/site-packages (from spacy>=2.0.0->textacy) (2.0.2)\n",
      "Requirement already satisfied: dill<0.3,>=0.2 in /Users/gGandenberger/anaconda3/envs/py37/lib/python3.7/site-packages (from spacy>=2.0.0->textacy) (0.2.8.2)\n",
      "Requirement already satisfied: thinc<6.13.0,>=6.12.0 in /Users/gGandenberger/anaconda3/envs/py37/lib/python3.7/site-packages (from spacy>=2.0.0->textacy) (6.12.0)\n",
      "Requirement already satisfied: preshed<2.1.0,>=2.0.1 in /Users/gGandenberger/anaconda3/envs/py37/lib/python3.7/site-packages (from spacy>=2.0.0->textacy) (2.0.1)\n",
      "Requirement already satisfied: murmurhash<1.1.0,>=0.28.0 in /Users/gGandenberger/anaconda3/envs/py37/lib/python3.7/site-packages (from spacy>=2.0.0->textacy) (1.0.1)\n",
      "Requirement already satisfied: msgpack-numpy<0.4.4 in /Users/gGandenberger/anaconda3/envs/py37/lib/python3.7/site-packages (from spacy>=2.0.0->textacy) (0.4.3.2)\n",
      "Requirement already satisfied: six>=1.9 in /Users/gGandenberger/anaconda3/envs/py37/lib/python3.7/site-packages (from html5lib->ftfy<5.0.0,>=4.2.0->textacy) (1.12.0)\n",
      "Requirement already satisfied: webencodings in /Users/gGandenberger/anaconda3/envs/py37/lib/python3.7/site-packages (from html5lib->ftfy<5.0.0,>=4.2.0->textacy) (0.5.1)\n",
      "Requirement already satisfied: wrapt<1.11.0,>=1.10.0 in /Users/gGandenberger/anaconda3/envs/py37/lib/python3.7/site-packages (from thinc<6.13.0,>=6.12.0->spacy>=2.0.0->textacy) (1.10.11)\n",
      "Requirement already satisfied: msgpack<1.0.0,>=0.5.6 in /Users/gGandenberger/anaconda3/envs/py37/lib/python3.7/site-packages (from thinc<6.13.0,>=6.12.0->spacy>=2.0.0->textacy) (0.5.6)\n",
      "Building wheels for collected packages: ujson\n",
      "  Running setup.py bdist_wheel for ujson ... \u001b[?25ldone\n",
      "\u001b[?25h  Stored in directory: /Users/gGandenberger/Library/Caches/pip/wheels/28/77/e4/0311145b9c2e2f01470e744855131f9e34d6919687550f87d1\n",
      "Successfully built ujson\n",
      "\u001b[31mmadeye 0.1.0 requires keras, which is not installed.\u001b[0m\n",
      "\u001b[31mmadeye 0.1.0 requires mlflow, which is not installed.\u001b[0m\n",
      "\u001b[31mmadeye 0.1.0 requires tensorflow, which is not installed.\u001b[0m\n",
      "\u001b[31mswapi 0.1.3 has requirement requests==2.5.0, but you'll have requests 2.21.0 which is incompatible.\u001b[0m\n",
      "\u001b[31mswapi 0.1.3 has requirement six==1.8.0, but you'll have six 1.12.0 which is incompatible.\u001b[0m\n",
      "\u001b[31mswapi 0.1.3 has requirement ujson==1.33, but you'll have ujson 1.35 which is incompatible.\u001b[0m\n",
      "Installing collected packages: requests, ujson\n",
      "  Found existing installation: requests 2.5.0\n",
      "    Uninstalling requests-2.5.0:\n",
      "      Successfully uninstalled requests-2.5.0\n",
      "  Found existing installation: ujson 1.33\n",
      "    Uninstalling ujson-1.33:\n",
      "      Successfully uninstalled ujson-1.33\n",
      "Successfully installed requests-2.21.0 ujson-1.35\n",
      "\u001b[33mYou are using pip version 18.1, however version 19.0.1 is available.\n",
      "You should consider upgrading via the 'pip install --upgrade pip' command.\u001b[0m\n"
     ]
    }
   ],
   "source": [
    "!pip install textacy"
   ]
  },
  {
   "cell_type": "code",
   "execution_count": 17,
   "metadata": {},
   "outputs": [],
   "source": [
    "# BONUS\n",
    "# Using the textacy package to do some more comprehensive preprocessing\n",
    "# http://textacy.readthedocs.io/en/latest/\n",
    "import numpy as np\n",
    "from textacy.preprocess import preprocess_text\n",
    "\n",
    "tweet_text = tweets['text'].values\n",
    "clean_text = [preprocess_text(x, \n",
    "                              fix_unicode=True, \n",
    "                              lowercase=True, \n",
    "                              transliterate=False,\n",
    "                              no_urls=True, \n",
    "                              no_emails=True, \n",
    "                              no_phone_numbers=True, \n",
    "                              no_currency_symbols=True,\n",
    "                              no_punct=True, \n",
    "                              no_accents=True)\n",
    "              for x in tweet_text]"
   ]
  },
  {
   "cell_type": "code",
   "execution_count": 18,
   "metadata": {},
   "outputs": [
    {
     "name": "stdout",
     "output_type": "stream",
     "text": [
      "['A low level staffer that I hardly knew named Cliff Sims wrote yet another boring book based on made up stories and… https://t.co/SGN2UN9Ohw'\n",
      " 'How does Da Nang Dick (Blumenthal) serve on the Senate Judiciary Committee when he defrauded the American people ab… https://t.co/JBKLZ66qx6'\n",
      " 'In the beautiful Midwest, windchill temperatures are reaching minus 60 degrees, the coldest ever recorded. In comin… https://t.co/FnaCaBA5Nz']\n"
     ]
    }
   ],
   "source": [
    "print(tweet_text[0:3])"
   ]
  },
  {
   "cell_type": "code",
   "execution_count": 19,
   "metadata": {},
   "outputs": [
    {
     "name": "stdout",
     "output_type": "stream",
     "text": [
      "['a low level staffer that i hardly knew named cliff sims wrote yet another boring book based on made up stories and url', 'how does da nang dick blumenthal serve on the senate judiciary committee when he defrauded the american people ab url', 'in the beautiful midwest windchill temperatures are reaching minus 60 degrees the coldest ever recorded in comin url']\n"
     ]
    }
   ],
   "source": [
    "print(clean_text[0:3])"
   ]
  },
  {
   "cell_type": "code",
   "execution_count": 20,
   "metadata": {},
   "outputs": [
    {
     "name": "stdout",
     "output_type": "stream",
     "text": [
      "0.5\n"
     ]
    }
   ],
   "source": [
    "# target is the handle.\n",
    "# make trump 1 and sanders 0\n",
    "y = tweets['handle'].map(lambda x: 1 if x == 'Donald J. Trump' else 0).values\n",
    "\n",
    "print(np.mean(y))"
   ]
  },
  {
   "cell_type": "code",
   "execution_count": 21,
   "metadata": {},
   "outputs": [
    {
     "name": "stdout",
     "output_type": "stream",
     "text": [
      "(2000, 2000)\n"
     ]
    }
   ],
   "source": [
    "from sklearn.linear_model import LogisticRegression\n",
    "\n",
    "# Preprocess our text data to Tfidf\n",
    "tfv = TfidfVectorizer(ngram_range=(1,4), max_features=2000)\n",
    "X = tfv.fit_transform(clean_text).todense()\n",
    "\n",
    "print(X.shape)"
   ]
  },
  {
   "cell_type": "code",
   "execution_count": 22,
   "metadata": {},
   "outputs": [
    {
     "name": "stdout",
     "output_type": "stream",
     "text": [
      "[0.875 0.895 0.925 0.925 0.875 0.905 0.865 0.9   0.885 0.915]\n",
      "0.8965\n"
     ]
    },
    {
     "name": "stderr",
     "output_type": "stream",
     "text": [
      "/Users/gGandenberger/anaconda3/envs/py37/lib/python3.7/site-packages/sklearn/linear_model/logistic.py:432: FutureWarning: Default solver will be changed to 'lbfgs' in 0.22. Specify a solver to silence this warning.\n",
      "  FutureWarning)\n",
      "/Users/gGandenberger/anaconda3/envs/py37/lib/python3.7/site-packages/sklearn/linear_model/logistic.py:432: FutureWarning: Default solver will be changed to 'lbfgs' in 0.22. Specify a solver to silence this warning.\n",
      "  FutureWarning)\n",
      "/Users/gGandenberger/anaconda3/envs/py37/lib/python3.7/site-packages/sklearn/linear_model/logistic.py:432: FutureWarning: Default solver will be changed to 'lbfgs' in 0.22. Specify a solver to silence this warning.\n",
      "  FutureWarning)\n",
      "/Users/gGandenberger/anaconda3/envs/py37/lib/python3.7/site-packages/sklearn/linear_model/logistic.py:432: FutureWarning: Default solver will be changed to 'lbfgs' in 0.22. Specify a solver to silence this warning.\n",
      "  FutureWarning)\n",
      "/Users/gGandenberger/anaconda3/envs/py37/lib/python3.7/site-packages/sklearn/linear_model/logistic.py:432: FutureWarning: Default solver will be changed to 'lbfgs' in 0.22. Specify a solver to silence this warning.\n",
      "  FutureWarning)\n",
      "/Users/gGandenberger/anaconda3/envs/py37/lib/python3.7/site-packages/sklearn/linear_model/logistic.py:432: FutureWarning: Default solver will be changed to 'lbfgs' in 0.22. Specify a solver to silence this warning.\n",
      "  FutureWarning)\n",
      "/Users/gGandenberger/anaconda3/envs/py37/lib/python3.7/site-packages/sklearn/linear_model/logistic.py:432: FutureWarning: Default solver will be changed to 'lbfgs' in 0.22. Specify a solver to silence this warning.\n",
      "  FutureWarning)\n",
      "/Users/gGandenberger/anaconda3/envs/py37/lib/python3.7/site-packages/sklearn/linear_model/logistic.py:432: FutureWarning: Default solver will be changed to 'lbfgs' in 0.22. Specify a solver to silence this warning.\n",
      "  FutureWarning)\n",
      "/Users/gGandenberger/anaconda3/envs/py37/lib/python3.7/site-packages/sklearn/linear_model/logistic.py:432: FutureWarning: Default solver will be changed to 'lbfgs' in 0.22. Specify a solver to silence this warning.\n",
      "  FutureWarning)\n",
      "/Users/gGandenberger/anaconda3/envs/py37/lib/python3.7/site-packages/sklearn/linear_model/logistic.py:432: FutureWarning: Default solver will be changed to 'lbfgs' in 0.22. Specify a solver to silence this warning.\n",
      "  FutureWarning)\n",
      "/Users/gGandenberger/anaconda3/envs/py37/lib/python3.7/site-packages/sklearn/linear_model/logistic.py:432: FutureWarning: Default solver will be changed to 'lbfgs' in 0.22. Specify a solver to silence this warning.\n",
      "  FutureWarning)\n"
     ]
    },
    {
     "data": {
      "text/plain": [
       "LogisticRegression(C=1.0, class_weight=None, dual=False, fit_intercept=True,\n",
       "          intercept_scaling=1, max_iter=100, multi_class='warn',\n",
       "          n_jobs=None, penalty='l2', random_state=None, solver='warn',\n",
       "          tol=0.0001, verbose=0, warm_start=False)"
      ]
     },
     "execution_count": 22,
     "metadata": {},
     "output_type": "execute_result"
    }
   ],
   "source": [
    "# cross-validate the accuracy:\n",
    "from sklearn.model_selection import cross_val_score\n",
    "accuracies = cross_val_score(LogisticRegression(), X, y, cv=10)\n",
    "\n",
    "print(accuracies)\n",
    "print(np.mean(accuracies))\n",
    "\n",
    "# Setup logistic regression (or try another classification method here)\n",
    "estimator = LogisticRegression()\n",
    "estimator.fit(X, y)\n"
   ]
  },
  {
   "cell_type": "code",
   "execution_count": 23,
   "metadata": {},
   "outputs": [],
   "source": [
    "# Very good accuracy considering the baseline is 50%"
   ]
  },
  {
   "cell_type": "markdown",
   "metadata": {},
   "source": [
    "## Check the predicted probability for a random Sanders and Trump tweet\n",
    "---\n",
    "\n",
    "Below are provided a couple of tweets from both Sanders and Trump. I'm sure you can figure out on your own which one is which.\n",
    "\n",
    "Estimate the predicted probability of being trump for the two tweets."
   ]
  },
  {
   "cell_type": "code",
   "execution_count": 24,
   "metadata": {},
   "outputs": [
    {
     "data": {
      "text/plain": [
       "array([[0.64098369, 0.35901631],\n",
       "       [0.29860157, 0.70139843]])"
      ]
     },
     "execution_count": 24,
     "metadata": {},
     "output_type": "execute_result"
    }
   ],
   "source": [
    "# Prep our source as TfIdf vectors\n",
    "source_test = [\n",
    "    \"Demanding that the wealthy and the powerful start paying their fair share of taxes that's exactly what the American people want.\",\n",
    "    \"Crooked Hillary is spending tremendous amounts of Wall Street money on false ads against me. She is a very dishonest person!\"\n",
    "]\n",
    "\n",
    "############\n",
    "# NOTE:  Do not re-initialize the tfidf vectorizor or the feature space willbe overwritten and\n",
    "# hence your transform will not match the number of features you trained your model on.\n",
    "#\n",
    "# This is why you only need to \"transform\" since you already \"fit\" previously\n",
    "#\n",
    "####\n",
    "\n",
    "Xtest = tfv.transform(source_test)\n",
    "\n",
    "# Predict using previously trained logist regression `estimator`\n",
    "estimator.predict_proba(Xtest)"
   ]
  },
  {
   "cell_type": "code",
   "execution_count": 25,
   "metadata": {},
   "outputs": [],
   "source": [
    "# The 1st column is probability of being Bernie, and 2nd Trump. The classifier is getting it right."
   ]
  },
  {
   "cell_type": "markdown",
   "metadata": {},
   "source": [
    "## Independent practice questions\n",
    "\n",
    "---"
   ]
  },
  {
   "cell_type": "markdown",
   "metadata": {},
   "source": [
    "### 1. Pull tweets for some new users.\n",
    "\n",
    "Experiment with using more data.  The API will not like it if you blow through their limits - be careful.  Try to grab only what you need one time, then work on the copy of the objects that are returned.  \n",
    "\n",
    "> Read the documentation about rate limits and see if you can get enough without hitting the rate limit.  Are there any options available in the API to avoid such a problem?\n",
    "\n",
    "**Pull tweets for more than two different users of your choice.**"
   ]
  },
  {
   "cell_type": "code",
   "execution_count": 26,
   "metadata": {},
   "outputs": [
    {
     "name": "stdout",
     "output_type": "stream",
     "text": [
      "Mining tweets for: dril\n",
      "Mining tweets for: LaziestCanine\n",
      "Mining tweets for: ch000ch\n"
     ]
    }
   ],
   "source": [
    "# We deviate from trump / sanders using student tweets here to illustrate the NLP pipeine with twitter data\n",
    "\n",
    "twitter_handles = [\"dril\", \"LaziestCanine\",'ch000ch']\n",
    "tweets = {}\n",
    "\n",
    "for twitter_handle in twitter_handles:\n",
    "    print(\"Mining tweets for: {}\".format(twitter_handle))\n",
    "    miner = TweetMiner(twitter_keys, api, result_limit=500)\n",
    "    tweets[twitter_handle] = miner.mine_user_tweets(user=twitter_handle, max_pages=10)\n"
   ]
  },
  {
   "cell_type": "code",
   "execution_count": 27,
   "metadata": {},
   "outputs": [
    {
     "name": "stdout",
     "output_type": "stream",
     "text": [
      "(5984, 6)\n"
     ]
    }
   ],
   "source": [
    "multi = pd.DataFrame(tweets['dril'])\n",
    "multi = multi.append(pd.DataFrame(tweets['LaziestCanine']))\n",
    "multi = multi.append(pd.DataFrame(tweets['ch000ch']))\n",
    "\n",
    "print(multi.shape)"
   ]
  },
  {
   "cell_type": "code",
   "execution_count": 28,
   "metadata": {},
   "outputs": [
    {
     "data": {
      "text/plain": [
       "Lazy dog    1997\n",
       "chuuch      1996\n",
       "wint        1991\n",
       "Name: handle, dtype: int64"
      ]
     },
     "execution_count": 28,
     "metadata": {},
     "output_type": "execute_result"
    }
   ],
   "source": [
    "multi.handle.value_counts()"
   ]
  },
  {
   "cell_type": "markdown",
   "metadata": {},
   "source": [
    "### 2. Build a multi-class classification model to distinguish between the users.\n",
    "\n",
    "Try a new type of model than we used before."
   ]
  },
  {
   "cell_type": "code",
   "execution_count": 29,
   "metadata": {},
   "outputs": [],
   "source": [
    "tweet_text = multi['text'].values\n",
    "clean_text = [preprocess_text(x, fix_unicode=True, lowercase=True, transliterate=False,\n",
    "                              no_urls=True, no_emails=True, no_phone_numbers=True, no_currency_symbols=True,\n",
    "                              no_punct=True, no_accents=True)\n",
    "              for x in tweet_text]\n",
    "\n",
    "y = multi['handle'].map(lambda x: 0 if x == 'wint' else 1 if x == 'Lazy dog' else 2).values"
   ]
  },
  {
   "cell_type": "code",
   "execution_count": 30,
   "metadata": {},
   "outputs": [],
   "source": [
    "tfv = TfidfVectorizer(ngram_range=(1,3), max_features=2500)\n",
    "X = tfv.fit_transform(clean_text)"
   ]
  },
  {
   "cell_type": "code",
   "execution_count": 31,
   "metadata": {},
   "outputs": [],
   "source": [
    "from sklearn.model_selection import train_test_split\n",
    "\n",
    "X_train, X_test, y_train, y_test = train_test_split(X, y, test_size=0.3, random_state=42)"
   ]
  },
  {
   "cell_type": "code",
   "execution_count": 32,
   "metadata": {},
   "outputs": [
    {
     "name": "stderr",
     "output_type": "stream",
     "text": [
      "[Parallel(n_jobs=1)]: Using backend SequentialBackend with 1 concurrent workers.\n",
      "[Parallel(n_jobs=1)]: Done 250 out of 250 | elapsed:    4.0s finished\n"
     ]
    },
    {
     "data": {
      "text/plain": [
       "KNeighborsClassifier(algorithm='auto', leaf_size=30, metric='minkowski',\n",
       "           metric_params=None, n_jobs=None, n_neighbors=7, p=2,\n",
       "           weights='uniform')"
      ]
     },
     "execution_count": 32,
     "metadata": {},
     "output_type": "execute_result"
    }
   ],
   "source": [
    "from sklearn.ensemble import RandomForestClassifier\n",
    "from sklearn.neighbors import KNeighborsClassifier\n",
    "\n",
    "rf = RandomForestClassifier(n_estimators=250, verbose=1)\n",
    "knn = KNeighborsClassifier(n_neighbors=7)\n",
    "\n",
    "rf.fit(X_train, y_train)\n",
    "knn.fit(X_train, y_train)"
   ]
  },
  {
   "cell_type": "code",
   "execution_count": 33,
   "metadata": {},
   "outputs": [
    {
     "name": "stderr",
     "output_type": "stream",
     "text": [
      "[Parallel(n_jobs=1)]: Using backend SequentialBackend with 1 concurrent workers.\n",
      "[Parallel(n_jobs=1)]: Done 250 out of 250 | elapsed:    0.3s finished\n"
     ]
    },
    {
     "name": "stdout",
     "output_type": "stream",
     "text": [
      "RF: 0.7149220489977728\n",
      "KNN: 0.40924276169265034\n"
     ]
    }
   ],
   "source": [
    "# Random forest score:\n",
    "print('RF: {}'.format(rf.score(X_test, y_test)))\n",
    "print('KNN: {}'.format(knn.score(X_test, y_test)))"
   ]
  },
  {
   "cell_type": "code",
   "execution_count": 34,
   "metadata": {},
   "outputs": [
    {
     "data": {
      "text/plain": [
       "Lazy dog    0.333723\n",
       "chuuch      0.333556\n",
       "wint        0.332721\n",
       "Name: handle, dtype: float64"
      ]
     },
     "execution_count": 34,
     "metadata": {},
     "output_type": "execute_result"
    }
   ],
   "source": [
    "# Baseline score:\n",
    "multi.handle.value_counts() / multi.shape[0]"
   ]
  },
  {
   "cell_type": "code",
   "execution_count": 35,
   "metadata": {},
   "outputs": [],
   "source": [
    "rf_yhat = knn.predict(X_test)"
   ]
  },
  {
   "cell_type": "markdown",
   "metadata": {},
   "source": [
    "### 3. Make a confusion matrix and classification report."
   ]
  },
  {
   "cell_type": "code",
   "execution_count": 36,
   "metadata": {},
   "outputs": [
    {
     "name": "stdout",
     "output_type": "stream",
     "text": [
      "              precision    recall  f1-score   support\n",
      "\n",
      "           0       0.49      0.23      0.32       630\n",
      "           1       0.36      0.74      0.49       593\n",
      "           2       0.52      0.25      0.34       573\n",
      "\n",
      "   micro avg       0.41      0.41      0.41      1796\n",
      "   macro avg       0.46      0.41      0.38      1796\n",
      "weighted avg       0.46      0.41      0.38      1796\n",
      "\n"
     ]
    }
   ],
   "source": [
    "from sklearn.metrics import classification_report, confusion_matrix\n",
    "\n",
    "print(classification_report(y_test, rf_yhat))"
   ]
  },
  {
   "cell_type": "code",
   "execution_count": 37,
   "metadata": {},
   "outputs": [
    {
     "name": "stdout",
     "output_type": "stream",
     "text": [
      "[[148 410  72]\n",
      " [ 89 441  63]\n",
      " [ 67 360 146]]\n"
     ]
    }
   ],
   "source": [
    "# Confusion Matrix\n",
    "print(confusion_matrix(y_test, rf_yhat))"
   ]
  },
  {
   "cell_type": "markdown",
   "metadata": {},
   "source": [
    "### 4. What is the most and least \"distinctive\" tweets for each user?\n",
    "\n",
    "To find this, identify the tweet that has the highest (correct) predicted probability of being that user's tweet for each user."
   ]
  },
  {
   "cell_type": "code",
   "execution_count": 38,
   "metadata": {},
   "outputs": [
    {
     "name": "stderr",
     "output_type": "stream",
     "text": [
      "[Parallel(n_jobs=1)]: Using backend SequentialBackend with 1 concurrent workers.\n",
      "[Parallel(n_jobs=1)]: Done 250 out of 250 | elapsed:    6.4s finished\n",
      "[Parallel(n_jobs=1)]: Using backend SequentialBackend with 1 concurrent workers.\n",
      "[Parallel(n_jobs=1)]: Done 250 out of 250 | elapsed:    0.8s finished\n"
     ]
    }
   ],
   "source": [
    "rf.fit(X, y)\n",
    "\n",
    "pp = rf.predict_proba(X)"
   ]
  },
  {
   "cell_type": "code",
   "execution_count": 39,
   "metadata": {},
   "outputs": [
    {
     "data": {
      "text/plain": [
       "array([[0.67279663, 0.15868054, 0.16852283],\n",
       "       [0.4709947 , 0.46231926, 0.06668605],\n",
       "       [0.964     , 0.012     , 0.024     ],\n",
       "       [0.936     , 0.048     , 0.016     ],\n",
       "       [0.4709947 , 0.46231926, 0.06668605]])"
      ]
     },
     "execution_count": 39,
     "metadata": {},
     "output_type": "execute_result"
    }
   ],
   "source": [
    "pp[0:5]"
   ]
  },
  {
   "cell_type": "code",
   "execution_count": 40,
   "metadata": {},
   "outputs": [],
   "source": [
    "pp = pd.DataFrame(pp, columns=['dril_pp', 'laziestcanine_pp', 'ch000ch_pp'])"
   ]
  },
  {
   "cell_type": "code",
   "execution_count": 41,
   "metadata": {},
   "outputs": [
    {
     "name": "stdout",
     "output_type": "stream",
     "text": [
      "(5984, 6)\n",
      "(5984, 3)\n"
     ]
    }
   ],
   "source": [
    "print(multi.shape)\n",
    "print(pp.shape)"
   ]
  },
  {
   "cell_type": "code",
   "execution_count": 42,
   "metadata": {},
   "outputs": [
    {
     "data": {
      "text/html": [
       "<div>\n",
       "<style scoped>\n",
       "    .dataframe tbody tr th:only-of-type {\n",
       "        vertical-align: middle;\n",
       "    }\n",
       "\n",
       "    .dataframe tbody tr th {\n",
       "        vertical-align: top;\n",
       "    }\n",
       "\n",
       "    .dataframe thead th {\n",
       "        text-align: right;\n",
       "    }\n",
       "</style>\n",
       "<table border=\"1\" class=\"dataframe\">\n",
       "  <thead>\n",
       "    <tr style=\"text-align: right;\">\n",
       "      <th></th>\n",
       "      <th>index</th>\n",
       "      <th>created_at</th>\n",
       "      <th>handle</th>\n",
       "      <th>mined_at</th>\n",
       "      <th>retweet_count</th>\n",
       "      <th>text</th>\n",
       "      <th>tweet_id</th>\n",
       "      <th>index</th>\n",
       "      <th>dril_pp</th>\n",
       "      <th>laziestcanine_pp</th>\n",
       "      <th>ch000ch_pp</th>\n",
       "    </tr>\n",
       "  </thead>\n",
       "  <tbody>\n",
       "    <tr>\n",
       "      <th>0</th>\n",
       "      <td>0</td>\n",
       "      <td>Wed Jan 30 00:16:24 +0000 2019</td>\n",
       "      <td>wint</td>\n",
       "      <td>2019-01-29 20:59:36.536890</td>\n",
       "      <td>4</td>\n",
       "      <td>@bicyclememes No thats too far .</td>\n",
       "      <td>1090403317333676033</td>\n",
       "      <td>0</td>\n",
       "      <td>0.672797</td>\n",
       "      <td>0.158681</td>\n",
       "      <td>0.168523</td>\n",
       "    </tr>\n",
       "    <tr>\n",
       "      <th>1</th>\n",
       "      <td>1</td>\n",
       "      <td>Wed Jan 30 00:06:37 +0000 2019</td>\n",
       "      <td>wint</td>\n",
       "      <td>2019-01-29 20:59:36.536899</td>\n",
       "      <td>775</td>\n",
       "      <td>https://t.co/wYLI2vf0pb</td>\n",
       "      <td>1090400854736138240</td>\n",
       "      <td>1</td>\n",
       "      <td>0.470995</td>\n",
       "      <td>0.462319</td>\n",
       "      <td>0.066686</td>\n",
       "    </tr>\n",
       "  </tbody>\n",
       "</table>\n",
       "</div>"
      ],
      "text/plain": [
       "   index                      created_at handle                   mined_at  \\\n",
       "0      0  Wed Jan 30 00:16:24 +0000 2019   wint 2019-01-29 20:59:36.536890   \n",
       "1      1  Wed Jan 30 00:06:37 +0000 2019   wint 2019-01-29 20:59:36.536899   \n",
       "\n",
       "   retweet_count                              text             tweet_id  \\\n",
       "0              4  @bicyclememes No thats too far .  1090403317333676033   \n",
       "1            775           https://t.co/wYLI2vf0pb  1090400854736138240   \n",
       "\n",
       "   index   dril_pp  laziestcanine_pp  ch000ch_pp  \n",
       "0      0  0.672797          0.158681    0.168523  \n",
       "1      1  0.470995          0.462319    0.066686  "
      ]
     },
     "execution_count": 42,
     "metadata": {},
     "output_type": "execute_result"
    }
   ],
   "source": [
    "tweets_pp = pd.concat([multi.reset_index(), pp.reset_index()], axis=1)\n",
    "tweets_pp.head(2)"
   ]
  },
  {
   "cell_type": "code",
   "execution_count": 43,
   "metadata": {
    "scrolled": true
   },
   "outputs": [
    {
     "name": "stdout",
     "output_type": "stream",
     "text": [
      "Most dril: RT @fate_fox: あぁMeat Boll　おいしそう\n",
      "Least dril: Kurnis\n"
     ]
    }
   ],
   "source": [
    "print('Most dril: {}'.format(tweets_pp[tweets_pp.handle == 'wint'].sort_values('dril_pp', ascending=False).text.values[0]))\n",
    "print('Least dril: {}'.format(tweets_pp[tweets_pp.handle == 'wint'].sort_values('dril_pp', ascending=True).text.values[0]))"
   ]
  },
  {
   "cell_type": "code",
   "execution_count": 44,
   "metadata": {},
   "outputs": [
    {
     "name": "stdout",
     "output_type": "stream",
     "text": [
      "Most LaziestCanine: @AidanColt thamk uu!!\n",
      "Least LaziestCanine: @J_Millie42 lmao\n"
     ]
    }
   ],
   "source": [
    "print('Most LaziestCanine: {}'.format(tweets_pp[tweets_pp.handle == 'Lazy dog'].sort_values('laziestcanine_pp', ascending=False).text.values[0]))\n",
    "print('Least LaziestCanine: {}'.format(tweets_pp[tweets_pp.handle == 'Lazy dog'].sort_values('laziestcanine_pp', ascending=True).text.values[0]))"
   ]
  },
  {
   "cell_type": "code",
   "execution_count": 45,
   "metadata": {},
   "outputs": [
    {
     "name": "stdout",
     "output_type": "stream",
     "text": [
      "Most chuuch: @sixftbelle lol\n",
      "Least chuuch: @MischaShriver https://t.co/KoKs8j1JNs\n"
     ]
    }
   ],
   "source": [
    "print('Most chuuch: {}'.format(tweets_pp[tweets_pp.handle == 'chuuch'].sort_values('ch000ch_pp', ascending=False).text.values[0]))\n",
    "print('Least chuuch: {}'.format(tweets_pp[tweets_pp.handle == 'chuuch'].sort_values('ch000ch_pp', ascending=True).text.values[0]))"
   ]
  }
 ],
 "metadata": {
  "anaconda-cloud": {},
  "kernelspec": {
   "display_name": "Python 3",
   "language": "python",
   "name": "python3"
  },
  "language_info": {
   "codemirror_mode": {
    "name": "ipython",
    "version": 3
   },
   "file_extension": ".py",
   "mimetype": "text/x-python",
   "name": "python",
   "nbconvert_exporter": "python",
   "pygments_lexer": "ipython3",
   "version": "3.7.1"
  }
 },
 "nbformat": 4,
 "nbformat_minor": 2
}
