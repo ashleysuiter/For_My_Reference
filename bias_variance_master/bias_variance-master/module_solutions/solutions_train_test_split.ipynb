{
 "cells": [
  {
   "cell_type": "markdown",
   "metadata": {
    "toc-hr-collapsed": false
   },
   "source": [
    "<img src=\"http://imgur.com/1ZcRyrc.png\" style=\"float: left; margin: 20px; height: 55px\">\n",
    "\n",
    "# Train/Test Splits\n",
    "\n",
    "_Authors: Joseph Nelson (DC), Kevin Markham (DC)_"
   ]
  },
  {
   "cell_type": "code",
   "execution_count": 1,
   "metadata": {},
   "outputs": [],
   "source": [
    "import matplotlib.pyplot as plt\n",
    "import numpy as np\n",
    "import pandas as pd\n",
    "import seaborn as sns"
   ]
  },
  {
   "cell_type": "code",
   "execution_count": 2,
   "metadata": {},
   "outputs": [],
   "source": [
    "%matplotlib inline"
   ]
  },
  {
   "cell_type": "code",
   "execution_count": 3,
   "metadata": {},
   "outputs": [],
   "source": [
    "ames_df = pd.read_csv('../assets/data/ames_train.csv')\n",
    "X = ames_df.drop('SalePrice', axis='columns')\n",
    "y = ames_df.loc[:, 'SalePrice']"
   ]
  },
  {
   "cell_type": "markdown",
   "metadata": {
    "toc-hr-collapsed": false
   },
   "source": [
    "## Simple Train/Test Splits"
   ]
  },
  {
   "cell_type": "markdown",
   "metadata": {},
   "source": [
    "So far in this course we have used *simple train/test splits*:\n",
    "\n",
    "1. Split the data set into two pieces: a **training set** and a **testing set**.\n",
    "2. Fit the model on the **training set**.\n",
    "3. Evaluate the model on the **testing set**.\n",
    "\n",
    "A common rule of thumb that sklearn follows by default is to set aside 25% of your data set for testing."
   ]
  },
  {
   "cell_type": "markdown",
   "metadata": {},
   "source": [
    "### Understanding the `train_test_split` Function"
   ]
  },
  {
   "cell_type": "code",
   "execution_count": 4,
   "metadata": {},
   "outputs": [],
   "source": [
    "# Do a train/test split on the Ames housing data\n",
    "# /scrub/\n",
    "from sklearn.model_selection import train_test_split\n",
    "\n",
    "X_train, X_test, y_train, y_test = train_test_split(X, y)"
   ]
  },
  {
   "cell_type": "code",
   "execution_count": 5,
   "metadata": {},
   "outputs": [
    {
     "name": "stdout",
     "output_type": "stream",
     "text": [
      "X shape before splitting: (1460, 80)\n",
      "X shape after splitting: (1095, 80) (365, 80)\n"
     ]
    }
   ],
   "source": [
    "# Confirm that X_train and X_test comes from splitting X by row\n",
    "# /scrub/\n",
    "# Before splitting\n",
    "print('X shape before splitting:', X.shape)\n",
    "\n",
    "# After splitting\n",
    "print('X shape after splitting:', X_train.shape, X_test.shape)"
   ]
  },
  {
   "cell_type": "code",
   "execution_count": 6,
   "metadata": {},
   "outputs": [
    {
     "name": "stdout",
     "output_type": "stream",
     "text": [
      "(1460,)\n",
      "(1095,)\n",
      "(365,)\n"
     ]
    }
   ],
   "source": [
    "# Confirm that y_train and y_test comes from splitting y by row\n",
    "# /scrub/\n",
    "# Recall that (1,) is a tuple.\n",
    "# The trailing comma distinguishes it as being a tuple, not an integer.\n",
    "\n",
    "# Before splitting\n",
    "print(y.shape)\n",
    "\n",
    "# After sy plitting\n",
    "print(y_train.shape)\n",
    "print(y_test.shape)"
   ]
  },
  {
   "cell_type": "markdown",
   "metadata": {},
   "source": [
    "![train_test_split](../assets/images/train_test_split.png)"
   ]
  },
  {
   "cell_type": "markdown",
   "metadata": {},
   "source": [
    "### Understanding the `random_state` Parameter\n",
    "\n",
    "The `random_state` is a pseudo-random number that allows us to reproduce our results every time we run them. However, it makes it impossible to predict what are exact results will be if we chose a new `random_state`.\n",
    "\n",
    "`random_state` is very useful for testing that your model was made correctly since it provides you with the same split each time. However, make sure you remove it if you are testing for model variability!"
   ]
  },
  {
   "cell_type": "code",
   "execution_count": 7,
   "metadata": {},
   "outputs": [
    {
     "name": "stdout",
     "output_type": "stream",
     "text": [
      "        Id  MSSubClass MSZoning  LotFrontage  LotArea Street Alley LotShape  \\\n",
      "1069  1070          45       RL         60.0     9600   Pave   NaN      Reg   \n",
      "\n",
      "     LandContour Utilities      ...       ScreenPorch PoolArea PoolQC Fence  \\\n",
      "1069         Lvl    AllPub      ...                 0        0    NaN   NaN   \n",
      "\n",
      "     MiscFeature MiscVal MoSold  YrSold  SaleType  SaleCondition  \n",
      "1069         NaN       0      5    2007        WD         Normal  \n",
      "\n",
      "[1 rows x 80 columns]\n"
     ]
    }
   ],
   "source": [
    "# WITHOUT a random_state parameter:\n",
    "#  (If you run this code several times, you get different results!)\n",
    "X_train, X_test, y_train, y_test = train_test_split(X, y)\n",
    "\n",
    "# Print the first row of X_Train.\n",
    "print(X_train.head(1))"
   ]
  },
  {
   "cell_type": "code",
   "execution_count": 8,
   "metadata": {},
   "outputs": [
    {
     "name": "stdout",
     "output_type": "stream",
     "text": [
      "   Id  MSSubClass MSZoning  LotFrontage  LotArea Street Alley LotShape  \\\n",
      "6   7          20       RL         75.0    10084   Pave   NaN      Reg   \n",
      "\n",
      "  LandContour Utilities      ...       ScreenPorch PoolArea PoolQC Fence  \\\n",
      "6         Lvl    AllPub      ...                 0        0    NaN   NaN   \n",
      "\n",
      "  MiscFeature MiscVal MoSold  YrSold  SaleType  SaleCondition  \n",
      "6         NaN       0      8    2007        WD         Normal  \n",
      "\n",
      "[1 rows x 80 columns]\n"
     ]
    }
   ],
   "source": [
    "# WITH a random_state parameter:\n",
    "#  (Same split every time! Note you can change the random state to any integer.)\n",
    "X_train, X_test, y_train, y_test = train_test_split(X, y, random_state=1)\n",
    "\n",
    "# Print the first row of each X_train.\n",
    "print(X_train.head(1))"
   ]
  },
  {
   "cell_type": "code",
   "execution_count": 9,
   "metadata": {},
   "outputs": [
    {
     "name": "stdout",
     "output_type": "stream",
     "text": [
      ".. _boston_dataset:\n",
      "\n",
      "Boston house prices dataset\n",
      "---------------------------\n",
      "\n",
      "**Data Set Characteristics:**  \n",
      "\n",
      "    :Number of Instances: 506 \n",
      "\n",
      "    :Number of Attributes: 13 numeric/categorical predictive. Median Value (attribute 14) is usually the target.\n",
      "\n",
      "    :Attribute Information (in order):\n",
      "        - CRIM     per capita crime rate by town\n",
      "        - ZN       proportion of residential land zoned for lots over 25,000 sq.ft.\n",
      "        - INDUS    proportion of non-retail business acres per town\n",
      "        - CHAS     Charles River dummy variable (= 1 if tract bounds river; 0 otherwise)\n",
      "        - NOX      nitric oxides concentration (parts per 10 million)\n",
      "        - RM       average number of rooms per dwelling\n",
      "        - AGE      proportion of owner-occupied units built prior to 1940\n",
      "        - DIS      weighted distances to five Boston employment centres\n",
      "        - RAD      index of accessibility to radial highways\n",
      "        - TAX      full-value property-tax rate per $10,000\n",
      "        - PTRATIO  pupil-teacher ratio by town\n",
      "        - B        1000(Bk - 0.63)^2 where Bk is the proportion of blacks by town\n",
      "        - LSTAT    % lower status of the population\n",
      "        - MEDV     Median value of owner-occupied homes in $1000's\n",
      "\n",
      "    :Missing Attribute Values: None\n",
      "\n",
      "    :Creator: Harrison, D. and Rubinfeld, D.L.\n",
      "\n",
      "This is a copy of UCI ML housing dataset.\n",
      "https://archive.ics.uci.edu/ml/machine-learning-databases/housing/\n",
      "\n",
      "\n",
      "This dataset was taken from the StatLib library which is maintained at Carnegie Mellon University.\n",
      "\n",
      "The Boston house-price data of Harrison, D. and Rubinfeld, D.L. 'Hedonic\n",
      "prices and the demand for clean air', J. Environ. Economics & Management,\n",
      "vol.5, 81-102, 1978.   Used in Belsley, Kuh & Welsch, 'Regression diagnostics\n",
      "...', Wiley, 1980.   N.B. Various transformations are used in the table on\n",
      "pages 244-261 of the latter.\n",
      "\n",
      "The Boston house-price data has been used in many machine learning papers that address regression\n",
      "problems.   \n",
      "     \n",
      ".. topic:: References\n",
      "\n",
      "   - Belsley, Kuh & Welsch, 'Regression diagnostics: Identifying Influential Data and Sources of Collinearity', Wiley, 1980. 244-261.\n",
      "   - Quinlan,R. (1993). Combining Instance-Based and Model-Based Learning. In Proceedings on the Tenth International Conference of Machine Learning, 236-243, University of Massachusetts, Amherst. Morgan Kaufmann.\n",
      "\n"
     ]
    }
   ],
   "source": [
    "# Load the Boston housing dataset from sklearn and print its documentation\n",
    "from sklearn.datasets import load_boston\n",
    "\n",
    "boston = load_boston()\n",
    "print(boston.DESCR)\n",
    "\n",
    "X = pd.DataFrame(boston.data, columns=boston.feature_names)\n",
    "y = pd.DataFrame(boston.target, columns=['MEDV'])\n",
    "\n",
    "boston = pd.concat([y, X], axis=1)"
   ]
  },
  {
   "cell_type": "markdown",
   "metadata": {},
   "source": [
    "**Exercise.**"
   ]
  },
  {
   "cell_type": "markdown",
   "metadata": {},
   "source": [
    "- Make `X` a DataFrame with columns \"AGE\" and \"RM\" from the Boston housing dataset, and make `y` a series with column \"MEDV.\""
   ]
  },
  {
   "cell_type": "code",
   "execution_count": 10,
   "metadata": {},
   "outputs": [],
   "source": [
    "# /scrub/\n",
    "feature_cols = ['AGE', 'RM']\n",
    "X = boston.loc[:, feature_cols]\n",
    "y = boston.loc[:, 'MEDV']"
   ]
  },
  {
   "cell_type": "markdown",
   "metadata": {},
   "source": [
    "- Split `X` and `y` from the previosu step into a training set and a test state, setting a random state for reproducibility."
   ]
  },
  {
   "cell_type": "code",
   "execution_count": 11,
   "metadata": {},
   "outputs": [],
   "source": [
    "# /scrub/\n",
    "X_train, X_test, y_train, y_test = train_test_split(X, y, random_state=99)"
   ]
  },
  {
   "cell_type": "markdown",
   "metadata": {},
   "source": [
    "- Train a linear regression model on the training set."
   ]
  },
  {
   "cell_type": "code",
   "execution_count": 12,
   "metadata": {},
   "outputs": [
    {
     "data": {
      "text/plain": [
       "LinearRegression(copy_X=True, fit_intercept=True, n_jobs=None,\n",
       "         normalize=False)"
      ]
     },
     "execution_count": 12,
     "metadata": {},
     "output_type": "execute_result"
    }
   ],
   "source": [
    "# /scrub/\n",
    "from sklearn.linear_model import LinearRegression\n",
    "\n",
    "lr = LinearRegression()\n",
    "lr.fit(X_train, y_train)"
   ]
  },
  {
   "cell_type": "markdown",
   "metadata": {},
   "source": [
    "- Print mean squared error (not R^2) for both the training set and the test set. You can use the `mean_squared_error` function imported below. Consult the printed documentation if you are not sure how to use it."
   ]
  },
  {
   "cell_type": "code",
   "execution_count": 13,
   "metadata": {},
   "outputs": [],
   "source": [
    "from sklearn.metrics import mean_squared_error"
   ]
  },
  {
   "cell_type": "code",
   "execution_count": 14,
   "metadata": {},
   "outputs": [
    {
     "data": {
      "text/plain": [
       "\u001b[0;31mSignature:\u001b[0m\n",
       "\u001b[0mmean_squared_error\u001b[0m\u001b[0;34m(\u001b[0m\u001b[0;34m\u001b[0m\n",
       "\u001b[0;34m\u001b[0m    \u001b[0;34m[\u001b[0m\u001b[0;34m'y_true'\u001b[0m\u001b[0;34m,\u001b[0m \u001b[0;34m'y_pred'\u001b[0m\u001b[0;34m,\u001b[0m \u001b[0;34m'sample_weight=None'\u001b[0m\u001b[0;34m,\u001b[0m \u001b[0;34m\"multioutput='uniform_average'\"\u001b[0m\u001b[0;34m]\u001b[0m\u001b[0;34m,\u001b[0m\u001b[0;34m\u001b[0m\n",
       "\u001b[0;34m\u001b[0m\u001b[0;34m)\u001b[0m\u001b[0;34m\u001b[0m\u001b[0;34m\u001b[0m\u001b[0m\n",
       "\u001b[0;31mDocstring:\u001b[0m\n",
       "Mean squared error regression loss\n",
       "\n",
       "Read more in the :ref:`User Guide <mean_squared_error>`.\n",
       "\n",
       "Parameters\n",
       "----------\n",
       "y_true : array-like of shape = (n_samples) or (n_samples, n_outputs)\n",
       "    Ground truth (correct) target values.\n",
       "\n",
       "y_pred : array-like of shape = (n_samples) or (n_samples, n_outputs)\n",
       "    Estimated target values.\n",
       "\n",
       "sample_weight : array-like of shape = (n_samples), optional\n",
       "    Sample weights.\n",
       "\n",
       "multioutput : string in ['raw_values', 'uniform_average']\n",
       "    or array-like of shape (n_outputs)\n",
       "    Defines aggregating of multiple output values.\n",
       "    Array-like value defines weights used to average errors.\n",
       "\n",
       "    'raw_values' :\n",
       "        Returns a full set of errors in case of multioutput input.\n",
       "\n",
       "    'uniform_average' :\n",
       "        Errors of all outputs are averaged with uniform weight.\n",
       "\n",
       "Returns\n",
       "-------\n",
       "loss : float or ndarray of floats\n",
       "    A non-negative floating point value (the best value is 0.0), or an\n",
       "    array of floating point values, one for each individual target.\n",
       "\n",
       "Examples\n",
       "--------\n",
       ">>> from sklearn.metrics import mean_squared_error\n",
       ">>> y_true = [3, -0.5, 2, 7]\n",
       ">>> y_pred = [2.5, 0.0, 2, 8]\n",
       ">>> mean_squared_error(y_true, y_pred)\n",
       "0.375\n",
       ">>> y_true = [[0.5, 1],[-1, 1],[7, -6]]\n",
       ">>> y_pred = [[0, 2],[-1, 2],[8, -5]]\n",
       ">>> mean_squared_error(y_true, y_pred)  # doctest: +ELLIPSIS\n",
       "0.708...\n",
       ">>> mean_squared_error(y_true, y_pred, multioutput='raw_values')\n",
       "... # doctest: +ELLIPSIS\n",
       "array([0.41666667, 1.        ])\n",
       ">>> mean_squared_error(y_true, y_pred, multioutput=[0.3, 0.7])\n",
       "... # doctest: +ELLIPSIS\n",
       "0.825...\n",
       "\u001b[0;31mFile:\u001b[0m      ~/anaconda3/envs/ga/lib/python3.7/site-packages/sklearn/metrics/regression.py\n",
       "\u001b[0;31mType:\u001b[0m      function\n"
      ]
     },
     "metadata": {},
     "output_type": "display_data"
    }
   ],
   "source": [
    "mean_squared_error?"
   ]
  },
  {
   "cell_type": "code",
   "execution_count": 15,
   "metadata": {},
   "outputs": [
    {
     "name": "stdout",
     "output_type": "stream",
     "text": [
      "38.96905578768683\n",
      "42.00175221486844\n"
     ]
    }
   ],
   "source": [
    "# /scrub/\n",
    "print(mean_squared_error(y_train, lr.predict(X_train)))\n",
    "print(mean_squared_error(y_test, lr.predict(X_test)))"
   ]
  },
  {
   "cell_type": "markdown",
   "metadata": {},
   "source": [
    "- Write down the equation that characterizes your fitted model. (*Hint*: use the relevant methods to print the model's intercept and coefficients, and then insert those parameters into the relevant linear regression equation.)"
   ]
  },
  {
   "cell_type": "code",
   "execution_count": 16,
   "metadata": {},
   "outputs": [
    {
     "name": "stdout",
     "output_type": "stream",
     "text": [
      "-24.58202253903385\n",
      "[-0.07483512  8.2721415 ]\n"
     ]
    }
   ],
   "source": [
    "# /scrub/\n",
    "print(lr.intercept_)\n",
    "print(lr.coef_)"
   ]
  },
  {
   "cell_type": "markdown",
   "metadata": {},
   "source": [
    "/scrub/\n",
    "\n",
    "$MEDV = -24.58 + -0.075 * AGE + 8.27 * RM$"
   ]
  },
  {
   "cell_type": "markdown",
   "metadata": {},
   "source": [
    "- **BONUS:** See if you can get a better score on the test set by using a different set of features."
   ]
  },
  {
   "cell_type": "code",
   "execution_count": null,
   "metadata": {},
   "outputs": [],
   "source": []
  },
  {
   "cell_type": "markdown",
   "metadata": {
    "toc-hr-collapsed": false
   },
   "source": [
    "## $K$-Fold Cross-Validation"
   ]
  },
  {
   "cell_type": "markdown",
   "metadata": {},
   "source": [
    "You might have noticed that if you repeat the process of doing a train/test split and evaluating performance on the test set without setting the random state, you do not get the same score every time. If your dataset is not large or if it contains outliers, then the scores you get might vary a lot."
   ]
  },
  {
   "cell_type": "code",
   "execution_count": 17,
   "metadata": {},
   "outputs": [
    {
     "name": "stdout",
     "output_type": "stream",
     "text": [
      "0.7365753260789031\n",
      "0.7463329537130272\n"
     ]
    }
   ],
   "source": [
    "# Run this cell repeatedly to see how the scores can vary.\n",
    "feature_cols = ['GarageCars',\n",
    "                'GrLivArea',\n",
    "                'OverallQual'\n",
    "               ]\n",
    "X = ames_df.loc[:, feature_cols]\n",
    "y = ames_df.loc[:, 'SalePrice']\n",
    "\n",
    "X_train, X_test, y_train, y_test = train_test_split(X, y)\n",
    "\n",
    "lr = LinearRegression()\n",
    "\n",
    "lr.fit(X_train, y_train)\n",
    "\n",
    "print(lr.score(X_train, y_train))\n",
    "print(lr.score(X_test, y_test))"
   ]
  },
  {
   "cell_type": "markdown",
   "metadata": {},
   "source": [
    "$K$-fold cross validation helps address this problem by doing multiple train/test splits and averaging the results. For instance, five-fold cross validation consists of doing five train/test splits, each time holding out a different one-fifth of the rows, and averaging the scores over those test sets."
   ]
  },
  {
   "cell_type": "markdown",
   "metadata": {},
   "source": [
    "![](../assets/images/cross_validation_diagram.png)"
   ]
  },
  {
   "cell_type": "markdown",
   "metadata": {},
   "source": [
    "You would generally use $k$-folds cross validation to develop your model and then retrain that model on the entire dataset."
   ]
  },
  {
   "cell_type": "markdown",
   "metadata": {},
   "source": [
    "- **Pro:** $K$-fold cross-validation provides more reliable estimates of model performance than a simple train/test split, especially for small datasets.\n",
    "- **Con:** $K$-fold cross-validation takes longer to run because it requires training and running the model $k$ times instead of just once."
   ]
  },
  {
   "cell_type": "markdown",
   "metadata": {},
   "source": [
    "###  Varying K"
   ]
  },
  {
   "cell_type": "markdown",
   "metadata": {},
   "source": [
    "Increasing $k$ augments both the advantages and disadvantages of $k$-fold cross-validation over a simple train/test split.\n",
    "\n",
    "The extreme case of k-fold cross-validation is leave-one-out cross-validation, where you hold out just one data point at a time. This approach provides the best estimates of model perforamnce, but is requires training the model once for every row in the dataset.\n",
    "\n",
    "A more common approach is to set $k$ somewhere between 5 and 10."
   ]
  },
  {
   "cell_type": "markdown",
   "metadata": {},
   "source": [
    "### Cross-Validation With the Boston Data"
   ]
  },
  {
   "cell_type": "markdown",
   "metadata": {},
   "source": [
    "Scikit-learn provides a single function `cross_val_score` that does all of the work of doing cross-validation splits, training the model on each training set, and scoring it on the corresponding test set."
   ]
  },
  {
   "cell_type": "code",
   "execution_count": 18,
   "metadata": {},
   "outputs": [
    {
     "data": {
      "text/plain": [
       "\u001b[0;31mSignature:\u001b[0m\n",
       "\u001b[0mcross_val_score\u001b[0m\u001b[0;34m(\u001b[0m\u001b[0;34m\u001b[0m\n",
       "\u001b[0;34m\u001b[0m    \u001b[0;34m[\u001b[0m\u001b[0;34m'estimator'\u001b[0m\u001b[0;34m,\u001b[0m \u001b[0;34m'X'\u001b[0m\u001b[0;34m,\u001b[0m \u001b[0;34m'y=None'\u001b[0m\u001b[0;34m,\u001b[0m \u001b[0;34m'groups=None'\u001b[0m\u001b[0;34m,\u001b[0m \u001b[0;34m'scoring=None'\u001b[0m\u001b[0;34m,\u001b[0m \u001b[0;34m\"cv='warn'\"\u001b[0m\u001b[0;34m,\u001b[0m \u001b[0;34m'n_jobs=None'\u001b[0m\u001b[0;34m,\u001b[0m \u001b[0;34m'verbose=0'\u001b[0m\u001b[0;34m,\u001b[0m \u001b[0;34m'fit_params=None'\u001b[0m\u001b[0;34m,\u001b[0m \u001b[0;34m\"pre_dispatch='2*n_jobs'\"\u001b[0m\u001b[0;34m,\u001b[0m \u001b[0;34m\"error_score='raise-deprecating'\"\u001b[0m\u001b[0;34m]\u001b[0m\u001b[0;34m,\u001b[0m\u001b[0;34m\u001b[0m\n",
       "\u001b[0;34m\u001b[0m\u001b[0;34m)\u001b[0m\u001b[0;34m\u001b[0m\u001b[0;34m\u001b[0m\u001b[0m\n",
       "\u001b[0;31mDocstring:\u001b[0m\n",
       "Evaluate a score by cross-validation\n",
       "\n",
       "Read more in the :ref:`User Guide <cross_validation>`.\n",
       "\n",
       "Parameters\n",
       "----------\n",
       "estimator : estimator object implementing 'fit'\n",
       "    The object to use to fit the data.\n",
       "\n",
       "X : array-like\n",
       "    The data to fit. Can be for example a list, or an array.\n",
       "\n",
       "y : array-like, optional, default: None\n",
       "    The target variable to try to predict in the case of\n",
       "    supervised learning.\n",
       "\n",
       "groups : array-like, with shape (n_samples,), optional\n",
       "    Group labels for the samples used while splitting the dataset into\n",
       "    train/test set.\n",
       "\n",
       "scoring : string, callable or None, optional, default: None\n",
       "    A string (see model evaluation documentation) or\n",
       "    a scorer callable object / function with signature\n",
       "    ``scorer(estimator, X, y)``.\n",
       "\n",
       "cv : int, cross-validation generator or an iterable, optional\n",
       "    Determines the cross-validation splitting strategy.\n",
       "    Possible inputs for cv are:\n",
       "\n",
       "    - None, to use the default 3-fold cross validation,\n",
       "    - integer, to specify the number of folds in a `(Stratified)KFold`,\n",
       "    - :term:`CV splitter`,\n",
       "    - An iterable yielding (train, test) splits as arrays of indices.\n",
       "\n",
       "    For integer/None inputs, if the estimator is a classifier and ``y`` is\n",
       "    either binary or multiclass, :class:`StratifiedKFold` is used. In all\n",
       "    other cases, :class:`KFold` is used.\n",
       "\n",
       "    Refer :ref:`User Guide <cross_validation>` for the various\n",
       "    cross-validation strategies that can be used here.\n",
       "\n",
       "    .. versionchanged:: 0.20\n",
       "        ``cv`` default value if None will change from 3-fold to 5-fold\n",
       "        in v0.22.\n",
       "\n",
       "n_jobs : int or None, optional (default=None)\n",
       "    The number of CPUs to use to do the computation.\n",
       "    ``None`` means 1 unless in a :obj:`joblib.parallel_backend` context.\n",
       "    ``-1`` means using all processors. See :term:`Glossary <n_jobs>`\n",
       "    for more details.\n",
       "\n",
       "verbose : integer, optional\n",
       "    The verbosity level.\n",
       "\n",
       "fit_params : dict, optional\n",
       "    Parameters to pass to the fit method of the estimator.\n",
       "\n",
       "pre_dispatch : int, or string, optional\n",
       "    Controls the number of jobs that get dispatched during parallel\n",
       "    execution. Reducing this number can be useful to avoid an\n",
       "    explosion of memory consumption when more jobs get dispatched\n",
       "    than CPUs can process. This parameter can be:\n",
       "\n",
       "        - None, in which case all the jobs are immediately\n",
       "          created and spawned. Use this for lightweight and\n",
       "          fast-running jobs, to avoid delays due to on-demand\n",
       "          spawning of the jobs\n",
       "\n",
       "        - An int, giving the exact number of total jobs that are\n",
       "          spawned\n",
       "\n",
       "        - A string, giving an expression as a function of n_jobs,\n",
       "          as in '2*n_jobs'\n",
       "\n",
       "error_score : 'raise' | 'raise-deprecating' or numeric\n",
       "    Value to assign to the score if an error occurs in estimator fitting.\n",
       "    If set to 'raise', the error is raised.\n",
       "    If set to 'raise-deprecating', a FutureWarning is printed before the\n",
       "    error is raised.\n",
       "    If a numeric value is given, FitFailedWarning is raised. This parameter\n",
       "    does not affect the refit step, which will always raise the error.\n",
       "    Default is 'raise-deprecating' but from version 0.22 it will change\n",
       "    to np.nan.\n",
       "\n",
       "Returns\n",
       "-------\n",
       "scores : array of float, shape=(len(list(cv)),)\n",
       "    Array of scores of the estimator for each run of the cross validation.\n",
       "\n",
       "Examples\n",
       "--------\n",
       ">>> from sklearn import datasets, linear_model\n",
       ">>> from sklearn.model_selection import cross_val_score\n",
       ">>> diabetes = datasets.load_diabetes()\n",
       ">>> X = diabetes.data[:150]\n",
       ">>> y = diabetes.target[:150]\n",
       ">>> lasso = linear_model.Lasso()\n",
       ">>> print(cross_val_score(lasso, X, y, cv=3))  # doctest: +ELLIPSIS\n",
       "[0.33150734 0.08022311 0.03531764]\n",
       "\n",
       "See Also\n",
       "---------\n",
       ":func:`sklearn.model_selection.cross_validate`:\n",
       "    To run cross-validation on multiple metrics and also to return\n",
       "    train scores, fit times and score times.\n",
       "\n",
       ":func:`sklearn.model_selection.cross_val_predict`:\n",
       "    Get predictions from each split of cross-validation for diagnostic\n",
       "    purposes.\n",
       "\n",
       ":func:`sklearn.metrics.make_scorer`:\n",
       "    Make a scorer from a performance metric or loss function.\n",
       "\u001b[0;31mFile:\u001b[0m      ~/anaconda3/envs/ga/lib/python3.7/site-packages/sklearn/model_selection/_validation.py\n",
       "\u001b[0;31mType:\u001b[0m      function\n"
      ]
     },
     "metadata": {},
     "output_type": "display_data"
    }
   ],
   "source": [
    "from sklearn.model_selection import cross_val_score\n",
    "\n",
    "cross_val_score?"
   ]
  },
  {
   "cell_type": "code",
   "execution_count": 19,
   "metadata": {},
   "outputs": [
    {
     "name": "stdout",
     "output_type": "stream",
     "text": [
      "[0.77734746 0.74587302 0.73696934 0.72418656 0.69035314]\n",
      "0.7349459032805816\n"
     ]
    }
   ],
   "source": [
    "# Use `cross_val_score` to do five-fold cross-validation on the Ames dataset\n",
    "# /scrub/\n",
    "lr = LinearRegression()\n",
    "\n",
    "feature_cols = ['GarageCars',\n",
    "                'GrLivArea',\n",
    "                'OverallQual'\n",
    "               ]\n",
    "X = ames_df.loc[:, feature_cols]\n",
    "y = ames_df.loc[:, 'SalePrice']\n",
    "\n",
    "\n",
    "scores = cross_val_score(estimator=lr, X=X, y=y, cv=5)\n",
    "print(scores)\n",
    "print(scores.mean())"
   ]
  },
  {
   "cell_type": "markdown",
   "metadata": {},
   "source": [
    "`cross_val_score` allows you to pass a cross-validation splitter object to the `cv` argument instead of an integer for greater control over how the splits are done. For instance, it is often a good idea to shuffle your rows before doing cross-validation in case something changes about the data as you move down the DataFrame."
   ]
  },
  {
   "cell_type": "code",
   "execution_count": 20,
   "metadata": {},
   "outputs": [
    {
     "name": "stdout",
     "output_type": "stream",
     "text": [
      "[0.75778919 0.74106227 0.77234129 0.69648506 0.69277114]\n",
      "0.7320897907358488\n"
     ]
    }
   ],
   "source": [
    "# Use a K-fold object with `shuffle=True` to ensure that results aren't\n",
    "# biased by ordering effects.\n",
    "# /scrub/\n",
    "from sklearn.model_selection import KFold\n",
    "\n",
    "kf = KFold(n_splits=5, shuffle=True)\n",
    "\n",
    "scores = cross_val_score(estimator=lr, X=X, y=y, cv=kf)\n",
    "print(scores)\n",
    "print(scores.mean())"
   ]
  },
  {
   "cell_type": "markdown",
   "metadata": {},
   "source": [
    "Unfortunately, `cross_val_score` does not allow us to assess whether a model is overfitting or underfitting because it returns only test-set scores. To get training set scores as well, we need to write our own cross-validation scoring loop."
   ]
  },
  {
   "cell_type": "code",
   "execution_count": 21,
   "metadata": {},
   "outputs": [
    {
     "name": "stdout",
     "output_type": "stream",
     "text": [
      "Training-set R^2: 0.7393239937290222\n",
      "Test-set R^2: 0.7379224408241367\n"
     ]
    }
   ],
   "source": [
    "# Write our own cross-validation loop.\n",
    "# Run this cell a few times to see how much more stable the scores are\n",
    "# than they were with a simple train/test split.\n",
    "# /scrub/\n",
    "from sklearn import model_selection\n",
    "\n",
    "kf = model_selection.KFold(n_splits=5, shuffle=True)\n",
    "\n",
    "train_scores = []\n",
    "test_scores = []\n",
    "for train_rows, test_rows in kf.split(X, y):\n",
    "    X_train = X.iloc[train_rows, :]\n",
    "    X_test = X.iloc[test_rows, :]\n",
    "    y_train = y.iloc[train_rows]\n",
    "    y_test = y.iloc[test_rows]\n",
    "\n",
    "    lr = LinearRegression()\n",
    "    lr.fit(X_train, y_train)\n",
    "\n",
    "    train_scores.append(lr.score(X_train, y_train))\n",
    "    test_scores.append(lr.score(X_test, y_test))\n",
    "    \n",
    "print('Training-set R^2:', np.array(train_scores).mean())\n",
    "print('Test-set R^2:', np.array(test_scores).mean())"
   ]
  },
  {
   "cell_type": "markdown",
   "metadata": {},
   "source": [
    "## Train/Test Splits for Time-Series Data"
   ]
  },
  {
   "cell_type": "markdown",
   "metadata": {},
   "source": [
    "In time-series modeling, you are predicting future values of a variable such as a stock price from past values of that variable (perhaps along with other inputs)."
   ]
  },
  {
   "cell_type": "markdown",
   "metadata": {},
   "source": [
    "The point of a train-test split is to simulate what will happen when you deploy the model. As a result, **in a useful train-test split for time series data, all of the training data comes from before all of the test data.** After all, when the model is deployed it will be used to predict future observations based on past observations."
   ]
  },
  {
   "cell_type": "markdown",
   "metadata": {},
   "source": [
    "There are many decisions to make in doing train/test splits for time series models (sometimes called *backtesting*:\n",
    "\n",
    "- How much of a \"burn-in period\" will you allow before you start scoring the model?\n",
    "- Will you retrain the model periodically after you start scoring it? If so, when? On all past data, or on a \"rolling window\" of just the most recent data?\n",
    "- When you make a prediction for scoring, will you predict just one time point into the future, or multiple time points? Will you use all past data as inputs to the prediction, or just a rolling window of the most recent data?"
   ]
  },
  {
   "cell_type": "markdown",
   "metadata": {},
   "source": [
    "The key principle to keep in mind in all of these decisions is that **the purpose of applying the model to test data is to simulate what will happen when you deploy it**. As a result, you should make test conditions mimic what will happen in production as much as is feasible, erring on the side of making the test more difficult so that if anything you underpromise on model performance."
   ]
  },
  {
   "cell_type": "markdown",
   "metadata": {
    "toc-hr-collapsed": false
   },
   "source": [
    "## Summary\n",
    "\n",
    "- $K$-folds cross-validation consists of doing $k$ train/test splits with disjoint test sets and averaging the resulting test-set metrics. It takes longer to run than a simple train/test split but provides more reliable estimates of test-set performance.\n",
    "- Doing proper train/test splits for time-series models is tricky. You need to make sure that all of the training data comes from earlier in time than all of the test-set data and in general to simulate how the model will be used in production."
   ]
  }
 ],
 "metadata": {
  "anaconda-cloud": {},
  "kernelspec": {
   "display_name": "Python 3",
   "language": "python",
   "name": "python3"
  },
  "language_info": {
   "codemirror_mode": {
    "name": "ipython",
    "version": 3
   },
   "file_extension": ".py",
   "mimetype": "text/x-python",
   "name": "python",
   "nbconvert_exporter": "python",
   "pygments_lexer": "ipython3",
   "version": "3.6.8"
  }
 },
 "nbformat": 4,
 "nbformat_minor": 2
}
