{
 "cells": [
  {
   "cell_type": "markdown",
   "metadata": {},
   "source": [
    "<img src=\"http://imgur.com/1ZcRyrc.png\" style=\"float: left; margin: 20px; height: 55px\">\n",
    "\n",
    "\n",
    "# Telecomm EDA Challenge Lab\n",
    "\n",
    "_Author: Alex Combs (NYC) _\n",
    "\n",
    "---"
   ]
  },
  {
   "cell_type": "markdown",
   "metadata": {},
   "source": [
    "Let's do some Exploratory Data Analysis (EDA)! As a data scientist, you often may find yourself given a data set you've never seen before, and asked to do a rapid analysis. This is today's goal.\n",
    "\n",
    "# Prompt\n",
    "\n",
    "You work for a telecommunications company. The company has been storing metadata about customer phone usage, as part of the regular course of business. Currently, this data is sitting in an unsecured database. The company doesn't want to pay to increase their database security, because they don't think there's really anything to be learned from the metadata.\n",
    "\n",
    "They are under pressure from \"right to privacy\" organizations to beef up the database security. These organizations argue that you can learn a lot about a person from their cell phone metadata.\n",
    "\n",
    "The telecom company wants to understand if this is true, and they want your help. They will give you one person's metadata for 2014 and want to see what you can learn from it.\n",
    "\n",
    "Working in teams, create a report revealing everything you can about the person. Prepare a presentation, with slides, showcasing your findings.\n",
    "\n",
    "\n",
    "# The Data\n",
    "\n",
    "The [person's metadata](./datasets/metadata.csv) has the following fields:\n",
    "\n",
    "| Field Name          | Description\n",
    "| ---                 | ---\n",
    "| **Cell Cgi**        | cell phone tower identifier\n",
    "| **Cell Tower**      | cell phone tower location\n",
    "| **Comm Identifier** |\tde-identified recipient of communication\n",
    "| **Comm Timedate String** | time of communication\n",
    "| **Comm Type\tId**  | type of communication\n",
    "| **Latitude**        | latitude of communication\n",
    "| **Longitude**       | longitude of communication\n"
   ]
  },
  {
   "cell_type": "markdown",
   "metadata": {},
   "source": [
    "# Hints\n",
    "\n",
    "This is totally open-ended! If you're totally stumped -- and only if stumped -- should you look below for prompts. As a starting point, given that you have geo-locations, consider investigating ways to display this type of information (i.e. mapping functionality).\n",
    "\n",
    "<font color='white'>\n",
    "Well for starters, he's in Australia!\n",
    "\n",
    "Ideas for things to look into:\n",
    "- where does he work?\n",
    "- where does he live?\n",
    "- who does he contact most often?\n",
    "- what hours does he work?\n",
    "- did he move?\n",
    "- did he go on holiday?  If so, where did he go?\n",
    "- did he get a new phone?\n",
    "\n",
    "Challenges:\n",
    "- how does he get to work?\n",
    "- where does his family live?\n",
    "- if he went on holiday, can you find which flights he took?\n",
    "- can you guess who some of his contacts are, based on the frequency, location, time and mode (phone/text) of communications?\n",
    "\n",
    "\n",
    "If you're stuck on how to map the data, you can try \"basemap\" or \"gmplot\", or anything else you find online.\n",
    "</font>"
   ]
  },
  {
   "cell_type": "code",
   "execution_count": null,
   "metadata": {
    "collapsed": true
   },
   "outputs": [],
   "source": []
  }
 ],
 "metadata": {
  "kernelspec": {
   "display_name": "Python 3",
   "language": "python",
   "name": "python3"
  },
  "language_info": {
   "codemirror_mode": {
    "name": "ipython",
    "version": 3
   },
   "file_extension": ".py",
   "mimetype": "text/x-python",
   "name": "python",
   "nbconvert_exporter": "python",
   "pygments_lexer": "ipython3",
   "version": "3.7.1"
  }
 },
 "nbformat": 4,
 "nbformat_minor": 2
}
