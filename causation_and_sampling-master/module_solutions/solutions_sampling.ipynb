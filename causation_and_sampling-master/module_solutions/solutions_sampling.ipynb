{
 "cells": [
  {
   "cell_type": "markdown",
   "metadata": {
    "toc-hr-collapsed": false
   },
   "source": [
    "<img src=\"http://imgur.com/1ZcRyrc.png\" style=\"float: left; margin: 20px; height: 55px\">\n",
    "\n",
    "# Sampling\n",
    "\n",
    "_Authors: Alexander Egorenkov (DC)_"
   ]
  },
  {
   "cell_type": "markdown",
   "metadata": {
    "toc-hr-collapsed": false
   },
   "source": [
    "## Sampling Bias"
   ]
  },
  {
   "cell_type": "markdown",
   "metadata": {},
   "source": [
    "### Example 1"
   ]
  },
  {
   "cell_type": "markdown",
   "metadata": {},
   "source": [
    "<img src=\"../assets/images/airplane_holes.png\" width=300 align=left>\n",
    "\n",
    "The red circles show locations of bullet holes that have been found on planes returning from combat missions. Where should they add armor?"
   ]
  },
  {
   "cell_type": "markdown",
   "metadata": {},
   "source": [
    "### Example 2"
   ]
  },
  {
   "cell_type": "markdown",
   "metadata": {},
   "source": [
    "<img src=\"../assets/images/amazon_ratings.png\" width=300 align=left>\n",
    "\n",
    "Online ratings for many products have a U-shaped distribution. Is it true that you either love these products or hate them?"
   ]
  },
  {
   "cell_type": "markdown",
   "metadata": {},
   "source": [
    "### Types of Sampling Bias\n",
    "\n",
    "- **Pre-screening:** Deliberately restricting the sample to a specific group or region.\n",
    "- **Self-selection:** When someone has the ability to non-randomly decide what is included in a sample.\n",
    "- **Survivorship bias:** When we select only surviving subjects in a sample over time."
   ]
  },
  {
   "cell_type": "markdown",
   "metadata": {},
   "source": [
    "### Problems That Arise From Sampling Bias\n",
    "- We could overestimate or underestimate means and sample statistics for simple characteristics.\n",
    "- It's possible to have artificial correlation where there should be none."
   ]
  },
  {
   "cell_type": "markdown",
   "metadata": {},
   "source": [
    "### Recovering From Sampling Bias\n",
    "- Prevent it when possible.\n",
    "- Learn about the data-generating process and think about possible sources of sampling bias.\n",
    "- Model the sampling process and correct for it."
   ]
  },
  {
   "cell_type": "markdown",
   "metadata": {
    "toc-hr-collapsed": false
   },
   "source": [
    "## Missing Data\n",
    "\n",
    "Typical real-world data sets have missing data.\n",
    "\n",
    "**Options for a  missing data point:**\n",
    "    - Drop the observation.\n",
    "    - Drop the variable.\n",
    "    - Impute a value for that specific variable and observation.\n",
    "\n",
    "**So, how do we decide?**"
   ]
  },
  {
   "cell_type": "markdown",
   "metadata": {},
   "source": [
    "### Types of Missing Data\n",
    "\n",
    "- **Missing completely at random (MCAR)**\n",
    "    - The reason that the data are missing is completely random and introduces no sampling bias.\n",
    "    - In this case, it's safe to drop or impute.\n",
    "    - We can test for this by looking at other attributes for missing and non-missing groups to see if they match.\n",
    "\n",
    "- **Missing at random (MAR)**\n",
    "    - The data are missing in a way that is related to another factor.\n",
    "    - This is a form of sampling bias.\n",
    "    - Like other instances of sampling bias, we can fix this by modeling the selection process.\n",
    "        - This is done by building a model to impute the missing value based on other variables.\n",
    "\n",
    "- **Missing not at random (MNAR)**\n",
    "    - The response is missing in a way that relates to its own value.\n",
    "    - We can't test for this.\n",
    "    - We also can't fix this in a reasonable way."
   ]
  },
  {
   "cell_type": "markdown",
   "metadata": {
    "toc-hr-collapsed": true
   },
   "source": [
    "## Class Imbalance"
   ]
  },
  {
   "cell_type": "markdown",
   "metadata": {},
   "source": [
    "**Exercise. (1 min.)**\n",
    "\n",
    "- Suppose we build a model to predict whether or not a person is carrying a weapon based on X-ray scans, and we find that it is 99% accurate on new data that we didn't use in training. Great, right? Well, suppose that the test data set has 990 images with no weapon and 10 images with a weapon. **Why should learning this fact dampen our enthusiasm about our model?**"
   ]
  },
  {
   "cell_type": "markdown",
   "metadata": {},
   "source": [
    "/scrub/\n",
    "\n",
    "You could get 99% accuracy just by saying \"no weapon\" every time. You don't need a model for that. That's probably exactly what our model is doing, which means that it's failing in the cases that are most important to get right."
   ]
  },
  {
   "cell_type": "markdown",
   "metadata": {},
   "source": [
    "### Solutions to Class Imbalance\n",
    "\n",
    "1. **Undersample** the majority class.\n",
    "- **Oversample** the minority class.\n",
    "- Train and evaluate your model using metrics that reflect that relative importances of different types of errors."
   ]
  }
 ],
 "metadata": {
  "kernelspec": {
   "display_name": "ga",
   "language": "python",
   "name": "ga"
  },
  "language_info": {
   "codemirror_mode": {
    "name": "ipython",
    "version": 3
   },
   "file_extension": ".py",
   "mimetype": "text/x-python",
   "name": "python",
   "nbconvert_exporter": "python",
   "pygments_lexer": "ipython3",
   "version": "3.7.1"
  }
 },
 "nbformat": 4,
 "nbformat_minor": 2
}
