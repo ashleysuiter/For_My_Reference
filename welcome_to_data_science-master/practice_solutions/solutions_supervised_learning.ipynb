{
 "cells": [
  {
   "cell_type": "markdown",
   "metadata": {},
   "source": [
    "# Getting a Supervised Learning Model to Run"
   ]
  },
  {
   "cell_type": "markdown",
   "metadata": {},
   "source": [
    "This code trains a regression model to predict prices in the Ames housing dataset and evaluates that model against a test set:"
   ]
  },
  {
   "cell_type": "code",
   "execution_count": 11,
   "metadata": {},
   "outputs": [
    {
     "data": {
      "text/plain": [
       "0.8985422257627853"
      ]
     },
     "execution_count": 11,
     "metadata": {},
     "output_type": "execute_result"
    }
   ],
   "source": [
    "import pandas as pd\n",
    "from sklearn.ensemble import RandomForestRegressor\n",
    "from sklearn.model_selection import train_test_split\n",
    "\n",
    "ames_df = pd.read_csv('../assets/data/ames_train.csv')\n",
    "\n",
    "X = ames_df.drop('SalePrice', axis='columns')\n",
    "X = X.select_dtypes(['int64', 'float64']).dropna(axis='columns')\n",
    "y = ames_df.loc[:, 'SalePrice']\n",
    "\n",
    "X_train, X_test, y_train, y_test = train_test_split(X, y, random_state=7)\n",
    "\n",
    "rfc = RandomForestRegressor(n_estimators=200)\n",
    "rfc.fit(X_train, y_train)\n",
    "rfc.score(X_test, y_test)"
   ]
  },
  {
   "cell_type": "markdown",
   "metadata": {},
   "source": [
    "- Retype the code above, and make sure it runs successfully. Do NOT copy and paste -- actually typing the code will help you get used to the syntax and will force you to think more about what is happening. See how much of it you can understand. It's OK if much of this code is mysterious, but if you have the time you might try Googling some parts of it that are unclear.\n",
    "\n",
    "*Tips:*\n",
    "\n",
    "If you get an error, scroll to the bottom of the error message to see a description of the error and an arrow pointing to the line of code that triggered the error. Sometimes the actual mistake is on the line above the line that triggers the error (e.g. when you fail to close some set of parentheses), so look at the previous line if you can't find the problem.\n",
    " \n",
    "Options if you are stuck on an error:\n",
    "    - Google the error message.\n",
    "    - Post your code and your error on our discussion channel.\n",
    "    - Fall back to copy-and-pasting the line that is triggering the error."
   ]
  },
  {
   "cell_type": "code",
   "execution_count": null,
   "metadata": {},
   "outputs": [],
   "source": []
  },
  {
   "cell_type": "markdown",
   "metadata": {},
   "source": [
    "- Copy and paste the code you just retyped into the cell below, and then make a few changes:\n",
    "    - Instead of the Ames housing data at '../assets/data/ames_train.csv', load phone churn data at '../assets/data/churn.csv'.\n",
    "    - Instead of `ames_df`, call the dataset `churn_df`.\n",
    "    - Instead of SalePrice, predict the variable \"Churn?\". You will need the line `y = churn_df.loc[:, 'Churn?'].astype(int)`.\n",
    "    - Instead of a `RandomForestRegressor` model, use a `RandomForestClassifier`."
   ]
  },
  {
   "cell_type": "markdown",
   "metadata": {},
   "source": [
    "**Note:** You should get a score of about 91.5% This score is the model's accuracy -- that is, the proportion (0 to 1) of cases it predicted correctly. 85.5% percent of customers did not churn, so anything about 85.5% indicates that your model is successfully learning something about the relationship between the features and the target."
   ]
  },
  {
   "cell_type": "code",
   "execution_count": 22,
   "metadata": {},
   "outputs": [
    {
     "data": {
      "text/plain": [
       "0.919664268585132"
      ]
     },
     "execution_count": 22,
     "metadata": {},
     "output_type": "execute_result"
    }
   ],
   "source": [
    "# /scrub/\n",
    "\n",
    "import pandas as pd\n",
    "from sklearn.ensemble import RandomForestClassifier\n",
    "from sklearn.model_selection import train_test_split\n",
    "\n",
    "churn_df = pd.read_csv('../assets/data/churn.csv')\n",
    "\n",
    "X = churn_df.drop('Churn?', axis='columns')\n",
    "X = X.select_dtypes(['int64', 'float64']).dropna(axis='columns')\n",
    "\n",
    "y = churn_df.loc[:, 'Churn?']\n",
    "\n",
    "X_train, X_test, y_train, y_test = train_test_split(X, y, random_state=7)\n",
    "\n",
    "rfc = RandomForestClassifier(n_estimators=200)\n",
    "rfc.fit(X_train, y_train)\n",
    "rfc.score(X_test, y_test)"
   ]
  },
  {
   "cell_type": "markdown",
   "metadata": {},
   "source": [
    "**CHALLENGE.** See how far you can get in repeating these steps on a dataset from [Kaggle](https://www.kaggle.com/). If you get stuck, read the error message (bottom to top), check out the Kaggle forums for that dataset, consult Google, and/or ask for help on our discussion channel. It's totally fine if you get stuck!"
   ]
  },
  {
   "cell_type": "code",
   "execution_count": null,
   "metadata": {},
   "outputs": [],
   "source": []
  }
 ],
 "metadata": {
  "kernelspec": {
   "display_name": "cv",
   "language": "python",
   "name": "cv"
  },
  "language_info": {
   "codemirror_mode": {
    "name": "ipython",
    "version": 3
   },
   "file_extension": ".py",
   "mimetype": "text/x-python",
   "name": "python",
   "nbconvert_exporter": "python",
   "pygments_lexer": "ipython3",
   "version": "3.7.2"
  }
 },
 "nbformat": 4,
 "nbformat_minor": 2
}
