{
 "cells": [
  {
   "cell_type": "markdown",
   "metadata": {
    "slideshow": {
     "slide_type": "slide"
    },
    "toc-hr-collapsed": true
   },
   "source": [
    "<img src=\"http://imgur.com/1ZcRyrc.png\" style=\"float: left; margin: 20px; height: 55px\">\n",
    " \n",
    "# What is Data Science?\n",
    " \n",
    "_Authors: Alexander Egorenkov (DC), Amy Roberts (NYC)_\n",
    " \n",
    "---\n"
   ]
  },
  {
   "cell_type": "markdown",
   "metadata": {
    "toc-hr-collapsed": true
   },
   "source": [
    "## Demo"
   ]
  },
  {
   "cell_type": "markdown",
   "metadata": {},
   "source": [
    "### Building a Model to Predict Housing Prices"
   ]
  },
  {
   "cell_type": "markdown",
   "metadata": {},
   "source": [
    "Let's build a model to predict the price that a house will sell for. Such a model might be useful for identifying underpriced houses that you could flip for a profit.\n",
    "\n",
    "Press `Shift + Return` to run each of the code cells below. You won't understand everything that is happening here; the goal is just to get the big picture."
   ]
  },
  {
   "cell_type": "code",
   "execution_count": 1,
   "metadata": {},
   "outputs": [],
   "source": [
    "# Load the \"Pandas\" library -- think of it as spreadsheets in Python\n",
    "import pandas as pd"
   ]
  },
  {
   "cell_type": "code",
   "execution_count": 2,
   "metadata": {},
   "outputs": [],
   "source": [
    "# Use pandas to load in the data\n",
    "ames_df = pd.read_csv('../assets/data/ames_train.csv')"
   ]
  },
  {
   "cell_type": "code",
   "execution_count": 3,
   "metadata": {},
   "outputs": [
    {
     "data": {
      "text/html": [
       "<div>\n",
       "<style scoped>\n",
       "    .dataframe tbody tr th:only-of-type {\n",
       "        vertical-align: middle;\n",
       "    }\n",
       "\n",
       "    .dataframe tbody tr th {\n",
       "        vertical-align: top;\n",
       "    }\n",
       "\n",
       "    .dataframe thead th {\n",
       "        text-align: right;\n",
       "    }\n",
       "</style>\n",
       "<table border=\"1\" class=\"dataframe\">\n",
       "  <thead>\n",
       "    <tr style=\"text-align: right;\">\n",
       "      <th></th>\n",
       "      <th>Id</th>\n",
       "      <th>MSSubClass</th>\n",
       "      <th>MSZoning</th>\n",
       "      <th>LotFrontage</th>\n",
       "      <th>LotArea</th>\n",
       "      <th>Street</th>\n",
       "      <th>Alley</th>\n",
       "      <th>LotShape</th>\n",
       "      <th>LandContour</th>\n",
       "      <th>Utilities</th>\n",
       "      <th>...</th>\n",
       "      <th>PoolArea</th>\n",
       "      <th>PoolQC</th>\n",
       "      <th>Fence</th>\n",
       "      <th>MiscFeature</th>\n",
       "      <th>MiscVal</th>\n",
       "      <th>MoSold</th>\n",
       "      <th>YrSold</th>\n",
       "      <th>SaleType</th>\n",
       "      <th>SaleCondition</th>\n",
       "      <th>SalePrice</th>\n",
       "    </tr>\n",
       "  </thead>\n",
       "  <tbody>\n",
       "    <tr>\n",
       "      <th>0</th>\n",
       "      <td>1</td>\n",
       "      <td>60</td>\n",
       "      <td>RL</td>\n",
       "      <td>65.0</td>\n",
       "      <td>8450</td>\n",
       "      <td>Pave</td>\n",
       "      <td>NaN</td>\n",
       "      <td>Reg</td>\n",
       "      <td>Lvl</td>\n",
       "      <td>AllPub</td>\n",
       "      <td>...</td>\n",
       "      <td>0</td>\n",
       "      <td>NaN</td>\n",
       "      <td>NaN</td>\n",
       "      <td>NaN</td>\n",
       "      <td>0</td>\n",
       "      <td>2</td>\n",
       "      <td>2008</td>\n",
       "      <td>WD</td>\n",
       "      <td>Normal</td>\n",
       "      <td>208500</td>\n",
       "    </tr>\n",
       "    <tr>\n",
       "      <th>1</th>\n",
       "      <td>2</td>\n",
       "      <td>20</td>\n",
       "      <td>RL</td>\n",
       "      <td>80.0</td>\n",
       "      <td>9600</td>\n",
       "      <td>Pave</td>\n",
       "      <td>NaN</td>\n",
       "      <td>Reg</td>\n",
       "      <td>Lvl</td>\n",
       "      <td>AllPub</td>\n",
       "      <td>...</td>\n",
       "      <td>0</td>\n",
       "      <td>NaN</td>\n",
       "      <td>NaN</td>\n",
       "      <td>NaN</td>\n",
       "      <td>0</td>\n",
       "      <td>5</td>\n",
       "      <td>2007</td>\n",
       "      <td>WD</td>\n",
       "      <td>Normal</td>\n",
       "      <td>181500</td>\n",
       "    </tr>\n",
       "    <tr>\n",
       "      <th>2</th>\n",
       "      <td>3</td>\n",
       "      <td>60</td>\n",
       "      <td>RL</td>\n",
       "      <td>68.0</td>\n",
       "      <td>11250</td>\n",
       "      <td>Pave</td>\n",
       "      <td>NaN</td>\n",
       "      <td>IR1</td>\n",
       "      <td>Lvl</td>\n",
       "      <td>AllPub</td>\n",
       "      <td>...</td>\n",
       "      <td>0</td>\n",
       "      <td>NaN</td>\n",
       "      <td>NaN</td>\n",
       "      <td>NaN</td>\n",
       "      <td>0</td>\n",
       "      <td>9</td>\n",
       "      <td>2008</td>\n",
       "      <td>WD</td>\n",
       "      <td>Normal</td>\n",
       "      <td>223500</td>\n",
       "    </tr>\n",
       "    <tr>\n",
       "      <th>3</th>\n",
       "      <td>4</td>\n",
       "      <td>70</td>\n",
       "      <td>RL</td>\n",
       "      <td>60.0</td>\n",
       "      <td>9550</td>\n",
       "      <td>Pave</td>\n",
       "      <td>NaN</td>\n",
       "      <td>IR1</td>\n",
       "      <td>Lvl</td>\n",
       "      <td>AllPub</td>\n",
       "      <td>...</td>\n",
       "      <td>0</td>\n",
       "      <td>NaN</td>\n",
       "      <td>NaN</td>\n",
       "      <td>NaN</td>\n",
       "      <td>0</td>\n",
       "      <td>2</td>\n",
       "      <td>2006</td>\n",
       "      <td>WD</td>\n",
       "      <td>Abnorml</td>\n",
       "      <td>140000</td>\n",
       "    </tr>\n",
       "    <tr>\n",
       "      <th>4</th>\n",
       "      <td>5</td>\n",
       "      <td>60</td>\n",
       "      <td>RL</td>\n",
       "      <td>84.0</td>\n",
       "      <td>14260</td>\n",
       "      <td>Pave</td>\n",
       "      <td>NaN</td>\n",
       "      <td>IR1</td>\n",
       "      <td>Lvl</td>\n",
       "      <td>AllPub</td>\n",
       "      <td>...</td>\n",
       "      <td>0</td>\n",
       "      <td>NaN</td>\n",
       "      <td>NaN</td>\n",
       "      <td>NaN</td>\n",
       "      <td>0</td>\n",
       "      <td>12</td>\n",
       "      <td>2008</td>\n",
       "      <td>WD</td>\n",
       "      <td>Normal</td>\n",
       "      <td>250000</td>\n",
       "    </tr>\n",
       "  </tbody>\n",
       "</table>\n",
       "<p>5 rows × 81 columns</p>\n",
       "</div>"
      ],
      "text/plain": [
       "   Id  MSSubClass MSZoning  LotFrontage  LotArea Street Alley LotShape  \\\n",
       "0   1          60       RL         65.0     8450   Pave   NaN      Reg   \n",
       "1   2          20       RL         80.0     9600   Pave   NaN      Reg   \n",
       "2   3          60       RL         68.0    11250   Pave   NaN      IR1   \n",
       "3   4          70       RL         60.0     9550   Pave   NaN      IR1   \n",
       "4   5          60       RL         84.0    14260   Pave   NaN      IR1   \n",
       "\n",
       "  LandContour Utilities  ... PoolArea PoolQC Fence MiscFeature MiscVal MoSold  \\\n",
       "0         Lvl    AllPub  ...        0    NaN   NaN         NaN       0      2   \n",
       "1         Lvl    AllPub  ...        0    NaN   NaN         NaN       0      5   \n",
       "2         Lvl    AllPub  ...        0    NaN   NaN         NaN       0      9   \n",
       "3         Lvl    AllPub  ...        0    NaN   NaN         NaN       0      2   \n",
       "4         Lvl    AllPub  ...        0    NaN   NaN         NaN       0     12   \n",
       "\n",
       "  YrSold  SaleType  SaleCondition  SalePrice  \n",
       "0   2008        WD         Normal     208500  \n",
       "1   2007        WD         Normal     181500  \n",
       "2   2008        WD         Normal     223500  \n",
       "3   2006        WD        Abnorml     140000  \n",
       "4   2008        WD         Normal     250000  \n",
       "\n",
       "[5 rows x 81 columns]"
      ]
     },
     "execution_count": 3,
     "metadata": {},
     "output_type": "execute_result"
    }
   ],
   "source": [
    "# Look at the first five rows\n",
    "ames_df.head(5)"
   ]
  },
  {
   "cell_type": "code",
   "execution_count": 4,
   "metadata": {},
   "outputs": [],
   "source": [
    "# To get us started, use just the numeric columns without missing data\n",
    "ames_df = ames_df.select_dtypes(['int64', 'float64']).dropna(axis='columns')"
   ]
  },
  {
   "cell_type": "code",
   "execution_count": 5,
   "metadata": {},
   "outputs": [],
   "source": [
    "# Split the data into the column `y` we want to predict and the \n",
    "# columns `X` we will use to make the predictions\n",
    "X = ames_df.drop('SalePrice', axis='columns')\n",
    "y = ames_df.loc[:, 'SalePrice']"
   ]
  },
  {
   "cell_type": "code",
   "execution_count": 6,
   "metadata": {},
   "outputs": [],
   "source": [
    "# Set aside 25% of the data for testing the model\n",
    "from sklearn.model_selection import train_test_split\n",
    "\n",
    "X_train, X_test, y_train, y_test = train_test_split(X, y)"
   ]
  },
  {
   "cell_type": "code",
   "execution_count": 7,
   "metadata": {},
   "outputs": [
    {
     "data": {
      "text/plain": [
       "RandomForestRegressor(bootstrap=True, criterion='mse', max_depth=None,\n",
       "           max_features='auto', max_leaf_nodes=None,\n",
       "           min_impurity_decrease=0.0, min_impurity_split=None,\n",
       "           min_samples_leaf=1, min_samples_split=2,\n",
       "           min_weight_fraction_leaf=0.0, n_estimators=200, n_jobs=None,\n",
       "           oob_score=False, random_state=None, verbose=0, warm_start=False)"
      ]
     },
     "execution_count": 7,
     "metadata": {},
     "output_type": "execute_result"
    }
   ],
   "source": [
    "# Import a model class\n",
    "from sklearn.ensemble import RandomForestRegressor\n",
    "\n",
    "# Create a model from that class\n",
    "rfc = RandomForestRegressor(n_estimators=200)\n",
    "\n",
    "# Ask the model to learn a function that predicts `y` from `X`\n",
    "rfc.fit(X_train, y_train)"
   ]
  },
  {
   "cell_type": "markdown",
   "metadata": {},
   "source": [
    "That's it! We just built a machine learning model.\n",
    "\n",
    "Is it any good? Let's test it on data that it hasn't seen."
   ]
  },
  {
   "cell_type": "code",
   "execution_count": 8,
   "metadata": {},
   "outputs": [
    {
     "data": {
      "text/plain": [
       "0.884335749450735"
      ]
     },
     "execution_count": 8,
     "metadata": {},
     "output_type": "execute_result"
    }
   ],
   "source": [
    "# Score the model on the test data\n",
    "rfc.score(X_test, y_test)"
   ]
  },
  {
   "cell_type": "markdown",
   "metadata": {},
   "source": [
    "This score tells us (roughly) by what factor (0 to 1) our model's errors are on average than the errors that we would get if we just guessed the average price every time. This number is substantially greater than 0, so our model works!"
   ]
  },
  {
   "cell_type": "markdown",
   "metadata": {},
   "source": [
    "We can also look at the model's predictions and compare them to the actual values:"
   ]
  },
  {
   "cell_type": "code",
   "execution_count": 9,
   "metadata": {},
   "outputs": [
    {
     "data": {
      "text/plain": [
       "[(197717.14, 184000),\n",
       " (105418.25, 84500),\n",
       " (158912.41, 141000),\n",
       " (249336.315, 239000),\n",
       " (165023.18, 154000),\n",
       " (145496.3, 149000),\n",
       " (321410.27, 336000),\n",
       " (134338.5, 139500),\n",
       " (136696.11, 140000),\n",
       " (83430.235, 105000),\n",
       " (186888.775, 192000),\n",
       " (91595.415, 106250),\n",
       " (189340.705, 196000),\n",
       " (319238.21, 309000),\n",
       " (180807.2, 155835),\n",
       " (242161.185, 268000),\n",
       " (301019.005, 395000),\n",
       " (236698.995, 239799),\n",
       " (141212.205, 161500),\n",
       " (155716.12, 176000),\n",
       " (102753.355, 108500),\n",
       " (81908.175, 68400),\n",
       " (237098.295, 232600),\n",
       " (79574.465, 80500),\n",
       " (129869.81, 131000),\n",
       " (346863.33, 301500),\n",
       " (73540.0, 60000),\n",
       " (236625.7, 214000),\n",
       " (127267.385, 89500),\n",
       " (170709.495, 178000),\n",
       " (248455.425, 245000),\n",
       " (129056.235, 159434),\n",
       " (171676.625, 178000),\n",
       " (273880.25, 339750),\n",
       " (134744.925, 143250),\n",
       " (280617.575, 290000),\n",
       " (143399.945, 140000),\n",
       " (145373.57, 117500),\n",
       " (145148.695, 143900),\n",
       " (130866.805, 125000),\n",
       " (140065.175, 137500),\n",
       " (114439.565, 85000),\n",
       " (103373.75, 91000),\n",
       " (127197.465, 128950),\n",
       " (275776.585, 236500),\n",
       " (142276.25, 128500),\n",
       " (384132.55, 423000),\n",
       " (139106.63, 145000),\n",
       " (149203.625, 157900),\n",
       " (172678.365, 172000),\n",
       " (187941.75, 217000),\n",
       " (123354.235, 160000),\n",
       " (313340.355, 320000),\n",
       " (262067.585, 180000),\n",
       " (192337.05, 192000),\n",
       " (213710.285, 199900),\n",
       " (115472.385, 127000),\n",
       " (186814.39, 207500),\n",
       " (251749.8, 249700),\n",
       " (112311.98, 121600),\n",
       " (357856.72, 394617),\n",
       " (70436.0, 39300),\n",
       " (131529.215, 148000),\n",
       " (179924.4, 230000),\n",
       " (205138.54, 208500),\n",
       " (90760.73, 82000),\n",
       " (254371.62, 228500),\n",
       " (170017.03, 200000),\n",
       " (153068.31, 160000),\n",
       " (233153.595, 253000),\n",
       " (94865.18, 120000),\n",
       " (98208.01, 76000),\n",
       " (96318.115, 67000),\n",
       " (305808.055, 285000),\n",
       " (174362.725, 193000),\n",
       " (286675.345, 264561),\n",
       " (297178.03, 372500),\n",
       " (197278.135, 172500),\n",
       " (222073.745, 227000),\n",
       " (143054.935, 156000),\n",
       " (176331.75, 175000),\n",
       " (162563.335, 235000),\n",
       " (168893.105, 176000),\n",
       " (173761.215, 168500),\n",
       " (174695.905, 160000),\n",
       " (101896.8, 115000),\n",
       " (152256.375, 133000),\n",
       " (254851.535, 262500),\n",
       " (142487.25, 152000),\n",
       " (263657.61, 240000),\n",
       " (227976.18, 220000),\n",
       " (235958.165, 171000),\n",
       " (78699.605, 113000),\n",
       " (350690.295, 335000),\n",
       " (351195.405, 350000),\n",
       " (269402.925, 335000),\n",
       " (137990.66, 143750),\n",
       " (105452.47, 81000),\n",
       " (122137.655, 129000),\n",
       " (122618.335, 139000),\n",
       " (129181.72, 127500),\n",
       " (111202.185, 110000),\n",
       " (170795.79, 156932),\n",
       " (230670.165, 270000),\n",
       " (452775.955, 485000),\n",
       " (199288.995, 151400),\n",
       " (125262.44, 130000),\n",
       " (122391.465, 112500),\n",
       " (141147.875, 136000),\n",
       " (94200.73, 100000),\n",
       " (151127.65, 110000),\n",
       " (144366.7, 142500),\n",
       " (421343.92, 475000),\n",
       " (138823.435, 154000),\n",
       " (362190.97, 412500),\n",
       " (145236.0, 141000),\n",
       " (156404.865, 157000),\n",
       " (136927.69, 134000),\n",
       " (146564.9, 165500),\n",
       " (120244.11, 147000),\n",
       " (212460.5, 239000),\n",
       " (173539.825, 185000),\n",
       " (138526.685, 95000),\n",
       " (155391.65, 177000),\n",
       " (196408.295, 143000),\n",
       " (135132.37, 113000),\n",
       " (145136.505, 164500),\n",
       " (204988.745, 246578),\n",
       " (194785.29, 194000),\n",
       " (122423.02, 123000),\n",
       " (150997.81, 164900),\n",
       " (256890.58, 230000),\n",
       " (162846.295, 166000),\n",
       " (262799.78, 375000),\n",
       " (106031.665, 97000),\n",
       " (162056.67, 164700),\n",
       " (105812.875, 112000),\n",
       " (123001.68, 125000),\n",
       " (103622.885, 101800),\n",
       " (170265.81, 179400),\n",
       " (151670.55, 149700),\n",
       " (159964.205, 177500),\n",
       " (206548.325, 224000),\n",
       " (140468.39, 104000),\n",
       " (130587.45, 133000),\n",
       " (157871.96, 155000),\n",
       " (316123.62, 312500),\n",
       " (77152.435, 55000),\n",
       " (158269.235, 189950),\n",
       " (358213.56, 410000),\n",
       " (181589.09, 165600),\n",
       " (145058.4, 140000),\n",
       " (172128.39, 176432),\n",
       " (160810.45, 185750),\n",
       " (105904.87, 109500),\n",
       " (185634.265, 200141),\n",
       " (93876.25, 89500),\n",
       " (136434.16, 135000),\n",
       " (274608.695, 383970),\n",
       " (161330.82, 165500),\n",
       " (321401.055, 235000),\n",
       " (181101.795, 82500),\n",
       " (255432.92, 283463),\n",
       " (280099.345, 335000),\n",
       " (224740.655, 202900),\n",
       " (171716.74, 177500),\n",
       " (257318.675, 301000),\n",
       " (164635.965, 135000),\n",
       " (136987.865, 134900),\n",
       " (228472.99, 242000),\n",
       " (118479.6, 114504),\n",
       " (120894.295, 130000),\n",
       " (83325.375, 79000),\n",
       " (155715.985, 161750),\n",
       " (192869.33, 194500),\n",
       " (185908.74, 200000),\n",
       " (151880.6, 161000),\n",
       " (198150.585, 250580),\n",
       " (231966.99, 260400),\n",
       " (161033.5, 167000),\n",
       " (204959.335, 190000),\n",
       " (142721.875, 141000),\n",
       " (157938.4, 210000),\n",
       " (175280.575, 194700),\n",
       " (220294.235, 214000),\n",
       " (156873.775, 173000),\n",
       " (166240.325, 174000),\n",
       " (348412.06, 333168),\n",
       " (134332.01, 143500),\n",
       " (260498.925, 290000),\n",
       " (111929.14, 119750),\n",
       " (134999.205, 141500),\n",
       " (164429.125, 174500),\n",
       " (150033.12, 152000),\n",
       " (119702.79, 128500),\n",
       " (114499.89, 114500),\n",
       " (184890.86, 163500),\n",
       " (102917.035, 108000),\n",
       " (222980.645, 227000),\n",
       " (254261.57, 250000),\n",
       " (278954.74, 282922),\n",
       " (175347.25, 175000),\n",
       " (162211.7, 136500),\n",
       " (238956.51, 240000),\n",
       " (157319.93, 168500),\n",
       " (170246.015, 176000),\n",
       " (384739.22, 395192),\n",
       " (94774.46, 78000),\n",
       " (137535.415, 136905),\n",
       " (128606.0, 129000),\n",
       " (172698.575, 168000),\n",
       " (127667.665, 133900),\n",
       " (143613.895, 132500),\n",
       " (274527.615, 251000),\n",
       " (148161.81, 143000),\n",
       " (114417.635, 88000),\n",
       " (189911.61, 205000),\n",
       " (180612.975, 219500),\n",
       " (188143.25, 157500),\n",
       " (104440.485, 85000),\n",
       " (199547.855, 183500),\n",
       " (251384.66, 244000),\n",
       " (272771.0, 319900),\n",
       " (184877.74, 274970),\n",
       " (255277.44, 229000),\n",
       " (424355.37, 582933),\n",
       " (132617.76, 126000),\n",
       " (257785.965, 244600),\n",
       " (114435.085, 87000),\n",
       " (102972.15, 106500),\n",
       " (190200.38, 172500),\n",
       " (169638.965, 214500),\n",
       " (141928.0, 156000),\n",
       " (139343.54, 130000),\n",
       " (84770.3, 55000),\n",
       " (123589.565, 136500),\n",
       " (356183.085, 345000),\n",
       " (174326.725, 167000),\n",
       " (124788.57, 133000),\n",
       " (153644.375, 143500),\n",
       " (191257.3, 181000),\n",
       " (150350.87, 137000),\n",
       " (167691.53, 165000),\n",
       " (187955.865, 207000),\n",
       " (98110.415, 137500),\n",
       " (200647.845, 200000),\n",
       " (129239.25, 119200),\n",
       " (173421.705, 186000),\n",
       " (147742.8, 151000),\n",
       " (115297.61, 115000),\n",
       " (125266.06, 119900),\n",
       " (143833.7, 134432),\n",
       " (138438.86, 143000),\n",
       " (169906.725, 180000),\n",
       " (110548.14, 109500),\n",
       " (114999.41, 110000),\n",
       " (137886.125, 139400),\n",
       " (180829.3, 130500),\n",
       " (98213.375, 98300),\n",
       " (150384.495, 155000),\n",
       " (209123.275, 311500),\n",
       " (151411.7, 175000),\n",
       " (144157.275, 153000),\n",
       " (168881.2, 170000),\n",
       " (76676.24, 35311),\n",
       " (207085.645, 214900),\n",
       " (126701.375, 119000),\n",
       " (214389.97, 179900),\n",
       " (142399.83, 129900),\n",
       " (111865.205, 120500),\n",
       " (243612.425, 215000),\n",
       " (117801.94, 108000),\n",
       " (152783.835, 148000),\n",
       " (85553.73, 135000),\n",
       " (99184.52, 82000),\n",
       " (174732.01, 184000),\n",
       " (115692.265, 113000),\n",
       " (229269.565, 230000),\n",
       " (239022.525, 260000),\n",
       " (113447.695, 105000),\n",
       " (260035.23, 275000),\n",
       " (119338.0, 116500),\n",
       " (157055.015, 165000),\n",
       " (419374.25, 437154),\n",
       " (119789.345, 119000),\n",
       " (249904.205, 271900),\n",
       " (145022.375, 134450),\n",
       " (182519.415, 179000),\n",
       " (177530.225, 178000),\n",
       " (175322.0, 149500),\n",
       " (316747.51, 268000),\n",
       " (143882.5, 171000),\n",
       " (300416.795, 275000),\n",
       " (357911.2, 287000),\n",
       " (123228.815, 118000),\n",
       " (262307.12, 280000),\n",
       " (154626.3, 160000),\n",
       " (193085.85, 206000),\n",
       " (175463.8, 173900),\n",
       " (327177.63, 310000),\n",
       " (272691.16, 250000),\n",
       " (126792.63, 128000),\n",
       " (147941.295, 153500),\n",
       " (130909.25, 136500),\n",
       " (241025.14, 232000),\n",
       " (178155.315, 169000),\n",
       " (252895.705, 230500),\n",
       " (157987.69, 165000),\n",
       " (134345.8, 124500),\n",
       " (127210.29, 106000),\n",
       " (205805.535, 202500),\n",
       " (149587.185, 139000),\n",
       " (149435.375, 155000),\n",
       " (181437.3, 175000),\n",
       " (218236.605, 213500),\n",
       " (302681.99, 302000),\n",
       " (155465.38, 149000),\n",
       " (221904.16, 240000),\n",
       " (247221.965, 228000),\n",
       " (162457.0, 140000),\n",
       " (310706.565, 267000),\n",
       " (128756.765, 129000),\n",
       " (124404.665, 130500),\n",
       " (125074.835, 113000),\n",
       " (144864.76, 149300),\n",
       " (238803.355, 239500),\n",
       " (217989.11, 203000),\n",
       " (116343.455, 100000),\n",
       " (117179.505, 108000),\n",
       " (165839.325, 140000),\n",
       " (161814.57, 158000),\n",
       " (156521.6, 160000),\n",
       " (177050.75, 217500),\n",
       " (113441.215, 79900),\n",
       " (174884.45, 218000),\n",
       " (261401.13, 248900),\n",
       " (185423.4, 178000),\n",
       " (130229.535, 124500),\n",
       " (152648.705, 144000),\n",
       " (365897.96, 381000),\n",
       " (212574.845, 215000),\n",
       " (170245.84, 179200),\n",
       " (340429.555, 316600),\n",
       " (310629.635, 370878),\n",
       " (154068.25, 177000),\n",
       " (215821.335, 223500),\n",
       " (179298.365, 167240),\n",
       " (144563.125, 107000),\n",
       " (215158.95, 187500),\n",
       " (111203.96, 121000),\n",
       " (218228.15, 200624),\n",
       " (175972.865, 178000),\n",
       " (195242.5, 207500),\n",
       " (124727.0, 118500),\n",
       " (150829.87, 152000),\n",
       " (218147.01, 257500),\n",
       " (204472.75, 213000),\n",
       " (179411.395, 190000),\n",
       " (192491.79, 175000),\n",
       " (149835.485, 112000),\n",
       " (179105.5, 197900),\n",
       " (412122.66, 466500),\n",
       " (183520.255, 191000),\n",
       " (137379.11, 145000),\n",
       " (290798.37, 290000)]"
      ]
     },
     "execution_count": 9,
     "metadata": {},
     "output_type": "execute_result"
    }
   ],
   "source": [
    "list(zip(rfc.predict(X_test), y_test))"
   ]
  },
  {
   "cell_type": "markdown",
   "metadata": {
    "toc-hr-collapsed": true
   },
   "source": [
    "### Summary\n",
    "\n",
    "Here are the high-level steps we performed:\n",
    "\n",
    "- Load some data.\n",
    "- Split the data by columns into the \"target variable\" we want to predict and the \"feature variables\" we want to use to predict it.\n",
    "- Split the data by rows into a \"training set\" that we will use to teach the model and a \"test set\" that we will use to evaluate its performance.\n",
    "- Fit a model on the training set. (This is where the model learns a relationship between the features and the target.)\n",
    "- Evaluate the model on the test set by measuring the accuracy of its predictions."
   ]
  },
  {
   "cell_type": "markdown",
   "metadata": {},
   "source": [
    "These are the bare minimum for the kind of data modeling that is the focus of this course."
   ]
  },
  {
   "cell_type": "markdown",
   "metadata": {
    "toc-hr-collapsed": false
   },
   "source": [
    "## Types of Data Work"
   ]
  },
  {
   "cell_type": "markdown",
   "metadata": {},
   "source": [
    "This course focuses on **supervised learning** with **tabular**, **cross-sectional** data."
   ]
  },
  {
   "cell_type": "markdown",
   "metadata": {},
   "source": [
    "### Supervised Learning (a.k.a. “predictive modeling”):\n",
    "\n",
    "Given a bunch of examples with input features and an output label, predict the output label for new examples.\n",
    "\n",
    "**Examples:**\n",
    "\n",
    "- Predict the price of a house based on its neighborhood, number of bedrooms, etc.\n",
    "- Predict whether an email is spam or \"ham\" based on its contents.\n",
    "\n",
    "Predicting a *continuous value* such as house price is called **regression**.\n",
    "\n",
    "Predicting a *discrete category* such as spam or ham is called **classification**.\n",
    "\n",
    "**Major challenges:**\n",
    "\n",
    "- Getting good labeled data.\n",
    "- Keeping focus on business value rather than just building the most accurate model."
   ]
  },
  {
   "cell_type": "markdown",
   "metadata": {},
   "source": [
    "### Unsupervised Learning\n",
    "\n",
    "Given a bunch of examples with features, find some kind of structure.\n",
    "\n",
    "**Examples:**\n",
    "\n",
    "- Put coins into groups that are similar to one another in terms of weight, composition, etc.\n",
    "- Identify five traits that capture a large proportion of the personality variation among people.\n",
    "- Flag unusual-looking credit card transactions.\n",
    "\n",
    "Representing objects as members of *groups* is called **clustering**.\n",
    "\n",
    "Representing objects in terms of a smaller number of features than you started with is called **dimensionality reduction**.\n",
    "\n",
    "Identifying unusual objects is called **anomaly detection**.\n",
    "\n",
    "**Major challenge:** Evaluating performance in the absence of labels."
   ]
  },
  {
   "cell_type": "markdown",
   "metadata": {},
   "source": [
    "**Exercise (6 mins, in groups).**\n",
    "\n",
    "Apply two of the following labels to each task below. For instance, the following task would get the labels \"supervised learning\" and \"regression:\" \"Given data on prior home sales that includes home features (e.g. number of bedrooms) and sales price, predict sales prices for a new set of homes described by the same features.\"\n",
    "\n",
    "**Labels:**\n",
    "\n",
    "- Supervised learning\n",
    "- Unsupervised learning\n",
    "- Regression\n",
    "- Classification\n",
    "- Clustering\n",
    "- Dimensionality reduction\n",
    "- Anomaly detection\n",
    "\n",
    "**Tasks:**"
   ]
  },
  {
   "cell_type": "markdown",
   "metadata": {},
   "source": [
    "- Given a set of music audio files, group files that seem to have similar musical styles (without labeling them as belonging to particular genres)."
   ]
  },
  {
   "cell_type": "markdown",
   "metadata": {},
   "source": []
  },
  {
   "cell_type": "markdown",
   "metadata": {},
   "source": [
    "- Derive \"musical fingerprints\" that allow an algorithm running on a remote server to identify what song a phone user is hearing with as little data transmission as possible. (For this exercise, focus on the process of creating the musical fingerprints -- using those fingerprints to identify songs is a separate step.)"
   ]
  },
  {
   "cell_type": "markdown",
   "metadata": {},
   "source": []
  },
  {
   "cell_type": "markdown",
   "metadata": {},
   "source": [
    "- Given sensor data from a locomotive and times within the data set in which the engine failed, use new sensor data to predict whether or not the engine will fail in the next two weeks."
   ]
  },
  {
   "cell_type": "markdown",
   "metadata": {},
   "source": []
  },
  {
   "cell_type": "markdown",
   "metadata": {},
   "source": [
    "- Given sensor data from a locomotive, identify periods of time in which the engine is behaving abnormally."
   ]
  },
  {
   "cell_type": "markdown",
   "metadata": {},
   "source": []
  },
  {
   "cell_type": "markdown",
   "metadata": {},
   "source": [
    "- Given a set of chest X-rays with physician's diagnoses of pneumonia and other diseases, identify which patients representated in a new set of chest X-rays have pneumonia."
   ]
  },
  {
   "cell_type": "markdown",
   "metadata": {},
   "source": []
  },
  {
   "cell_type": "markdown",
   "metadata": {},
   "source": [
    "- Given sensor data from a locomotive that includes GPS and fuel consumption information, predict how much fuel a locomotive will consume on a trip between two specified points."
   ]
  },
  {
   "cell_type": "markdown",
   "metadata": {},
   "source": []
  },
  {
   "cell_type": "markdown",
   "metadata": {},
   "source": [
    "$\\blacksquare$"
   ]
  },
  {
   "cell_type": "markdown",
   "metadata": {},
   "source": [
    "### Other Types of Data Work"
   ]
  },
  {
   "cell_type": "markdown",
   "metadata": {},
   "source": [
    "There are other kinds of data work that are not machine learning:\n",
    "\n",
    "- **Machine learning** makes **many decisions** by producing a model that can be applied again and again (e.g. predicting prices for as many houses as you can give it).\n",
    "- **Statistics** makes **one decision** by testing a hypothesis or estimating a parameter (e.g. does making a button red rather than yellow lead to higher click-through rates?).\n",
    "- **Analytics** makes **no decisions**. Instead, it surfaces information to human decision makers through metrics and visualization."
   ]
  },
  {
   "cell_type": "markdown",
   "metadata": {},
   "source": [
    "\"Data science\" encompasses both machine learning and statistics. Data analytics is generally considered \"not data science.\""
   ]
  },
  {
   "cell_type": "markdown",
   "metadata": {},
   "source": [
    "## Types of Data"
   ]
  },
  {
   "cell_type": "markdown",
   "metadata": {},
   "source": [
    "### Tabular Data (a.k.a. \"Structured Data\")"
   ]
  },
  {
   "cell_type": "markdown",
   "metadata": {},
   "source": [
    "*Tabular data* is data arranged in tables (rows and columns)."
   ]
  },
  {
   "cell_type": "markdown",
   "metadata": {},
   "source": [
    "### Unstructured Data"
   ]
  },
  {
   "cell_type": "markdown",
   "metadata": {},
   "source": [
    "We can also do machine learning with \"unstructured data\" such as images, video, text, and audio. For instance, you could train a model to extract the text from images of street signs."
   ]
  },
  {
   "cell_type": "markdown",
   "metadata": {},
   "source": [
    "<img src=\"../assets/images/street_signs.jpg\" width=400>"
   ]
  },
  {
   "cell_type": "markdown",
   "metadata": {},
   "source": [
    "### Cross-Sectional Data"
   ]
  },
  {
   "cell_type": "markdown",
   "metadata": {},
   "source": [
    "<img src=\"../assets/images/cross_sectional_data.png\" width=400>\n",
    "\n",
    "Data collected at a single point in time for each individual is called **cross-sectional data**."
   ]
  },
  {
   "cell_type": "markdown",
   "metadata": {},
   "source": [
    "### Time Series/Longitudinal Data"
   ]
  },
  {
   "cell_type": "markdown",
   "metadata": {},
   "source": [
    "<img src=\"../assets/images/time_series_data.png\" width=400>\n",
    "\n",
    "Data on the same variables collected at multiple time points from the same individuals is called **longitudinal** for **time-series** data."
   ]
  },
  {
   "cell_type": "markdown",
   "metadata": {},
   "source": [
    "## Summary\n",
    "\n",
    "This course focused on getting a computer to learn from examples how to predict a target variable from various feature variables, using data that is organized into rows and columns (one column per variable, one row per individual), where time is not an important factor and we are not interfering in the system."
   ]
  },
  {
   "cell_type": "markdown",
   "metadata": {
    "slideshow": {
     "slide_type": "slide"
    }
   },
   "source": [
    "**Exercise.**\n",
    "\n",
    "List five specific product features that you think use data science (e.g. Netflix movie recommemdations)."
   ]
  },
  {
   "cell_type": "markdown",
   "metadata": {},
   "source": []
  },
  {
   "cell_type": "markdown",
   "metadata": {},
   "source": [
    "$\\blacksquare$"
   ]
  },
  {
   "cell_type": "markdown",
   "metadata": {
    "toc-hr-collapsed": true
   },
   "source": [
    "# The Data Science Workflow\n",
    "\n",
    "![](../assets/images/Data-Framework-White-BG.png)"
   ]
  },
  {
   "cell_type": "markdown",
   "metadata": {},
   "source": [
    "**Notes**\n",
    "\n",
    "- The idea of a \"hypothesis-driven approach\" is more appropriate for statistics than machine learning. For us, the \"frame\" step has more to do with identifying a practically significant use case for supervised learning.\n",
    "- For us, the primary output of the \"Analyze\" phase is a model that can be used to automate decisions. The \"Interpret\" and \"Communicate\" phases are primarily about quantifying the value of the model and getting people to use it. However, the process of creating the model can also generate more one-off \"insights\" that you will want to interpret and communicate like an analyst or statistician.\n",
    "- This process is typically iterative.\n",
    "- Talking with subject-matter experts early and often greatly increases your chances of producing a useful result."
   ]
  },
  {
   "cell_type": "markdown",
   "metadata": {
    "toc-hr-collapsed": true
   },
   "source": [
    "## Application: Data Science Workflow Through Ames Data"
   ]
  },
  {
   "cell_type": "markdown",
   "metadata": {
    "toc-hr-collapsed": true
   },
   "source": [
    "### 1. Frame\n",
    "\n",
    "Identify:\n",
    "\n",
    "- High-level business objectives\n",
    "- Deliverables\n",
    "- Success criteria\n",
    "- Relevant data sets"
   ]
  },
  {
   "cell_type": "markdown",
   "metadata": {},
   "source": [
    "#### High-Level Business Objectives\n",
    "\n",
    "Suppose a real estate wants to predict prices for houses so that they can more reliably buy them at a discount, make cost-effective improvements, and sell them for a large profit."
   ]
  },
  {
   "cell_type": "markdown",
   "metadata": {},
   "source": [
    "#### Deliverables\n",
    "\n",
    "E.g.\n",
    "\n",
    "* Presentation to the real estate team\n",
    "* Business report discussing results, procedures used, and rationales\n",
    "* API that provides estimated returns"
   ]
  },
  {
   "cell_type": "markdown",
   "metadata": {},
   "source": [
    "#### Success Criteria\n",
    "\n",
    "This project will be considered a success if the estimated returns provided by the API are at least as accurate as the estimates that the company currently produces manually (while saving time).\n",
    "\n",
    "**Note:** It can be difficult to predict what level of performance a data science model will be able to achieve before you dig into the data and start building models. **Keep your criteria for success minimal** and **figure out as quickly as possible whether you are going to fail**."
   ]
  },
  {
   "cell_type": "markdown",
   "metadata": {},
   "source": [
    "#### Relevant Data Sets\n",
    "\n",
    "**Key questions:**\n",
    "\n",
    "- What data would be ideal?\n",
    "- What data is available?\n",
    "- What can we do to close that gap?\n",
    "- Is it plausible that we can succeed with the data we can get?"
   ]
  },
  {
   "cell_type": "markdown",
   "metadata": {
    "slideshow": {
     "slide_type": "notes"
    }
   },
   "source": [
    "**Subsidiary questions:**\n",
    "\n",
    "- Where is the data set coming from? How was it collected? Can it be trusted?\n",
    "- What variables does it contain?\n",
    "- If the data is spread across multiple pieces, how do those pieces fit together?\n",
    "- Do our data appropriately align with the question/problem statement?\n",
    "- Is this data set aggregated? Can we use the aggregation, or do we need to obtain it pre-aggregation?\n",
    "- Is there enough data?\n",
    "- Does the data cover all of the types of situations (times, places, etc.) to which we want to apply our model?\n",
    "- Is the data representative\n",
    "- How can we access it (e.g. file, database, web API, web scraping)?\n",
    "- What are the most appropriate tools for working with the data, given its size and format?"
   ]
  },
  {
   "cell_type": "markdown",
   "metadata": {},
   "source": [
    "**Exercise (in groups).**\n",
    "\n",
    "Answer the following questions about the [Ames housing data set](../assets/data/ames_data_documentation.txt)."
   ]
  },
  {
   "cell_type": "markdown",
   "metadata": {},
   "source": [
    "- What would an ideal data set look like for the project of predicting housing prices?"
   ]
  },
  {
   "cell_type": "markdown",
   "metadata": {},
   "source": []
  },
  {
   "cell_type": "markdown",
   "metadata": {},
   "source": [
    "- How closely does the Ames housing data set match the ideal data that you envisioned?"
   ]
  },
  {
   "cell_type": "markdown",
   "metadata": {},
   "source": []
  },
  {
   "cell_type": "markdown",
   "metadata": {},
   "source": [
    "- Would it be sufficient for our purposes?"
   ]
  },
  {
   "cell_type": "markdown",
   "metadata": {},
   "source": []
  },
  {
   "cell_type": "markdown",
   "metadata": {},
   "source": [
    "- What limitations does it have?"
   ]
  },
  {
   "cell_type": "markdown",
   "metadata": {},
   "source": []
  },
  {
   "cell_type": "markdown",
   "metadata": {},
   "source": [
    "$\\blacksquare$"
   ]
  },
  {
   "cell_type": "markdown",
   "metadata": {},
   "source": [
    "### 2. Prepare\n",
    "\n",
    "Data scientists often work with data that they did not collect (\"secondary data\"), so they have to use *data dictionaries* and other documentation to learn how the set was gathered.\n",
    "\n",
    "Here's an example of a data dictionary:\n",
    "\n",
    "Variable | Description | Type of Variable\n",
    "---| ---| ---\n",
    "Square Footage | Floating Point | Continuous\n",
    "Street Type | 1 - Gravel, 2 - Paved | Categorical\n",
    "Neighborhood | String, e.g., 'Lake View' | Categorical\n",
    "Number of Bedrooms | Integer | Discrete\n",
    "\n",
    "**Common data preparation steps**:\n",
    "\n",
    "- Addressing missing values\n",
    "- Addressing outliers\n",
    "- Restructuring\n",
    "- Reformatting\n",
    "- Aggregating\n",
    "- Transforming\n",
    "\n",
    "![](../assets/images/clean_data_borat.png)"
   ]
  },
  {
   "cell_type": "markdown",
   "metadata": {
    "slideshow": {
     "slide_type": "slide"
    }
   },
   "source": [
    "### 3. Analyze\n",
    "\n",
    "#### Descriptive Modeling\n",
    "\n",
    "Data scientists use statistics such as frequencies, means, and standard deviations to give compact descriptions of their data sets.\n",
    "\n",
    "Variable | Mean or Frequency (%)\n",
    "---| ---\n",
    "Square Footage | 2201.3\n",
    "Street Type - Gravel | 8%\n",
    "Street Type - Paved | 92%\n",
    "Number of Bedrooms | 1.8\n",
    "\n",
    "#### Predictive Modeling\n",
    "\n",
    "Data scientists build models to predict either discrete outcomes (e.g. this house will / will not sell in the next month) or continuous values (e.g. this house will sell for $358,000)."
   ]
  },
  {
   "cell_type": "markdown",
   "metadata": {
    "slideshow": {
     "slide_type": "slide"
    }
   },
   "source": [
    "### 4. Interpret\n",
    "\n",
    "- Check your model for correctness.\n",
    "- Determine what your model is really telling you, keeping in mind the limitations of your data and modeling techniques.\n",
    "- Determine what one-off recommendations your model supports and/or what kinds of ongoing decisions it can support.\n",
    "- Get input from subject-matter experts!"
   ]
  },
  {
   "cell_type": "markdown",
   "metadata": {
    "slideshow": {
     "slide_type": "slide"
    }
   },
   "source": [
    "### 5. Communicate\n",
    "\n",
    "Without effective communication, your work will not be used.\n",
    "\n",
    "- Identify your goals.\n",
    "- Put the bottom line front and center: _\"Kitchen renovations have a positive return on investment, while other renovations do not.\"_\n",
    "- Speak the language of your audience (often $$$).\n",
    "- Practice, ideally with a real audience that can give useful feedback."
   ]
  },
  {
   "cell_type": "markdown",
   "metadata": {
    "slideshow": {
     "slide_type": "slide"
    }
   },
   "source": [
    "**Iterate, iterate, iterate.**"
   ]
  },
  {
   "cell_type": "markdown",
   "metadata": {},
   "source": [
    "<a id=\"summary1\"></a>\n",
    "## Summary\n",
    "\n",
    "Use the data science workflow to develop solutions.\n",
    "  - **Frame** a problem by identifying an opportunity to save money and/or generate new revenue through supervised learning.\n",
    "  - **Prepare** your data.\n",
    "  - **Analyze** your data.\n",
    "  - **Interpret** the results of your analysis in terms of your business.\n",
    "  - **Communicate** your results to different audiences."
   ]
  },
  {
   "cell_type": "markdown",
   "metadata": {
    "toc-hr-collapsed": true
   },
   "source": [
    "# Why Not Use GUI Tools (Excel, Power BI, Tableau, etc.)?"
   ]
  },
  {
   "cell_type": "markdown",
   "metadata": {},
   "source": [
    "Excel tends to show the data and hides the code, while programming languages tend to show the code and hide the data. Excel is fantastic for non-mission-critical work with data with fairly simple logic.\n",
    "\n",
    "Tableau and similar tools are fantastic for analytics work.\n",
    "\n",
    "Programming languages such as Python have a number of advantages over GUI tools for machine learning and other data work:\n",
    "\n",
    "- **Flexibility:** Standard programming languages are [Turing Complete](https://en.wikipedia.org/wiki/Turing_completeness), so they can (in principle) solve any problem that can be solved with a computer.\n",
    "- **Performance:** Numerical computing libraries such as NumPy for Python are highly optimized for speed and memory efficiency. If that's not enough, you can drop down to a lower-level language for further optimizations and/or run many jobs in parallel across multiple computers. By contrast, Excel doesn't even let you look at more than medium-sized data.\n",
    "- **Extensibility:** Anyone in the world can create and publish a package that extends the language. As a result, the package ecosystem for doing data science in Python is incredible, and it is constantly improving.\n",
    "- **Transparency and Reproducibility:** When you use code to analyze data, that code serves as a record of exactly what you did. Having such a record makes it easier to catch errors and to apply the same steps to new data. By contrast, [Excel is notoriously good at hiding errors](https://www.theverge.com/2013/4/17/4234136/excel-calculation-error-infamous-economic-study).\n",
    "- **Deployability:** Code can be set up to run automatically, e.g. to create scheduled reports or to recommend products on a website in real time.\n",
    "- **Version Control:** Code can be put into a version control system so that you can inspect how it has changed over time and roll it back when something goes wrong.\n",
    "- **Cost:** Python is free."
   ]
  }
 ],
 "metadata": {
  "kernelspec": {
   "display_name": "Python 3",
   "language": "python",
   "name": "python3"
  },
  "language_info": {
   "codemirror_mode": {
    "name": "ipython",
    "version": 3
   },
   "file_extension": ".py",
   "mimetype": "text/x-python",
   "name": "python",
   "nbconvert_exporter": "python",
   "pygments_lexer": "ipython3",
   "version": "3.6.8"
  }
 },
 "nbformat": 4,
 "nbformat_minor": 2
}
