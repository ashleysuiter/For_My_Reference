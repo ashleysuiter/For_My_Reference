{
 "cells": [
  {
   "cell_type": "markdown",
   "metadata": {
    "slideshow": {
     "slide_type": "slide"
    },
    "toc-hr-collapsed": true
   },
   "source": [
    "<img src=\"http://imgur.com/1ZcRyrc.png\" style=\"float: left; margin: 20px; height: 55px\">\n",
    " \n",
    "# What is Data Science?\n",
    " \n",
    "_Authors: Alexander Egorenkov (DC), Amy Roberts (NYC)_\n",
    " \n",
    "---\n"
   ]
  },
  {
   "cell_type": "markdown",
   "metadata": {
    "toc-hr-collapsed": true
   },
   "source": [
    "## Demo"
   ]
  },
  {
   "cell_type": "markdown",
   "metadata": {},
   "source": [
    "### Building a Model to Predict Housing Prices"
   ]
  },
  {
   "cell_type": "markdown",
   "metadata": {},
   "source": [
    "Let's build a model to predict the price that a house will sell for. Such a model might be useful for identifying underpriced houses that you could flip for a profit.\n",
    "\n",
    "Press `Shift + Return` to run each of the code cells below. You won't understand everything that is happening here; the goal is just to get the big picture."
   ]
  },
  {
   "cell_type": "code",
   "execution_count": 1,
   "metadata": {},
   "outputs": [],
   "source": [
    "# Load the \"Pandas\" library -- think of it as spreadsheets in Python\n",
    "import pandas as pd"
   ]
  },
  {
   "cell_type": "code",
   "execution_count": 2,
   "metadata": {},
   "outputs": [],
   "source": [
    "# Use pandas to load in the data\n",
    "ames_df = pd.read_csv('../assets/data/ames_train.csv')"
   ]
  },
  {
   "cell_type": "code",
   "execution_count": 3,
   "metadata": {},
   "outputs": [
    {
     "data": {
      "text/html": [
       "<div>\n",
       "<style scoped>\n",
       "    .dataframe tbody tr th:only-of-type {\n",
       "        vertical-align: middle;\n",
       "    }\n",
       "\n",
       "    .dataframe tbody tr th {\n",
       "        vertical-align: top;\n",
       "    }\n",
       "\n",
       "    .dataframe thead th {\n",
       "        text-align: right;\n",
       "    }\n",
       "</style>\n",
       "<table border=\"1\" class=\"dataframe\">\n",
       "  <thead>\n",
       "    <tr style=\"text-align: right;\">\n",
       "      <th></th>\n",
       "      <th>Id</th>\n",
       "      <th>MSSubClass</th>\n",
       "      <th>MSZoning</th>\n",
       "      <th>LotFrontage</th>\n",
       "      <th>LotArea</th>\n",
       "      <th>Street</th>\n",
       "      <th>Alley</th>\n",
       "      <th>LotShape</th>\n",
       "      <th>LandContour</th>\n",
       "      <th>Utilities</th>\n",
       "      <th>...</th>\n",
       "      <th>PoolArea</th>\n",
       "      <th>PoolQC</th>\n",
       "      <th>Fence</th>\n",
       "      <th>MiscFeature</th>\n",
       "      <th>MiscVal</th>\n",
       "      <th>MoSold</th>\n",
       "      <th>YrSold</th>\n",
       "      <th>SaleType</th>\n",
       "      <th>SaleCondition</th>\n",
       "      <th>SalePrice</th>\n",
       "    </tr>\n",
       "  </thead>\n",
       "  <tbody>\n",
       "    <tr>\n",
       "      <th>0</th>\n",
       "      <td>1</td>\n",
       "      <td>60</td>\n",
       "      <td>RL</td>\n",
       "      <td>65.0</td>\n",
       "      <td>8450</td>\n",
       "      <td>Pave</td>\n",
       "      <td>NaN</td>\n",
       "      <td>Reg</td>\n",
       "      <td>Lvl</td>\n",
       "      <td>AllPub</td>\n",
       "      <td>...</td>\n",
       "      <td>0</td>\n",
       "      <td>NaN</td>\n",
       "      <td>NaN</td>\n",
       "      <td>NaN</td>\n",
       "      <td>0</td>\n",
       "      <td>2</td>\n",
       "      <td>2008</td>\n",
       "      <td>WD</td>\n",
       "      <td>Normal</td>\n",
       "      <td>208500</td>\n",
       "    </tr>\n",
       "    <tr>\n",
       "      <th>1</th>\n",
       "      <td>2</td>\n",
       "      <td>20</td>\n",
       "      <td>RL</td>\n",
       "      <td>80.0</td>\n",
       "      <td>9600</td>\n",
       "      <td>Pave</td>\n",
       "      <td>NaN</td>\n",
       "      <td>Reg</td>\n",
       "      <td>Lvl</td>\n",
       "      <td>AllPub</td>\n",
       "      <td>...</td>\n",
       "      <td>0</td>\n",
       "      <td>NaN</td>\n",
       "      <td>NaN</td>\n",
       "      <td>NaN</td>\n",
       "      <td>0</td>\n",
       "      <td>5</td>\n",
       "      <td>2007</td>\n",
       "      <td>WD</td>\n",
       "      <td>Normal</td>\n",
       "      <td>181500</td>\n",
       "    </tr>\n",
       "    <tr>\n",
       "      <th>2</th>\n",
       "      <td>3</td>\n",
       "      <td>60</td>\n",
       "      <td>RL</td>\n",
       "      <td>68.0</td>\n",
       "      <td>11250</td>\n",
       "      <td>Pave</td>\n",
       "      <td>NaN</td>\n",
       "      <td>IR1</td>\n",
       "      <td>Lvl</td>\n",
       "      <td>AllPub</td>\n",
       "      <td>...</td>\n",
       "      <td>0</td>\n",
       "      <td>NaN</td>\n",
       "      <td>NaN</td>\n",
       "      <td>NaN</td>\n",
       "      <td>0</td>\n",
       "      <td>9</td>\n",
       "      <td>2008</td>\n",
       "      <td>WD</td>\n",
       "      <td>Normal</td>\n",
       "      <td>223500</td>\n",
       "    </tr>\n",
       "    <tr>\n",
       "      <th>3</th>\n",
       "      <td>4</td>\n",
       "      <td>70</td>\n",
       "      <td>RL</td>\n",
       "      <td>60.0</td>\n",
       "      <td>9550</td>\n",
       "      <td>Pave</td>\n",
       "      <td>NaN</td>\n",
       "      <td>IR1</td>\n",
       "      <td>Lvl</td>\n",
       "      <td>AllPub</td>\n",
       "      <td>...</td>\n",
       "      <td>0</td>\n",
       "      <td>NaN</td>\n",
       "      <td>NaN</td>\n",
       "      <td>NaN</td>\n",
       "      <td>0</td>\n",
       "      <td>2</td>\n",
       "      <td>2006</td>\n",
       "      <td>WD</td>\n",
       "      <td>Abnorml</td>\n",
       "      <td>140000</td>\n",
       "    </tr>\n",
       "    <tr>\n",
       "      <th>4</th>\n",
       "      <td>5</td>\n",
       "      <td>60</td>\n",
       "      <td>RL</td>\n",
       "      <td>84.0</td>\n",
       "      <td>14260</td>\n",
       "      <td>Pave</td>\n",
       "      <td>NaN</td>\n",
       "      <td>IR1</td>\n",
       "      <td>Lvl</td>\n",
       "      <td>AllPub</td>\n",
       "      <td>...</td>\n",
       "      <td>0</td>\n",
       "      <td>NaN</td>\n",
       "      <td>NaN</td>\n",
       "      <td>NaN</td>\n",
       "      <td>0</td>\n",
       "      <td>12</td>\n",
       "      <td>2008</td>\n",
       "      <td>WD</td>\n",
       "      <td>Normal</td>\n",
       "      <td>250000</td>\n",
       "    </tr>\n",
       "  </tbody>\n",
       "</table>\n",
       "<p>5 rows × 81 columns</p>\n",
       "</div>"
      ],
      "text/plain": [
       "   Id  MSSubClass MSZoning  LotFrontage  LotArea Street Alley LotShape  \\\n",
       "0   1          60       RL         65.0     8450   Pave   NaN      Reg   \n",
       "1   2          20       RL         80.0     9600   Pave   NaN      Reg   \n",
       "2   3          60       RL         68.0    11250   Pave   NaN      IR1   \n",
       "3   4          70       RL         60.0     9550   Pave   NaN      IR1   \n",
       "4   5          60       RL         84.0    14260   Pave   NaN      IR1   \n",
       "\n",
       "  LandContour Utilities  ... PoolArea PoolQC Fence MiscFeature MiscVal MoSold  \\\n",
       "0         Lvl    AllPub  ...        0    NaN   NaN         NaN       0      2   \n",
       "1         Lvl    AllPub  ...        0    NaN   NaN         NaN       0      5   \n",
       "2         Lvl    AllPub  ...        0    NaN   NaN         NaN       0      9   \n",
       "3         Lvl    AllPub  ...        0    NaN   NaN         NaN       0      2   \n",
       "4         Lvl    AllPub  ...        0    NaN   NaN         NaN       0     12   \n",
       "\n",
       "  YrSold  SaleType  SaleCondition  SalePrice  \n",
       "0   2008        WD         Normal     208500  \n",
       "1   2007        WD         Normal     181500  \n",
       "2   2008        WD         Normal     223500  \n",
       "3   2006        WD        Abnorml     140000  \n",
       "4   2008        WD         Normal     250000  \n",
       "\n",
       "[5 rows x 81 columns]"
      ]
     },
     "execution_count": 3,
     "metadata": {},
     "output_type": "execute_result"
    }
   ],
   "source": [
    "# Look at the first five rows\n",
    "ames_df.head(5)"
   ]
  },
  {
   "cell_type": "code",
   "execution_count": 4,
   "metadata": {},
   "outputs": [],
   "source": [
    "# To get us started, use just the numeric columns without missing data\n",
    "ames_df = ames_df.select_dtypes(['int64', 'float64']).dropna(axis='columns')"
   ]
  },
  {
   "cell_type": "code",
   "execution_count": 5,
   "metadata": {},
   "outputs": [],
   "source": [
    "# Split the data into the column `y` we want to predict and the \n",
    "# columns `X` we will use to make the predictions\n",
    "X = ames_df.drop('SalePrice', axis='columns')\n",
    "y = ames_df.loc[:, 'SalePrice']"
   ]
  },
  {
   "cell_type": "code",
   "execution_count": 6,
   "metadata": {},
   "outputs": [],
   "source": [
    "# Set aside 25% of the data for testing the model\n",
    "from sklearn.model_selection import train_test_split\n",
    "\n",
    "X_train, X_test, y_train, y_test = train_test_split(X, y)"
   ]
  },
  {
   "cell_type": "code",
   "execution_count": 7,
   "metadata": {},
   "outputs": [
    {
     "data": {
      "text/plain": [
       "RandomForestRegressor(bootstrap=True, criterion='mse', max_depth=None,\n",
       "           max_features='auto', max_leaf_nodes=None,\n",
       "           min_impurity_decrease=0.0, min_impurity_split=None,\n",
       "           min_samples_leaf=1, min_samples_split=2,\n",
       "           min_weight_fraction_leaf=0.0, n_estimators=200, n_jobs=None,\n",
       "           oob_score=False, random_state=None, verbose=0, warm_start=False)"
      ]
     },
     "execution_count": 7,
     "metadata": {},
     "output_type": "execute_result"
    }
   ],
   "source": [
    "# Import a model class\n",
    "from sklearn.ensemble import RandomForestRegressor\n",
    "\n",
    "# Create a model from that class\n",
    "rfc = RandomForestRegressor(n_estimators=200)\n",
    "\n",
    "# Ask the model to learn a function that predicts `y` from `X`\n",
    "rfc.fit(X_train, y_train)"
   ]
  },
  {
   "cell_type": "markdown",
   "metadata": {},
   "source": [
    "That's it! We just built a machine learning model.\n",
    "\n",
    "Is it any good? Let's test it on data that it hasn't seen."
   ]
  },
  {
   "cell_type": "code",
   "execution_count": 8,
   "metadata": {},
   "outputs": [
    {
     "data": {
      "text/plain": [
       "0.8931894428254185"
      ]
     },
     "execution_count": 8,
     "metadata": {},
     "output_type": "execute_result"
    }
   ],
   "source": [
    "# Score the model on the test data\n",
    "rfc.score(X_test, y_test)"
   ]
  },
  {
   "cell_type": "markdown",
   "metadata": {},
   "source": [
    "This score tells us (roughly) by what factor (0 to 1) our model's errors are on average than the errors that we would get if we just guessed the average price every time. This number is substantially greater than 0, so our model works!"
   ]
  },
  {
   "cell_type": "markdown",
   "metadata": {},
   "source": [
    "We can also look at the model's predictions and compare them to the actual values:"
   ]
  },
  {
   "cell_type": "code",
   "execution_count": 9,
   "metadata": {},
   "outputs": [
    {
     "data": {
      "text/plain": [
       "[(161744.25, 170000),\n",
       " (159463.375, 145000),\n",
       " (87917.685, 89500),\n",
       " (145658.64, 128000),\n",
       " (296826.7, 250000),\n",
       " (247966.78, 284000),\n",
       " (164548.8, 164000),\n",
       " (158165.125, 164000),\n",
       " (229217.375, 209500),\n",
       " (168508.435, 174000),\n",
       " (136522.725, 131500),\n",
       " (137104.865, 109000),\n",
       " (140862.995, 142500),\n",
       " (197535.15, 202665),\n",
       " (237536.535, 210000),\n",
       " (123629.275, 107400),\n",
       " (106041.53, 67000),\n",
       " (159181.27, 115000),\n",
       " (110999.69, 126000),\n",
       " (314446.095, 285000),\n",
       " (170338.965, 172000),\n",
       " (116596.905, 79000),\n",
       " (265384.935, 278000),\n",
       " (358366.075, 315000),\n",
       " (157007.295, 175000),\n",
       " (170913.42, 176000),\n",
       " (139005.8, 140000),\n",
       " (139042.925, 135900),\n",
       " (102875.505, 73000),\n",
       " (130453.015, 120000),\n",
       " (108050.215, 87000),\n",
       " (137123.11, 145000),\n",
       " (208285.0, 204750),\n",
       " (126662.665, 128200),\n",
       " (270576.905, 283463),\n",
       " (225317.465, 240000),\n",
       " (130255.095, 124000),\n",
       " (113577.94, 110000),\n",
       " (125816.015, 128000),\n",
       " (221327.545, 237000),\n",
       " (214319.25, 223500),\n",
       " (199389.6, 199900),\n",
       " (145440.165, 152000),\n",
       " (135331.42, 144000),\n",
       " (110671.59, 79900),\n",
       " (134252.195, 138500),\n",
       " (100392.885, 86000),\n",
       " (99618.645, 90000),\n",
       " (142056.44, 136000),\n",
       " (116620.0, 112000),\n",
       " (131632.25, 133000),\n",
       " (144694.565, 145000),\n",
       " (196125.13, 185000),\n",
       " (208245.02, 215000),\n",
       " (117192.99, 112500),\n",
       " (118610.665, 123000),\n",
       " (184836.2, 185000),\n",
       " (317893.235, 264132),\n",
       " (166641.565, 179400),\n",
       " (173651.735, 137900),\n",
       " (144293.775, 139000),\n",
       " (136492.95, 126175),\n",
       " (119211.54, 123600),\n",
       " (183210.45, 239000),\n",
       " (256750.035, 275000),\n",
       " (95692.735, 118000),\n",
       " (117834.715, 147000),\n",
       " (66800.595, 60000),\n",
       " (372846.1, 342643),\n",
       " (217892.705, 235000),\n",
       " (145654.245, 117000),\n",
       " (264296.785, 252000),\n",
       " (123662.29, 135000),\n",
       " (125524.73, 115000),\n",
       " (104131.095, 100000),\n",
       " (155006.91, 159000),\n",
       " (189474.25, 274970),\n",
       " (138553.425, 132250),\n",
       " (112768.615, 90000),\n",
       " (280173.72, 339750),\n",
       " (233333.175, 225000),\n",
       " (89862.86, 83500),\n",
       " (161246.0, 143000),\n",
       " (248458.6, 202900),\n",
       " (129624.225, 119500),\n",
       " (105418.83, 98000),\n",
       " (99584.645, 106500),\n",
       " (268866.42, 251000),\n",
       " (209235.16, 227875),\n",
       " (204937.855, 206300),\n",
       " (85470.365, 88000),\n",
       " (109383.15, 154900),\n",
       " (132704.55, 131500),\n",
       " (126890.42, 127500),\n",
       " (180665.005, 165600),\n",
       " (121060.08, 120500),\n",
       " (125794.665, 120500),\n",
       " (205852.41, 215000),\n",
       " (142242.03, 98600),\n",
       " (143938.8, 155900),\n",
       " (149843.09, 180500),\n",
       " (175710.42, 194000),\n",
       " (113304.455, 113000),\n",
       " (165584.835, 178000),\n",
       " (190130.615, 172500),\n",
       " (174677.17, 145000),\n",
       " (229877.11, 263000),\n",
       " (330423.83, 310000),\n",
       " (204123.82, 226000),\n",
       " (155659.06, 164500),\n",
       " (203579.94, 222000),\n",
       " (244083.645, 239000),\n",
       " (166866.44, 165000),\n",
       " (271005.615, 290000),\n",
       " (155442.675, 144152),\n",
       " (102113.54, 105000),\n",
       " (140751.475, 137500),\n",
       " (157653.295, 167000),\n",
       " (183666.38, 207000),\n",
       " (225019.06, 243000),\n",
       " (141297.16, 107500),\n",
       " (140180.275, 139400),\n",
       " (104524.185, 108000),\n",
       " (170079.645, 180000),\n",
       " (228378.635, 226000),\n",
       " (144209.315, 171000),\n",
       " (392402.625, 381000),\n",
       " (292178.39, 250000),\n",
       " (171109.905, 170000),\n",
       " (158541.25, 165000),\n",
       " (133409.17, 133000),\n",
       " (91657.38, 100000),\n",
       " (109185.24, 109900),\n",
       " (141137.485, 144000),\n",
       " (277507.8, 272000),\n",
       " (158623.32, 136500),\n",
       " (224796.495, 233170),\n",
       " (224853.515, 269790),\n",
       " (228867.895, 205000),\n",
       " (173208.375, 180000),\n",
       " (166113.54, 197500),\n",
       " (131948.265, 125000),\n",
       " (182960.27, 176432),\n",
       " (117967.66, 119000),\n",
       " (144863.665, 144900),\n",
       " (201743.385, 190000),\n",
       " (129947.625, 132000),\n",
       " (174103.075, 176500),\n",
       " (186939.955, 185000),\n",
       " (114434.6, 127000),\n",
       " (141817.5, 134000),\n",
       " (130799.5, 132000),\n",
       " (157811.245, 152000),\n",
       " (183615.34, 173000),\n",
       " (189181.28, 201000),\n",
       " (200580.585, 201800),\n",
       " (233227.905, 168000),\n",
       " (187869.21, 184900),\n",
       " (160362.485, 176000),\n",
       " (207617.25, 192500),\n",
       " (215960.855, 203000),\n",
       " (224677.475, 224900),\n",
       " (166124.665, 169000),\n",
       " (106579.01, 103000),\n",
       " (236373.67, 236000),\n",
       " (132403.275, 126000),\n",
       " (144357.805, 155000),\n",
       " (455882.455, 437154),\n",
       " (263062.175, 287000),\n",
       " (129291.76, 158000),\n",
       " (202667.92, 176000),\n",
       " (182764.07, 174000),\n",
       " (171509.185, 189000),\n",
       " (175095.265, 168500),\n",
       " (247544.05, 318000),\n",
       " (124743.0, 129000),\n",
       " (148874.89, 144000),\n",
       " (147893.915, 174900),\n",
       " (183302.575, 256000),\n",
       " (194140.31, 205950),\n",
       " (120990.7, 133700),\n",
       " (228075.64, 214000),\n",
       " (139564.37, 104900),\n",
       " (123330.31, 88000),\n",
       " (320344.265, 354000),\n",
       " (227843.36, 213250),\n",
       " (171193.415, 190000),\n",
       " (97886.915, 84500),\n",
       " (147963.465, 144000),\n",
       " (375307.78, 410000),\n",
       " (155308.265, 167500),\n",
       " (345865.71, 394617),\n",
       " (207380.27, 129000),\n",
       " (166051.425, 140000),\n",
       " (151986.3, 149350),\n",
       " (155764.715, 117500),\n",
       " (344245.235, 301500),\n",
       " (195000.28, 185500),\n",
       " (243076.905, 228000),\n",
       " (167732.67, 184000),\n",
       " (103396.265, 91300),\n",
       " (145572.56, 135000),\n",
       " (255972.925, 260000),\n",
       " (130995.715, 123000),\n",
       " (221676.13, 248000),\n",
       " (234763.265, 250000),\n",
       " (416414.925, 380000),\n",
       " (121578.185, 130500),\n",
       " (119007.55, 115000),\n",
       " (124945.835, 89500),\n",
       " (135010.2, 120000),\n",
       " (122460.205, 120000),\n",
       " (147047.495, 143000),\n",
       " (175430.335, 175000),\n",
       " (164676.965, 160200),\n",
       " (243502.975, 295493),\n",
       " (396589.385, 466500),\n",
       " (119361.235, 104900),\n",
       " (139463.185, 136000),\n",
       " (122603.01, 89471),\n",
       " (137436.75, 156000),\n",
       " (185340.495, 193000),\n",
       " (192671.225, 174000),\n",
       " (111720.45, 116050),\n",
       " (128946.77, 131000),\n",
       " (173344.545, 159000),\n",
       " (185270.91, 176500),\n",
       " (103547.59, 115000),\n",
       " (153311.125, 145000),\n",
       " (185025.735, 193000),\n",
       " (129052.025, 118858),\n",
       " (375710.755, 287000),\n",
       " (80816.85, 84500),\n",
       " (149170.5, 140000),\n",
       " (94408.405, 87500),\n",
       " (188657.23, 176000),\n",
       " (231659.045, 230000),\n",
       " (197078.845, 215200),\n",
       " (148041.99, 157000),\n",
       " (391294.585, 315000),\n",
       " (137314.61, 60000),\n",
       " (171932.22, 185000),\n",
       " (157172.75, 163000),\n",
       " (95834.09, 81000),\n",
       " (178623.87, 181000),\n",
       " (356896.23, 369900),\n",
       " (246693.455, 268000),\n",
       " (180782.45, 185000),\n",
       " (153947.405, 172500),\n",
       " (393913.065, 415298),\n",
       " (77547.105, 79000),\n",
       " (192836.275, 189000),\n",
       " (138190.65, 145000),\n",
       " (85476.5, 100000),\n",
       " (187833.995, 179000),\n",
       " (144699.025, 132000),\n",
       " (136094.155, 122500),\n",
       " (261272.78, 289000),\n",
       " (159134.665, 165000),\n",
       " (79224.105, 82500),\n",
       " (108347.24, 139000),\n",
       " (134694.45, 134900),\n",
       " (138319.42, 139000),\n",
       " (208744.16, 240000),\n",
       " (121586.415, 119000),\n",
       " (102866.855, 84900),\n",
       " (180732.32, 186700),\n",
       " (106865.15, 119000),\n",
       " (194410.245, 195400),\n",
       " (136692.455, 149900),\n",
       " (242511.74, 244400),\n",
       " (210118.715, 280000),\n",
       " (142126.925, 143000),\n",
       " (89639.905, 82000),\n",
       " (89021.345, 80000),\n",
       " (100133.1, 103200),\n",
       " (134921.58, 155000),\n",
       " (143029.965, 151000),\n",
       " (106195.315, 97000),\n",
       " (192383.39, 187000),\n",
       " (222041.595, 225000),\n",
       " (165314.55, 175500),\n",
       " (229770.095, 220000),\n",
       " (184265.695, 178000),\n",
       " (157609.645, 148500),\n",
       " (192757.885, 190000),\n",
       " (112590.09, 123000),\n",
       " (173511.055, 187000),\n",
       " (193315.54, 234000),\n",
       " (118051.11, 100000),\n",
       " (151712.25, 148000),\n",
       " (144377.875, 148000),\n",
       " (188406.11, 207500),\n",
       " (142768.54, 138800),\n",
       " (144024.255, 153337),\n",
       " (360209.305, 426000),\n",
       " (145709.5, 141000),\n",
       " (192497.99, 187750),\n",
       " (141342.0, 144000),\n",
       " (248157.97, 238000),\n",
       " (263544.08, 233230),\n",
       " (125540.58, 123500),\n",
       " (171804.33, 172500),\n",
       " (179485.64, 180000),\n",
       " (147508.22, 165500),\n",
       " (130457.205, 100000),\n",
       " (105738.89, 118000),\n",
       " (148102.725, 148000),\n",
       " (165337.305, 130000),\n",
       " (255835.45, 281000),\n",
       " (138605.125, 135000),\n",
       " (187982.335, 197000),\n",
       " (264291.615, 301000),\n",
       " (233377.985, 259000),\n",
       " (204222.74, 219500),\n",
       " (137069.7, 135500),\n",
       " (144143.22, 127000),\n",
       " (330966.67, 320000),\n",
       " (228168.65, 254900),\n",
       " (318489.75, 319000),\n",
       " (159548.815, 165500),\n",
       " (139864.735, 139600),\n",
       " (156279.14, 144000),\n",
       " (178891.18, 169990),\n",
       " (153178.61, 146000),\n",
       " (176418.615, 173900),\n",
       " (139847.5, 143750),\n",
       " (196675.35, 174000),\n",
       " (205677.64, 311500),\n",
       " (144428.77, 165000),\n",
       " (161461.65, 167000),\n",
       " (197534.87, 241000),\n",
       " (121599.195, 120000),\n",
       " (123611.75, 108000),\n",
       " (147655.0, 90000),\n",
       " (125730.76, 129000),\n",
       " (209131.9, 205000),\n",
       " (223085.855, 219500),\n",
       " (195024.56, 183500),\n",
       " (126714.92, 130000),\n",
       " (170237.47, 163900),\n",
       " (126962.66, 122500),\n",
       " (138954.32, 161500),\n",
       " (137163.91, 147000),\n",
       " (159601.49, 158000),\n",
       " (141095.165, 128500),\n",
       " (82662.005, 55000),\n",
       " (140891.86, 106000),\n",
       " (82346.305, 75500),\n",
       " (178342.815, 175900),\n",
       " (301973.125, 317000),\n",
       " (188805.57, 175000),\n",
       " (112171.525, 125500),\n",
       " (176020.505, 200500),\n",
       " (194528.83, 192000),\n",
       " (181881.87, 196000),\n",
       " (93043.495, 93500),\n",
       " (105953.7, 107500),\n",
       " (135990.3, 138000),\n",
       " (168576.5, 168000),\n",
       " (107479.715, 64500),\n",
       " (122680.07, 118500),\n",
       " (216609.93, 226000),\n",
       " (109921.595, 109500),\n",
       " (196222.98, 192000)]"
      ]
     },
     "execution_count": 9,
     "metadata": {},
     "output_type": "execute_result"
    }
   ],
   "source": [
    "list(zip(rfc.predict(X_test), y_test))"
   ]
  },
  {
   "cell_type": "markdown",
   "metadata": {
    "toc-hr-collapsed": true
   },
   "source": [
    "### Summary\n",
    "\n",
    "Here are the high-level steps we performed:\n",
    "\n",
    "- Load some data.\n",
    "- Split the data by columns into the \"target variable\" we want to predict and the \"feature variables\" we want to use to predict it.\n",
    "- Split the data by rows into a \"training set\" that we will use to teach the model and a \"test set\" that we will use to evaluate its performance.\n",
    "- Fit a model on the training set. (This is where the model learns a relationship between the features and the target.)\n",
    "- Evaluate the model on the test set by measuring the accuracy of its predictions."
   ]
  },
  {
   "cell_type": "markdown",
   "metadata": {},
   "source": [
    "These are the bare minimum for the kind of data modeling that is the focus of this course."
   ]
  },
  {
   "cell_type": "markdown",
   "metadata": {
    "toc-hr-collapsed": false
   },
   "source": [
    "## Types of Data Work"
   ]
  },
  {
   "cell_type": "markdown",
   "metadata": {},
   "source": [
    "This course focuses on **supervised learning** with **tabular**, **cross-sectional** data."
   ]
  },
  {
   "cell_type": "markdown",
   "metadata": {},
   "source": [
    "### Supervised Learning (a.k.a. “predictive modeling”):\n",
    "\n",
    "Given a bunch of examples with input features and an output label, predict the output label for new examples.\n",
    "\n",
    "**Examples:**\n",
    "\n",
    "- Predict the price of a house based on its neighborhood, number of bedrooms, etc.\n",
    "- Predict whether an email is spam or \"ham\" based on its contents.\n",
    "\n",
    "Predicting a *continuous value* such as house price is called **regression**.\n",
    "\n",
    "Predicting a *discrete category* such as spam or ham is called **classification**.\n",
    "\n",
    "**Major challenges:**\n",
    "\n",
    "- Getting good labeled data.\n",
    "- Keeping focus on business value rather than just building the most accurate model."
   ]
  },
  {
   "cell_type": "markdown",
   "metadata": {},
   "source": [
    "### Unsupervised Learning\n",
    "\n",
    "Given a bunch of examples with features, find some kind of structure.\n",
    "\n",
    "**Examples:**\n",
    "\n",
    "- Put coins into groups that are similar to one another in terms of weight, composition, etc.\n",
    "- Identify five traits that capture a large proportion of the personality variation among people.\n",
    "- Flag unusual-looking credit card transactions.\n",
    "\n",
    "Representing objects as members of *groups* is called **clustering**.\n",
    "\n",
    "Representing objects in terms of a smaller number of features than you started with is called **dimensionality reduction**.\n",
    "\n",
    "Identifying unusual objects is called **anomaly detection**.\n",
    "\n",
    "**Major challenge:** Evaluating performance in the absence of labels."
   ]
  },
  {
   "cell_type": "markdown",
   "metadata": {},
   "source": [
    "**Exercise (6 mins, in groups).**\n",
    "\n",
    "Apply two of the following labels to each task below. For instance, the following task would get the labels \"supervised learning\" and \"regression:\" \"Given data on prior home sales that includes home features (e.g. number of bedrooms) and sales price, predict sales prices for a new set of homes described by the same features.\"\n",
    "\n",
    "**Labels:**\n",
    "\n",
    "- Supervised learning\n",
    "- Unsupervised learning\n",
    "- Regression\n",
    "- Classification\n",
    "- Clustering\n",
    "- Dimensionality reduction\n",
    "- Anomaly detection\n",
    "\n",
    "**Tasks:**"
   ]
  },
  {
   "cell_type": "markdown",
   "metadata": {},
   "source": [
    "- Given a set of music audio files, group files that seem to have similar musical styles (without labeling them as belonging to particular genres)."
   ]
  },
  {
   "cell_type": "markdown",
   "metadata": {},
   "source": [
    "/scrub/\n",
    "\n",
    "Unsupervised learning, clustering"
   ]
  },
  {
   "cell_type": "markdown",
   "metadata": {},
   "source": [
    "- Derive \"musical fingerprints\" that allow an algorithm running on a remote server to identify what song a phone user is hearing with as little data transmission as possible. (For this exercise, focus on the process of creating the musical fingerprints -- using those fingerprints to identify songs is a separate step.)"
   ]
  },
  {
   "cell_type": "markdown",
   "metadata": {},
   "source": [
    "/scrub/\n",
    "\n",
    "Unsupervised learning, dimensionality reduction"
   ]
  },
  {
   "cell_type": "markdown",
   "metadata": {},
   "source": [
    "- Given sensor data from a locomotive and times within the data set in which the engine failed, use new sensor data to predict whether or not the engine will fail in the next two weeks."
   ]
  },
  {
   "cell_type": "markdown",
   "metadata": {},
   "source": [
    "/scrub/\n",
    "\n",
    "Supervised learning, classification"
   ]
  },
  {
   "cell_type": "markdown",
   "metadata": {},
   "source": [
    "- Given sensor data from a locomotive, identify periods of time in which the engine is behaving abnormally."
   ]
  },
  {
   "cell_type": "markdown",
   "metadata": {},
   "source": [
    "/scrub/\n",
    "\n",
    "Unsupervised learning, anomaly detection"
   ]
  },
  {
   "cell_type": "markdown",
   "metadata": {},
   "source": [
    "- Given a set of chest X-rays with physician's diagnoses of pneumonia and other diseases, identify which patients representated in a new set of chest X-rays have pneumonia."
   ]
  },
  {
   "cell_type": "markdown",
   "metadata": {},
   "source": [
    "/scrub/\n",
    "\n",
    "Supervised learning, classification"
   ]
  },
  {
   "cell_type": "markdown",
   "metadata": {},
   "source": [
    "- Given sensor data from a locomotive that includes GPS and fuel consumption information, predict how much fuel a locomotive will consume on a trip between two specified points."
   ]
  },
  {
   "cell_type": "markdown",
   "metadata": {},
   "source": [
    "/scrub/\n",
    "\n",
    "Supervised learning, regression"
   ]
  },
  {
   "cell_type": "markdown",
   "metadata": {},
   "source": [
    "$\\blacksquare$"
   ]
  },
  {
   "cell_type": "markdown",
   "metadata": {},
   "source": [
    "### Other Types of Data Work"
   ]
  },
  {
   "cell_type": "markdown",
   "metadata": {},
   "source": [
    "There are other kinds of data work that are not machine learning:\n",
    "\n",
    "- **Machine learning** makes **many decisions** by producing a model that can be applied again and again (e.g. predicting prices for as many houses as you can give it).\n",
    "- **Statistics** makes **one decision** by testing a hypothesis or estimating a parameter (e.g. does making a button red rather than yellow lead to higher click-through rates?).\n",
    "- **Analytics** makes **no decisions**. Instead, it surfaces information to human decision makers through metrics and visualization."
   ]
  },
  {
   "cell_type": "markdown",
   "metadata": {},
   "source": [
    "\"Data science\" encompasses both machine learning and statistics. Data analytics is generally considered \"not data science.\""
   ]
  },
  {
   "cell_type": "markdown",
   "metadata": {},
   "source": [
    "## Types of Data"
   ]
  },
  {
   "cell_type": "markdown",
   "metadata": {},
   "source": [
    "### Tabular Data (a.k.a. \"Structured Data\")"
   ]
  },
  {
   "cell_type": "markdown",
   "metadata": {},
   "source": [
    "*Tabular data* is data arranged in tables (rows and columns)."
   ]
  },
  {
   "cell_type": "markdown",
   "metadata": {},
   "source": [
    "### Unstructured Data"
   ]
  },
  {
   "cell_type": "markdown",
   "metadata": {},
   "source": [
    "We can also do machine learning with \"unstructured data\" such as images, video, text, and audio. For instance, you could train a model to extract the text from images of street signs."
   ]
  },
  {
   "cell_type": "markdown",
   "metadata": {},
   "source": [
    "<img src=\"../assets/images/street_signs.jpg\" width=400>"
   ]
  },
  {
   "cell_type": "markdown",
   "metadata": {},
   "source": [
    "### Cross-Sectional Data"
   ]
  },
  {
   "cell_type": "markdown",
   "metadata": {},
   "source": [
    "<img src=\"../assets/images/cross_sectional_data.png\" width=400>\n",
    "\n",
    "Data collected at a single point in time for each individual is called **cross-sectional data**."
   ]
  },
  {
   "cell_type": "markdown",
   "metadata": {},
   "source": [
    "### Time Series/Longitudinal Data"
   ]
  },
  {
   "cell_type": "markdown",
   "metadata": {},
   "source": [
    "<img src=\"../assets/images/time_series_data.png\" width=400>\n",
    "\n",
    "Data on the same variables collected at multiple time points from the same individuals is called **longitudinal** for **time-series** data."
   ]
  },
  {
   "cell_type": "markdown",
   "metadata": {},
   "source": [
    "## Summary\n",
    "\n",
    "This course focused on getting a computer to learn from examples how to predict a target variable from various feature variables, using data that is organized into rows and columns (one column per variable, one row per individual), where time is not an important factor and we are not interfering in the system."
   ]
  },
  {
   "cell_type": "markdown",
   "metadata": {
    "slideshow": {
     "slide_type": "slide"
    }
   },
   "source": [
    "**Exercise.**\n",
    "\n",
    "List five specific product features that you think use data science (e.g. Netflix movie recommemdations)."
   ]
  },
  {
   "cell_type": "markdown",
   "metadata": {},
   "source": [
    "/scrub/\n",
    "\n",
    "- Making product suggestions on Amazon.\n",
    "- Offering election and sports coverage on the stats site FiveThirtyEight.\n",
    "- Calculating daily bet predictions on the fantasy sports site DraftKings.\n",
    "- Returning auto-translate and search results on Google."
   ]
  },
  {
   "cell_type": "markdown",
   "metadata": {},
   "source": [
    "$\\blacksquare$"
   ]
  },
  {
   "cell_type": "markdown",
   "metadata": {
    "toc-hr-collapsed": true
   },
   "source": [
    "# The Data Science Workflow\n",
    "\n",
    "![](../assets/images/Data-Framework-White-BG.png)"
   ]
  },
  {
   "cell_type": "markdown",
   "metadata": {},
   "source": [
    "**Notes**\n",
    "\n",
    "- The idea of a \"hypothesis-driven approach\" is more appropriate for statistics than machine learning. For us, the \"frame\" step has more to do with identifying a practically significant use case for supervised learning.\n",
    "- For us, the primary output of the \"Analyze\" phase is a model that can be used to automate decisions. The \"Interpret\" and \"Communicate\" phases are primarily about quantifying the value of the model and getting people to use it. However, the process of creating the model can also generate more one-off \"insights\" that you will want to interpret and communicate like an analyst or statistician.\n",
    "- This process is typically iterative.\n",
    "- Talking with subject-matter experts early and often greatly increases your chances of producing a useful result."
   ]
  },
  {
   "cell_type": "markdown",
   "metadata": {
    "toc-hr-collapsed": true
   },
   "source": [
    "## Application: Data Science Workflow Through Ames Data"
   ]
  },
  {
   "cell_type": "markdown",
   "metadata": {
    "toc-hr-collapsed": true
   },
   "source": [
    "### 1. Frame\n",
    "\n",
    "Identify:\n",
    "\n",
    "- High-level business objectives\n",
    "- Deliverables\n",
    "- Success criteria\n",
    "- Relevant data sets"
   ]
  },
  {
   "cell_type": "markdown",
   "metadata": {},
   "source": [
    "#### High-Level Business Objectives\n",
    "\n",
    "Suppose a real estate wants to predict prices for houses so that they can more reliably buy them at a discount, make cost-effective improvements, and sell them for a large profit."
   ]
  },
  {
   "cell_type": "markdown",
   "metadata": {},
   "source": [
    "#### Deliverables\n",
    "\n",
    "E.g.\n",
    "\n",
    "* Presentation to the real estate team\n",
    "* Business report discussing results, procedures used, and rationales\n",
    "* API that provides estimated returns"
   ]
  },
  {
   "cell_type": "markdown",
   "metadata": {},
   "source": [
    "#### Success Criteria\n",
    "\n",
    "This project will be considered a success if the estimated returns provided by the API are at least as accurate as the estimates that the company currently produces manually (while saving time).\n",
    "\n",
    "**Note:** It can be difficult to predict what level of performance a data science model will be able to achieve before you dig into the data and start building models. **Keep your criteria for success minimal** and **figure out as quickly as possible whether you are going to fail**."
   ]
  },
  {
   "cell_type": "markdown",
   "metadata": {},
   "source": [
    "#### Relevant Data Sets\n",
    "\n",
    "**Key questions:**\n",
    "\n",
    "- What data would be ideal?\n",
    "- What data is available?\n",
    "- What can we do to close that gap?\n",
    "- Is it plausible that we can succeed with the data we can get?"
   ]
  },
  {
   "cell_type": "markdown",
   "metadata": {
    "slideshow": {
     "slide_type": "notes"
    }
   },
   "source": [
    "**Subsidiary questions:**\n",
    "\n",
    "- Where is the data set coming from? How was it collected? Can it be trusted?\n",
    "- What variables does it contain?\n",
    "- If the data is spread across multiple pieces, how do those pieces fit together?\n",
    "- Do our data appropriately align with the question/problem statement?\n",
    "- Is this data set aggregated? Can we use the aggregation, or do we need to obtain it pre-aggregation?\n",
    "- Is there enough data?\n",
    "- Does the data cover all of the types of situations (times, places, etc.) to which we want to apply our model?\n",
    "- Is the data representative\n",
    "- How can we access it (e.g. file, database, web API, web scraping)?\n",
    "- What are the most appropriate tools for working with the data, given its size and format?"
   ]
  },
  {
   "cell_type": "markdown",
   "metadata": {},
   "source": [
    "**Exercise (in groups).**\n",
    "\n",
    "Answer the following questions about the [Ames housing data set](../assets/data/ames_data_documentation.txt)."
   ]
  },
  {
   "cell_type": "markdown",
   "metadata": {},
   "source": [
    "- What would an ideal data set look like for the project of predicting housing prices?"
   ]
  },
  {
   "cell_type": "markdown",
   "metadata": {},
   "source": [
    "/scrub/\n",
    "\n",
    "- It would include detailed information about houses, their locations, and their sales prices.\n",
    "- It would cover many different markets and long periods of time, including very recent data."
   ]
  },
  {
   "cell_type": "markdown",
   "metadata": {},
   "source": [
    "- How closely does the Ames housing data set match the ideal data that you envisioned?"
   ]
  },
  {
   "cell_type": "markdown",
   "metadata": {},
   "source": [
    "/scrub/\n",
    "\n",
    "It does provide extensive data about house characteristics. However, it is exclusive to one city and a small number of years (during which there was a housing market crash)."
   ]
  },
  {
   "cell_type": "markdown",
   "metadata": {},
   "source": [
    "- Would it be sufficient for our purposes?"
   ]
  },
  {
   "cell_type": "markdown",
   "metadata": {},
   "source": [
    "/scrub/\n",
    "\n",
    "It seems plausible that we could at least build a decent prototype model using this data. I would certainly expect to need additional data for the model to perform well in very different markets, such as coastal cities."
   ]
  },
  {
   "cell_type": "markdown",
   "metadata": {},
   "source": [
    "- What limitations does it have?"
   ]
  },
  {
   "cell_type": "markdown",
   "metadata": {},
   "source": [
    "/scrub/\n",
    "\n",
    "It only covers Ames from 2006 to 2010. A model built on this data might not work at all for very different markets (e.g. San Francisco today). "
   ]
  },
  {
   "cell_type": "markdown",
   "metadata": {},
   "source": [
    "$\\blacksquare$"
   ]
  },
  {
   "cell_type": "markdown",
   "metadata": {},
   "source": [
    "### 2. Prepare\n",
    "\n",
    "Data scientists often work with data that they did not collect (\"secondary data\"), so they have to use *data dictionaries* and other documentation to learn how the set was gathered.\n",
    "\n",
    "Here's an example of a data dictionary:\n",
    "\n",
    "Variable | Description | Type of Variable\n",
    "---| ---| ---\n",
    "Square Footage | Floating Point | Continuous\n",
    "Street Type | 1 - Gravel, 2 - Paved | Categorical\n",
    "Neighborhood | String, e.g., 'Lake View' | Categorical\n",
    "Number of Bedrooms | Integer | Discrete\n",
    "\n",
    "**Common data preparation steps**:\n",
    "\n",
    "- Addressing missing values\n",
    "- Addressing outliers\n",
    "- Restructuring\n",
    "- Reformatting\n",
    "- Aggregating\n",
    "- Transforming\n",
    "\n",
    "![](../assets/images/clean_data_borat.png)"
   ]
  },
  {
   "cell_type": "markdown",
   "metadata": {
    "slideshow": {
     "slide_type": "slide"
    }
   },
   "source": [
    "### 3. Analyze\n",
    "\n",
    "#### Descriptive Modeling\n",
    "\n",
    "Data scientists use statistics such as frequencies, means, and standard deviations to give compact descriptions of their data sets.\n",
    "\n",
    "Variable | Mean or Frequency (%)\n",
    "---| ---\n",
    "Square Footage | 2201.3\n",
    "Street Type - Gravel | 8%\n",
    "Street Type - Paved | 92%\n",
    "Number of Bedrooms | 1.8\n",
    "\n",
    "#### Predictive Modeling\n",
    "\n",
    "Data scientists build models to predict either discrete outcomes (e.g. this house will / will not sell in the next month) or continuous values (e.g. this house will sell for $358,000)."
   ]
  },
  {
   "cell_type": "markdown",
   "metadata": {
    "slideshow": {
     "slide_type": "slide"
    }
   },
   "source": [
    "### 4. Interpret\n",
    "\n",
    "- Check your model for correctness.\n",
    "- Determine what your model is really telling you, keeping in mind the limitations of your data and modeling techniques.\n",
    "- Determine what one-off recommendations your model supports and/or what kinds of ongoing decisions it can support.\n",
    "- Get input from subject-matter experts!"
   ]
  },
  {
   "cell_type": "markdown",
   "metadata": {
    "slideshow": {
     "slide_type": "slide"
    }
   },
   "source": [
    "### 5. Communicate\n",
    "\n",
    "Without effective communication, your work will not be used.\n",
    "\n",
    "- Identify your goals.\n",
    "- Put the bottom line front and center: _\"Kitchen renovations have a positive return on investment, while other renovations do not.\"_\n",
    "- Speak the language of your audience (often $$$).\n",
    "- Practice, ideally with a real audience that can give useful feedback."
   ]
  },
  {
   "cell_type": "markdown",
   "metadata": {
    "slideshow": {
     "slide_type": "slide"
    }
   },
   "source": [
    "**Iterate, iterate, iterate.**"
   ]
  },
  {
   "cell_type": "markdown",
   "metadata": {},
   "source": [
    "<a id=\"summary1\"></a>\n",
    "## Summary\n",
    "\n",
    "Use the data science workflow to develop solutions.\n",
    "  - **Frame** a problem by identifying an opportunity to save money and/or generate new revenue through supervised learning.\n",
    "  - **Prepare** your data.\n",
    "  - **Analyze** your data.\n",
    "  - **Interpret** the results of your analysis in terms of your business.\n",
    "  - **Communicate** your results to different audiences."
   ]
  },
  {
   "cell_type": "markdown",
   "metadata": {
    "toc-hr-collapsed": true
   },
   "source": [
    "# Why Not Use GUI Tools (Excel, Power BI, Tableau, etc.)?"
   ]
  },
  {
   "cell_type": "markdown",
   "metadata": {},
   "source": [
    "Excel tends to show the data and hides the code, while programming languages tend to show the code and hide the data. Excel is fantastic for non-mission-critical work with data with fairly simple logic.\n",
    "\n",
    "Tableau and similar tools are fantastic for analytics work.\n",
    "\n",
    "Programming languages such as Python have a number of advantages over GUI tools for machine learning and other data work:\n",
    "\n",
    "- **Flexibility:** Standard programming languages are [Turing Complete](https://en.wikipedia.org/wiki/Turing_completeness), so they can (in principle) solve any problem that can be solved with a computer.\n",
    "- **Performance:** Numerical computing libraries such as NumPy for Python are highly optimized for speed and memory efficiency. If that's not enough, you can drop down to a lower-level language for further optimizations and/or run many jobs in parallel across multiple computers. By contrast, Excel doesn't even let you look at more than medium-sized data.\n",
    "- **Extensibility:** Anyone in the world can create and publish a package that extends the language. As a result, the package ecosystem for doing data science in Python is incredible, and it is constantly improving.\n",
    "- **Transparency and Reproducibility:** When you use code to analyze data, that code serves as a record of exactly what you did. Having such a record makes it easier to catch errors and to apply the same steps to new data. By contrast, [Excel is notoriously good at hiding errors](https://www.theverge.com/2013/4/17/4234136/excel-calculation-error-infamous-economic-study).\n",
    "- **Deployability:** Code can be set up to run automatically, e.g. to create scheduled reports or to recommend products on a website in real time.\n",
    "- **Version Control:** Code can be put into a version control system so that you can inspect how it has changed over time and roll it back when something goes wrong.\n",
    "- **Cost:** Python is free."
   ]
  }
 ],
 "metadata": {
  "kernelspec": {
   "display_name": "Python 3",
   "language": "python",
   "name": "python3"
  },
  "language_info": {
   "codemirror_mode": {
    "name": "ipython",
    "version": 3
   },
   "file_extension": ".py",
   "mimetype": "text/x-python",
   "name": "python",
   "nbconvert_exporter": "python",
   "pygments_lexer": "ipython3",
   "version": "3.7.2"
  }
 },
 "nbformat": 4,
 "nbformat_minor": 2
}
