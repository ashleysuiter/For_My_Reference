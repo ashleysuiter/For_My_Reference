{
 "cells": [
  {
   "cell_type": "markdown",
   "metadata": {
    "slideshow": {
     "slide_type": "slide"
    },
    "toc-hr-collapsed": false
   },
   "source": [
    "<img src=\"http://imgur.com/1ZcRyrc.png\" style=\"float: left; margin: 20px; height: 55px\">\n",
    " \n",
    "# Control Flow\n",
    " \n",
    "_Authors: Kiefer Katovich (San Francisco), Dave Yerrington (San Francisco), Joseph Nelson (Washington, D.C.), Sam Stack (Washington, D.C.)_\n",
    " \n",
    "---"
   ]
  },
  {
   "cell_type": "markdown",
   "metadata": {
    "toc-hr-collapsed": false
   },
   "source": [
    "## Demo"
   ]
  },
  {
   "cell_type": "markdown",
   "metadata": {},
   "source": [
    "We often want to sort a dataset according to the values of a particular variable. Python has built-in sorting functionality, but for the moment let's code up a simple sorting algorithm as a way to learn about some important constructs in Python."
   ]
  },
  {
   "cell_type": "markdown",
   "metadata": {},
   "source": [
    "Here is a list of Major League Baseball team payrolls for the 2019 season. Let's sort them so that we can find the ratio of the largest to the smallest."
   ]
  },
  {
   "cell_type": "code",
   "execution_count": 7,
   "metadata": {},
   "outputs": [],
   "source": [
    "payrolls = [\n",
    "    164592777,\n",
    "    209450714,\n",
    "    51702866,\n",
    "    109556043,\n",
    "    140943810,\n",
    "    191006668,\n",
    "    116373333,\n",
    "    106675000,\n",
    "    127153086,\n",
    "    117049999,\n",
    "    63837142,\n",
    "    137087462,\n",
    "    83168333,\n",
    "    209265921,\n",
    "    106098571,\n",
    "    222906602,\n",
    "    116773214,\n",
    "    119949166,\n",
    "    80166668,\n",
    "    159337876,\n",
    "    62271782,\n",
    "    112333751,\n",
    "    167350999,\n",
    "    120887500,\n",
    "    58925002,\n",
    "    89407500,\n",
    "    153022500,\n",
    "    140305833,\n",
    "    91396667,\n",
    "    156747227,\n",
    "    156001666,\n",
    "]"
   ]
  },
  {
   "cell_type": "markdown",
   "metadata": {},
   "source": [
    "Here's a simple sorting algorithm we can use: go through each position in the list and check whether the item in that position is out of order with the item in the next position. If it is, swap those two items. Repeat until the list is sorted."
   ]
  },
  {
   "cell_type": "markdown",
   "metadata": {},
   "source": [
    "As it turns out, the first pass through the list will put the largest item in the last position; the second pass will put the second-largest item in the second-to-last position; and so on, so that going through the list once for each item in the list will suffice."
   ]
  },
  {
   "cell_type": "markdown",
   "metadata": {},
   "source": [
    "Let's how we implement that procedure in Python code."
   ]
  },
  {
   "cell_type": "code",
   "execution_count": null,
   "metadata": {},
   "outputs": [],
   "source": [
    "for num in payrolls:\n",
    "    for i in range(len(payrolls)-1):\n",
    "        \n",
    "    "
   ]
  },
  {
   "cell_type": "markdown",
   "metadata": {},
   "source": [
    "Now we can calculate that ratio:"
   ]
  },
  {
   "cell_type": "code",
   "execution_count": null,
   "metadata": {},
   "outputs": [],
   "source": [
    "highest_payroll = payrolls[-1]\n",
    "lowest_payroll = payrolls[0]\n",
    "\n",
    "highest_payroll / lowest_payroll"
   ]
  },
  {
   "cell_type": "markdown",
   "metadata": {},
   "source": [
    "The highest MLB team payroll is more than four times the lowest."
   ]
  },
  {
   "cell_type": "markdown",
   "metadata": {},
   "source": [
    "The code we just wrote uses two of the kinds of constructions we will learn about in this lesson:\n",
    "\n",
    "- Two `for` loops to cycle through the items in a collection.\n",
    "- An `if` statement to perform some action if a condition is met but not otherwise."
   ]
  },
  {
   "cell_type": "markdown",
   "metadata": {},
   "source": [
    "These types of constructions are examples of \"control flow\" mechanisms, which allow us to **control** how the code **flows** through the Python interpreter, rather than simply running each line once from top to bottom no matter what."
   ]
  },
  {
   "cell_type": "markdown",
   "metadata": {},
   "source": [
    "> **Side note:** Introductory computer science courses often cover many sorting algorithms. The algorithm we just coded up is called \"bubble sort.\" It is not very efficient!"
   ]
  },
  {
   "cell_type": "markdown",
   "metadata": {
    "toc-hr-collapsed": true
   },
   "source": [
    "## Conditionals"
   ]
  },
  {
   "cell_type": "markdown",
   "metadata": {
    "slideshow": {
     "slide_type": "slide"
    }
   },
   "source": [
    "### `if` Statement\n",
    "The simplest example of a control structure is the `if` statement."
   ]
  },
  {
   "cell_type": "code",
   "execution_count": null,
   "metadata": {},
   "outputs": [],
   "source": [
    "# Example\n"
   ]
  },
  {
   "cell_type": "markdown",
   "metadata": {
    "slideshow": {
     "slide_type": "slide"
    }
   },
   "source": [
    "`if` syntax:\n",
    "\n",
    "```\n",
    "if <expression>:\n",
    "    <one or more indented lines>\n",
    "```\n",
    "\n",
    "`expression` is cast to Boolean (if necessary) so that it evaluates to either `True` or `False`. If it evaluates to `True`, the code block is run; otherwise, it is skipped."
   ]
  },
  {
   "cell_type": "markdown",
   "metadata": {},
   "source": [
    "### `if` ... `else` Blocks\n",
    "\n",
    "In many cases, you may want to run some code if the expression evaluates to `True` and some other code if it evaluates to `False`. This is done using `else`. Note how it is at the same indentation level as the `if` statement, followed by a colon, followed by a code block."
   ]
  },
  {
   "cell_type": "code",
   "execution_count": null,
   "metadata": {},
   "outputs": [],
   "source": [
    "# Example\n"
   ]
  },
  {
   "cell_type": "markdown",
   "metadata": {},
   "source": [
    "**Exercise (2 mins).**\n",
    "\n",
    "- Create your own string called `test_string`, then modify the code here to create an `if... else` statement for whether or not the first character in `test_string` is a lowercase `a`."
   ]
  },
  {
   "cell_type": "code",
   "execution_count": null,
   "metadata": {},
   "outputs": [],
   "source": [
    "test_string = '' # Fill in with your choice of string.\n",
    "\n",
    "if True: # Change this section to check if the first character in test_string is a lowercase a.\n",
    "    print('Begins with a')\n",
    "else:\n",
    "    print('Does not begin with a')"
   ]
  },
  {
   "cell_type": "code",
   "execution_count": 17,
   "metadata": {},
   "outputs": [
    {
     "name": "stdout",
     "output_type": "stream",
     "text": [
      "Does not begin with a\n"
     ]
    }
   ],
   "source": [
    "test_string = 'Ashley'\n",
    "\n",
    "if test_string[0] == test_string[0].lower():\n",
    "    print(\"Begins with an Uppercase\")\n",
    "elif test_string[0] == test_string[0].upper():\n",
    "    print('Does not begin with a lowercase')"
   ]
  },
  {
   "cell_type": "markdown",
   "metadata": {},
   "source": [
    "**BONUS:** Handle both capital and lowercase 'a'."
   ]
  },
  {
   "cell_type": "code",
   "execution_count": null,
   "metadata": {},
   "outputs": [],
   "source": []
  },
  {
   "cell_type": "code",
   "execution_count": null,
   "metadata": {},
   "outputs": [],
   "source": []
  },
  {
   "cell_type": "markdown",
   "metadata": {},
   "source": [
    "$\\blacksquare$"
   ]
  },
  {
   "cell_type": "markdown",
   "metadata": {},
   "source": [
    "### `if` ... `elif` ... `else` Blocks\n",
    "\n",
    "Sometimes, you might want to run one specific code block out of several. For example, perhaps we provide the user with three choices and want something different to happen with each one.\n",
    "\n",
    "`elif` stands for `else if`. It belongs on a line between the initial `if` statement and an (optional) `else`. "
   ]
  },
  {
   "cell_type": "code",
   "execution_count": null,
   "metadata": {},
   "outputs": [],
   "source": []
  },
  {
   "cell_type": "markdown",
   "metadata": {
    "slideshow": {
     "slide_type": "slide"
    }
   },
   "source": [
    "This code works by evaluating each condition in order. If a condition evaluates to `True`, the rest are skipped."
   ]
  },
  {
   "cell_type": "markdown",
   "metadata": {},
   "source": [
    "![](../assets/images/if-flow.png)"
   ]
  },
  {
   "cell_type": "markdown",
   "metadata": {},
   "source": [
    "**Exercise (6 mins., pair programming).**"
   ]
  },
  {
   "cell_type": "markdown",
   "metadata": {},
   "source": [
    "- Why does the code above say `elif health > 40:` rather than `elif health > 40 and health <= 70:`?"
   ]
  },
  {
   "cell_type": "markdown",
   "metadata": {},
   "source": [
    "We are looking to evaluate this condition separately.  We have already evaluated the first line and determined it was false. "
   ]
  },
  {
   "cell_type": "markdown",
   "metadata": {},
   "source": [
    "- What would happen if we had `health = 80` and the line `elif health > 40` where changed to `if health > 40`? How is `elif` different from `if`?"
   ]
  },
  {
   "cell_type": "markdown",
   "metadata": {},
   "source": [
    "if is evaluated individually whereas elif is evaluated in the context of previous if statements. "
   ]
  },
  {
   "cell_type": "markdown",
   "metadata": {
    "slideshow": {
     "slide_type": "slide"
    }
   },
   "source": [
    "- Print out the following recommendations based on the weather conditions. Test your code for different values of the values `temperature` and `weather`:\n",
    "    - The temperature is higher than 60 degrees and it is raining: Bring an umbrella.\n",
    "    - The temperature is lower than or equal to 60 degrees and it is raining: Bring an umbrella and a jacket.\n",
    "    - The temperature is higher than 60 degrees and the sun is shining: Wear a T-shirt.\n",
    "    - The temperature is lower than or equal to 60 degrees and the sun is shining: Bring a jacket."
   ]
  },
  {
   "cell_type": "code",
   "execution_count": 25,
   "metadata": {
    "slideshow": {
     "slide_type": "slide"
    }
   },
   "outputs": [
    {
     "name": "stdout",
     "output_type": "stream",
     "text": [
      "Bring an umbrella\n"
     ]
    }
   ],
   "source": [
    "temp = 70\n",
    "weather = 'rain'\n",
    "\n",
    "if temp > 60 and weather == 'rain': \n",
    "    print('Bring an umbrella')\n",
    "elif temp <= 60 and weather == 'rain':\n",
    "    print('Bring an umbrella and a jacket')\n",
    "elif temp > 60 and weather != 'rain':\n",
    "    print('Wear a T-shirt')\n",
    "elif temp <= 60 and weather != 'rain':\n",
    "    print('Bring a jacket')"
   ]
  },
  {
   "cell_type": "code",
   "execution_count": null,
   "metadata": {
    "slideshow": {
     "slide_type": "slide"
    }
   },
   "outputs": [],
   "source": []
  },
  {
   "cell_type": "markdown",
   "metadata": {},
   "source": [
    "- **BONUS:** If you used `and` in the coding exercise, try using nested `if` statements instead, or vice-versa."
   ]
  },
  {
   "cell_type": "code",
   "execution_count": null,
   "metadata": {},
   "outputs": [],
   "source": []
  },
  {
   "cell_type": "markdown",
   "metadata": {},
   "source": [
    "$\\blacksquare$"
   ]
  },
  {
   "cell_type": "markdown",
   "metadata": {
    "slideshow": {
     "slide_type": "slide"
    }
   },
   "source": [
    "## `for` Loops\n",
    "\n",
    "The `for` loop allows you to perform a task repeatedly on every element within an object, such as every name in a list."
   ]
  },
  {
   "cell_type": "code",
   "execution_count": null,
   "metadata": {},
   "outputs": [],
   "source": [
    "# Example\n"
   ]
  },
  {
   "cell_type": "markdown",
   "metadata": {
    "slideshow": {
     "slide_type": "slide"
    }
   },
   "source": [
    "We can also combine `if... else` statements and `for` loops:"
   ]
  },
  {
   "cell_type": "code",
   "execution_count": null,
   "metadata": {},
   "outputs": [],
   "source": []
  },
  {
   "cell_type": "markdown",
   "metadata": {},
   "source": [
    "**Exercise (15 mins., pair programming)**"
   ]
  },
  {
   "cell_type": "markdown",
   "metadata": {
    "slideshow": {
     "slide_type": "slide"
    }
   },
   "source": [
    "- Write a `for` loop that iterates from number 1 to number 15 and prints the number on each iteration, like so:\n",
    "\n",
    "```\n",
    "Iteration: 1\n",
    "Iteration: 2\n",
    "Iteration: 3\n",
    "Iteration: 4\n",
    "Iteration: 5\n",
    "Iteration: 6\n",
    "Iteration: 7\n",
    "Iteration: 8\n",
    "Iteration: 9\n",
    "Iteration: 10\n",
    "Iteration: 11\n",
    "Iteration: 12\n",
    "Iteration: 13\n",
    "Iteration: 14\n",
    "Iteration: 15\n",
    "```"
   ]
  },
  {
   "cell_type": "code",
   "execution_count": null,
   "metadata": {},
   "outputs": [],
   "source": [
    "# Starter code:\n",
    "for i in range(1, 16):\n",
    "    print(\"Iteration: \" + i)\n",
    "\n"
   ]
  },
  {
   "cell_type": "markdown",
   "metadata": {
    "slideshow": {
     "slide_type": "slide"
    }
   },
   "source": [
    "- Iterate through the following list of animals, and print each one in all caps."
   ]
  },
  {
   "cell_type": "markdown",
   "metadata": {},
   "source": [
    "*Hint:* Use the `.upper` string method."
   ]
  },
  {
   "cell_type": "code",
   "execution_count": 27,
   "metadata": {
    "slideshow": {
     "slide_type": "slide"
    }
   },
   "outputs": [],
   "source": [
    "animals = ['duck', 'rat', 'boar', 'slug', 'mammoth', 'gazelle']"
   ]
  },
  {
   "cell_type": "code",
   "execution_count": 33,
   "metadata": {},
   "outputs": [
    {
     "name": "stdout",
     "output_type": "stream",
     "text": [
      "DUCK\n",
      "Duck\n",
      "RAT\n",
      "Rat\n",
      "BOAR\n",
      "Boar\n",
      "SLUG\n",
      "Slug\n",
      "MAMMOTH\n",
      "Mammoth\n",
      "GAZELLE\n",
      "Gazelle\n"
     ]
    }
   ],
   "source": [
    "for i in animals:\n",
    "    print(i.upper())\n",
    "    print(i.capitalize())"
   ]
  },
  {
   "cell_type": "markdown",
   "metadata": {
    "slideshow": {
     "slide_type": "slide"
    }
   },
   "source": [
    "- Create a new list consisting of the items in `animals`, but with the first letter of each animal's name capitalized.\n",
    "\n",
    "*Hints*:\n",
    "\n",
    "- Initialize an empty list, then append to it.\n",
    "- Use the `.capitalize()` string method."
   ]
  },
  {
   "cell_type": "code",
   "execution_count": null,
   "metadata": {},
   "outputs": [],
   "source": [
    "# starter code\n",
    "\n",
    "cap_animals = []\n",
    "for animal in animals:\n",
    "    pass  # START HERE"
   ]
  },
  {
   "cell_type": "markdown",
   "metadata": {
    "slideshow": {
     "slide_type": "slide"
    }
   },
   "source": [
    "- Iterate through the animals. Print out the animal name and the number of vowels in the name. *Hints*:\n",
    "\n",
    "    - You may need to create a string variable that contains all of the vowels for comparison. Use the `in` operator to check whether a letter is in the list. (E.g. `1 in [1, 2, 3]` evaluates to `True`.)\n",
    "    - Make sure you can handle any combination of capital and lowercase letters! The `.lower()` method might be useful."
   ]
  },
  {
   "cell_type": "code",
   "execution_count": null,
   "metadata": {
    "slideshow": {
     "slide_type": "slide"
    }
   },
   "outputs": [],
   "source": [
    "vow = ['a','e','i','o','u']"
   ]
  },
  {
   "cell_type": "markdown",
   "metadata": {
    "slideshow": {
     "slide_type": "slide"
    }
   },
   "source": [
    "- Iterate from 1 to 15, printing whether the number is odd or even, like so:\n",
    "\n",
    "1 odd\n",
    "\n",
    "2 even\n",
    "\n",
    "3 odd\n",
    "\n",
    "4 even\n",
    "\n",
    "5 odd\n",
    "\n",
    "6 even\n",
    "\n",
    "7 odd\n",
    "\n",
    "8 even\n",
    "\n",
    "9 odd\n",
    "\n",
    "10 even\n",
    "\n",
    "11 odd\n",
    "\n",
    "12 even\n",
    "\n",
    "13 odd\n",
    "\n",
    "14 even\n",
    "\n",
    "15 odd\n",
    "\n",
    "*Hint*: The modulus operator, `%`, can be used to take the remainder. For example:\n",
    "\n",
    "```python\n",
    "9 % 5 == 4\n",
    "```\n",
    "\n",
    "Or, in other words, the remainder of dividing 9 by 5 is 4."
   ]
  },
  {
   "cell_type": "code",
   "execution_count": 35,
   "metadata": {
    "slideshow": {
     "slide_type": "slide"
    }
   },
   "outputs": [
    {
     "name": "stdout",
     "output_type": "stream",
     "text": [
      "0 even\n",
      "1 odd\n",
      "2 even\n",
      "3 odd\n",
      "4 even\n",
      "5 odd\n",
      "6 even\n",
      "7 odd\n",
      "8 even\n",
      "9 odd\n",
      "10 even\n",
      "11 odd\n",
      "12 even\n",
      "13 odd\n",
      "14 even\n",
      "15 odd\n"
     ]
    }
   ],
   "source": [
    "for i in range(0,16):\n",
    "    if i % 2 == 0:\n",
    "        print(f'{i} even')\n",
    "    else:\n",
    "        print(f'{i} odd')"
   ]
  },
  {
   "cell_type": "markdown",
   "metadata": {},
   "source": [
    "$\\blacksquare$"
   ]
  },
  {
   "cell_type": "markdown",
   "metadata": {},
   "source": [
    "## Functions"
   ]
  },
  {
   "cell_type": "markdown",
   "metadata": {
    "slideshow": {
     "slide_type": "slide"
    }
   },
   "source": [
    "A **function** is a named block of code that can be run on demand. It typically takes a set of **arguments** as input, performs some actions on those inputs, and returns a result.\n",
    "\n",
    "Syntax:\n",
    "\n",
    "```python\n",
    "def function_name(argument1, argument2, etc.):\n",
    "    # Do things here.\n",
    "    return value\n",
    "```\n",
    "\n",
    "Now we can **call** the function and store its return value as a variable:\n",
    "\n",
    "```python\n",
    "x = function_name(20, 30)\n",
    "```"
   ]
  },
  {
   "cell_type": "code",
   "execution_count": null,
   "metadata": {},
   "outputs": [],
   "source": [
    "# Example\n"
   ]
  },
  {
   "cell_type": "markdown",
   "metadata": {},
   "source": [
    "**Exercise (12 mins., pair programming)**"
   ]
  },
  {
   "cell_type": "markdown",
   "metadata": {},
   "source": [
    "- Write a function that takes the length of a side of a square as an argument and returns its area. Call it with a side length of 4, and make sure the result is correct (16) before you move on.\n",
    "\n",
    "*Hint*: The area of a square is the length of one of its sides squared (`area = length**2` in Python syntax)."
   ]
  },
  {
   "cell_type": "code",
   "execution_count": null,
   "metadata": {},
   "outputs": [],
   "source": []
  },
  {
   "cell_type": "code",
   "execution_count": null,
   "metadata": {},
   "outputs": [],
   "source": []
  },
  {
   "cell_type": "markdown",
   "metadata": {},
   "source": [
    "- Write a function that takes the base and height of a triangle and returns its area. Call it with base of 3 and height of 6 and make sure the result is correct (9) before you move on.\n",
    "\n",
    "*Hint*: The area of a triangle is half of the product of its base and its height."
   ]
  },
  {
   "cell_type": "code",
   "execution_count": 37,
   "metadata": {},
   "outputs": [
    {
     "name": "stdout",
     "output_type": "stream",
     "text": [
      "['a', 'a', 'l', 'd', 's', 'j', 'k', 'f', 'a', 'l', 'k', 'd', 's', 'j', 'f']\n"
     ]
    }
   ],
   "source": [
    "test = 'aaldsjkfalkdsjf'\n",
    "print(list(test))"
   ]
  },
  {
   "cell_type": "code",
   "execution_count": null,
   "metadata": {},
   "outputs": [],
   "source": []
  },
  {
   "cell_type": "markdown",
   "metadata": {},
   "source": [
    "- Write a function that takes two integers and returns their sum, difference, and product as a tuple. Call it on a pair of numbers that you choose and confirm that the answer is correct before you move on."
   ]
  },
  {
   "cell_type": "code",
   "execution_count": null,
   "metadata": {},
   "outputs": [],
   "source": []
  },
  {
   "cell_type": "code",
   "execution_count": null,
   "metadata": {},
   "outputs": [],
   "source": []
  },
  {
   "cell_type": "markdown",
   "metadata": {},
   "source": [
    "- Write a function that takes a string as an argument and returns a list of all of the characters in the string. Test it before you move on.\n",
    "\n",
    "*Hint:* Create an empty list, then append to it as you loop over the input string."
   ]
  },
  {
   "cell_type": "code",
   "execution_count": null,
   "metadata": {},
   "outputs": [],
   "source": []
  },
  {
   "cell_type": "markdown",
   "metadata": {},
   "source": [
    "- Write a function called `count_vowels` that takes a word as an argument and returns the number of vowels in the word. (You have already written code to perform this task -- you just need to package it into a function.)"
   ]
  },
  {
   "cell_type": "code",
   "execution_count": null,
   "metadata": {},
   "outputs": [],
   "source": []
  },
  {
   "cell_type": "code",
   "execution_count": null,
   "metadata": {},
   "outputs": [],
   "source": [
    "# This cell will raise an error if your function fails on these cases:\n",
    "\n",
    "assert count_vowels('hello') == 2\n",
    "assert count_vowels('SPECIALIST') == 4\n",
    "assert count_vowels('Insanely') == 3"
   ]
  },
  {
   "cell_type": "markdown",
   "metadata": {},
   "source": [
    "$\\blacksquare$"
   ]
  },
  {
   "cell_type": "markdown",
   "metadata": {
    "slideshow": {
     "slide_type": "slide"
    },
    "toc-hr-collapsed": true
   },
   "source": [
    "## `while` Loops\n",
    "\n",
    "Pseudocode:\n",
    "\n",
    "```python\n",
    "# A threshold or criteria is set.\n",
    "    # As long as the threshold or criteria isn't met,\n",
    "    # perform a task.\n",
    "    # Check threshold/criteria.\n",
    "        # If threshold/criteria is met or exceed,\n",
    "            # break loop.\n",
    "        # If not, repeat.\n",
    "    \n",
    "```"
   ]
  },
  {
   "cell_type": "markdown",
   "metadata": {},
   "source": [
    "`while` loops are a different means of performing repetitive tasks/iteration. The function of a `for` loop is to perform tasks over a _finite collection_. The function of a `while` loop is to perform a repetitive task until a _specific threshold or criteria is met_."
   ]
  },
  {
   "cell_type": "code",
   "execution_count": null,
   "metadata": {},
   "outputs": [],
   "source": [
    "# Example\n"
   ]
  },
  {
   "cell_type": "markdown",
   "metadata": {},
   "source": [
    "### Caution\n",
    "\n",
    "```python\n",
    "x = 0\n",
    "while x < 10:\n",
    "    print(x)\n",
    "```\n",
    "\n",
    "What would happen if you ran this code?"
   ]
  },
  {
   "cell_type": "markdown",
   "metadata": {
    "slideshow": {
     "slide_type": "slide"
    }
   },
   "source": [
    "**Exercise (6 mins., pair programming)**\n",
    "\n",
    "- Iterate over the following sentence repeatedly, counting the number of vowels in the sentence until you have tallied 1 million. (Use the vowel counting function you defined above!) Print out the number of iterations it took to reach that amount."
   ]
  },
  {
   "cell_type": "code",
   "execution_count": null,
   "metadata": {
    "slideshow": {
     "slide_type": "slide"
    }
   },
   "outputs": [],
   "source": [
    "sentence = \"\"\"A MAN KNOCKED ON MY DOOR AND ASKED FOR A SMALL DONATION TOWARDS THE LOCAL\n",
    "              SWIMMING POOL SO I GAVE HIM A GLASS OF WATER\"\"\""
   ]
  },
  {
   "cell_type": "code",
   "execution_count": null,
   "metadata": {
    "slideshow": {
     "slide_type": "slide"
    }
   },
   "outputs": [],
   "source": []
  },
  {
   "cell_type": "markdown",
   "metadata": {},
   "source": [
    "$\\blacksquare$"
   ]
  },
  {
   "cell_type": "markdown",
   "metadata": {
    "slideshow": {
     "slide_type": "slide"
    },
    "toc-hr-collapsed": true
   },
   "source": [
    "## try..except"
   ]
  },
  {
   "cell_type": "markdown",
   "metadata": {},
   "source": [
    "Pseudocode:\n",
    "\n",
    "```python\n",
    "# Try to do something\n",
    "# If you get a specific failure, do something else.\n",
    "```"
   ]
  },
  {
   "cell_type": "code",
   "execution_count": null,
   "metadata": {
    "slideshow": {
     "slide_type": "slide"
    }
   },
   "outputs": [],
   "source": [
    "corrupted = ['!1', '23.1', '23.4.5', '??12', '.12', '12-12', '-11.1', '0-1', '*12.1', '1000']"
   ]
  },
  {
   "cell_type": "code",
   "execution_count": null,
   "metadata": {
    "slideshow": {
     "slide_type": "slide"
    }
   },
   "outputs": [],
   "source": [
    "# Example: Make a list of just the uncorrupted items in `corrupted`\n"
   ]
  },
  {
   "cell_type": "markdown",
   "metadata": {},
   "source": [
    "**Exercise (5 mins.)**\n",
    "\n",
    "- Calculate the average of a list of numbers, skipping `None`s. *Hints*:\n",
    "    - Create variables `total = 0` and `count = 0`, update their values appropriately as you iterate through the list, and then calculate the average as `total / count`.\n",
    "    - You should get 63.8"
   ]
  },
  {
   "cell_type": "code",
   "execution_count": null,
   "metadata": {},
   "outputs": [],
   "source": [
    "nums = [12, 84, None, 17, 63, None, 143]"
   ]
  },
  {
   "cell_type": "code",
   "execution_count": null,
   "metadata": {},
   "outputs": [],
   "source": []
  },
  {
   "cell_type": "markdown",
   "metadata": {},
   "source": [
    "$\\blacksquare$"
   ]
  },
  {
   "cell_type": "markdown",
   "metadata": {},
   "source": [
    "## Tips Developing an Algorithm"
   ]
  },
  {
   "cell_type": "markdown",
   "metadata": {},
   "source": [
    "For the Unit 1 Project, you will use Python to solve coding challenges. Suggested process:\n",
    "\n",
    "1. Come up with a few test cases, including \"edge cases\" (weird inputs such as empty lists).\n",
    "- Work out the algorithm on paper and make sure it seems to work at least on a straightforward test case.\n",
    "- Write down \"pseudocode\" that lays out the steps of the algorithm in English.\n",
    "- Translate your pseudocode into Python.\n",
    "- Run the pseudocode on your test cases, and debug as needed."
   ]
  },
  {
   "cell_type": "markdown",
   "metadata": {},
   "source": [
    "We provide pseudocode for the trickier problems on the assignment so that you can focus on the Python, but it's helpful to keep in mind that it is often a good idea to work out the algorithm you want to implement before you start writing code."
   ]
  },
  {
   "cell_type": "markdown",
   "metadata": {},
   "source": [
    "**Example:** Let's go through steps 1-3 for this problem.\n",
    "\n",
    "> A palindromic number reads the same both ways. For example, 1234321 is a palindrome. The largest palindrome made from the product of two two-digit numbers is 9009 = 91 × 99. Find the largest palindrome made from the product of two three-digit numbers."
   ]
  },
  {
   "cell_type": "markdown",
   "metadata": {},
   "source": [
    "### Some Test Cases"
   ]
  },
  {
   "cell_type": "markdown",
   "metadata": {},
   "source": []
  },
  {
   "cell_type": "markdown",
   "metadata": {},
   "source": [
    "### Coming Up With an Algorithm"
   ]
  },
  {
   "cell_type": "markdown",
   "metadata": {},
   "source": []
  },
  {
   "cell_type": "markdown",
   "metadata": {},
   "source": [
    "### Generating Pseudocode"
   ]
  },
  {
   "cell_type": "markdown",
   "metadata": {},
   "source": []
  }
 ],
 "metadata": {
  "kernelspec": {
   "display_name": "Python 3",
   "language": "python",
   "name": "python3"
  },
  "language_info": {
   "codemirror_mode": {
    "name": "ipython",
    "version": 3
   },
   "file_extension": ".py",
   "mimetype": "text/x-python",
   "name": "python",
   "nbconvert_exporter": "python",
   "pygments_lexer": "ipython3",
   "version": "3.6.8"
  }
 },
 "nbformat": 4,
 "nbformat_minor": 2
}
