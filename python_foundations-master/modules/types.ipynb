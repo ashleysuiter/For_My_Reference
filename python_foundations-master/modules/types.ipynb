{
 "cells": [
  {
   "cell_type": "markdown",
   "metadata": {
    "slideshow": {
     "slide_type": "slide"
    },
    "toc-hr-collapsed": true
   },
   "source": [
    "<img src=\"http://imgur.com/1ZcRyrc.png\" style=\"float: left; margin: 20px; height: 55px\">\n",
    " \n",
    "# Introduction to Python Fundamentals\n",
    " \n",
    "_Authors: Kiefer Katovich (San Francisco), Dave Yerrington (San Francisco), Joseph Nelson (Washington, D.C.), Sam Stack (Washington, D.C.)_\n",
    " \n",
    "---"
   ]
  },
  {
   "cell_type": "markdown",
   "metadata": {
    "toc-hr-collapsed": true
   },
   "source": [
    "## Why Python?"
   ]
  },
  {
   "cell_type": "markdown",
   "metadata": {},
   "source": [
    "### Pros\n",
    "\n",
    "- Stable (released in 1991)\n",
    "- Has great data science ecosystem\n",
    "- General-purpose\n",
    "- Open-source\n",
    "- Readable\n",
    "- Dynamic typing enables fast initial development\n",
    "- Has a (relatively) great learning curve"
   ]
  },
  {
   "cell_type": "markdown",
   "metadata": {},
   "source": [
    "### Cons\n",
    "\n",
    "- Slower than lower-level languages such as C\n",
    "- Dynamic typing leads to bugs\n",
    "- Difficult to integrate into JVM-based production systems\n",
    "- Arguably not as nice as R for some core data analysis tasks"
   ]
  },
  {
   "cell_type": "markdown",
   "metadata": {
    "toc-hr-collapsed": true
   },
   "source": [
    "## JupyterLab"
   ]
  },
  {
   "cell_type": "markdown",
   "metadata": {},
   "source": [
    "Before we get started, let's go over interacting with iPython in JupyterLab."
   ]
  },
  {
   "cell_type": "markdown",
   "metadata": {},
   "source": [
    "### Running Code in Jupyter"
   ]
  },
  {
   "cell_type": "markdown",
   "metadata": {},
   "source": [
    "Code cells are run by pressing `shift + enter` or using the `Run` button in the toolbar."
   ]
  },
  {
   "cell_type": "code",
   "execution_count": null,
   "metadata": {},
   "outputs": [],
   "source": [
    "# This is a cell."
   ]
  },
  {
   "cell_type": "code",
   "execution_count": null,
   "metadata": {},
   "outputs": [],
   "source": [
    "# Assigning a variable:\n",
    "v = 1"
   ]
  },
  {
   "cell_type": "code",
   "execution_count": null,
   "metadata": {
    "scrolled": true
   },
   "outputs": [],
   "source": [
    "# If the last line in a cell returns a result, Jupyter prints it to an output field automatically.\n",
    "v\n",
    "v"
   ]
  },
  {
   "cell_type": "code",
   "execution_count": null,
   "metadata": {},
   "outputs": [],
   "source": [
    "# You can also use the standard Python `print` function within Jupyter.\n",
    "print(v)\n",
    "print(v)"
   ]
  },
  {
   "cell_type": "markdown",
   "metadata": {},
   "source": [
    "### Running Terminal Commands in Jupyter"
   ]
  },
  {
   "cell_type": "markdown",
   "metadata": {},
   "source": [
    "You can run terminal commands in Jupyter by starting a code cell with `!`.\n",
    "\n",
    "Example:"
   ]
  },
  {
   "cell_type": "code",
   "execution_count": null,
   "metadata": {},
   "outputs": [],
   "source": [
    "!ls"
   ]
  },
  {
   "cell_type": "markdown",
   "metadata": {},
   "source": [
    "### Jupyter Modes"
   ]
  },
  {
   "cell_type": "markdown",
   "metadata": {},
   "source": [
    "Jupyter has an \"edit mode\" and a \"command mode.\"\n",
    "\n",
    "A white cell with cursor inside it indicates that you are in edit mode. In this mode, you can edit the text inside the cell. Press `esc` or `control + m` to switch to command mode.\n",
    "\n",
    "A grayed-out cell with no cursor inside it indicates that you are in command mode. In this mode, you can use keyboard shortcuts to perform various commands. Press `enter` or click with the mouse inside the cell to switch to edit mode.\n",
    "\n",
    "Here are some of the most useful commands accessible in command mode:\n",
    "\n",
    "- A: create new cell above\n",
    "- B: create new cell below\n",
    "- D, D (press d twice): delete current cell\n",
    "- Z: Undo cell deletion\n",
    "- M: switch cell to Markdown\n",
    "- Y: switch cell to Python"
   ]
  },
  {
   "cell_type": "markdown",
   "metadata": {},
   "source": [
    "### Getting Out of Trouble"
   ]
  },
  {
   "cell_type": "markdown",
   "metadata": {},
   "source": [
    "- Use the \"Stop\" button in the toolbar at the top of the notebook to interrupt code execution.\n",
    "- If you get into a bad state and want to start your session over, press the circular arrow \"Restart Kernel\" button next to \"Stop\"."
   ]
  },
  {
   "cell_type": "markdown",
   "metadata": {},
   "source": [
    "### Managing Notebooks"
   ]
  },
  {
   "cell_type": "markdown",
   "metadata": {},
   "source": [
    "You can manage your notebooks in the \"Running\" tab on the far left of the Jupyter Lab interface. Be sure to shut down notebooks you are done with to avoid running out of memory!"
   ]
  },
  {
   "cell_type": "markdown",
   "metadata": {},
   "source": [
    "`CTRL + c` in the terminal will shut down your entire Jupyter server."
   ]
  },
  {
   "cell_type": "markdown",
   "metadata": {},
   "source": [
    "### Understanding Jupyter"
   ]
  },
  {
   "cell_type": "markdown",
   "metadata": {},
   "source": [
    "Jupyter uses a client-server architecture: the notebook that runs in your browser is the front-end **client**, which sends **requests** to the back-end **server**. The server receives a request, does some processing, and returns a **response**. The client notebook then displays that response to you.\n",
    "\n",
    "In this case, the client and server processes are **logically separate** but are both running on **your local computer**. Even though you are working in a web browser, you are not connecting to remote machines through the internet. You are just talking to a different process on the same machine.\n",
    "\n",
    "One of the advantages of the client-server design is that you **can** interact with remote Jupyter servers over the internet (e.g. on jupyter.org) in exactly the same way you interact with a Jupyter server that is running locally."
   ]
  },
  {
   "cell_type": "markdown",
   "metadata": {
    "slideshow": {
     "slide_type": "slide"
    },
    "toc-hr-collapsed": true
   },
   "source": [
    "## Variables\n",
    "\n",
    "Variables are names that have been assigned to specific objects."
   ]
  },
  {
   "cell_type": "markdown",
   "metadata": {
    "slideshow": {
     "slide_type": "notes"
    }
   },
   "source": [
    "Some variable names are better than others:"
   ]
  },
  {
   "cell_type": "markdown",
   "metadata": {},
   "source": [
    "### Restrictions\n",
    "\n",
    "- Cannot start with numbers (i.e., `2`, `10_data_points`).\n",
    "- Cannot match names of Python keywords (i.e., '`for`', '`and`', '`elif`').\n",
    "- Cannot contain spaces or periods."
   ]
  },
  {
   "cell_type": "markdown",
   "metadata": {},
   "source": [
    "### Best Practices\n",
    "- Should be *descriptive* and *unambiguous*.\n",
    "- Shorter is better all else being equal, but clarity comes first."
   ]
  },
  {
   "cell_type": "markdown",
   "metadata": {},
   "source": [
    "### Python Convention\n",
    "\n",
    "Should be `snake_case` (all lowercase, with underscores between words)."
   ]
  },
  {
   "cell_type": "markdown",
   "metadata": {
    "slideshow": {
     "slide_type": "slide"
    }
   },
   "source": [
    "## Types in Programming"
   ]
  },
  {
   "cell_type": "markdown",
   "metadata": {
    "slideshow": {
     "slide_type": "notes"
    }
   },
   "source": [
    "The *type* of an object in a programming language tells the computer what operations are defined for that object and how they are defined. For example:"
   ]
  },
  {
   "cell_type": "code",
   "execution_count": null,
   "metadata": {},
   "outputs": [],
   "source": [
    "# Adding two ints works as you would expect\n"
   ]
  },
  {
   "cell_type": "code",
   "execution_count": null,
   "metadata": {},
   "outputs": [],
   "source": [
    "# Adding two floats also works as you would expect. How is the result different this time?\n"
   ]
  },
  {
   "cell_type": "code",
   "execution_count": null,
   "metadata": {},
   "outputs": [],
   "source": [
    "# For many container objects, including strings, `+` concatenates.\n"
   ]
  },
  {
   "cell_type": "code",
   "execution_count": null,
   "metadata": {},
   "outputs": [],
   "source": [
    "# `+` with lists\n"
   ]
  },
  {
   "cell_type": "code",
   "execution_count": null,
   "metadata": {},
   "outputs": [],
   "source": [
    "# `+` is not defined for dicts\n"
   ]
  },
  {
   "cell_type": "markdown",
   "metadata": {},
   "source": [
    "**Note:** Learning to read error messages is an important skill to develop.\n",
    "\n",
    "Start at the *bottom* to see what *type* of error was raised and a descriptive error message. These error messages will often seem very cryptic at first, but they will become clearer as you learn more about how Python works.\n",
    "\n",
    "Just above that, you can see the line that triggered the error and a few lines above it. Sometimes the line you need to fix is actually just above the line that triggered the error -- for instance, if you missed a closing bracket on line 2, then you would not get an error until line 3 because Python doesn't know until line 3 that the appropriate closing bracket is not coming."
   ]
  },
  {
   "cell_type": "code",
   "execution_count": null,
   "metadata": {},
   "outputs": [],
   "source": [
    "# The built-in function `len` returns the number of objects in many container types\n"
   ]
  },
  {
   "cell_type": "code",
   "execution_count": null,
   "metadata": {},
   "outputs": [],
   "source": [
    "# `len` is not defined for ints\n"
   ]
  },
  {
   "cell_type": "markdown",
   "metadata": {
    "slideshow": {
     "slide_type": "slide"
    },
    "toc-hr-collapsed": true
   },
   "source": [
    "## Overview of Common Types in Python"
   ]
  },
  {
   "cell_type": "markdown",
   "metadata": {
    "slideshow": {
     "slide_type": "notes"
    }
   },
   "source": [
    "### Single Elements\n",
    "\n",
    "- **Integers:** Whole numbers ranging from negative infinity to infinity, such as 1, 0, -5, etc.\n",
    "- **Floats:** Short for \"floating point number;\" usually used with decimals, such as 2.8 or 3.14159."
   ]
  },
  {
   "cell_type": "markdown",
   "metadata": {
    "toc-hr-collapsed": true
   },
   "source": [
    "### Collections\n",
    "\n",
    "- **Strings:** A sequence of characters, e.g., \"The fox is quick.\" (We often think of strings as single elements, but we can slice them and get their lengths just like we can for tuples and lists.)\n",
    "- **Tuples:** An ordered sequence with a fixed number of elements; e.g., in `x = (1, 2, 3)`, the parentheses makes it a tuple. `x = (\"Kirk\", \"Picard\", \"Spock\")` — once you've defined this, you can't change it.\n",
    "- **Lists:** An ordered sequence without a fixed number of elements, e.g., `x = [1, 2, 3]`. Note the square brackets. `x = [\"Lord\", \"of\", \"the\", \"Rings\"]` — this can be changed as you like.\n",
    "- **Dictionaries**: An unordered collection of key-value pairs, e.g., `x = {'Mark': 'Twain', 'Apples': 5}`. To retrieve each value (the part after each colon), use its key (the part before each colon). For example, `x['Apples']` retrieves the value `5`."
   ]
  },
  {
   "cell_type": "markdown",
   "metadata": {
    "slideshow": {
     "slide_type": "notes"
    }
   },
   "source": [
    "Strings, lists, tupes have an inherent order (the first element is at index `0`, the second element is at index `1`, etc.) and we can call each element by that ordinal number (such as `x[0]` or `x[100]`). Dictionaries do not have an order (so `x[0]` will fail), but they use the name of the key to return that element.\n",
    "\n",
    "**Example**:\n",
    "- A **sign-up list** is similar to a Python list or tuple: it supports referring to a person in terms of when he or she signed up (i.e., \"the eighth person to sign up\").\n",
    "- An **address book** is more like a Python dictionary: it supports looking up a person by name (i.e., \"the contact info for Bill Personson\")."
   ]
  },
  {
   "cell_type": "code",
   "execution_count": 1,
   "metadata": {},
   "outputs": [
    {
     "data": {
      "text/plain": [
       "2"
      ]
     },
     "execution_count": 1,
     "metadata": {},
     "output_type": "execute_result"
    }
   ],
   "source": [
    "# Assigning a float:\n",
    "1+1\n"
   ]
  },
  {
   "cell_type": "code",
   "execution_count": 2,
   "metadata": {},
   "outputs": [
    {
     "data": {
      "text/plain": [
       "2.0"
      ]
     },
     "execution_count": 2,
     "metadata": {},
     "output_type": "execute_result"
    }
   ],
   "source": [
    "# Assigning an int:\n",
    "1.0+1.0\n"
   ]
  },
  {
   "cell_type": "code",
   "execution_count": 3,
   "metadata": {},
   "outputs": [
    {
     "data": {
      "text/plain": [
       "'11'"
      ]
     },
     "execution_count": 3,
     "metadata": {},
     "output_type": "execute_result"
    }
   ],
   "source": [
    "# Assigning a string:\n",
    "'1'+'1'"
   ]
  },
  {
   "cell_type": "markdown",
   "metadata": {},
   "source": [
    "**Recall:** `x = 1` does not *assert that* `x` is `1` or *check whether* `x` is `1`; instead, it *assigns* the value `1` to the variable `x`."
   ]
  },
  {
   "cell_type": "markdown",
   "metadata": {
    "toc-hr-collapsed": true
   },
   "source": [
    "## Operators"
   ]
  },
  {
   "cell_type": "markdown",
   "metadata": {},
   "source": [
    "### Arithmetic Operators\n",
    "\n",
    "Python has special built-in symbols called *operators* for performing common computations."
   ]
  },
  {
   "cell_type": "code",
   "execution_count": null,
   "metadata": {},
   "outputs": [],
   "source": []
  },
  {
   "cell_type": "markdown",
   "metadata": {},
   "source": [
    "There is also `//` division, whose output will be the rounded-down whole number.\n",
    "\n",
    "> **Note:** Division works differently in Python 2: dividing two `int` objects with `/` always returns an `int`, so that in Python 2 e.g. `5 / 2 == 2`."
   ]
  },
  {
   "cell_type": "code",
   "execution_count": null,
   "metadata": {},
   "outputs": [],
   "source": []
  },
  {
   "cell_type": "markdown",
   "metadata": {},
   "source": [
    "Python uses `**` for exponents."
   ]
  },
  {
   "cell_type": "code",
   "execution_count": null,
   "metadata": {},
   "outputs": [],
   "source": []
  },
  {
   "cell_type": "markdown",
   "metadata": {},
   "source": [
    "The modulo operator % gives the remainder from division"
   ]
  },
  {
   "cell_type": "code",
   "execution_count": null,
   "metadata": {},
   "outputs": [],
   "source": []
  },
  {
   "cell_type": "markdown",
   "metadata": {},
   "source": [
    "### Booleans and Boolean Evaluation Operators"
   ]
  },
  {
   "cell_type": "markdown",
   "metadata": {
    "slideshow": {
     "slide_type": "notes"
    }
   },
   "source": [
    "Booleans come in two values: `True` and `False`."
   ]
  },
  {
   "cell_type": "markdown",
   "metadata": {},
   "source": [
    "Booleans are frequently used to filter data or conditions. Sometimes, we may want all countries with populations greater than 4,000,000 or all people named Bob. Both of these result in a `True` or `False` condition that split our data into the groups we want.\n",
    "\n",
    "In Python, there are several built-in commands for deciding how to filter results:\n",
    "\n",
    "- `and`: Are both A and B true?\n",
    "- `or`: Is at least one of A and B true?\n",
    "- `not`: Is A false?"
   ]
  },
  {
   "cell_type": "code",
   "execution_count": null,
   "metadata": {
    "slideshow": {
     "slide_type": "slide"
    }
   },
   "outputs": [],
   "source": []
  },
  {
   "cell_type": "code",
   "execution_count": null,
   "metadata": {
    "slideshow": {
     "slide_type": "slide"
    }
   },
   "outputs": [],
   "source": []
  },
  {
   "cell_type": "code",
   "execution_count": null,
   "metadata": {
    "slideshow": {
     "slide_type": "slide"
    }
   },
   "outputs": [],
   "source": []
  },
  {
   "cell_type": "code",
   "execution_count": null,
   "metadata": {
    "slideshow": {
     "slide_type": "slide"
    }
   },
   "outputs": [],
   "source": []
  },
  {
   "cell_type": "code",
   "execution_count": null,
   "metadata": {
    "slideshow": {
     "slide_type": "slide"
    }
   },
   "outputs": [],
   "source": []
  },
  {
   "cell_type": "code",
   "execution_count": null,
   "metadata": {
    "slideshow": {
     "slide_type": "slide"
    }
   },
   "outputs": [],
   "source": []
  },
  {
   "cell_type": "code",
   "execution_count": null,
   "metadata": {
    "slideshow": {
     "slide_type": "slide"
    }
   },
   "outputs": [],
   "source": []
  },
  {
   "cell_type": "code",
   "execution_count": null,
   "metadata": {
    "slideshow": {
     "slide_type": "slide"
    }
   },
   "outputs": [],
   "source": []
  },
  {
   "cell_type": "markdown",
   "metadata": {},
   "source": [
    "**Exercise (1 min.)**\n",
    "\n",
    "- What should the expression `(3>4 or 5<12) and 2>3` evaluate to? Figure out your answer, then confirm it by having Jupyter evaluate that expression."
   ]
  },
  {
   "cell_type": "markdown",
   "metadata": {},
   "source": []
  },
  {
   "cell_type": "code",
   "execution_count": null,
   "metadata": {},
   "outputs": [],
   "source": []
  },
  {
   "cell_type": "markdown",
   "metadata": {},
   "source": [
    "$\\blacksquare$"
   ]
  },
  {
   "cell_type": "markdown",
   "metadata": {
    "toc-hr-collapsed": false
   },
   "source": [
    "### Comparison Operators\n",
    "\n",
    "- Less than: `<`\n",
    "- Greater than: `>`\n",
    "- Less than or equal to: `<=`\n",
    "- Greater than or equal to: `>=`\n",
    "- Equals: `==`\n",
    "- Does not equal: `!=`"
   ]
  },
  {
   "cell_type": "markdown",
   "metadata": {},
   "source": [
    "**Slack poll.**\n",
    "\n",
    "```\n",
    "/poll \"Which of these expressions evaluates to `True`?\" \"`2 > 1`\" \"`2 < 1`\" \"`2 > 2`\" \"`2 < 2`\" \"`2 >= 2`\" \"`2 <= 2`\" \"`2 != 2`\" anonymous\n",
    "```"
   ]
  },
  {
   "cell_type": "markdown",
   "metadata": {},
   "source": [
    "#### Comparisons for Collections\n",
    "\n",
    "In general, collections are considered equal when they have the same length and corresponding elements are equal."
   ]
  },
  {
   "cell_type": "code",
   "execution_count": null,
   "metadata": {},
   "outputs": [],
   "source": []
  },
  {
   "cell_type": "markdown",
   "metadata": {
    "toc-hr-collapsed": true
   },
   "source": [
    "## Deeper Dive on Common Python Types"
   ]
  },
  {
   "cell_type": "markdown",
   "metadata": {
    "slideshow": {
     "slide_type": "slide"
    },
    "toc-hr-collapsed": true
   },
   "source": [
    "### Strings\n",
    "\n",
    "**Exercise (1 min.)**\n",
    "\n",
    "- What are strings?"
   ]
  },
  {
   "cell_type": "markdown",
   "metadata": {
    "slideshow": {
     "slide_type": "notes"
    }
   },
   "source": []
  },
  {
   "cell_type": "markdown",
   "metadata": {},
   "source": [
    "$\\blacksquare$"
   ]
  },
  {
   "cell_type": "code",
   "execution_count": null,
   "metadata": {},
   "outputs": [],
   "source": [
    "# Example\n"
   ]
  },
  {
   "cell_type": "code",
   "execution_count": null,
   "metadata": {},
   "outputs": [],
   "source": [
    "# Find the length of the string\n"
   ]
  },
  {
   "cell_type": "code",
   "execution_count": null,
   "metadata": {},
   "outputs": [],
   "source": [
    "# Use single quotes to define a string\n"
   ]
  },
  {
   "cell_type": "code",
   "execution_count": null,
   "metadata": {},
   "outputs": [],
   "source": [
    "# Define a string that contains a single quote\n"
   ]
  },
  {
   "cell_type": "markdown",
   "metadata": {},
   "source": [
    "There is no general preference in the Python community between single quotes and double quotes, but there is a consensus to use double quotes when your string contains single quotes and vice versa to avoid the need to use the escape character `\\`."
   ]
  },
  {
   "cell_type": "code",
   "execution_count": null,
   "metadata": {},
   "outputs": [],
   "source": [
    "# Replacing an element of a string\n"
   ]
  },
  {
   "cell_type": "markdown",
   "metadata": {},
   "source": [
    "`.replace()` is an example of a **method** -- a piece of functionality that's built into all objects of a given type."
   ]
  },
  {
   "cell_type": "markdown",
   "metadata": {
    "slideshow": {
     "slide_type": "slide"
    }
   },
   "source": [
    "#### String Indexing\n",
    "\n",
    "In some cases, we may want a part of the string (like the first character for alphabetizing or categorizing). Indexing helps us do that.\n",
    "\n",
    "We can extract characters at specific index locations in a string using indexing."
   ]
  },
  {
   "cell_type": "code",
   "execution_count": null,
   "metadata": {},
   "outputs": [],
   "source": [
    "# Indexing the first (index 0) character in the string:\n"
   ]
  },
  {
   "cell_type": "markdown",
   "metadata": {
    "slideshow": {
     "slide_type": "slide"
    }
   },
   "source": [
    "The number you enter after the variable name in brackets (the `[0]`) is called the index (its plural is indices).\n",
    "\n",
    "Counting in Python uses _zero-based indexing_, meaning that numbering starts with 0 instead of 1."
   ]
  },
  {
   "cell_type": "code",
   "execution_count": null,
   "metadata": {},
   "outputs": [],
   "source": [
    "# This is called \"slicing.\" We start at the left index \n",
    "#   and go up to but not include the right index.\n",
    "\n",
    "# Objects at indexes 0, 1, and 2:\n"
   ]
  },
  {
   "cell_type": "markdown",
   "metadata": {},
   "source": [
    "**Note:** If you are curious, [this article](https://www.cs.utexas.edu/users/EWD/transcriptions/EWD08xx/EWD831.html) describes some benefits of including the left index but not the right index and using zero-based indexing."
   ]
  },
  {
   "cell_type": "code",
   "execution_count": null,
   "metadata": {},
   "outputs": [],
   "source": [
    "# From index 6 up to the end of the string:\n"
   ]
  },
  {
   "cell_type": "code",
   "execution_count": null,
   "metadata": {},
   "outputs": [],
   "source": [
    "# No start or end specified:\n"
   ]
  },
  {
   "cell_type": "code",
   "execution_count": null,
   "metadata": {},
   "outputs": [],
   "source": [
    "# Use negative numbers to index from the right side\n"
   ]
  },
  {
   "cell_type": "markdown",
   "metadata": {
    "slideshow": {
     "slide_type": "slide"
    }
   },
   "source": [
    "In addition to specifying a range, you can include a step size or character skip rate. This might be helpful if you want every other letter, for example. "
   ]
  },
  {
   "cell_type": "code",
   "execution_count": null,
   "metadata": {},
   "outputs": [],
   "source": [
    "# Every second character starting at 0 and ending at 10\n"
   ]
  },
  {
   "cell_type": "code",
   "execution_count": null,
   "metadata": {},
   "outputs": [],
   "source": [
    "# Define a step size of 2; i.e., every other character\n"
   ]
  },
  {
   "cell_type": "code",
   "execution_count": null,
   "metadata": {},
   "outputs": [],
   "source": [
    "# The same, but for a list of numbers\n"
   ]
  },
  {
   "cell_type": "markdown",
   "metadata": {
    "slideshow": {
     "slide_type": "slide"
    }
   },
   "source": [
    "#### Concatenating and Interpolating"
   ]
  },
  {
   "cell_type": "code",
   "execution_count": null,
   "metadata": {},
   "outputs": [],
   "source": [
    "# Adding strings with `+` returns their concatenation\n"
   ]
  },
  {
   "cell_type": "code",
   "execution_count": null,
   "metadata": {},
   "outputs": [],
   "source": [
    "# Conversion from int to str is required!\n"
   ]
  },
  {
   "cell_type": "code",
   "execution_count": null,
   "metadata": {},
   "outputs": [],
   "source": [
    "# Multiplying strings concatenates them the specified number of times\n"
   ]
  },
  {
   "cell_type": "code",
   "execution_count": null,
   "metadata": {},
   "outputs": [],
   "source": [
    "# You can also use `f-strings` to insert the values of variables into strings\n",
    "# (Python 3.6+ only)\n"
   ]
  },
  {
   "cell_type": "markdown",
   "metadata": {},
   "source": [
    "**Note:** Python provides at least two additional ways to insert the values of variables into strings. `f-string`s are generally preferred to these other options as of Python 3.6 (which introduced `f-strings`), but you will still see these other approaches:\n",
    "- [C-style string formatting](https://docs.python.org/2.4/lib/typesseq-strings.html)\n",
    "- [.format method](https://www.digitalocean.com/community/tutorials/how-to-use-string-formatters-in-python-3)"
   ]
  },
  {
   "cell_type": "markdown",
   "metadata": {},
   "source": [
    "**Exercise (4 mins.)**\n",
    "\n",
    "- Create your own string of at least 12 characters, including at least one vowel, and assign it to a variable called `my_string`."
   ]
  },
  {
   "cell_type": "code",
   "execution_count": 4,
   "metadata": {},
   "outputs": [],
   "source": [
    "my_string = 'abcdefghijklmnopqrstuv'"
   ]
  },
  {
   "cell_type": "markdown",
   "metadata": {},
   "source": [
    "- Use a built-in function and comparison operator to make sure that it is at least 12 characters long."
   ]
  },
  {
   "cell_type": "code",
   "execution_count": 5,
   "metadata": {},
   "outputs": [
    {
     "data": {
      "text/plain": [
       "22"
      ]
     },
     "execution_count": 5,
     "metadata": {},
     "output_type": "execute_result"
    }
   ],
   "source": [
    "print(len(my_string)>=12)"
   ]
  },
  {
   "cell_type": "markdown",
   "metadata": {},
   "source": [
    "- Replace all instances of one of the vowel types that occurs in your string with the string `'vowel'`."
   ]
  },
  {
   "cell_type": "code",
   "execution_count": 6,
   "metadata": {},
   "outputs": [
    {
     "data": {
      "text/plain": [
       "'vowelbcdefghijklmnopqrstuv'"
      ]
     },
     "execution_count": 6,
     "metadata": {},
     "output_type": "execute_result"
    }
   ],
   "source": [
    "my_string.replace(\"a\", \"vowel\")"
   ]
  },
  {
   "cell_type": "markdown",
   "metadata": {},
   "source": [
    "- Use the addition operator to concatenate another string to your string."
   ]
  },
  {
   "cell_type": "code",
   "execution_count": 7,
   "metadata": {},
   "outputs": [
    {
     "data": {
      "text/plain": [
       "'abcdefghijklmnopqrstuvAHHHHH'"
      ]
     },
     "execution_count": 7,
     "metadata": {},
     "output_type": "execute_result"
    }
   ],
   "source": [
    "my_string + \"AHHHHH\""
   ]
  },
  {
   "cell_type": "markdown",
   "metadata": {},
   "source": [
    "- **BONUS:** Replace all vowels in your string with the string `'vowel'`. (This task is tricky, and it requires skills that have been covered in the prework but not in this lesson.)\n",
    "\n",
    "*Note*: Simply using one `replace` call for each vowel won't work! (Why not?) Try creating a new, empty string and then appending to it appropriate as you iterate over your existing string."
   ]
  },
  {
   "cell_type": "markdown",
   "metadata": {},
   "source": []
  },
  {
   "cell_type": "code",
   "execution_count": 21,
   "metadata": {},
   "outputs": [],
   "source": [
    "vowel = [\"a\",\"e\",\"i\",\"o\",\"u\"]\n",
    "for i in range(0,len(my_string)): \n",
    "    if my_string[i] in vowel:\n",
    "        my_string = my_string.replace(my_string[i], \"vowel\")\n",
    "        "
   ]
  },
  {
   "cell_type": "code",
   "execution_count": 22,
   "metadata": {},
   "outputs": [
    {
     "name": "stdout",
     "output_type": "stream",
     "text": [
      "vvvvvvvvvvvvvvvvvvvvvvowelwelwelwelwelwelwelwelwelwelwelwelwelwelwelwelwelwelwelwelwelwelbcdefghijklmnvvvvvvvvvvvvvvvvvvvvvowelwelwelwelwelwelwelwelwelwelwelwelwelwelwelwelwelwelwelwelwelpqrstuv\n"
     ]
    }
   ],
   "source": [
    "print(my_string)"
   ]
  },
  {
   "cell_type": "markdown",
   "metadata": {},
   "source": [
    "$\\blacksquare$"
   ]
  },
  {
   "cell_type": "markdown",
   "metadata": {
    "slideshow": {
     "slide_type": "slide"
    }
   },
   "source": [
    "### Lists\n",
    "\n",
    "A **list** is a mutable sequence of Python objects, which can have any combination of types."
   ]
  },
  {
   "cell_type": "markdown",
   "metadata": {},
   "source": [
    "**Warning:** Do not use `list` as a variable name. `list` is a built-in Python function, so running e.g. `list = [1, 2, 3, 4]` overwrites that function. For generic examples, use a name like `alist` or `my_list` instead. For real code, use a descriptive variable name that indicates what the list represents (e.g. `model_accuracies` for a list of model accuracy scores)."
   ]
  },
  {
   "cell_type": "code",
   "execution_count": null,
   "metadata": {},
   "outputs": [],
   "source": [
    "# Example\n"
   ]
  },
  {
   "cell_type": "code",
   "execution_count": null,
   "metadata": {},
   "outputs": [],
   "source": [
    "# Change list contents\n"
   ]
  },
  {
   "cell_type": "code",
   "execution_count": null,
   "metadata": {},
   "outputs": [],
   "source": [
    "# List of strings:\n"
   ]
  },
  {
   "cell_type": "code",
   "execution_count": null,
   "metadata": {},
   "outputs": [],
   "source": [
    "# Add a new item to a list\n"
   ]
  },
  {
   "cell_type": "markdown",
   "metadata": {},
   "source": [
    "**Exercise (1 min., post to Slack right away)**\n",
    "\n",
    "- What kind of object is `append`? What other object of this kind have we seen in this netbook?"
   ]
  },
  {
   "cell_type": "markdown",
   "metadata": {},
   "source": []
  },
  {
   "cell_type": "markdown",
   "metadata": {},
   "source": [
    "$\\blacksquare$"
   ]
  },
  {
   "cell_type": "code",
   "execution_count": null,
   "metadata": {},
   "outputs": [],
   "source": [
    "# slice `names` to get the names \"Anne\" and \"Jessica\"\n"
   ]
  },
  {
   "cell_type": "code",
   "execution_count": null,
   "metadata": {},
   "outputs": [],
   "source": [
    "# slice `names` to get the names \"Carol\" and \"Jessica\"\n"
   ]
  },
  {
   "cell_type": "code",
   "execution_count": null,
   "metadata": {},
   "outputs": [],
   "source": [
    "# Lists can have mixed types\n"
   ]
  },
  {
   "cell_type": "code",
   "execution_count": null,
   "metadata": {},
   "outputs": [],
   "source": [
    "# We can create a list of values in a range using the range() function.\n",
    "# The order of arguments is `start`, `stop`, `step`.\n"
   ]
  },
  {
   "cell_type": "code",
   "execution_count": null,
   "metadata": {},
   "outputs": [],
   "source": [
    "# range() produces a \"range object,\" which is a special kind of generator.\n",
    "# The main thing you need to know about generators for now is that you can\n",
    "# \"cast\" them to lists\n"
   ]
  },
  {
   "cell_type": "markdown",
   "metadata": {},
   "source": [
    "**Exercise (5 mins.)**\n",
    "\n",
    "- Create a list of five elements."
   ]
  },
  {
   "cell_type": "code",
   "execution_count": 30,
   "metadata": {},
   "outputs": [],
   "source": [
    "list = [1,2,3,4,5]"
   ]
  },
  {
   "cell_type": "markdown",
   "metadata": {},
   "source": [
    "- Print the last three elements."
   ]
  },
  {
   "cell_type": "code",
   "execution_count": 31,
   "metadata": {},
   "outputs": [
    {
     "name": "stdout",
     "output_type": "stream",
     "text": [
      "[3, 4, 5]\n"
     ]
    }
   ],
   "source": [
    "print(list[-3:])"
   ]
  },
  {
   "cell_type": "markdown",
   "metadata": {},
   "source": [
    "- Insert two new elements at index 2 (one after the other)"
   ]
  },
  {
   "cell_type": "code",
   "execution_count": 28,
   "metadata": {},
   "outputs": [],
   "source": [
    "list.append(6)\n",
    "list.append(7)"
   ]
  },
  {
   "cell_type": "markdown",
   "metadata": {},
   "source": [
    "- Add one element to the end."
   ]
  },
  {
   "cell_type": "code",
   "execution_count": null,
   "metadata": {},
   "outputs": [],
   "source": []
  },
  {
   "cell_type": "markdown",
   "metadata": {},
   "source": [
    "- Take out one element of your choice."
   ]
  },
  {
   "cell_type": "code",
   "execution_count": 32,
   "metadata": {},
   "outputs": [],
   "source": [
    "list.remove(5)"
   ]
  },
  {
   "cell_type": "markdown",
   "metadata": {},
   "source": [
    "- Print just the elements of your list that have odd-numbered indices."
   ]
  },
  {
   "cell_type": "code",
   "execution_count": 33,
   "metadata": {},
   "outputs": [
    {
     "data": {
      "text/plain": [
       "[1, 2, 3, 4]"
      ]
     },
     "execution_count": 33,
     "metadata": {},
     "output_type": "execute_result"
    }
   ],
   "source": [
    "list"
   ]
  },
  {
   "cell_type": "markdown",
   "metadata": {},
   "source": [
    "- **BONUS:** Create a range object that generates all of the numbers from 1 to 100, inclusive; then cast it to a list and slice the list to get every fifth number starting with 17 and ending with 82."
   ]
  },
  {
   "cell_type": "code",
   "execution_count": 46,
   "metadata": {},
   "outputs": [
    {
     "data": {
      "text/plain": [
       "[18, 23, 28, 33, 38, 43, 48, 53, 58, 63, 68, 73, 78, 83]"
      ]
     },
     "execution_count": 46,
     "metadata": {},
     "output_type": "execute_result"
    }
   ],
   "source": [
    "list1 = []\n",
    "for i in range (1,101):\n",
    "   list1.append(i)\n",
    "list1[17:83:5]"
   ]
  },
  {
   "cell_type": "markdown",
   "metadata": {},
   "source": [
    "$\\blacksquare$"
   ]
  },
  {
   "cell_type": "markdown",
   "metadata": {
    "slideshow": {
     "slide_type": "slide"
    }
   },
   "source": [
    "### Dictionaries\n",
    "\n",
    "A *list* stores values in an **ordered sequence** of cubbyholes that we access by **position**.\n",
    "\n",
    "A *dictionary* stores values in an **unordered set** of cubbyholes that access by a name that we call a **key**."
   ]
  },
  {
   "cell_type": "code",
   "execution_count": 1,
   "metadata": {},
   "outputs": [],
   "source": [
    "# Example\n",
    "params = {'key1': 1.0, 'key2': 2.0, 'key3': 3.0}"
   ]
  },
  {
   "cell_type": "code",
   "execution_count": 2,
   "metadata": {},
   "outputs": [
    {
     "data": {
      "text/plain": [
       "2.0"
      ]
     },
     "execution_count": 2,
     "metadata": {},
     "output_type": "execute_result"
    }
   ],
   "source": [
    "# Retrieve the value for key2 in the params dictionary:\n",
    "params['key2']"
   ]
  },
  {
   "cell_type": "code",
   "execution_count": 4,
   "metadata": {},
   "outputs": [
    {
     "name": "stdout",
     "output_type": "stream",
     "text": [
      "D\n"
     ]
    }
   ],
   "source": [
    "# Add a new dictionary entry\n",
    "params['elephant']='D'\n",
    "print(params['elephant'])"
   ]
  },
  {
   "cell_type": "code",
   "execution_count": null,
   "metadata": {},
   "outputs": [],
   "source": [
    "# Reassign the values of key-value pairs\n"
   ]
  },
  {
   "cell_type": "code",
   "execution_count": null,
   "metadata": {},
   "outputs": [],
   "source": [
    "# Dictionaries also have methods.\n",
    "\n",
    "# Convert a dictionary to a list of tuples (key-value pairs).\n"
   ]
  },
  {
   "cell_type": "markdown",
   "metadata": {
    "slideshow": {
     "slide_type": "slide"
    }
   },
   "source": [
    "### Tuples\n",
    "\n",
    "Tuples are like lists, but they are **immutable**.\n",
    "\n",
    "Mutability can be helfpful, but immutability has two big advantages:\n",
    "\n",
    "1. **Safety:** Immutable objects don't let you create bugs by changing them and not realizing it. \n",
    "2. **Hashability:** Only immutable objects are \"hashable,\" which means among other things that only immutable objects can serve as dictionary keys.\n",
    "\n",
    "> **Note:** Roughly speaking, \"hashing\" an object means running it through a complicated **hash function** that generates an \"address.\" For instance, Python hashes each dictionary key to generate an \"address\" where it stores the associated object. When you ask for the value associated with that key, Python simply runs that key through the hashing function and checks the returned location. This approach allows dictionary lookups to be almost instantaneous regardless of the dictionary size. **However, it would not work if dictionary keys were mutable,** because in that case we would not get the same \"address\" when we applied the hash function to the same object before and after a mutation."
   ]
  },
  {
   "cell_type": "code",
   "execution_count": null,
   "metadata": {},
   "outputs": [],
   "source": [
    "# Example\n"
   ]
  },
  {
   "cell_type": "code",
   "execution_count": null,
   "metadata": {},
   "outputs": [],
   "source": [
    "# tuples can be sliced, just like lists and strings:\n"
   ]
  },
  {
   "cell_type": "code",
   "execution_count": null,
   "metadata": {},
   "outputs": [],
   "source": [
    "# you cannot append to a tuple -- why not?\n"
   ]
  },
  {
   "cell_type": "code",
   "execution_count": null,
   "metadata": {},
   "outputs": [],
   "source": [
    "# It is often convenient to \"unpack\" a tuple or other container into multiple variables\n"
   ]
  },
  {
   "cell_type": "markdown",
   "metadata": {
    "toc-hr-collapsed": true
   },
   "source": [
    "## For Reference: How Python Uses Various Sorts of Brackety Things"
   ]
  },
  {
   "cell_type": "markdown",
   "metadata": {},
   "source": [
    "- `[]`: lists, indexing/lookup/slicing, list comprehensions.\n",
    "- `()`: order of operations, tuples, function and method calls and definitions, generator expressions.\n",
    "- `{}`: dictionaries and sets."
   ]
  }
 ],
 "metadata": {
  "kernelspec": {
   "display_name": "Python 3",
   "language": "python",
   "name": "python3"
  },
  "language_info": {
   "codemirror_mode": {
    "name": "ipython",
    "version": 3
   },
   "file_extension": ".py",
   "mimetype": "text/x-python",
   "name": "python",
   "nbconvert_exporter": "python",
   "pygments_lexer": "ipython3",
   "version": "3.6.8"
  }
 },
 "nbformat": 4,
 "nbformat_minor": 2
}
