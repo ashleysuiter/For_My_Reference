{
 "cells": [
  {
   "cell_type": "markdown",
   "metadata": {
    "slideshow": {
     "slide_type": "slide"
    },
    "toc-hr-collapsed": false
   },
   "source": [
    "<img src=\"http://imgur.com/1ZcRyrc.png\" style=\"float: left; margin: 20px; height: 55px\">\n",
    " \n",
    "# Control Flow\n",
    " \n",
    "_Authors: Kiefer Katovich (San Francisco), Dave Yerrington (San Francisco), Joseph Nelson (Washington, D.C.), Sam Stack (Washington, D.C.)_\n",
    " \n",
    "---"
   ]
  },
  {
   "cell_type": "markdown",
   "metadata": {
    "toc-hr-collapsed": false
   },
   "source": [
    "## Demo"
   ]
  },
  {
   "cell_type": "markdown",
   "metadata": {},
   "source": [
    "We often want to sort a dataset according to the values of a particular variable. Python has built-in sorting functionality, but for the moment let's code up a simple sorting algorithm as a way to learn about some important constructs in Python."
   ]
  },
  {
   "cell_type": "markdown",
   "metadata": {},
   "source": [
    "Here is a list of Major League Baseball team payrolls for the 2019 season. Let's sort them so that we can find the ratio of the largest to the smallest."
   ]
  },
  {
   "cell_type": "code",
   "execution_count": 1,
   "metadata": {},
   "outputs": [],
   "source": [
    "payrolls = [\n",
    "    164592777,\n",
    "    209450714,\n",
    "    51702866,\n",
    "    109556043,\n",
    "    140943810,\n",
    "    191006668,\n",
    "    116373333,\n",
    "    106675000,\n",
    "    127153086,\n",
    "    117049999,\n",
    "    63837142,\n",
    "    137087462,\n",
    "    83168333,\n",
    "    209265921,\n",
    "    106098571,\n",
    "    222906602,\n",
    "    116773214,\n",
    "    119949166,\n",
    "    80166668,\n",
    "    159337876,\n",
    "    62271782,\n",
    "    112333751,\n",
    "    167350999,\n",
    "    120887500,\n",
    "    58925002,\n",
    "    89407500,\n",
    "    153022500,\n",
    "    140305833,\n",
    "    91396667,\n",
    "    156747227,\n",
    "    156001666,\n",
    "]"
   ]
  },
  {
   "cell_type": "markdown",
   "metadata": {},
   "source": [
    "Here's a simple sorting algorithm we can use: go through each position in the list and check whether the item in that position is out of order with the item in the next position. If it is, swap those two items. Repeat until the list is sorted."
   ]
  },
  {
   "cell_type": "markdown",
   "metadata": {},
   "source": [
    "As it turns out, the first pass through the list will put the largest item in the last position; the second pass will put the second-largest item in the second-to-last position; and so on, so that going through the list once for each item in the list will suffice."
   ]
  },
  {
   "cell_type": "markdown",
   "metadata": {},
   "source": [
    "Let's how we implement that procedure in Python code."
   ]
  },
  {
   "cell_type": "code",
   "execution_count": 2,
   "metadata": {},
   "outputs": [
    {
     "data": {
      "text/plain": [
       "[51702866,\n",
       " 58925002,\n",
       " 62271782,\n",
       " 63837142,\n",
       " 80166668,\n",
       " 83168333,\n",
       " 89407500,\n",
       " 91396667,\n",
       " 106098571,\n",
       " 106675000,\n",
       " 109556043,\n",
       " 112333751,\n",
       " 116373333,\n",
       " 116773214,\n",
       " 117049999,\n",
       " 119949166,\n",
       " 120887500,\n",
       " 127153086,\n",
       " 137087462,\n",
       " 140305833,\n",
       " 140943810,\n",
       " 153022500,\n",
       " 156001666,\n",
       " 156747227,\n",
       " 159337876,\n",
       " 164592777,\n",
       " 167350999,\n",
       " 191006668,\n",
       " 209265921,\n",
       " 209450714,\n",
       " 222906602]"
      ]
     },
     "execution_count": 2,
     "metadata": {},
     "output_type": "execute_result"
    }
   ],
   "source": [
    "# /scrub/\n",
    "\n",
    "for item in payrolls:  # go through the list once for each item\n",
    "    for position in range(len(payrolls) - 1):\n",
    "        current_item = payrolls[position]\n",
    "        next_item = payrolls[position + 1]\n",
    "        if current_item > next_item:\n",
    "            # swap item positions\n",
    "            payrolls[position], payrolls[position + 1] = payrolls[position + 1], payrolls[position]\n",
    "\n",
    "payrolls"
   ]
  },
  {
   "cell_type": "markdown",
   "metadata": {},
   "source": [
    "Now we can calculate that ratio:"
   ]
  },
  {
   "cell_type": "code",
   "execution_count": 3,
   "metadata": {},
   "outputs": [
    {
     "data": {
      "text/plain": [
       "4.3113006926927415"
      ]
     },
     "execution_count": 3,
     "metadata": {},
     "output_type": "execute_result"
    }
   ],
   "source": [
    "highest_payroll = payrolls[-1]\n",
    "lowest_payroll = payrolls[0]\n",
    "\n",
    "highest_payroll / lowest_payroll"
   ]
  },
  {
   "cell_type": "markdown",
   "metadata": {},
   "source": [
    "The highest MLB team payroll is more than four times the lowest."
   ]
  },
  {
   "cell_type": "markdown",
   "metadata": {},
   "source": [
    "The code we just wrote uses two of the kinds of constructions we will learn about in this lesson:\n",
    "\n",
    "- Two `for` loops to cycle through the items in a collection.\n",
    "- An `if` statement to perform some action if a condition is met but not otherwise."
   ]
  },
  {
   "cell_type": "markdown",
   "metadata": {},
   "source": [
    "These types of constructions are examples of \"control flow\" mechanisms, which allow us to **control** how the code **flows** through the Python interpreter, rather than simply running each line once from top to bottom no matter what."
   ]
  },
  {
   "cell_type": "markdown",
   "metadata": {},
   "source": [
    "> **Side note:** Introductory computer science courses often cover many sorting algorithms. The algorithm we just coded up is called \"bubble sort.\" It is not very efficient!"
   ]
  },
  {
   "cell_type": "markdown",
   "metadata": {
    "toc-hr-collapsed": true
   },
   "source": [
    "## Conditionals"
   ]
  },
  {
   "cell_type": "markdown",
   "metadata": {
    "slideshow": {
     "slide_type": "slide"
    }
   },
   "source": [
    "### `if` Statement\n",
    "The simplest example of a control structure is the `if` statement."
   ]
  },
  {
   "cell_type": "code",
   "execution_count": 4,
   "metadata": {},
   "outputs": [
    {
     "name": "stdout",
     "output_type": "stream",
     "text": [
      "This line runs no matter what\n"
     ]
    }
   ],
   "source": [
    "# Example\n",
    "# /scrub/\n",
    "a = 3\n",
    "\n",
    "if a == 1:\n",
    "    print('a is 1')\n",
    "if a == 2:\n",
    "    print('a is 2')\n",
    "\n",
    "print('This line runs no matter what')"
   ]
  },
  {
   "cell_type": "markdown",
   "metadata": {
    "slideshow": {
     "slide_type": "slide"
    }
   },
   "source": [
    "`if` syntax:\n",
    "\n",
    "```\n",
    "if <expression>:\n",
    "    <one or more indented lines>\n",
    "```\n",
    "\n",
    "`expression` is cast to Boolean (if necessary) so that it evaluates to either `True` or `False`. If it evaluates to `True`, the code block is run; otherwise, it is skipped."
   ]
  },
  {
   "cell_type": "markdown",
   "metadata": {},
   "source": [
    "### `if` ... `else` Blocks\n",
    "\n",
    "In many cases, you may want to run some code if the expression evaluates to `True` and some other code if it evaluates to `False`. This is done using `else`. Note how it is at the same indentation level as the `if` statement, followed by a colon, followed by a code block."
   ]
  },
  {
   "cell_type": "code",
   "execution_count": 5,
   "metadata": {},
   "outputs": [
    {
     "name": "stdout",
     "output_type": "stream",
     "text": [
      "My number is less than 30\n",
      "This line runs no matter what.\n"
     ]
    }
   ],
   "source": [
    "# Example\n",
    "# /scrub/\n",
    "my_num = 20\n",
    "\n",
    "if my_num < 30:\n",
    "    print('My number is less than 30')\n",
    "else:\n",
    "    print('My number is at least 30')\n",
    "\n",
    "print('This line runs no matter what.')"
   ]
  },
  {
   "cell_type": "markdown",
   "metadata": {},
   "source": [
    "**Exercise (2 mins).**\n",
    "\n",
    "- Create your own string called `test_string`, then modify the code here to create an `if... else` statement for whether or not the first character in `test_string` is a lowercase `a`."
   ]
  },
  {
   "cell_type": "code",
   "execution_count": 6,
   "metadata": {},
   "outputs": [
    {
     "name": "stdout",
     "output_type": "stream",
     "text": [
      "Begins with a\n"
     ]
    }
   ],
   "source": [
    "test_string = '' # Fill in with your choice of string.\n",
    "\n",
    "if True: # Change this section to check if the first character in test_string is a lowercase a.\n",
    "    print('Begins with a')\n",
    "else:\n",
    "    print('Does not begin with a')"
   ]
  },
  {
   "cell_type": "code",
   "execution_count": 7,
   "metadata": {},
   "outputs": [
    {
     "name": "stdout",
     "output_type": "stream",
     "text": [
      "Begins with a\n"
     ]
    }
   ],
   "source": [
    "# /scrub/\n",
    "test_string = 'abracadabra' # Fill in with your choice of string.\n",
    "\n",
    "if test_string[0] == 'a': # Change this section to check if the first character in test_string is a lowercase a.\n",
    "    print('Begins with a')\n",
    "else:\n",
    "    print('Does not begin with a')"
   ]
  },
  {
   "cell_type": "markdown",
   "metadata": {},
   "source": [
    "**BONUS:** Handle both capital and lowercase 'a'."
   ]
  },
  {
   "cell_type": "code",
   "execution_count": 8,
   "metadata": {},
   "outputs": [
    {
     "name": "stdout",
     "output_type": "stream",
     "text": [
      "Does not begin with a\n"
     ]
    }
   ],
   "source": [
    "# /scrub/\n",
    "\n",
    "test_string = 'xyz' # Fill in with your choice of string.\n",
    "\n",
    "if test_string[0] == 'a' or test_string[0] == 'A': # Change this section to check if the first character in test_string is a lowercase a.\n",
    "    print('Begins with a')\n",
    "else:\n",
    "    print('Does not begin with a')"
   ]
  },
  {
   "cell_type": "code",
   "execution_count": 9,
   "metadata": {},
   "outputs": [
    {
     "name": "stdout",
     "output_type": "stream",
     "text": [
      "Does not begin with a\n"
     ]
    }
   ],
   "source": [
    "# /scrub/\n",
    "\n",
    "# alternative solution\n",
    "\n",
    "test_string = 'xyz' # Fill in with your choice of string.\n",
    "\n",
    "if test_string[0].lower() == 'a': # Change this section to check if the first character in test_string is a lowercase a.\n",
    "    print('Begins with a')\n",
    "else:\n",
    "    print('Does not begin with a')"
   ]
  },
  {
   "cell_type": "markdown",
   "metadata": {},
   "source": [
    "$\\blacksquare$"
   ]
  },
  {
   "cell_type": "markdown",
   "metadata": {},
   "source": [
    "### `if` ... `elif` ... `else` Blocks\n",
    "\n",
    "Sometimes, you might want to run one specific code block out of several. For example, perhaps we provide the user with three choices and want something different to happen with each one.\n",
    "\n",
    "`elif` stands for `else if`. It belongs on a line between the initial `if` statement and an (optional) `else`. "
   ]
  },
  {
   "cell_type": "code",
   "execution_count": 10,
   "metadata": {},
   "outputs": [
    {
     "name": "stdout",
     "output_type": "stream",
     "text": [
      "Your health is average.\n",
      "---\n",
      "These two lines are not indented, so they are always run next.\n"
     ]
    }
   ],
   "source": [
    "# /scrub/\n",
    "health = 55\n",
    "\n",
    "if health > 70:\n",
    "    print('You are in great health!')\n",
    "elif health > 40:\n",
    "    print('Your health is average.')\n",
    "else:\n",
    "    print('Your health is low.')\n",
    "\n",
    "print('---')\n",
    "print('These two lines are not indented, so they are always run next.')"
   ]
  },
  {
   "cell_type": "markdown",
   "metadata": {
    "slideshow": {
     "slide_type": "slide"
    }
   },
   "source": [
    "This code works by evaluating each condition in order. If a condition evaluates to `True`, the rest are skipped."
   ]
  },
  {
   "cell_type": "markdown",
   "metadata": {},
   "source": [
    "![](../assets/images/if-flow.png)"
   ]
  },
  {
   "cell_type": "markdown",
   "metadata": {},
   "source": [
    "**Exercise (6 mins., pair programming).**"
   ]
  },
  {
   "cell_type": "markdown",
   "metadata": {},
   "source": [
    "- Why does the code above say `elif health > 40:` rather than `elif health > 40 and health <= 70:`?"
   ]
  },
  {
   "cell_type": "markdown",
   "metadata": {},
   "source": [
    "/scrub/\n",
    "\n",
    "Adding `and health <= 70` is unnecessary; because we used `elif` rather than `if`, this condition will be checked only if `health > 70` evaluates to `False`, which implies that `health <= 70` would evaluate to `True`."
   ]
  },
  {
   "cell_type": "markdown",
   "metadata": {},
   "source": [
    "- What would happen if we had `health = 80` and the line `elif health > 40` where changed to `if health > 40`? How is `elif` different from `if`?"
   ]
  },
  {
   "cell_type": "markdown",
   "metadata": {},
   "source": [
    "/scrub/\n",
    "\n",
    "In that case, both 'You are in great health!' and 'Your health is average.' would print. `elif` is different from `if` in that an `elif` block is skipped if the `if` condition evaluates to `True`."
   ]
  },
  {
   "cell_type": "markdown",
   "metadata": {
    "slideshow": {
     "slide_type": "slide"
    }
   },
   "source": [
    "- Print out the following recommendations based on the weather conditions. Test your code for different values of the values `temperature` and `weather`:\n",
    "    - The temperature is higher than 60 degrees and it is raining: Bring an umbrella.\n",
    "    - The temperature is lower than or equal to 60 degrees and it is raining: Bring an umbrella and a jacket.\n",
    "    - The temperature is higher than 60 degrees and the sun is shining: Wear a T-shirt.\n",
    "    - The temperature is lower than or equal to 60 degrees and the sun is shining: Bring a jacket."
   ]
  },
  {
   "cell_type": "code",
   "execution_count": 11,
   "metadata": {
    "slideshow": {
     "slide_type": "slide"
    }
   },
   "outputs": [],
   "source": [
    "temperature = 70\n",
    "weather = 'rain'"
   ]
  },
  {
   "cell_type": "code",
   "execution_count": 12,
   "metadata": {
    "slideshow": {
     "slide_type": "slide"
    }
   },
   "outputs": [
    {
     "name": "stdout",
     "output_type": "stream",
     "text": [
      "bring an umbrella\n"
     ]
    }
   ],
   "source": [
    "# /scrub/\n",
    "\n",
    "if temperature > 60:\n",
    "    if weather == 'rain':\n",
    "        print('bring an umbrella')\n",
    "    elif weather == 'shine':\n",
    "        print('wear a t-shirt')\n",
    "else:\n",
    "    if weather == 'rain':\n",
    "        print('bring an umbrella and a jacket')\n",
    "    else:\n",
    "        print('bring a jacket')"
   ]
  },
  {
   "cell_type": "markdown",
   "metadata": {},
   "source": [
    "- **BONUS:** If you used `and` in the coding exercise, try using nested `if` statements instead, or vice-versa."
   ]
  },
  {
   "cell_type": "code",
   "execution_count": 13,
   "metadata": {},
   "outputs": [
    {
     "name": "stdout",
     "output_type": "stream",
     "text": [
      "bring an umbrella\n"
     ]
    }
   ],
   "source": [
    "# /scrub/\n",
    "\n",
    "if temperature > 60 and weather == 'rain':\n",
    "    print('bring an umbrella')\n",
    "elif temperature > 60:\n",
    "    print('wear a t-shirt')\n",
    "elif temperate <= 60 and weather == 'rain':\n",
    "    print('bring an umbrella and a jacket')\n",
    "else:\n",
    "    print('bring a jacket')"
   ]
  },
  {
   "cell_type": "markdown",
   "metadata": {},
   "source": [
    "$\\blacksquare$"
   ]
  },
  {
   "cell_type": "markdown",
   "metadata": {
    "slideshow": {
     "slide_type": "slide"
    }
   },
   "source": [
    "## `for` Loops\n",
    "\n",
    "The `for` loop allows you to perform a task repeatedly on every element within an object, such as every name in a list."
   ]
  },
  {
   "cell_type": "code",
   "execution_count": 14,
   "metadata": {},
   "outputs": [
    {
     "name": "stdout",
     "output_type": "stream",
     "text": [
      "Rebecca Bunch Is Awesome!\n",
      "Paula Proctor Is Awesome!\n",
      "Heather Davis Is Awesome!\n"
     ]
    }
   ],
   "source": [
    "# Example\n",
    "# /scrub/\n",
    "names = ['Rebecca Bunch', 'Paula Proctor', 'Heather Davis']\n",
    "\n",
    "for name in names:\n",
    "    print(name + ' Is Awesome!')"
   ]
  },
  {
   "cell_type": "markdown",
   "metadata": {
    "slideshow": {
     "slide_type": "slide"
    }
   },
   "source": [
    "We can also combine `if... else` statements and `for` loops:"
   ]
  },
  {
   "cell_type": "code",
   "execution_count": 15,
   "metadata": {},
   "outputs": [
    {
     "name": "stdout",
     "output_type": "stream",
     "text": [
      "Rebecca Bunch Is Awesome!\n",
      "Paula Proctor Is REALLY AWESOME!\n",
      "Heather Davis Is Awesome!\n"
     ]
    }
   ],
   "source": [
    "# /scrub/\n",
    "for name in names:\n",
    "    if name == 'Paula Proctor':\n",
    "        print(name + ' Is REALLY AWESOME!')\n",
    "    else:\n",
    "        print(name + ' Is Awesome!')"
   ]
  },
  {
   "cell_type": "markdown",
   "metadata": {},
   "source": [
    "**Exercise (15 mins., pair programming)**"
   ]
  },
  {
   "cell_type": "markdown",
   "metadata": {
    "slideshow": {
     "slide_type": "slide"
    }
   },
   "source": [
    "- Write a `for` loop that iterates from number 1 to number 15 and prints the number on each iteration, like so:\n",
    "\n",
    "```\n",
    "Iteration: 1\n",
    "Iteration: 2\n",
    "Iteration: 3\n",
    "Iteration: 4\n",
    "Iteration: 5\n",
    "Iteration: 6\n",
    "Iteration: 7\n",
    "Iteration: 8\n",
    "Iteration: 9\n",
    "Iteration: 10\n",
    "Iteration: 11\n",
    "Iteration: 12\n",
    "Iteration: 13\n",
    "Iteration: 14\n",
    "Iteration: 15\n",
    "```"
   ]
  },
  {
   "cell_type": "code",
   "execution_count": 16,
   "metadata": {},
   "outputs": [
    {
     "ename": "SyntaxError",
     "evalue": "invalid syntax (<ipython-input-16-ea3e146663fd>, line 3)",
     "output_type": "error",
     "traceback": [
      "\u001b[0;36m  File \u001b[0;32m\"<ipython-input-16-ea3e146663fd>\"\u001b[0;36m, line \u001b[0;32m3\u001b[0m\n\u001b[0;31m    <YOUR CODE HERE>\u001b[0m\n\u001b[0m    ^\u001b[0m\n\u001b[0;31mSyntaxError\u001b[0m\u001b[0;31m:\u001b[0m invalid syntax\n"
     ]
    }
   ],
   "source": [
    "# Starter code:\n",
    "for i in range(1, 16):\n",
    "    <YOUR CODE HERE>\n",
    "\n",
    "# /scrub/\n",
    "\n",
    "for i in range(1, 16):\n",
    "    print('Iteration:', i)"
   ]
  },
  {
   "cell_type": "markdown",
   "metadata": {
    "slideshow": {
     "slide_type": "slide"
    }
   },
   "source": [
    "- Iterate through the following list of animals, and print each one in all caps."
   ]
  },
  {
   "cell_type": "markdown",
   "metadata": {},
   "source": [
    "*Hint:* Use the `.upper` string method."
   ]
  },
  {
   "cell_type": "code",
   "execution_count": 17,
   "metadata": {
    "slideshow": {
     "slide_type": "slide"
    }
   },
   "outputs": [],
   "source": [
    "animals = ['duck', 'rat', 'boar', 'slug', 'mammoth', 'gazelle']"
   ]
  },
  {
   "cell_type": "code",
   "execution_count": 18,
   "metadata": {},
   "outputs": [
    {
     "name": "stdout",
     "output_type": "stream",
     "text": [
      "DUCK\n",
      "RAT\n",
      "BOAR\n",
      "SLUG\n",
      "MAMMOTH\n",
      "GAZELLE\n"
     ]
    }
   ],
   "source": [
    "# /scrub/\n",
    "\n",
    "for animal in animals:\n",
    "    print(animal.upper())"
   ]
  },
  {
   "cell_type": "markdown",
   "metadata": {
    "slideshow": {
     "slide_type": "slide"
    }
   },
   "source": [
    "- Create a new list consisting of the items in `animals`, but with the first letter of each animal's name capitalized.\n",
    "\n",
    "*Hints*:\n",
    "\n",
    "- Initialize an empty list, then append to it.\n",
    "- Use the `.capitalize()` string method."
   ]
  },
  {
   "cell_type": "code",
   "execution_count": 19,
   "metadata": {},
   "outputs": [],
   "source": [
    "# starter code\n",
    "\n",
    "cap_animals = []\n",
    "for animal in animals:\n",
    "    pass  # START HERE"
   ]
  },
  {
   "cell_type": "code",
   "execution_count": 20,
   "metadata": {
    "slideshow": {
     "slide_type": "slide"
    }
   },
   "outputs": [
    {
     "name": "stdout",
     "output_type": "stream",
     "text": [
      "['Duck', 'Rat', 'Boar', 'Slug', 'Mammoth', 'Gazelle']\n"
     ]
    }
   ],
   "source": [
    "# /scrub/\n",
    "\n",
    "cap_animals = []\n",
    "for animal in animals:\n",
    "    cap_animal = animal.capitalize()\n",
    "    cap_animals.append(cap_animal)\n",
    "print(cap_animals)"
   ]
  },
  {
   "cell_type": "markdown",
   "metadata": {
    "slideshow": {
     "slide_type": "slide"
    }
   },
   "source": [
    "- Iterate through the animals. Print out the animal name and the number of vowels in the name. *Hints*:\n",
    "\n",
    "    - You may need to create a string variable that contains all of the vowels for comparison. Use the `in` operator to check whether a letter is in the list. (E.g. `1 in [1, 2, 3]` evaluates to `True`.)\n",
    "    - Make sure you can handle any combination of capital and lowercase letters! The `.lower()` method might be useful."
   ]
  },
  {
   "cell_type": "code",
   "execution_count": 21,
   "metadata": {
    "slideshow": {
     "slide_type": "slide"
    }
   },
   "outputs": [
    {
     "name": "stdout",
     "output_type": "stream",
     "text": [
      "duck 1\n",
      "rat 1\n",
      "boar 2\n",
      "slug 1\n",
      "mammoth 2\n",
      "gazelle 3\n"
     ]
    }
   ],
   "source": [
    "# /scrub/\n",
    "\n",
    "vowels = 'aeiou'\n",
    "for animal in animals:\n",
    "    vowel_count = 0\n",
    "    for character in animal.lower():\n",
    "        if character in vowels:\n",
    "            vowel_count += 1\n",
    "    print(animal, vowel_count)"
   ]
  },
  {
   "cell_type": "markdown",
   "metadata": {
    "slideshow": {
     "slide_type": "slide"
    }
   },
   "source": [
    "- Iterate from 1 to 15, printing whether the number is odd or even, like so:\n",
    "\n",
    "1 odd\n",
    "\n",
    "2 even\n",
    "\n",
    "3 odd\n",
    "\n",
    "4 even\n",
    "\n",
    "5 odd\n",
    "\n",
    "6 even\n",
    "\n",
    "7 odd\n",
    "\n",
    "8 even\n",
    "\n",
    "9 odd\n",
    "\n",
    "10 even\n",
    "\n",
    "11 odd\n",
    "\n",
    "12 even\n",
    "\n",
    "13 odd\n",
    "\n",
    "14 even\n",
    "\n",
    "15 odd\n",
    "\n",
    "*Hint*: The modulus operator, `%`, can be used to take the remainder. For example:\n",
    "\n",
    "```python\n",
    "9 % 5 == 4\n",
    "```\n",
    "\n",
    "Or, in other words, the remainder of dividing 9 by 5 is 4."
   ]
  },
  {
   "cell_type": "code",
   "execution_count": 22,
   "metadata": {
    "slideshow": {
     "slide_type": "slide"
    }
   },
   "outputs": [
    {
     "name": "stdout",
     "output_type": "stream",
     "text": [
      "1 odd\n",
      "2 even\n",
      "3 odd\n",
      "4 even\n",
      "5 odd\n",
      "6 even\n",
      "7 odd\n",
      "8 even\n",
      "9 odd\n",
      "10 even\n",
      "11 odd\n",
      "12 even\n",
      "13 odd\n",
      "14 even\n",
      "15 odd\n"
     ]
    }
   ],
   "source": [
    "# /scrub/\n",
    "\n",
    "for i in range(1, 16):\n",
    "    if i % 2 == 0:\n",
    "        print(i, 'even')\n",
    "    else:\n",
    "        print(i, 'odd')"
   ]
  },
  {
   "cell_type": "markdown",
   "metadata": {},
   "source": [
    "$\\blacksquare$"
   ]
  },
  {
   "cell_type": "markdown",
   "metadata": {},
   "source": [
    "## Functions"
   ]
  },
  {
   "cell_type": "markdown",
   "metadata": {
    "slideshow": {
     "slide_type": "slide"
    }
   },
   "source": [
    "A **function** is a named block of code that can be run on demand. It typically takes a set of **arguments** as input, performs some actions on those inputs, and returns a result.\n",
    "\n",
    "Syntax:\n",
    "\n",
    "```python\n",
    "def function_name(argument1, argument2, etc.):\n",
    "    # Do things here.\n",
    "    return value\n",
    "```\n",
    "\n",
    "Now we can **call** the function and store its return value as a variable:\n",
    "\n",
    "```python\n",
    "x = function_name(20, 30)\n",
    "```"
   ]
  },
  {
   "cell_type": "code",
   "execution_count": 23,
   "metadata": {},
   "outputs": [
    {
     "data": {
      "text/plain": [
       "8"
      ]
     },
     "execution_count": 23,
     "metadata": {},
     "output_type": "execute_result"
    }
   ],
   "source": [
    "# Example\n",
    "# /scrub/\n",
    "def my_sum(num1, num2):\n",
    "    return num1 + num2\n",
    "    \n",
    "my_sum(3,5)"
   ]
  },
  {
   "cell_type": "markdown",
   "metadata": {},
   "source": [
    "**Exercise (12 mins., pair programming)**"
   ]
  },
  {
   "cell_type": "markdown",
   "metadata": {},
   "source": [
    "- Write a function that takes the length of a side of a square as an argument and returns its area. Call it with a side length of 4, and make sure the result is correct (16) before you move on.\n",
    "\n",
    "*Hint*: The area of a square is the length of one of its sides squared (`area = length**2` in Python syntax)."
   ]
  },
  {
   "cell_type": "code",
   "execution_count": 24,
   "metadata": {},
   "outputs": [],
   "source": [
    "# /scrub/\n",
    "def area_square(length):\n",
    "    return length**2"
   ]
  },
  {
   "cell_type": "code",
   "execution_count": 25,
   "metadata": {},
   "outputs": [
    {
     "data": {
      "text/plain": [
       "16"
      ]
     },
     "execution_count": 25,
     "metadata": {},
     "output_type": "execute_result"
    }
   ],
   "source": [
    "# /scrub/\n",
    "area_square(4)"
   ]
  },
  {
   "cell_type": "markdown",
   "metadata": {},
   "source": [
    "- Write a function that takes the base and height of a triangle and returns its area. Call it with base of 3 and height of 6 and make sure the result is correct (9) before you move on.\n",
    "\n",
    "*Hint*: The area of a triangle is half of the product of its base and its height."
   ]
  },
  {
   "cell_type": "code",
   "execution_count": 26,
   "metadata": {},
   "outputs": [],
   "source": [
    "# /scrub/\n",
    "def area_triangle(base, height):\n",
    "    return 1/2 * base * height"
   ]
  },
  {
   "cell_type": "code",
   "execution_count": 27,
   "metadata": {},
   "outputs": [
    {
     "data": {
      "text/plain": [
       "9.0"
      ]
     },
     "execution_count": 27,
     "metadata": {},
     "output_type": "execute_result"
    }
   ],
   "source": [
    "# /scrub/\n",
    "area_triangle(3, 6)"
   ]
  },
  {
   "cell_type": "markdown",
   "metadata": {},
   "source": [
    "- Write a function that takes two integers and returns their sum, difference, and product as a tuple. Call it on a pair of numbers that you choose and confirm that the answer is correct before you move on."
   ]
  },
  {
   "cell_type": "code",
   "execution_count": 28,
   "metadata": {},
   "outputs": [],
   "source": [
    "# /scrub/\n",
    "def arithmetic_results(num1, num2):\n",
    "    sum_value = num1 + num2\n",
    "    diff = num1 - num2\n",
    "    prod = num1 * num2\n",
    "    return sum_value, diff, prod"
   ]
  },
  {
   "cell_type": "code",
   "execution_count": 29,
   "metadata": {},
   "outputs": [
    {
     "data": {
      "text/plain": [
       "(120, -80, 2000)"
      ]
     },
     "execution_count": 29,
     "metadata": {},
     "output_type": "execute_result"
    }
   ],
   "source": [
    "# /scrub/\n",
    "arithmetic_results(20, 100)"
   ]
  },
  {
   "cell_type": "markdown",
   "metadata": {},
   "source": [
    "- Write a function that takes a string as an argument and returns a list of all of the characters in the string. Test it before you move on.\n",
    "\n",
    "*Hint:* Create an empty list, then append to it as you loop over the input string."
   ]
  },
  {
   "cell_type": "code",
   "execution_count": 30,
   "metadata": {},
   "outputs": [
    {
     "name": "stdout",
     "output_type": "stream",
     "text": [
      "['L', 'i', 's', 'a', ' ', 'S', 'i', 'm', 'p', 's', 'o', 'n']\n"
     ]
    }
   ],
   "source": [
    "# /scrub/\n",
    "def string_to_char_list(string):\n",
    "    list_of_characters = []\n",
    "    for char in string:\n",
    "        list_of_characters.append(char)\n",
    "    return list_of_characters\n",
    "\n",
    "print(string_to_char_list('Lisa Simpson'))"
   ]
  },
  {
   "cell_type": "markdown",
   "metadata": {},
   "source": [
    "- Write a function called `count_vowels` that takes a word as an argument and returns the number of vowels in the word. (You have already written code to perform this task -- you just need to package it into a function.)"
   ]
  },
  {
   "cell_type": "code",
   "execution_count": 31,
   "metadata": {},
   "outputs": [],
   "source": [
    "# /scrub/\n",
    "def count_vowels(string):\n",
    "    num_vowels = 0\n",
    "    vowels = 'aeiouAEIOU'\n",
    "    \n",
    "    for char in string:\n",
    "        if char in vowels:\n",
    "            num_vowels += 1\n",
    "    \n",
    "    return num_vowels"
   ]
  },
  {
   "cell_type": "code",
   "execution_count": 32,
   "metadata": {},
   "outputs": [],
   "source": [
    "# This cell will raise an error if your function fails on these cases:\n",
    "\n",
    "assert count_vowels('hello') == 2\n",
    "assert count_vowels('SPECIALIST') == 4\n",
    "assert count_vowels('Insanely') == 3"
   ]
  },
  {
   "cell_type": "markdown",
   "metadata": {},
   "source": [
    "$\\blacksquare$"
   ]
  },
  {
   "cell_type": "markdown",
   "metadata": {
    "slideshow": {
     "slide_type": "slide"
    },
    "toc-hr-collapsed": true
   },
   "source": [
    "## `while` Loops\n",
    "\n",
    "Pseudocode:\n",
    "\n",
    "```python\n",
    "# A threshold or criteria is set.\n",
    "    # As long as the threshold or criteria isn't met,\n",
    "    # perform a task.\n",
    "    # Check threshold/criteria.\n",
    "        # If threshold/criteria is met or exceed,\n",
    "            # break loop.\n",
    "        # If not, repeat.\n",
    "    \n",
    "```"
   ]
  },
  {
   "cell_type": "markdown",
   "metadata": {},
   "source": [
    "`while` loops are a different means of performing repetitive tasks/iteration. The function of a `for` loop is to perform tasks over a _finite collection_. The function of a `while` loop is to perform a repetitive task until a _specific threshold or criteria is met_."
   ]
  },
  {
   "cell_type": "code",
   "execution_count": 33,
   "metadata": {},
   "outputs": [
    {
     "name": "stdout",
     "output_type": "stream",
     "text": [
      "0\n",
      "1\n",
      "2\n",
      "3\n",
      "4\n",
      "5\n",
      "6\n",
      "7\n",
      "8\n",
      "9\n"
     ]
    }
   ],
   "source": [
    "# Example\n",
    "# /scrub/\n",
    "x = 0\n",
    "while x < 10:\n",
    "    print(x)\n",
    "    x = x+1"
   ]
  },
  {
   "cell_type": "markdown",
   "metadata": {},
   "source": [
    "### Caution\n",
    "\n",
    "```python\n",
    "x = 0\n",
    "while x < 10:\n",
    "    print(x)\n",
    "```\n",
    "\n",
    "What would happen if you ran this code?"
   ]
  },
  {
   "cell_type": "markdown",
   "metadata": {
    "slideshow": {
     "slide_type": "slide"
    }
   },
   "source": [
    "**Exercise (6 mins., pair programming)**\n",
    "\n",
    "- Iterate over the following sentence repeatedly, counting the number of vowels in the sentence until you have tallied 1 million. (Use the vowel counting function you defined above!) Print out the number of iterations it took to reach that amount."
   ]
  },
  {
   "cell_type": "code",
   "execution_count": 34,
   "metadata": {
    "slideshow": {
     "slide_type": "slide"
    }
   },
   "outputs": [],
   "source": [
    "sentence = \"\"\"A MAN KNOCKED ON MY DOOR AND ASKED FOR A SMALL DONATION TOWARDS THE LOCAL\n",
    "              SWIMMING POOL SO I GAVE HIM A GLASS OF WATER\"\"\""
   ]
  },
  {
   "cell_type": "code",
   "execution_count": 35,
   "metadata": {
    "slideshow": {
     "slide_type": "slide"
    }
   },
   "outputs": [
    {
     "name": "stdout",
     "output_type": "stream",
     "text": [
      "iterations: 27778\n",
      "vowels: 1000008\n"
     ]
    }
   ],
   "source": [
    "# /scrub/\n",
    "\n",
    "iterations = 0\n",
    "vowels = 0\n",
    "while True:\n",
    "    iterations += 1\n",
    "    vowels += count_vowels(sentence)\n",
    "    if vowels >= 1000000:\n",
    "        break\n",
    "print('iterations:', iterations)\n",
    "print('vowels:', vowels)"
   ]
  },
  {
   "cell_type": "markdown",
   "metadata": {},
   "source": [
    "$\\blacksquare$"
   ]
  },
  {
   "cell_type": "markdown",
   "metadata": {
    "slideshow": {
     "slide_type": "slide"
    },
    "toc-hr-collapsed": true
   },
   "source": [
    "## try..except"
   ]
  },
  {
   "cell_type": "markdown",
   "metadata": {},
   "source": [
    "Pseudocode:\n",
    "\n",
    "```python\n",
    "# Try to do something\n",
    "# If you get a specific failure, do something else.\n",
    "```"
   ]
  },
  {
   "cell_type": "code",
   "execution_count": 36,
   "metadata": {
    "slideshow": {
     "slide_type": "slide"
    }
   },
   "outputs": [],
   "source": [
    "corrupted = ['!1', '23.1', '23.4.5', '??12', '.12', '12-12', '-11.1', '0-1', '*12.1', '1000']"
   ]
  },
  {
   "cell_type": "code",
   "execution_count": 37,
   "metadata": {
    "slideshow": {
     "slide_type": "slide"
    }
   },
   "outputs": [
    {
     "name": "stdout",
     "output_type": "stream",
     "text": [
      "[23.1, 0.12, -11.1, 1000.0]\n"
     ]
    }
   ],
   "source": [
    "# Example: Make a list of just the uncorrupted items in `corrupted`\n",
    "# /scrub/\n",
    "cleaned = []\n",
    "for item in corrupted:\n",
    "    try:\n",
    "        cleaned.append(float(item))\n",
    "    except ValueError:\n",
    "        pass\n",
    "print(cleaned)"
   ]
  },
  {
   "cell_type": "markdown",
   "metadata": {},
   "source": [
    "**Exercise (5 mins.)**\n",
    "\n",
    "- Calculate the average of a list of numbers, skipping `None`s. *Hints*:\n",
    "    - Create variables `total = 0` and `count = 0`, update their values appropriately as you iterate through the list, and then calculate the average as `total / count`.\n",
    "    - You should get 63.8"
   ]
  },
  {
   "cell_type": "code",
   "execution_count": 38,
   "metadata": {},
   "outputs": [],
   "source": [
    "nums = [12, 84, None, 17, 63, None, 143]"
   ]
  },
  {
   "cell_type": "code",
   "execution_count": 39,
   "metadata": {},
   "outputs": [
    {
     "name": "stdout",
     "output_type": "stream",
     "text": [
      "63.8\n"
     ]
    }
   ],
   "source": [
    "# /scrub/\n",
    "\n",
    "total = 0\n",
    "count = 0\n",
    "for num in nums:\n",
    "    try:\n",
    "        total += num\n",
    "        count += 1\n",
    "    except TypeError:\n",
    "        pass\n",
    "\n",
    "print(total / count)"
   ]
  },
  {
   "cell_type": "markdown",
   "metadata": {},
   "source": [
    "$\\blacksquare$"
   ]
  },
  {
   "cell_type": "markdown",
   "metadata": {},
   "source": [
    "## Tips Developing an Algorithm"
   ]
  },
  {
   "cell_type": "markdown",
   "metadata": {},
   "source": [
    "For the Unit 1 Project, you will use Python to solve coding challenges. Suggested process:\n",
    "\n",
    "1. Come up with a few test cases, including \"edge cases\" (weird inputs such as empty lists).\n",
    "- Work out the algorithm on paper and make sure it seems to work at least on a straightforward test case.\n",
    "- Write down \"pseudocode\" that lays out the steps of the algorithm in English.\n",
    "- Translate your pseudocode into Python.\n",
    "- Run the pseudocode on your test cases, and debug as needed."
   ]
  },
  {
   "cell_type": "markdown",
   "metadata": {},
   "source": [
    "We provide pseudocode for the trickier problems on the assignment so that you can focus on the Python, but it's helpful to keep in mind that it is often a good idea to work out the algorithm you want to implement before you start writing code."
   ]
  },
  {
   "cell_type": "markdown",
   "metadata": {},
   "source": [
    "**Example:** Let's go through steps 1-3 for this problem.\n",
    "\n",
    "> A palindromic number reads the same both ways. For example, 1234321 is a palindrome. The largest palindrome made from the product of two two-digit numbers is 9009 = 91 × 99. Find the largest palindrome made from the product of two three-digit numbers."
   ]
  },
  {
   "cell_type": "markdown",
   "metadata": {},
   "source": [
    "### Some Test Cases"
   ]
  },
  {
   "cell_type": "markdown",
   "metadata": {},
   "source": [
    "/scrub/\n",
    "\n",
    "- A palindrome: `racecar`\n",
    "- A non-palindrome: `potato`\n",
    "- The empty string: `''`\n",
    "- A one-character string: 'a'"
   ]
  },
  {
   "cell_type": "markdown",
   "metadata": {},
   "source": [
    "### Coming Up With an Algorithm"
   ]
  },
  {
   "cell_type": "markdown",
   "metadata": {},
   "source": [
    "/scrub/\n",
    "\n",
    "- Generate all products of three-digit numbers. Could use a double for-loop.\n",
    "- Check whether each one is a palindrome. Simplest way is to reverse it and check whether it's equal to itself.\n",
    "- Keep track of the biggest palindrome you have seen so far."
   ]
  },
  {
   "cell_type": "markdown",
   "metadata": {},
   "source": [
    "### Generating Pseudocode"
   ]
  },
  {
   "cell_type": "markdown",
   "metadata": {},
   "source": [
    "/scrub/\n",
    "\n",
    "```\n",
    "- Initialize a variable `result` to 0.\n",
    "- For each number A 100 through 999:\n",
    "    - For each number B 100 through 999:\n",
    "        - Multiply A and B.\n",
    "        - Turn that product into a string (use `str` as a function).\n",
    "        - Reverse the string (use `my_string[::-1]`).\n",
    "        - If the string and its reverse are the same and the product is\n",
    "        greater than `result`,  set `result` to that new value.\n",
    "```"
   ]
  }
 ],
 "metadata": {
  "kernelspec": {
   "display_name": "Python 3",
   "language": "python",
   "name": "python3"
  },
  "language_info": {
   "codemirror_mode": {
    "name": "ipython",
    "version": 3
   },
   "file_extension": ".py",
   "mimetype": "text/x-python",
   "name": "python",
   "nbconvert_exporter": "python",
   "pygments_lexer": "ipython3",
   "version": "3.7.2"
  }
 },
 "nbformat": 4,
 "nbformat_minor": 2
}
