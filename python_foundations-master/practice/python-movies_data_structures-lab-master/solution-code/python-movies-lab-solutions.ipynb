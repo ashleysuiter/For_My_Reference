{
 "cells": [
  {
   "cell_type": "markdown",
   "metadata": {},
   "source": [
    "<img src=\"http://imgur.com/1ZcRyrc.png\" style=\"float: left; margin: 20px; height: 55px\">\n",
    "\n",
    "## Python Review with Movie Data\n",
    "\n",
    "_Author: Kiefer Katovich and Dave Yerrington | DSI-SF_\n",
    "\n",
    "---\n",
    "\n",
    "In this lab you'll be using the provided [IMDB](http://www.imdb.com/) `movies` list below as your dataset. \n",
    "\n",
    "This lab is designed to practice iteration and funcitons in particular. The normal questions are more gentle, and the challenge questions are suitable for advanced/expert python or programming-experienced students. \n",
    "\n",
    "All the questions require writing functions and also use iteration to solve. You should print out a test of each function you write.\n",
    "\n",
    "\n",
    "### 1. Load the provided list of movies dictionaries."
   ]
  },
  {
   "cell_type": "code",
   "execution_count": 1,
   "metadata": {},
   "outputs": [],
   "source": [
    "# List of movies dictionaries:\n",
    "\n",
    "movies = [\n",
    "{\n",
    "\"name\": \"Usual Suspects\", \n",
    "\"imdb\": 7.0,\n",
    "\"category\": \"Thriller\"\n",
    "},\n",
    "{\n",
    "\"name\": \"Hitman\",\n",
    "\"imdb\": 6.3,\n",
    "\"category\": \"Action\"\n",
    "},\n",
    "{\n",
    "\"name\": \"Dark Knight\",\n",
    "\"imdb\": 9.0,\n",
    "\"category\": \"Adventure\"\n",
    "},\n",
    "{\n",
    "\"name\": \"The Help\",\n",
    "\"imdb\": 8.0,\n",
    "\"category\": \"Drama\"\n",
    "},\n",
    "{\n",
    "\"name\": \"The Choice\",\n",
    "\"imdb\": 6.2,\n",
    "\"category\": \"Romance\"\n",
    "},\n",
    "{\n",
    "\"name\": \"Colonia\",\n",
    "\"imdb\": 7.4,\n",
    "\"category\": \"Romance\"\n",
    "},\n",
    "{\n",
    "\"name\": \"Love\",\n",
    "\"imdb\": 6.0,\n",
    "\"category\": \"Romance\"\n",
    "},\n",
    "{\n",
    "\"name\": \"Bride Wars\",\n",
    "\"imdb\": 5.4,\n",
    "\"category\": \"Romance\"\n",
    "},\n",
    "{\n",
    "\"name\": \"AlphaJet\",\n",
    "\"imdb\": 3.2,\n",
    "\"category\": \"War\"\n",
    "},\n",
    "{\n",
    "\"name\": \"Ringing Crime\",\n",
    "\"imdb\": 4.0,\n",
    "\"category\": \"Crime\"\n",
    "},\n",
    "{\n",
    "\"name\": \"Joking muck\",\n",
    "\"imdb\": 7.2,\n",
    "\"category\": \"Comedy\"\n",
    "},\n",
    "{\n",
    "\"name\": \"What is the name\",\n",
    "\"imdb\": 9.2,\n",
    "\"category\": \"Suspense\"\n",
    "},\n",
    "{\n",
    "\"name\": \"Detective\",\n",
    "\"imdb\": 7.0,\n",
    "\"category\": \"Suspense\"\n",
    "},\n",
    "{\n",
    "\"name\": \"Exam\",\n",
    "\"imdb\": 4.2,\n",
    "\"category\": \"Thriller\"\n",
    "},\n",
    "{\n",
    "\"name\": \"We Two\",\n",
    "\"imdb\": 7.2,\n",
    "\"category\": \"Romance\"\n",
    "}\n",
    "]"
   ]
  },
  {
   "cell_type": "markdown",
   "metadata": {},
   "source": [
    "---\n",
    "\n",
    "### 2. Filtering data by IMDB score\n",
    "\n",
    "#### 2.1 \n",
    "\n",
    "Write a function that:\n",
    "\n",
    "1. Accepts a single movie dictionary from the `movies` list as an argument.\n",
    "2. Returns True if the IMDB score is above 5.5.\n",
    "\n",
    "#### 2.2 [Challenge] \n",
    "\n",
    "Write a function that:\n",
    "\n",
    "1. Accepts the movies list and a specified category.\n",
    "2. Returns True if the average score of the category is higher than the average score of all movies."
   ]
  },
  {
   "cell_type": "code",
   "execution_count": 2,
   "metadata": {},
   "outputs": [
    {
     "name": "stdout",
     "output_type": "stream",
     "text": [
      "{'name': 'Usual Suspects', 'imdb': 7.0, 'category': 'Thriller'}\n",
      "True\n"
     ]
    }
   ],
   "source": [
    "# 2.1:\n",
    "\n",
    "def imdb_score_over_bad(movie):\n",
    "    if movie['imdb'] > 5.5:\n",
    "        return True\n",
    "    else:\n",
    "        return False\n",
    "\n",
    "print(movies[0])\n",
    "print(imdb_score_over_bad(movies[0]))"
   ]
  },
  {
   "cell_type": "code",
   "execution_count": 3,
   "metadata": {},
   "outputs": [
    {
     "name": "stdout",
     "output_type": "stream",
     "text": [
      "False\n",
      "True\n"
     ]
    }
   ],
   "source": [
    "# 2.2\n",
    "\n",
    "def movies_category_over_avg(movies, category):\n",
    "    overall_average = []\n",
    "    category_average = []\n",
    "    \n",
    "    \n",
    "    for movie in movies:\n",
    "        # creates a list of all the imdb scores\n",
    "        overall_average.append(movie['imdb'])\n",
    "        # creates a list of all imdb scores that match the category argument\n",
    "        if movie['category'] == category:\n",
    "            category_average.append(movie['imdb'])\n",
    "            \n",
    "    # uses imbd scores list to manually calculate datasets mean    \n",
    "    overall_average = sum(overall_average)/len(overall_average)\n",
    "    # catch to identify and respond to invalid categories.  \n",
    "    if len(category_average) == 0:\n",
    "        print('no movies in specified category:', category)\n",
    "        return False\n",
    "    # else valid category, calculate mean\n",
    "    else:\n",
    "        category_average = sum(category_average)/len(category_average)\n",
    "        # compare category and overall means\n",
    "        if category_average > overall_average:\n",
    "            return True\n",
    "        else:\n",
    "            return False\n",
    "\n",
    "print(movies_category_over_avg(movies, 'Thriller'))\n",
    "print(movies_category_over_avg(movies, 'Suspense'))"
   ]
  },
  {
   "cell_type": "markdown",
   "metadata": {},
   "source": [
    "---\n",
    "\n",
    "### 3. Creating subsets by numeric condition\n",
    "\n",
    "#### 3.1\n",
    "\n",
    "Write a function that:\n",
    "\n",
    "1. Accepts the list of movies and a specified imdb score.\n",
    "2. Returns the sublist of movies that have a score greater than the specified score.\n",
    "\n",
    "#### 3.2 [Expert] \n",
    "\n",
    "Write a function that:\n",
    "\n",
    "1. Accepts the movies list as an argument.\n",
    "2. Returns the movies list sorted first by category and then by movie according to category average score and individual IMDB score, respectively."
   ]
  },
  {
   "cell_type": "code",
   "execution_count": 4,
   "metadata": {},
   "outputs": [
    {
     "name": "stdout",
     "output_type": "stream",
     "text": [
      "[{'name': 'Dark Knight', 'imdb': 9.0, 'category': 'Adventure'}, {'name': 'What is the name', 'imdb': 9.2, 'category': 'Suspense'}]\n"
     ]
    }
   ],
   "source": [
    "# 3.1\n",
    "\n",
    "def score_greater_subset(movies, score):\n",
    "    subset = []\n",
    "    for movie in movies:\n",
    "        if movie['imdb'] > score:\n",
    "            subset.append(movie)\n",
    "    return subset\n",
    "\n",
    "print(score_greater_subset(movies, 8.5))"
   ]
  },
  {
   "cell_type": "code",
   "execution_count": 5,
   "metadata": {},
   "outputs": [
    {
     "data": {
      "text/plain": [
       "[{'category': 'Adventure', 'imdb': 9.0, 'name': 'Dark Knight'},\n",
       " {'category': 'Suspense', 'imdb': 9.2, 'name': 'What is the name'},\n",
       " {'category': 'Suspense', 'imdb': 7.0, 'name': 'Detective'},\n",
       " {'category': 'Drama', 'imdb': 8.0, 'name': 'The Help'},\n",
       " {'category': 'Comedy', 'imdb': 7.2, 'name': 'Joking muck'},\n",
       " {'category': 'Romance', 'imdb': 7.4, 'name': 'Colonia'},\n",
       " {'category': 'Romance', 'imdb': 7.2, 'name': 'We Two'},\n",
       " {'category': 'Romance', 'imdb': 6.2, 'name': 'The Choice'},\n",
       " {'category': 'Romance', 'imdb': 6.0, 'name': 'Love'},\n",
       " {'category': 'Romance', 'imdb': 5.4, 'name': 'Bride Wars'},\n",
       " {'category': 'Action', 'imdb': 6.3, 'name': 'Hitman'},\n",
       " {'category': 'Thriller', 'imdb': 7.0, 'name': 'Usual Suspects'},\n",
       " {'category': 'Thriller', 'imdb': 4.2, 'name': 'Exam'},\n",
       " {'category': 'Crime', 'imdb': 4.0, 'name': 'Ringing Crime'},\n",
       " {'category': 'War', 'imdb': 3.2, 'name': 'AlphaJet'}]"
      ]
     },
     "execution_count": 5,
     "metadata": {},
     "output_type": "execute_result"
    }
   ],
   "source": [
    "# 3.2\n",
    "# See here for another example and explanation of the lambda search:\n",
    "# http://stackoverflow.com/questions/3766633/how-to-sort-with-lambda-in-python\n",
    "# http://stackoverflow.com/questions/14299448/sorting-by-multiple-conditions-in-python\n",
    "\n",
    "def category_score_sorted(movies):\n",
    "    category_scores = {}\n",
    "    for movie in movies:\n",
    "        # if the category key does not exist in the category_scores dic\n",
    "        if not movie['category'] in category_scores:\n",
    "            # add the category key with its first value being the IMDB score\n",
    "            category_scores[movie['category']] = [movie['imdb']]\n",
    "        else:\n",
    "            # otherwise append the score to the existing categories values list\n",
    "            category_scores[movie['category']].append(movie['imdb'])\n",
    "    \n",
    "    # uses category key and values list to create a new dic where values are the means.\n",
    "    category_averages = {}\n",
    "    for cat, vals in list(category_scores.items()):\n",
    "        category_averages[cat] = sum(vals)/len(vals)\n",
    "    \n",
    "    \n",
    "    movies_sorted = sorted(movies, key=lambda x: (category_averages[x['category']],\n",
    "                                                  x['imdb']), reverse=True)\n",
    "        # 'key' argument in the sorted function refers the desired means of sorting.\n",
    "        # 'x' is refering to each individual entry in the movies list\n",
    "        # Lamba functions are like single use, one-line functions.\n",
    "        # in this case we are sorting by category_avg and then IMDB scores\n",
    "        # reverse because we want high to low instead of low to high\n",
    "    \n",
    "    return movies_sorted\n",
    "\n",
    "category_score_sorted(movies)"
   ]
  },
  {
   "cell_type": "markdown",
   "metadata": {},
   "source": [
    "---\n",
    "\n",
    "### 4. Creating subsets by string condition\n",
    "\n",
    "#### 4.1\n",
    "\n",
    "Write a function that:\n",
    "\n",
    "1. Accepts the movies list and a category name.\n",
    "2. Returns the movie names within that category (case-insensitive!)\n",
    "3. If the category is not in the data, print a message that it does not exist and return None.\n",
    "\n",
    "Recall that to convert a string to lowercase, you can use:\n",
    "\n",
    "```python\n",
    "mystring = 'Dumb and Dumber'\n",
    "lowercase_mystring = mystring.lower()\n",
    "print lowercase_mystring\n",
    "'dumb and dumber'\n",
    "```\n",
    "\n",
    "#### 4.2 [Challenge]\n",
    "\n",
    "Write a function that:\n",
    "\n",
    "1. Accepts the movies list and a \"search string\".\n",
    "2. Returns a dictionary with keys `'category'` and `'title'` whose values are lists of categories that contain the search string and titles that contain the search string, respectively (case-insensitive!)"
   ]
  },
  {
   "cell_type": "code",
   "execution_count": 6,
   "metadata": {},
   "outputs": [
    {
     "name": "stdout",
     "output_type": "stream",
     "text": [
      "[{'name': 'What is the name', 'imdb': 9.2, 'category': 'Suspense'}, {'name': 'Detective', 'imdb': 7.0, 'category': 'Suspense'}]\n",
      "No movies in category: sci-fi\n",
      "None\n"
     ]
    }
   ],
   "source": [
    "# 4.1\n",
    "\n",
    "def category_subset(movies, category):\n",
    "    category = category.lower()\n",
    "    movies_subset = []\n",
    "    \n",
    "    for movie in movies:\n",
    "        movie_category = movie['category'].lower()\n",
    "        if movie_category == category:\n",
    "            movies_subset.append(movie)\n",
    "            \n",
    "    if len(movies_subset) == 0:\n",
    "        print('No movies in category:', category)\n",
    "        return None\n",
    "    else:\n",
    "        return movies_subset\n",
    "    \n",
    "print(category_subset(movies, 'suspense'))\n",
    "print(category_subset(movies, 'sci-fi'))"
   ]
  },
  {
   "cell_type": "code",
   "execution_count": 7,
   "metadata": {},
   "outputs": [
    {
     "name": "stdout",
     "output_type": "stream",
     "text": [
      "{'category': ['suspense'], 'title': ['usual suspects']}\n"
     ]
    }
   ],
   "source": [
    "# 4.2\n",
    "\n",
    "def category_title_search(movies, search_string):\n",
    "    search_string = search_string.lower()\n",
    "    \n",
    "    results = {'category':[], 'title':[]}\n",
    "    for movie in movies:\n",
    "        movie_category = movie['category'].lower()\n",
    "        movie_title = movie['name'].lower()\n",
    "        \n",
    "        if search_string in movie_category:\n",
    "            if not movie_category in results['category']:\n",
    "                results['category'].append(movie_category)\n",
    "            \n",
    "        if search_string in movie_title:\n",
    "            results['title'].append(movie_title)\n",
    "            \n",
    "    return results\n",
    "\n",
    "print(category_title_search(movies, 'SUS'))"
   ]
  },
  {
   "cell_type": "markdown",
   "metadata": {},
   "source": [
    "---\n",
    "\n",
    "### 5. Multiple conditions\n",
    "\n",
    "#### 5.1\n",
    "\n",
    "Write a function that:\n",
    "\n",
    "1. Accepts the movies list and a \"search criteria\" variable.\n",
    "2. If the criteria variable is numeric, return a list of movie titles with a score greater than or equal to the criteria.\n",
    "3. If the criteria variable is a string, return a list of movie titles that match that category (case-insensitive!). If there is no match, return an empty list and print an informative message.\n",
    "\n",
    "#### 5.2 [Expert]\n",
    "\n",
    "Write a function that:\n",
    "\n",
    "1. Accepts the movies list and a string search criteria variable.\n",
    "2. The search criteria variable can contain within it:\n",
    "  - Boolean operations: `'AND'`, `'OR'`, and `'NOT'` (can have/be lowercase as well, I just capitalized for clarity).\n",
    "  - Search criteria specified with syntax `score=...`, `category=...`, and/or `title=...`, where the `...` indicates what to look for.\n",
    "    - If `score` is present, it means scores greater than or equal to the value.\n",
    "    - For `category` and `title`, the string indicates that the category or title must _contain_ the search string (case-insensitive).\n",
    "3. Return the matches for the search criteria specified."
   ]
  },
  {
   "cell_type": "code",
   "execution_count": 8,
   "metadata": {},
   "outputs": [
    {
     "name": "stdout",
     "output_type": "stream",
     "text": [
      "['Usual Suspects', 'Dark Knight', 'The Help', 'Colonia', 'Joking muck', 'What is the name', 'Detective', 'We Two']\n",
      "['What is the name', 'Detective']\n",
      "no matches found\n",
      "[]\n",
      "criterion neither string nor numeric\n",
      "[]\n"
     ]
    }
   ],
   "source": [
    "# 5.1\n",
    "\n",
    "def general_search(movies, criterion):\n",
    "    titles_matches = []\n",
    "    \n",
    "    # first check the criterian type\n",
    "    if type(criterion) in [int, float]:\n",
    "        search_for = 'score'\n",
    "    elif type(criterion) == str:\n",
    "        search_for = 'titles'\n",
    "        criterion = criterion.lower()\n",
    "    else:\n",
    "        print('criterion neither string nor numeric')\n",
    "        return titles_matches\n",
    "    \n",
    "    for movie in movies:\n",
    "        if search_for == 'score':\n",
    "            if movie['imdb'] > criterion:\n",
    "                titles_matches.append(movie['name'])\n",
    "                \n",
    "        else:\n",
    "            if movie['category'].lower() == criterion:\n",
    "                titles_matches.append(movie['name'])\n",
    "                \n",
    "    if len(titles_matches) == 0:\n",
    "        print('no matches found')\n",
    "    \n",
    "    return titles_matches\n",
    "\n",
    "print(general_search(movies, 6.9))\n",
    "print(general_search(movies, 'suspense'))\n",
    "print(general_search(movies, 'horror'))\n",
    "print(general_search(movies, {'name':'the godfather'}))\n",
    "                \n",
    "        "
   ]
  },
  {
   "cell_type": "code",
   "execution_count": 9,
   "metadata": {},
   "outputs": [],
   "source": [
    "# 5.2\n",
    "\n",
    "# this function is used later in the function boolean_search and may not make sense initially.\n",
    "def movie_matches_subparser(movies, movie_key, value):\n",
    "    # if we are assessing a title criteria\n",
    "    if movie_key == 'title':\n",
    "        movie_key = 'name'\n",
    "    # if not a title, category or imdb, throw an error message\n",
    "    elif movie_key not in ['category','imdb']:\n",
    "        print('movie lookup key', movie_key, 'incorrect')\n",
    "        return []\n",
    "    # we are assessing a score criteria  \n",
    "    if movie_key == 'imdb':\n",
    "        try:\n",
    "            value = float(value)\n",
    "        # if score is invalid, throw an error message\n",
    "        except:\n",
    "            print('imdb', value, 'cannot become float')\n",
    "            return []\n",
    "        \n",
    "    subset = []\n",
    "    # assigns index values to movies and appends indexes of movies in the specified criteria\n",
    "    for movie_ind, movie in enumerate(movies):\n",
    "        # looks at scores\n",
    "        if type(value) == float:\n",
    "            if movie[movie_key] >= value:\n",
    "                subset.append(movie_ind)\n",
    "        # looks for strings\n",
    "        else:\n",
    "            if value in movie[movie_key].lower():\n",
    "                subset.append(movie_ind)\n",
    "    \n",
    "    return subset\n",
    "\n",
    "\n",
    "# this function is used later in the function boolean_search and may not make sense initially.\n",
    "def meets_boolean_criteria(movies, criteria_info):\n",
    "    # movie indexes = the length of movies to compare to criteria_info\n",
    "    movie_inds = list(range(len(movies)))\n",
    "    \n",
    "    full_set = set(movie_inds)\n",
    "    return_set = set(movie_inds)\n",
    "    \n",
    "    # take a look at our movie's indexes and their booleans.\n",
    "    for boolean, movie_subset in criteria_info:\n",
    "        \n",
    "        #removes duplicate movies as the for loop iterates through\n",
    "        movie_subset = set(movie_subset)\n",
    "        \n",
    "        # uses bools to add or drop movie index lists from the return set\n",
    "        if boolean == 'and':\n",
    "            return_set = return_set & movie_subset\n",
    "        elif boolean == 'or':\n",
    "            return_set = return_set | movie_subset\n",
    "        elif boolean == 'not':\n",
    "            return_set = return_set - movie_subset\n",
    "        elif boolean == 'ornot':\n",
    "            return_set = return_set | (full_set - movie_subset)\n",
    "            \n",
    "    return_list = []\n",
    "    # uses those index values to extract the rest of the movie information\n",
    "    for ind in list(return_set):\n",
    "        return_list.append(movies[ind])\n",
    "        \n",
    "    return return_list  \n",
    "            \n",
    "                \n",
    "\n",
    "def boolean_search(movies, search):\n",
    "    # convert string to lower\n",
    "    search = search.lower()\n",
    "    # split criteria into various parts using whitespace.  \n",
    "    search = search.split(' ')\n",
    "    # if extra or no whitespace is used in the search criteria issues will arise\n",
    "    criteria_info = []\n",
    "    current_boolean = 'and'\n",
    "    \n",
    "    # utilize a while statement to individual assess and extract separate criteria\n",
    "    while len(search) > 0:\n",
    "        # pop off that first criteria\n",
    "        item = search.pop(0)\n",
    "        '''This if statement may seem tricky, but its trying to figure out of the \n",
    "        current criteria is a relational operator or a specified criteria'''\n",
    "        \n",
    "        if item in ['and','or','not']:\n",
    "            if (current_boolean == 'or') and (item == 'not'):\n",
    "                current_boolean = 'ornot'\n",
    "            else:\n",
    "                current_boolean = item\n",
    "            continue\n",
    "        else:\n",
    "            if '=' in item:\n",
    "                item = item.split('=')\n",
    "            else:\n",
    "                print(item, 'syntax incorrect')\n",
    "                return []\n",
    "            # pass the specified criteria through the movie_matches_subparser             \n",
    "            movie_match_inds = movie_matches_subparser(movies, item[0], item[1])\n",
    "            # now we will append the index results from the movie_match_inds with their desired bool  \n",
    "            criteria_info.append([current_boolean, movie_match_inds])\n",
    "\n",
    "    # finally compare the list of movies to the identified index values and bools        \n",
    "    matches = meets_boolean_criteria(movies, criteria_info)\n",
    "    return matches\n",
    "        "
   ]
  },
  {
   "cell_type": "code",
   "execution_count": 10,
   "metadata": {},
   "outputs": [
    {
     "data": {
      "text/plain": [
       "[{'category': 'Thriller', 'imdb': 7.0, 'name': 'Usual Suspects'},\n",
       " {'category': 'Action', 'imdb': 6.3, 'name': 'Hitman'},\n",
       " {'category': 'Adventure', 'imdb': 9.0, 'name': 'Dark Knight'},\n",
       " {'category': 'Drama', 'imdb': 8.0, 'name': 'The Help'},\n",
       " {'category': 'Romance', 'imdb': 6.2, 'name': 'The Choice'},\n",
       " {'category': 'Romance', 'imdb': 7.4, 'name': 'Colonia'},\n",
       " {'category': 'Romance', 'imdb': 5.4, 'name': 'Bride Wars'},\n",
       " {'category': 'War', 'imdb': 3.2, 'name': 'AlphaJet'},\n",
       " {'category': 'Crime', 'imdb': 4.0, 'name': 'Ringing Crime'},\n",
       " {'category': 'Comedy', 'imdb': 7.2, 'name': 'Joking muck'},\n",
       " {'category': 'Suspense', 'imdb': 9.2, 'name': 'What is the name'},\n",
       " {'category': 'Suspense', 'imdb': 7.0, 'name': 'Detective'},\n",
       " {'category': 'Thriller', 'imdb': 4.2, 'name': 'Exam'},\n",
       " {'category': 'Romance', 'imdb': 7.2, 'name': 'We Two'}]"
      ]
     },
     "execution_count": 10,
     "metadata": {},
     "output_type": "execute_result"
    }
   ],
   "source": [
    "boolean_search(movies, 'imdb=7.0 NOT category=suspense OR NOT title=love')"
   ]
  },
  {
   "cell_type": "code",
   "execution_count": 11,
   "metadata": {},
   "outputs": [
    {
     "data": {
      "text/plain": [
       "[{'category': 'Adventure', 'imdb': 9.0, 'name': 'Dark Knight'},\n",
       " {'category': 'Suspense', 'imdb': 9.2, 'name': 'What is the name'}]"
      ]
     },
     "execution_count": 11,
     "metadata": {},
     "output_type": "execute_result"
    }
   ],
   "source": [
    "boolean_search(movies, 'imdb=8.9')"
   ]
  },
  {
   "cell_type": "code",
   "execution_count": 12,
   "metadata": {},
   "outputs": [
    {
     "data": {
      "text/plain": [
       "[{'category': 'Adventure', 'imdb': 9.0, 'name': 'Dark Knight'}]"
      ]
     },
     "execution_count": 12,
     "metadata": {},
     "output_type": "execute_result"
    }
   ],
   "source": [
    "boolean_search(movies, 'imdb=8.9 AND NOT category=suspense')"
   ]
  },
  {
   "cell_type": "code",
   "execution_count": 13,
   "metadata": {},
   "outputs": [
    {
     "name": "stdout",
     "output_type": "stream",
     "text": [
      "imdb notafloat cannot become float\n"
     ]
    },
    {
     "data": {
      "text/plain": [
       "[]"
      ]
     },
     "execution_count": 13,
     "metadata": {},
     "output_type": "execute_result"
    }
   ],
   "source": [
    "boolean_search(movies, 'imdb=notafloat')"
   ]
  },
  {
   "cell_type": "code",
   "execution_count": 14,
   "metadata": {},
   "outputs": [
    {
     "data": {
      "text/plain": [
       "[]"
      ]
     },
     "execution_count": 14,
     "metadata": {},
     "output_type": "execute_result"
    }
   ],
   "source": [
    "boolean_search(movies, 'category=1')"
   ]
  },
  {
   "cell_type": "code",
   "execution_count": 15,
   "metadata": {},
   "outputs": [
    {
     "data": {
      "text/plain": [
       "[]"
      ]
     },
     "execution_count": 15,
     "metadata": {},
     "output_type": "execute_result"
    }
   ],
   "source": [
    "boolean_search(movies, 'category=1')"
   ]
  },
  {
   "cell_type": "code",
   "execution_count": 16,
   "metadata": {},
   "outputs": [
    {
     "name": "stdout",
     "output_type": "stream",
     "text": [
      "when syntax incorrect\n"
     ]
    },
    {
     "data": {
      "text/plain": [
       "[]"
      ]
     },
     "execution_count": 16,
     "metadata": {},
     "output_type": "execute_result"
    }
   ],
   "source": [
    "boolean_search(movies, 'category=suspense WHEN imdb=5.5')"
   ]
  },
  {
   "cell_type": "code",
   "execution_count": 17,
   "metadata": {},
   "outputs": [
    {
     "name": "stdout",
     "output_type": "stream",
     "text": [
      "movie lookup key review_count incorrect\n"
     ]
    },
    {
     "data": {
      "text/plain": [
       "[]"
      ]
     },
     "execution_count": 17,
     "metadata": {},
     "output_type": "execute_result"
    }
   ],
   "source": [
    "boolean_search(movies, 'review_count=100')"
   ]
  }
 ],
 "metadata": {
  "kernelspec": {
   "display_name": "Python 3",
   "language": "python",
   "name": "python3"
  },
  "language_info": {
   "codemirror_mode": {
    "name": "ipython",
    "version": 3
   },
   "file_extension": ".py",
   "mimetype": "text/x-python",
   "name": "python",
   "nbconvert_exporter": "python",
   "pygments_lexer": "ipython3",
   "version": "3.6.4"
  }
 },
 "nbformat": 4,
 "nbformat_minor": 1
}
