{
 "cells": [
  {
   "cell_type": "markdown",
   "metadata": {
    "slideshow": {
     "slide_type": "slide"
    }
   },
   "source": [
    "# Practice Control Flow on Coffee Preference Data Set"
   ]
  },
  {
   "cell_type": "code",
   "execution_count": 3,
   "metadata": {
    "slideshow": {
     "slide_type": "slide"
    }
   },
   "outputs": [],
   "source": [
    "with open('../../assets/data/coffee-preferences.csv','r') as f:\n",
    "    lines = f.readlines()"
   ]
  },
  {
   "cell_type": "markdown",
   "metadata": {
    "slideshow": {
     "slide_type": "notes"
    }
   },
   "source": [
    "The `with open(..., 'r') as f:` opens up a file in \"read\" mode (rather than \"write\"), and assigns this opened file to `f`. \n",
    "\n",
    "We can then use the `.readlines()` built-in function to split the csv file on newlines and assign it to the variable `lines`."
   ]
  },
  {
   "cell_type": "code",
   "execution_count": null,
   "metadata": {
    "slideshow": {
     "slide_type": "slide"
    }
   },
   "outputs": [],
   "source": [
    "lines"
   ]
  },
  {
   "cell_type": "markdown",
   "metadata": {
    "slideshow": {
     "slide_type": "slide"
    }
   },
   "source": [
    "# Remove the newline `'\\n'` character from the end of each line and store the result in a new list `cleaned_lines`.\n",
    "\n",
    "Iterate through the lines of the data and remove the unwanted newline characters.\n",
    "\n",
    "_Hint: Use **.replace('\\n', '')**_"
   ]
  },
  {
   "cell_type": "code",
   "execution_count": null,
   "metadata": {
    "slideshow": {
     "slide_type": "slide"
    }
   },
   "outputs": [],
   "source": []
  },
  {
   "cell_type": "markdown",
   "metadata": {
    "slideshow": {
     "slide_type": "slide"
    }
   },
   "source": [
    "# Split the lines into \"header\" and \"data\" variables.\n",
    "\n",
    "The header is the first string in the list of strings. It contains the column names of our data."
   ]
  },
  {
   "cell_type": "code",
   "execution_count": null,
   "metadata": {
    "collapsed": true,
    "slideshow": {
     "slide_type": "slide"
    }
   },
   "outputs": [],
   "source": []
  },
  {
   "cell_type": "markdown",
   "metadata": {
    "slideshow": {
     "slide_type": "slide"
    }
   },
   "source": [
    "# Split the header and the data strings on commas. Store the results in `split_header` and `split_data`, respectively\n"
   ]
  },
  {
   "cell_type": "markdown",
   "metadata": {},
   "source": [
    "Hint: use the `.split` string method"
   ]
  },
  {
   "cell_type": "code",
   "execution_count": null,
   "metadata": {
    "slideshow": {
     "slide_type": "slide"
    }
   },
   "outputs": [],
   "source": []
  },
  {
   "cell_type": "markdown",
   "metadata": {
    "slideshow": {
     "slide_type": "slide"
    }
   },
   "source": [
    "# Remove the \"Timestamp\" column from both the header and the data. Store the results in `header_no_timestamp` and `data_no_timestamp`."
   ]
  },
  {
   "cell_type": "code",
   "execution_count": null,
   "metadata": {
    "collapsed": true,
    "slideshow": {
     "slide_type": "slide"
    }
   },
   "outputs": [],
   "source": []
  },
  {
   "cell_type": "markdown",
   "metadata": {},
   "source": [
    "# Convert numeric columns to floats and empty fields to `None`. Store the results in a list `data_numeric`.\n",
    "\n",
    "Iterate through the data, and construct a new data list of lists that contains the numeric ratings converted from strings into floats and the empty fields (which are empty strings '') replaced with the None object.\n",
    "\n",
    "Use a nested for loop (a for loop within another for loop) to get the job done. You will likely need to use if…else conditional statements as well.\n",
    "\n",
    "Print out the new data object to make sure you've succeeded."
   ]
  },
  {
   "cell_type": "markdown",
   "metadata": {},
   "source": [
    "Hint: Applying the function `enumerate` to a container gives you an iterable of index numbers and the items in the container, as shown below."
   ]
  },
  {
   "cell_type": "code",
   "execution_count": null,
   "metadata": {},
   "outputs": [],
   "source": [
    "# Here is an example just to illustrate the use of `enumerate`;\n",
    "# you are to continue to work on the coffee dataset.\n",
    "fruit_list = ['apples', 'oranges', 'pears']\n",
    "\n",
    "for index, fruit in enumerate(fruit_list):\n",
    "    print(index, fruit)"
   ]
  },
  {
   "cell_type": "code",
   "execution_count": null,
   "metadata": {
    "slideshow": {
     "slide_type": "slide"
    }
   },
   "outputs": [],
   "source": []
  },
  {
   "cell_type": "markdown",
   "metadata": {
    "slideshow": {
     "slide_type": "slide"
    }
   },
   "source": [
    "# Count the `None` values per person, and put counts in a dictionary.\n",
    "\n",
    "Use a `for` loop to count the number of `None` values per person. Create a dictionary with the names of the people as keys, and the counts of `None` as values.\n",
    "\n",
    "Who rated the most coffee brands? Who rated the fewest?"
   ]
  },
  {
   "cell_type": "code",
   "execution_count": null,
   "metadata": {
    "slideshow": {
     "slide_type": "slide"
    }
   },
   "outputs": [],
   "source": []
  },
  {
   "cell_type": "markdown",
   "metadata": {},
   "source": [
    "Most: Hugh Jass, Matt, Rocky, Vijay\n",
    "\n",
    "Fewest: Alex, Dave H, cheong-tseng eng"
   ]
  },
  {
   "cell_type": "markdown",
   "metadata": {
    "slideshow": {
     "slide_type": "slide"
    }
   },
   "source": [
    "# Calculate average rating per coffee brand.\n",
    "\n",
    "**Excluding `None` values**, calculate the average rating per brand of coffee.\n",
    "\n",
    "The final output should be a dictionary with keys as the coffee brand names, and their average rating as the values.\n",
    "\n",
    "Remember that the average can be calculated as the sum of the ratings over the number of ratings:\n",
    "\n",
    "```python\n",
    "average_rating = sum(ratings_list)/len(ratings_list)\n",
    "```\n",
    "\n",
    "Print your dictionary to see the average brand ratings."
   ]
  },
  {
   "cell_type": "code",
   "execution_count": null,
   "metadata": {
    "slideshow": {
     "slide_type": "slide"
    }
   },
   "outputs": [],
   "source": []
  },
  {
   "cell_type": "markdown",
   "metadata": {
    "slideshow": {
     "slide_type": "slide"
    }
   },
   "source": [
    "# Create a list containing only the people's names."
   ]
  },
  {
   "cell_type": "code",
   "execution_count": null,
   "metadata": {
    "slideshow": {
     "slide_type": "slide"
    }
   },
   "outputs": [],
   "source": []
  },
  {
   "cell_type": "markdown",
   "metadata": {
    "slideshow": {
     "slide_type": "slide"
    }
   },
   "source": [
    "# If you pick three names from this list at random, what are the odds that you will choose the same name three times in a row?\n",
    "\n",
    "This problem could be solved using probability theory, but let's solve it with a \"brute force\" approach: have the computer select three names at random over and over again inside a while loop, and count up the results.\n",
    "\n",
    "Below I've imported the **`random`** package, which has the essential function for this code **`random.choice()`**.\n",
    "The function takes a list as an argument, and returns one of the elements of that list at random."
   ]
  },
  {
   "cell_type": "markdown",
   "metadata": {
    "slideshow": {
     "slide_type": "notes"
    }
   },
   "source": [
    "This is a \"brute force\" approach because it is much less efficient for the computer than the relevant probabity calculations, but maybe it requires less thinking for us. It's often a good idea to trade computer time for your time."
   ]
  },
  {
   "cell_type": "code",
   "execution_count": null,
   "metadata": {
    "collapsed": true,
    "slideshow": {
     "slide_type": "slide"
    }
   },
   "outputs": [],
   "source": [
    "import random"
   ]
  },
  {
   "cell_type": "markdown",
   "metadata": {
    "slideshow": {
     "slide_type": "slide"
    }
   },
   "source": [
    "Write a function to choose a person from the list randomly three times and check if they are all the same.\n",
    "\n",
    "Define a function that has the following properties:\n",
    "\n",
    "1. Takes a list (your list of names) as an argument.\n",
    "2. Selects a name using `random.choice(people)` three separate times.\n",
    "3. Returns `True` if the name was the same all three times. Otherwise returns `False`."
   ]
  },
  {
   "cell_type": "code",
   "execution_count": null,
   "metadata": {
    "collapsed": true,
    "slideshow": {
     "slide_type": "slide"
    }
   },
   "outputs": [],
   "source": []
  },
  {
   "cell_type": "markdown",
   "metadata": {
    "slideshow": {
     "slide_type": "slide"
    }
   },
   "source": [
    "# Construct a `while` loop to run the choosing function until it returns `True`.\n",
    "\n",
    "Run the function until you draw the same person three times using a `while` loop. Keep track of how many tries it took and print out the number of tries after it runs."
   ]
  },
  {
   "cell_type": "code",
   "execution_count": null,
   "metadata": {
    "slideshow": {
     "slide_type": "slide"
    }
   },
   "outputs": [],
   "source": []
  }
 ],
 "metadata": {
  "anaconda-cloud": {},
  "kernelspec": {
   "display_name": "Python 3",
   "language": "python",
   "name": "python3"
  }
 },
 "nbformat": 4,
 "nbformat_minor": 2
}
