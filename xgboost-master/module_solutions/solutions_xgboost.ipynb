{
 "cells": [
  {
   "cell_type": "markdown",
   "metadata": {
    "toc-hr-collapsed": true
   },
   "source": [
    "<img src=\"http://imgur.com/1ZcRyrc.png\" style=\"float: left; margin: 20px; height: 55px\">\n",
    "\n",
    "# XGBoost"
   ]
  },
  {
   "cell_type": "code",
   "execution_count": null,
   "metadata": {},
   "outputs": [],
   "source": [
    "import warnings\n",
    "\n",
    "import matplotlib.pyplot as plt\n",
    "import numpy as np\n",
    "import pandas as pd"
   ]
  },
  {
   "cell_type": "code",
   "execution_count": null,
   "metadata": {},
   "outputs": [],
   "source": [
    "# Right now I am getting a useless warning every time I fit an `XGBoost` model.\n",
    "# This line of code prevents warnings from being displayed. Not generally\n",
    "# recommended.\n",
    "warnings.filterwarnings(action='ignore')"
   ]
  },
  {
   "cell_type": "code",
   "execution_count": null,
   "metadata": {},
   "outputs": [],
   "source": [
    "%matplotlib inline"
   ]
  },
  {
   "cell_type": "markdown",
   "metadata": {},
   "source": [
    "\"Gradient boosting,\" like bagging, is a general method for training decision tree ensembles.\n",
    "\n",
    "XGBoost (\"eXtreme Gradient Boosting\") is a particular implementation of gradient boosted decision trees. It is popular on Kaggle because it is both fast to train and often gives excellent predictive performance."
   ]
  },
  {
   "cell_type": "markdown",
   "metadata": {},
   "source": [
    "## Getting Started with XGBoost"
   ]
  },
  {
   "cell_type": "markdown",
   "metadata": {},
   "source": [
    "We will use the `xgboost` library instead of scikit-learn for this lesson. Scikit-learn has [`GradientBoostingClassifier`](https://scikit-learn.org/stable/modules/generated/sklearn.ensemble.GradientBoostingClassifier.html) and [`GradientBoostingRegressor`](https://scikit-learn.org/stable/modules/generated/sklearn.ensemble.GradientBoostingRegressor.html) classes, but they lack some of the tricks that have made the `xgboost` library popular.\n",
    "\n",
    "`xgboost` provides estimators that use the same interface as scikit-learn's, so we will not need to change our approach."
   ]
  },
  {
   "cell_type": "code",
   "execution_count": null,
   "metadata": {},
   "outputs": [],
   "source": [
    "# Install the xgboost library\n",
    "# !pip install xgboost"
   ]
  },
  {
   "cell_type": "code",
   "execution_count": null,
   "metadata": {},
   "outputs": [],
   "source": [
    "# Import the xgboost package\n",
    "# /scrub/\n",
    "import xgboost as xgb"
   ]
  },
  {
   "cell_type": "code",
   "execution_count": null,
   "metadata": {},
   "outputs": [],
   "source": [
    "# Instantiate an XGBoost regressor\n",
    "# /scrub/\n",
    "xgb_reg = xgb.XGBRegressor()"
   ]
  },
  {
   "cell_type": "markdown",
   "metadata": {},
   "source": [
    "**Exercise (20 mins., in pairs)**"
   ]
  },
  {
   "cell_type": "markdown",
   "metadata": {},
   "source": [
    "- Load the Ames housing dataset from `assets/data/ames_train.csv` in this lesson's base directory."
   ]
  },
  {
   "cell_type": "code",
   "execution_count": null,
   "metadata": {},
   "outputs": [],
   "source": [
    "# /scrub/\n",
    "ames_df = pd.read_csv('../assets/data/ames_train.csv')"
   ]
  },
  {
   "cell_type": "markdown",
   "metadata": {},
   "source": [
    "- Create a feature matrix DataFrame `X` containing all of the numeric columns from the Ames dataset except \"Id\" and the target column \"SalePrice\". Drop \"OverallQual\" to make things more interesting -- that very is very predictive but expensive to collect."
   ]
  },
  {
   "cell_type": "code",
   "execution_count": null,
   "metadata": {},
   "outputs": [],
   "source": [
    "# /scrub/\n",
    "target_col = 'SalePrice'\n",
    "\n",
    "X = (ames_df\n",
    "     .select_dtypes(['int64', 'float64'])\n",
    "     .drop(['Id', 'OverallQual', target_col], axis='columns')\n",
    "    )"
   ]
  },
  {
   "cell_type": "markdown",
   "metadata": {},
   "source": [
    "- Create a target vector Series `y` with the values of the variable \"SalePrice\"."
   ]
  },
  {
   "cell_type": "code",
   "execution_count": null,
   "metadata": {},
   "outputs": [],
   "source": [
    "# /scrub/\n",
    "y = ames_df.loc[:, target_col]"
   ]
  },
  {
   "cell_type": "markdown",
   "metadata": {},
   "source": [
    "- Do a simple train/test split on `X` and `y`."
   ]
  },
  {
   "cell_type": "code",
   "execution_count": null,
   "metadata": {},
   "outputs": [],
   "source": [
    "# /scrub/\n",
    "from sklearn.model_selection import train_test_split\n",
    "\n",
    "X_train, X_test, y_train, y_test = train_test_split(X, y, random_state=123)"
   ]
  },
  {
   "cell_type": "markdown",
   "metadata": {},
   "source": [
    "- Fit an `XGBRegressor` on the training data."
   ]
  },
  {
   "cell_type": "code",
   "execution_count": null,
   "metadata": {},
   "outputs": [],
   "source": [
    "# /scrub/\n",
    "xgb_reg.fit(X_train, y_train)"
   ]
  },
  {
   "cell_type": "markdown",
   "metadata": {},
   "source": [
    "- Get an R^2 score for the training set."
   ]
  },
  {
   "cell_type": "code",
   "execution_count": null,
   "metadata": {},
   "outputs": [],
   "source": [
    "# /scrub/\n",
    "xgb_reg.score(X_train, y_train)"
   ]
  },
  {
   "cell_type": "markdown",
   "metadata": {},
   "source": [
    "- Get an R^2 score for the test set."
   ]
  },
  {
   "cell_type": "code",
   "execution_count": null,
   "metadata": {},
   "outputs": [],
   "source": [
    "# /scrub/\n",
    "xgb_reg.score(X_test, y_test)"
   ]
  },
  {
   "cell_type": "markdown",
   "metadata": {},
   "source": [
    "- Is your model overfitting, underfitting, both, or neither? How do you know?"
   ]
  },
  {
   "cell_type": "markdown",
   "metadata": {},
   "source": [
    "/scrub/\n",
    "\n",
    "Overfitting somewhat. The score on the training set is close to 1, so it does not seem to be underfitting, and the gap between training and test scores is moderately large."
   ]
  },
  {
   "cell_type": "markdown",
   "metadata": {},
   "source": [
    "- Load the Titanic dataset (located in this lesson's  `assets/data` directory)."
   ]
  },
  {
   "cell_type": "code",
   "execution_count": null,
   "metadata": {},
   "outputs": [],
   "source": [
    "# /scrub/\n",
    "titanic = pd.read_csv('../assets/data/titanic.csv')"
   ]
  },
  {
   "cell_type": "markdown",
   "metadata": {},
   "source": [
    "- Create a feature matrix `X` by dropping \"PassengerId\", \"Name\", \"Ticket\", and the target column \"Survived.\" Dummy-code string columns as needed. Do NOT drop or impute missing values -- XGBoost handles them internally!"
   ]
  },
  {
   "cell_type": "markdown",
   "metadata": {},
   "source": [
    "![](https://media.giphy.com/media/12NUbkX6p4xOO4/giphy.gif)"
   ]
  },
  {
   "cell_type": "code",
   "execution_count": null,
   "metadata": {},
   "outputs": [],
   "source": [
    "# /scrub/\n",
    "X = titanic.drop(['PassengerId', 'Name', 'Ticket', 'Cabin', 'Survived'], axis='columns')"
   ]
  },
  {
   "cell_type": "code",
   "execution_count": null,
   "metadata": {},
   "outputs": [],
   "source": [
    "# /scrub/\n",
    "X = pd.get_dummies(X, columns=['Sex', 'Embarked'])"
   ]
  },
  {
   "cell_type": "markdown",
   "metadata": {},
   "source": [
    "- Create a target Series `y` with the values of \"Survived.\""
   ]
  },
  {
   "cell_type": "code",
   "execution_count": null,
   "metadata": {},
   "outputs": [],
   "source": [
    "# /scrub/\n",
    "y = titanic.loc[:, 'Survived']"
   ]
  },
  {
   "cell_type": "markdown",
   "metadata": {},
   "source": [
    "- Instantiate an `XGBClassifier`."
   ]
  },
  {
   "cell_type": "code",
   "execution_count": null,
   "metadata": {},
   "outputs": [],
   "source": [
    "# /scrub/\n",
    "xgb_clas = xgb.XGBClassifier()"
   ]
  },
  {
   "cell_type": "markdown",
   "metadata": {},
   "source": [
    "- Fit and score the classifier on the entire dataset."
   ]
  },
  {
   "cell_type": "code",
   "execution_count": null,
   "metadata": {},
   "outputs": [],
   "source": [
    "# /scrub/\n",
    "xgb_clas.fit(X, y)\n",
    "xgb_clas.score(X, y)"
   ]
  },
  {
   "cell_type": "markdown",
   "metadata": {},
   "source": [
    "- Get your classifier's score on held-out data using ten-fold cross-validation on the Titanic dataset, shuffling the rows before taking the folds."
   ]
  },
  {
   "cell_type": "code",
   "execution_count": null,
   "metadata": {},
   "outputs": [],
   "source": [
    "# /scrub/\n",
    "from sklearn.model_selection import cross_val_score, KFold"
   ]
  },
  {
   "cell_type": "code",
   "execution_count": null,
   "metadata": {},
   "outputs": [],
   "source": [
    "# /scrub/\n",
    "kf = KFold(10, shuffle=True)"
   ]
  },
  {
   "cell_type": "code",
   "execution_count": null,
   "metadata": {},
   "outputs": [],
   "source": [
    "# /scrub/\n",
    "scores = cross_val_score(xgb_clas, X, y, cv=kf)"
   ]
  },
  {
   "cell_type": "code",
   "execution_count": null,
   "metadata": {},
   "outputs": [],
   "source": [
    "# /scrub/\n",
    "np.array(scores).mean()"
   ]
  },
  {
   "cell_type": "markdown",
   "metadata": {},
   "source": [
    "- Is your model overfitting, underfitting, both, or neither? How do you know?"
   ]
  },
  {
   "cell_type": "markdown",
   "metadata": {},
   "source": [
    "/scrub/\n",
    "\n",
    "Maybe neither, or slightly overfitting. The score on the training set seems pretty good, so it does not seem to be underfitting, and the gap between training and test scores is not very big."
   ]
  },
  {
   "cell_type": "markdown",
   "metadata": {},
   "source": [
    "$\\blacksquare$"
   ]
  },
  {
   "cell_type": "markdown",
   "metadata": {
    "toc-hr-collapsed": true
   },
   "source": [
    "## XGBoost vs. Random Forests"
   ]
  },
  {
   "cell_type": "markdown",
   "metadata": {},
   "source": [
    "### Similarities"
   ]
  },
  {
   "cell_type": "markdown",
   "metadata": {},
   "source": [
    "Random forests and XGBoost both produce tree ensembles, and the provide many of the same parameters to reduce overfitting."
   ]
  },
  {
   "cell_type": "markdown",
   "metadata": {
    "toc-hr-collapsed": true
   },
   "source": [
    "### Differences"
   ]
  },
  {
   "cell_type": "markdown",
   "metadata": {},
   "source": [
    "#### Gradient Boosting vs. Bagging"
   ]
  },
  {
   "cell_type": "markdown",
   "metadata": {},
   "source": [
    "- Bagging involves training each tree *independently* on a different *bootstrap sample*.\n",
    "- Gradient boosting involves training each tree *sequentially to reduce the residual errors left by its predecessors*."
   ]
  },
  {
   "cell_type": "markdown",
   "metadata": {},
   "source": [
    "See [the official `xgboost` library documentation](https://xgboost.readthedocs.io/en/latest/tutorials/model.html) and Chapter 10 of [Elements of Statistical Learning](https://web.stanford.edu/~hastie/Papers/ESLII.pdf) for details."
   ]
  },
  {
   "cell_type": "markdown",
   "metadata": {},
   "source": [
    "#### Handling Missing Values"
   ]
  },
  {
   "cell_type": "markdown",
   "metadata": {},
   "source": [
    "At each split for a given variable, XGBoost simply learns whether sending items with missing values left or right gives better results. This approach has a few advantages:\n",
    "\n",
    "- It is automatic.\n",
    "- Unlike dropping rows or columns, it allows you to use all of the values you do have.\n",
    "- Unlike imputation, it treats \"missing\" as its own value rather than replacing it with some other value that might be wrong."
   ]
  },
  {
   "cell_type": "markdown",
   "metadata": {
    "toc-hr-collapsed": true
   },
   "source": [
    "## Tuning XGBoost"
   ]
  },
  {
   "cell_type": "markdown",
   "metadata": {},
   "source": [
    "`XGBoost` provides many options that you can tune to improve predictive performance."
   ]
  },
  {
   "cell_type": "markdown",
   "metadata": {},
   "source": [
    "### `n_estimators` and `learning_rate`"
   ]
  },
  {
   "cell_type": "markdown",
   "metadata": {},
   "source": [
    "The `learning_rate` controls how \"aggressive\" each tree is in trying to correct the errors of its predecessors.\n",
    "\n",
    "- If it is too low, then getting good predictive performance will require a large value for `n_estimators` (and thus a lot of time).\n",
    "- If it is too high, then the algorithm will keep overshooting the target and won't coverge to good results."
   ]
  },
  {
   "cell_type": "markdown",
   "metadata": {},
   "source": [
    "Unlike with a random forest, setting `n_estimators` too high can hurt predictive performance with boosting because it leads to overfitting."
   ]
  },
  {
   "cell_type": "markdown",
   "metadata": {
    "toc-hr-collapsed": true
   },
   "source": [
    "### Addressing Overfitting"
   ]
  },
  {
   "cell_type": "markdown",
   "metadata": {},
   "source": [
    "#### Reducing Model Complexity"
   ]
  },
  {
   "cell_type": "markdown",
   "metadata": {},
   "source": [
    "One way to address overfitting is to restrict model complexity more or less directly. `xgboost` provides many options for this purpose:\n",
    "\n",
    "- Restricting tree shape\n",
    "    - `max_depth` / `max_leaf_nodes` puts a hard limit on the depth or number of leaves in each tree\n",
    "    - `gamma` is the minimum loss reduction required in order to make another split\n",
    "    - `min_child_weight` is the minimum number of observations required in each child node in order to make a split, adjusted for the weight that is placed on each observation\n",
    "- Restricting sizes of weights: `reg_lambda` and `reg_alpha` provide L1 and L2 regularization on sample weights, respectively"
   ]
  },
  {
   "cell_type": "markdown",
   "metadata": {},
   "source": [
    "#### Adding Randomness"
   ]
  },
  {
   "cell_type": "markdown",
   "metadata": {},
   "source": [
    "Another way to address overfitting when ensembling is to add randomness to the process of training each item in the ensemble.\n",
    "\n",
    "- `subsample` specifies what proportion of the data is used to train each tree.\n",
    "- `colsample_bytree` and `colsample_bylevel` specify what proportion of the features are available at the tree and split level, respectively."
   ]
  },
  {
   "cell_type": "markdown",
   "metadata": {
    "toc-hr-collapsed": true
   },
   "source": [
    "### Example"
   ]
  },
  {
   "cell_type": "markdown",
   "metadata": {},
   "source": [
    "We will use this general approach to tune our model:\n",
    "\n",
    "- Find the optimal number of trees with default learning rate.\n",
    "- Tune additional parameters.\n",
    "- Lower learning rate and increase the number of trees."
   ]
  },
  {
   "cell_type": "markdown",
   "metadata": {},
   "source": [
    "#### Find Optimal Number of Trees with Default Learning Rate"
   ]
  },
  {
   "cell_type": "code",
   "execution_count": null,
   "metadata": {},
   "outputs": [],
   "source": [
    "# Split data by column\n",
    "# /scrub/\n",
    "target_col = 'SalePrice'\n",
    "\n",
    "X = ames_df.select_dtypes(['int64', 'float64']).drop(['Id', 'OverallQual', target_col], axis='columns')\n",
    "y = ames_df.loc[:, target_col]"
   ]
  },
  {
   "cell_type": "code",
   "execution_count": null,
   "metadata": {},
   "outputs": [],
   "source": [
    "# Instantiate model\n",
    "# /scrub/\n",
    "xgb_reg = xgb.XGBRegressor(learning_rate=0.1, max_depth=1)"
   ]
  },
  {
   "cell_type": "code",
   "execution_count": null,
   "metadata": {},
   "outputs": [],
   "source": [
    "# Fit and score on all data\n",
    "# /scrub/\n",
    "xgb_reg.fit(X, y)\n",
    "print(xgb_reg.score(X, y))"
   ]
  },
  {
   "cell_type": "code",
   "execution_count": null,
   "metadata": {},
   "outputs": [],
   "source": [
    "# Score with 5-fold CV\n",
    "# /scrub/\n",
    "kf = KFold(n_splits=5, shuffle=True, random_state=1)\n",
    "np.array(cross_val_score(xgb_reg, X, y, cv=kf)).mean()"
   ]
  },
  {
   "cell_type": "code",
   "execution_count": null,
   "metadata": {},
   "outputs": [],
   "source": [
    "# Vary number of trees\n",
    "# /scrub/\n",
    "for num_trees in range(100, 1000, 100):\n",
    "    xgb_reg = xgb.XGBRegressor(n_estimators=num_trees, max_depth=1)\n",
    "    print(num_trees, np.array(cross_val_score(xgb_reg, X, y, cv=kf)).mean())"
   ]
  },
  {
   "cell_type": "code",
   "execution_count": null,
   "metadata": {},
   "outputs": [],
   "source": [
    "# Fix number of trees\n",
    "# /scrub/\n",
    "xgb_reg = xgb.XGBRegressor(n_estimators=400)"
   ]
  },
  {
   "cell_type": "markdown",
   "metadata": {},
   "source": [
    "#### Tune Additional Parameters"
   ]
  },
  {
   "cell_type": "markdown",
   "metadata": {},
   "source": [
    "scikit-learn has a `GridSearchCV` class that will run a model with various hyperparameter combinations and identify the combination that generated the best cross-validation scores."
   ]
  },
  {
   "cell_type": "code",
   "execution_count": null,
   "metadata": {},
   "outputs": [],
   "source": [
    "# Try a few values for \"max_depth\" and \"min_child_weight\"\n",
    "# /scrub/\n",
    "from sklearn.model_selection import GridSearchCV\n",
    "\n",
    "param_grid = {\n",
    "    'max_depth': [1, 4, 7], 'min_child_weight': [1, 10, 100]\n",
    "}\n",
    "grid_search = GridSearchCV(\n",
    "    xgb_reg,\n",
    "    param_grid=param_grid,\n",
    "    cv=kf\n",
    ")\n",
    "grid_search.fit(X_train, y_train)"
   ]
  },
  {
   "cell_type": "code",
   "execution_count": null,
   "metadata": {},
   "outputs": [],
   "source": [
    "# Find out best parameters and their score\n",
    "# /scrub/\n",
    "grid_search.best_params_, grid_search.best_score_"
   ]
  },
  {
   "cell_type": "code",
   "execution_count": null,
   "metadata": {},
   "outputs": [],
   "source": [
    "# Try a few values for \"subsample\"\n",
    "# /scrub/\n",
    "param_grid = {\n",
    "    'subsample': np.linspace(0.5, 1, 4)\n",
    "}\n",
    "xgb_reg = xgb.XGBRegressor(n_estimators=500, max_depth=4, min_child_weight=1)\n",
    "grid_search = GridSearchCV(\n",
    "    xgb_reg, \n",
    "    param_grid=param_grid,\n",
    "    cv=4\n",
    ")\n",
    "grid_search.fit(X_train, y_train)"
   ]
  },
  {
   "cell_type": "code",
   "execution_count": null,
   "metadata": {},
   "outputs": [],
   "source": [
    "# Find out best parameters and their score\n",
    "# /scrub/\n",
    "grid_search.best_params_, grid_search.best_score_"
   ]
  },
  {
   "cell_type": "code",
   "execution_count": null,
   "metadata": {},
   "outputs": [],
   "source": [
    "# Get report on grid search results\n",
    "# /scrub/\n",
    "pd.DataFrame(grid_search.cv_results_)"
   ]
  },
  {
   "cell_type": "markdown",
   "metadata": {},
   "source": [
    "The effect of one hyperparameter typically depends on the values of other hyperparameters -- for instance, increasing \"max_depth\" will have no effect if \"min_child_weight\" is sufficiently large. For this reason, it is generally valuable to do grid searches over multiple parameters simultaneously, rather than fixing one hyperparameter at a time. However, testing many combinations of many parameters can take a long time."
   ]
  },
  {
   "cell_type": "markdown",
   "metadata": {},
   "source": [
    "#### Lower Learning Rate and Increase the Number of Trees."
   ]
  },
  {
   "cell_type": "code",
   "execution_count": null,
   "metadata": {},
   "outputs": [],
   "source": [
    "# Divide the learning rate by 10 and vary number of trees\n",
    "# /scrub/\n",
    "for num_trees in range(100, 3101, 500):\n",
    "    xgb_reg = xgb.XGBRegressor(\n",
    "        learning_rate=.01,\n",
    "        n_estimators=num_trees,\n",
    "        max_depth=4,\n",
    "        min_child_weight=1,\n",
    "        subsample=0.67,\n",
    "    )\n",
    "    print(num_trees, np.array(cross_val_score(xgb_reg, X, y, cv=kf)).mean())"
   ]
  },
  {
   "cell_type": "markdown",
   "metadata": {},
   "source": [
    "**Exercise (open-ended, in pairs)**"
   ]
  },
  {
   "cell_type": "markdown",
   "metadata": {},
   "source": [
    "- Create the best XGBoost model you can for the Titanic dataset, as measured by accuracy in five-fold cross-validation. Use `GridSearchCV` at least once to search over at least two hyperparameters at a time."
   ]
  },
  {
   "cell_type": "code",
   "execution_count": null,
   "metadata": {},
   "outputs": [],
   "source": [
    "titanic = pd.read_csv('../assets/data/titanic.csv')\n",
    "X = titanic.drop(['PassengerId', 'Name', 'Ticket', 'Cabin', 'Survived'], axis='columns')\n",
    "X = pd.get_dummies(X, columns=['Sex', 'Embarked'])\n",
    "y = titanic.loc[:, 'Survived']\n",
    "from sklearn.model_selection import train_test_split\n",
    "\n",
    "X_train, X_test, y_train, y_test = train_test_split(X, y, random_state=123)"
   ]
  },
  {
   "cell_type": "code",
   "execution_count": null,
   "metadata": {},
   "outputs": [],
   "source": [
    "xgb_clas = xgb.XGBClassifier()\n",
    "xgb_clas.fit(X, y)\n",
    "xgb_clas.score(X, y)"
   ]
  },
  {
   "cell_type": "code",
   "execution_count": null,
   "metadata": {},
   "outputs": [],
   "source": [
    "param_grid = {\n",
    "    'max_depth': [1, 4, 7], 'min_child_weight': [1, 10, 100]\n",
    "}\n",
    "grid_search = GridSearchCV(\n",
    "    xgb_clas,\n",
    "    param_grid=param_grid,\n",
    "    cv=kf\n",
    ")\n",
    "grid_search.fit(X_train, y_train)"
   ]
  },
  {
   "cell_type": "code",
   "execution_count": 82,
   "metadata": {},
   "outputs": [
    {
     "data": {
      "text/plain": [
       "({'max_depth': 4, 'min_child_weight': 1}, 0.8218562874251497)"
      ]
     },
     "execution_count": 82,
     "metadata": {},
     "output_type": "execute_result"
    }
   ],
   "source": [
    "# Find out best parameters and their score\n",
    "# /scrub/\n",
    "grid_search.best_params_, grid_search.best_score_"
   ]
  },
  {
   "cell_type": "code",
   "execution_count": 83,
   "metadata": {},
   "outputs": [
    {
     "data": {
      "text/html": [
       "<div>\n",
       "<style scoped>\n",
       "    .dataframe tbody tr th:only-of-type {\n",
       "        vertical-align: middle;\n",
       "    }\n",
       "\n",
       "    .dataframe tbody tr th {\n",
       "        vertical-align: top;\n",
       "    }\n",
       "\n",
       "    .dataframe thead th {\n",
       "        text-align: right;\n",
       "    }\n",
       "</style>\n",
       "<table border=\"1\" class=\"dataframe\">\n",
       "  <thead>\n",
       "    <tr style=\"text-align: right;\">\n",
       "      <th></th>\n",
       "      <th>mean_fit_time</th>\n",
       "      <th>std_fit_time</th>\n",
       "      <th>mean_score_time</th>\n",
       "      <th>std_score_time</th>\n",
       "      <th>param_max_depth</th>\n",
       "      <th>param_min_child_weight</th>\n",
       "      <th>params</th>\n",
       "      <th>split0_test_score</th>\n",
       "      <th>split1_test_score</th>\n",
       "      <th>split2_test_score</th>\n",
       "      <th>...</th>\n",
       "      <th>mean_test_score</th>\n",
       "      <th>std_test_score</th>\n",
       "      <th>rank_test_score</th>\n",
       "      <th>split0_train_score</th>\n",
       "      <th>split1_train_score</th>\n",
       "      <th>split2_train_score</th>\n",
       "      <th>split3_train_score</th>\n",
       "      <th>split4_train_score</th>\n",
       "      <th>mean_train_score</th>\n",
       "      <th>std_train_score</th>\n",
       "    </tr>\n",
       "  </thead>\n",
       "  <tbody>\n",
       "    <tr>\n",
       "      <th>0</th>\n",
       "      <td>0.162820</td>\n",
       "      <td>0.026252</td>\n",
       "      <td>0.009788</td>\n",
       "      <td>0.007628</td>\n",
       "      <td>1</td>\n",
       "      <td>1</td>\n",
       "      <td>{'max_depth': 1, 'min_child_weight': 1}</td>\n",
       "      <td>0.776119</td>\n",
       "      <td>0.783582</td>\n",
       "      <td>0.820896</td>\n",
       "      <td>...</td>\n",
       "      <td>0.806886</td>\n",
       "      <td>0.026514</td>\n",
       "      <td>4</td>\n",
       "      <td>0.825843</td>\n",
       "      <td>0.812734</td>\n",
       "      <td>0.797753</td>\n",
       "      <td>0.805607</td>\n",
       "      <td>0.805607</td>\n",
       "      <td>0.809509</td>\n",
       "      <td>0.009443</td>\n",
       "    </tr>\n",
       "    <tr>\n",
       "      <th>1</th>\n",
       "      <td>0.118605</td>\n",
       "      <td>0.005466</td>\n",
       "      <td>0.011210</td>\n",
       "      <td>0.008202</td>\n",
       "      <td>1</td>\n",
       "      <td>10</td>\n",
       "      <td>{'max_depth': 1, 'min_child_weight': 10}</td>\n",
       "      <td>0.753731</td>\n",
       "      <td>0.768657</td>\n",
       "      <td>0.820896</td>\n",
       "      <td>...</td>\n",
       "      <td>0.794910</td>\n",
       "      <td>0.035261</td>\n",
       "      <td>6</td>\n",
       "      <td>0.807116</td>\n",
       "      <td>0.814607</td>\n",
       "      <td>0.797753</td>\n",
       "      <td>0.798131</td>\n",
       "      <td>0.796262</td>\n",
       "      <td>0.802774</td>\n",
       "      <td>0.007043</td>\n",
       "    </tr>\n",
       "    <tr>\n",
       "      <th>2</th>\n",
       "      <td>0.153805</td>\n",
       "      <td>0.080595</td>\n",
       "      <td>0.007999</td>\n",
       "      <td>0.003953</td>\n",
       "      <td>1</td>\n",
       "      <td>100</td>\n",
       "      <td>{'max_depth': 1, 'min_child_weight': 100}</td>\n",
       "      <td>0.559701</td>\n",
       "      <td>0.619403</td>\n",
       "      <td>0.611940</td>\n",
       "      <td>...</td>\n",
       "      <td>0.613772</td>\n",
       "      <td>0.030642</td>\n",
       "      <td>7</td>\n",
       "      <td>0.627341</td>\n",
       "      <td>0.612360</td>\n",
       "      <td>0.614232</td>\n",
       "      <td>0.611215</td>\n",
       "      <td>0.603738</td>\n",
       "      <td>0.613777</td>\n",
       "      <td>0.007662</td>\n",
       "    </tr>\n",
       "    <tr>\n",
       "      <th>3</th>\n",
       "      <td>0.200006</td>\n",
       "      <td>0.022901</td>\n",
       "      <td>0.007805</td>\n",
       "      <td>0.003762</td>\n",
       "      <td>4</td>\n",
       "      <td>1</td>\n",
       "      <td>{'max_depth': 4, 'min_child_weight': 1}</td>\n",
       "      <td>0.768657</td>\n",
       "      <td>0.783582</td>\n",
       "      <td>0.828358</td>\n",
       "      <td>...</td>\n",
       "      <td>0.821856</td>\n",
       "      <td>0.040277</td>\n",
       "      <td>1</td>\n",
       "      <td>0.917603</td>\n",
       "      <td>0.910112</td>\n",
       "      <td>0.906367</td>\n",
       "      <td>0.904673</td>\n",
       "      <td>0.908411</td>\n",
       "      <td>0.909433</td>\n",
       "      <td>0.004479</td>\n",
       "    </tr>\n",
       "    <tr>\n",
       "      <th>4</th>\n",
       "      <td>0.188010</td>\n",
       "      <td>0.035018</td>\n",
       "      <td>0.008404</td>\n",
       "      <td>0.003265</td>\n",
       "      <td>4</td>\n",
       "      <td>10</td>\n",
       "      <td>{'max_depth': 4, 'min_child_weight': 10}</td>\n",
       "      <td>0.768657</td>\n",
       "      <td>0.761194</td>\n",
       "      <td>0.828358</td>\n",
       "      <td>...</td>\n",
       "      <td>0.811377</td>\n",
       "      <td>0.039168</td>\n",
       "      <td>3</td>\n",
       "      <td>0.859551</td>\n",
       "      <td>0.874532</td>\n",
       "      <td>0.870787</td>\n",
       "      <td>0.850467</td>\n",
       "      <td>0.848598</td>\n",
       "      <td>0.860787</td>\n",
       "      <td>0.010445</td>\n",
       "    </tr>\n",
       "    <tr>\n",
       "      <th>5</th>\n",
       "      <td>0.151013</td>\n",
       "      <td>0.019148</td>\n",
       "      <td>0.006999</td>\n",
       "      <td>0.002097</td>\n",
       "      <td>4</td>\n",
       "      <td>100</td>\n",
       "      <td>{'max_depth': 4, 'min_child_weight': 100}</td>\n",
       "      <td>0.559701</td>\n",
       "      <td>0.619403</td>\n",
       "      <td>0.611940</td>\n",
       "      <td>...</td>\n",
       "      <td>0.613772</td>\n",
       "      <td>0.030642</td>\n",
       "      <td>7</td>\n",
       "      <td>0.627341</td>\n",
       "      <td>0.612360</td>\n",
       "      <td>0.614232</td>\n",
       "      <td>0.611215</td>\n",
       "      <td>0.603738</td>\n",
       "      <td>0.613777</td>\n",
       "      <td>0.007662</td>\n",
       "    </tr>\n",
       "    <tr>\n",
       "      <th>6</th>\n",
       "      <td>0.364820</td>\n",
       "      <td>0.073922</td>\n",
       "      <td>0.016004</td>\n",
       "      <td>0.014655</td>\n",
       "      <td>7</td>\n",
       "      <td>1</td>\n",
       "      <td>{'max_depth': 7, 'min_child_weight': 1}</td>\n",
       "      <td>0.776119</td>\n",
       "      <td>0.783582</td>\n",
       "      <td>0.798507</td>\n",
       "      <td>...</td>\n",
       "      <td>0.806886</td>\n",
       "      <td>0.027526</td>\n",
       "      <td>4</td>\n",
       "      <td>0.960674</td>\n",
       "      <td>0.964419</td>\n",
       "      <td>0.943820</td>\n",
       "      <td>0.951402</td>\n",
       "      <td>0.966355</td>\n",
       "      <td>0.957334</td>\n",
       "      <td>0.008492</td>\n",
       "    </tr>\n",
       "    <tr>\n",
       "      <th>7</th>\n",
       "      <td>0.208009</td>\n",
       "      <td>0.015158</td>\n",
       "      <td>0.007604</td>\n",
       "      <td>0.001850</td>\n",
       "      <td>7</td>\n",
       "      <td>10</td>\n",
       "      <td>{'max_depth': 7, 'min_child_weight': 10}</td>\n",
       "      <td>0.776119</td>\n",
       "      <td>0.768657</td>\n",
       "      <td>0.828358</td>\n",
       "      <td>...</td>\n",
       "      <td>0.814371</td>\n",
       "      <td>0.035628</td>\n",
       "      <td>2</td>\n",
       "      <td>0.857678</td>\n",
       "      <td>0.874532</td>\n",
       "      <td>0.867041</td>\n",
       "      <td>0.848598</td>\n",
       "      <td>0.854206</td>\n",
       "      <td>0.860411</td>\n",
       "      <td>0.009262</td>\n",
       "    </tr>\n",
       "    <tr>\n",
       "      <th>8</th>\n",
       "      <td>0.108804</td>\n",
       "      <td>0.004117</td>\n",
       "      <td>0.005002</td>\n",
       "      <td>0.000892</td>\n",
       "      <td>7</td>\n",
       "      <td>100</td>\n",
       "      <td>{'max_depth': 7, 'min_child_weight': 100}</td>\n",
       "      <td>0.559701</td>\n",
       "      <td>0.619403</td>\n",
       "      <td>0.611940</td>\n",
       "      <td>...</td>\n",
       "      <td>0.613772</td>\n",
       "      <td>0.030642</td>\n",
       "      <td>7</td>\n",
       "      <td>0.627341</td>\n",
       "      <td>0.612360</td>\n",
       "      <td>0.614232</td>\n",
       "      <td>0.611215</td>\n",
       "      <td>0.603738</td>\n",
       "      <td>0.613777</td>\n",
       "      <td>0.007662</td>\n",
       "    </tr>\n",
       "  </tbody>\n",
       "</table>\n",
       "<p>9 rows × 22 columns</p>\n",
       "</div>"
      ],
      "text/plain": [
       "   mean_fit_time  std_fit_time  mean_score_time  std_score_time  \\\n",
       "0       0.162820      0.026252         0.009788        0.007628   \n",
       "1       0.118605      0.005466         0.011210        0.008202   \n",
       "2       0.153805      0.080595         0.007999        0.003953   \n",
       "3       0.200006      0.022901         0.007805        0.003762   \n",
       "4       0.188010      0.035018         0.008404        0.003265   \n",
       "5       0.151013      0.019148         0.006999        0.002097   \n",
       "6       0.364820      0.073922         0.016004        0.014655   \n",
       "7       0.208009      0.015158         0.007604        0.001850   \n",
       "8       0.108804      0.004117         0.005002        0.000892   \n",
       "\n",
       "  param_max_depth param_min_child_weight  \\\n",
       "0               1                      1   \n",
       "1               1                     10   \n",
       "2               1                    100   \n",
       "3               4                      1   \n",
       "4               4                     10   \n",
       "5               4                    100   \n",
       "6               7                      1   \n",
       "7               7                     10   \n",
       "8               7                    100   \n",
       "\n",
       "                                      params  split0_test_score  \\\n",
       "0    {'max_depth': 1, 'min_child_weight': 1}           0.776119   \n",
       "1   {'max_depth': 1, 'min_child_weight': 10}           0.753731   \n",
       "2  {'max_depth': 1, 'min_child_weight': 100}           0.559701   \n",
       "3    {'max_depth': 4, 'min_child_weight': 1}           0.768657   \n",
       "4   {'max_depth': 4, 'min_child_weight': 10}           0.768657   \n",
       "5  {'max_depth': 4, 'min_child_weight': 100}           0.559701   \n",
       "6    {'max_depth': 7, 'min_child_weight': 1}           0.776119   \n",
       "7   {'max_depth': 7, 'min_child_weight': 10}           0.776119   \n",
       "8  {'max_depth': 7, 'min_child_weight': 100}           0.559701   \n",
       "\n",
       "   split1_test_score  split2_test_score  ...  mean_test_score  std_test_score  \\\n",
       "0           0.783582           0.820896  ...         0.806886        0.026514   \n",
       "1           0.768657           0.820896  ...         0.794910        0.035261   \n",
       "2           0.619403           0.611940  ...         0.613772        0.030642   \n",
       "3           0.783582           0.828358  ...         0.821856        0.040277   \n",
       "4           0.761194           0.828358  ...         0.811377        0.039168   \n",
       "5           0.619403           0.611940  ...         0.613772        0.030642   \n",
       "6           0.783582           0.798507  ...         0.806886        0.027526   \n",
       "7           0.768657           0.828358  ...         0.814371        0.035628   \n",
       "8           0.619403           0.611940  ...         0.613772        0.030642   \n",
       "\n",
       "   rank_test_score  split0_train_score  split1_train_score  \\\n",
       "0                4            0.825843            0.812734   \n",
       "1                6            0.807116            0.814607   \n",
       "2                7            0.627341            0.612360   \n",
       "3                1            0.917603            0.910112   \n",
       "4                3            0.859551            0.874532   \n",
       "5                7            0.627341            0.612360   \n",
       "6                4            0.960674            0.964419   \n",
       "7                2            0.857678            0.874532   \n",
       "8                7            0.627341            0.612360   \n",
       "\n",
       "   split2_train_score  split3_train_score  split4_train_score  \\\n",
       "0            0.797753            0.805607            0.805607   \n",
       "1            0.797753            0.798131            0.796262   \n",
       "2            0.614232            0.611215            0.603738   \n",
       "3            0.906367            0.904673            0.908411   \n",
       "4            0.870787            0.850467            0.848598   \n",
       "5            0.614232            0.611215            0.603738   \n",
       "6            0.943820            0.951402            0.966355   \n",
       "7            0.867041            0.848598            0.854206   \n",
       "8            0.614232            0.611215            0.603738   \n",
       "\n",
       "   mean_train_score  std_train_score  \n",
       "0          0.809509         0.009443  \n",
       "1          0.802774         0.007043  \n",
       "2          0.613777         0.007662  \n",
       "3          0.909433         0.004479  \n",
       "4          0.860787         0.010445  \n",
       "5          0.613777         0.007662  \n",
       "6          0.957334         0.008492  \n",
       "7          0.860411         0.009262  \n",
       "8          0.613777         0.007662  \n",
       "\n",
       "[9 rows x 22 columns]"
      ]
     },
     "execution_count": 83,
     "metadata": {},
     "output_type": "execute_result"
    }
   ],
   "source": [
    "# Get report on grid search results\n",
    "# /scrub/\n",
    "pd.DataFrame(grid_search.cv_results_)"
   ]
  },
  {
   "cell_type": "code",
   "execution_count": 86,
   "metadata": {},
   "outputs": [
    {
     "data": {
      "text/plain": [
       "0.9001122334455668"
      ]
     },
     "execution_count": 86,
     "metadata": {},
     "output_type": "execute_result"
    }
   ],
   "source": [
    "xgb_clas = xgb.XGBClassifier(max_depth= 4, min_child_weight= 1)\n",
    "xgb_clas.fit(X, y)\n",
    "xgb_clas.score(X, y)"
   ]
  },
  {
   "cell_type": "code",
   "execution_count": 88,
   "metadata": {},
   "outputs": [
    {
     "data": {
      "text/plain": [
       "0.828253091456908"
      ]
     },
     "execution_count": 88,
     "metadata": {},
     "output_type": "execute_result"
    }
   ],
   "source": [
    "from sklearn.model_selection import cross_val_score, KFold\n",
    "kf = KFold(5, shuffle=True)\n",
    "scores = cross_val_score(xgb_clas, X, y, cv=kf)\n",
    "np.array(scores).mean()"
   ]
  },
  {
   "cell_type": "markdown",
   "metadata": {},
   "source": [
    "$\\blacksquare$"
   ]
  },
  {
   "cell_type": "markdown",
   "metadata": {},
   "source": [
    "## Summary"
   ]
  },
  {
   "cell_type": "markdown",
   "metadata": {},
   "source": [
    "- `XGBoost` is a popular decision tree ensemble algorithm.\n",
    "- `XGBoost` uses gradient boosting, meaning that each tree attempts to correct the errors of previous trees.\n",
    "- scikit-learn's `GridSearchCV` helps with testing hyperparameter values."
   ]
  }
 ],
 "metadata": {
  "kernelspec": {
   "display_name": "Python 3",
   "language": "python",
   "name": "python3"
  },
  "language_info": {
   "codemirror_mode": {
    "name": "ipython",
    "version": 3
   },
   "file_extension": ".py",
   "mimetype": "text/x-python",
   "name": "python",
   "nbconvert_exporter": "python",
   "pygments_lexer": "ipython3",
   "version": "3.6.8"
  }
 },
 "nbformat": 4,
 "nbformat_minor": 2
}
