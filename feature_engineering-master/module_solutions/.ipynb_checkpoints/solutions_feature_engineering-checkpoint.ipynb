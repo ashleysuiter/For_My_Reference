{
 "cells": [
  {
   "cell_type": "markdown",
   "metadata": {},
   "source": [
    "<img src=\"http://imgur.com/1ZcRyrc.png\" style=\"float: left; margin: 20px; height: 55px\">\n",
    "\n",
    "# Feature Engineering"
   ]
  },
  {
   "cell_type": "code",
   "execution_count": 1,
   "metadata": {},
   "outputs": [],
   "source": [
    "import matplotlib.pyplot as plt\n",
    "import numpy as np\n",
    "import pandas as pd\n",
    "import seaborn as sns"
   ]
  },
  {
   "cell_type": "code",
   "execution_count": 2,
   "metadata": {},
   "outputs": [],
   "source": [
    "# Load mammals data set\n",
    "mammals_path = '../assets/data/mammals.txt'\n",
    "cols = ['brain', 'body']\n",
    "mammals = pd.read_csv(mammals_path, sep='\\t', names=cols, header=0)"
   ]
  },
  {
   "cell_type": "code",
   "execution_count": 3,
   "metadata": {},
   "outputs": [
    {
     "data": {
      "text/html": [
       "<div>\n",
       "<style scoped>\n",
       "    .dataframe tbody tr th:only-of-type {\n",
       "        vertical-align: middle;\n",
       "    }\n",
       "\n",
       "    .dataframe tbody tr th {\n",
       "        vertical-align: top;\n",
       "    }\n",
       "\n",
       "    .dataframe thead th {\n",
       "        text-align: right;\n",
       "    }\n",
       "</style>\n",
       "<table border=\"1\" class=\"dataframe\">\n",
       "  <thead>\n",
       "    <tr style=\"text-align: right;\">\n",
       "      <th></th>\n",
       "      <th>brain</th>\n",
       "      <th>body</th>\n",
       "    </tr>\n",
       "  </thead>\n",
       "  <tbody>\n",
       "    <tr>\n",
       "      <th>0</th>\n",
       "      <td>3.385</td>\n",
       "      <td>44.5</td>\n",
       "    </tr>\n",
       "    <tr>\n",
       "      <th>1</th>\n",
       "      <td>0.480</td>\n",
       "      <td>15.5</td>\n",
       "    </tr>\n",
       "    <tr>\n",
       "      <th>2</th>\n",
       "      <td>1.350</td>\n",
       "      <td>8.1</td>\n",
       "    </tr>\n",
       "    <tr>\n",
       "      <th>3</th>\n",
       "      <td>465.000</td>\n",
       "      <td>423.0</td>\n",
       "    </tr>\n",
       "    <tr>\n",
       "      <th>4</th>\n",
       "      <td>36.330</td>\n",
       "      <td>119.5</td>\n",
       "    </tr>\n",
       "  </tbody>\n",
       "</table>\n",
       "</div>"
      ],
      "text/plain": [
       "     brain   body\n",
       "0    3.385   44.5\n",
       "1    0.480   15.5\n",
       "2    1.350    8.1\n",
       "3  465.000  423.0\n",
       "4   36.330  119.5"
      ]
     },
     "execution_count": 3,
     "metadata": {},
     "output_type": "execute_result"
    }
   ],
   "source": [
    "mammals.head()"
   ]
  },
  {
   "cell_type": "code",
   "execution_count": 4,
   "metadata": {},
   "outputs": [
    {
     "data": {
      "text/html": [
       "<div>\n",
       "<style scoped>\n",
       "    .dataframe tbody tr th:only-of-type {\n",
       "        vertical-align: middle;\n",
       "    }\n",
       "\n",
       "    .dataframe tbody tr th {\n",
       "        vertical-align: top;\n",
       "    }\n",
       "\n",
       "    .dataframe thead th {\n",
       "        text-align: right;\n",
       "    }\n",
       "</style>\n",
       "<table border=\"1\" class=\"dataframe\">\n",
       "  <thead>\n",
       "    <tr style=\"text-align: right;\">\n",
       "      <th></th>\n",
       "      <th>brain</th>\n",
       "      <th>body</th>\n",
       "    </tr>\n",
       "  </thead>\n",
       "  <tbody>\n",
       "    <tr>\n",
       "      <th>13</th>\n",
       "      <td>0.005</td>\n",
       "      <td>0.14</td>\n",
       "    </tr>\n",
       "    <tr>\n",
       "      <th>39</th>\n",
       "      <td>0.010</td>\n",
       "      <td>0.25</td>\n",
       "    </tr>\n",
       "    <tr>\n",
       "      <th>19</th>\n",
       "      <td>0.023</td>\n",
       "      <td>0.30</td>\n",
       "    </tr>\n",
       "    <tr>\n",
       "      <th>54</th>\n",
       "      <td>0.048</td>\n",
       "      <td>0.33</td>\n",
       "    </tr>\n",
       "    <tr>\n",
       "      <th>38</th>\n",
       "      <td>0.023</td>\n",
       "      <td>0.40</td>\n",
       "    </tr>\n",
       "  </tbody>\n",
       "</table>\n",
       "</div>"
      ],
      "text/plain": [
       "    brain  body\n",
       "13  0.005  0.14\n",
       "39  0.010  0.25\n",
       "19  0.023  0.30\n",
       "54  0.048  0.33\n",
       "38  0.023  0.40"
      ]
     },
     "execution_count": 4,
     "metadata": {},
     "output_type": "execute_result"
    }
   ],
   "source": [
    "# Remove extreme values and sort by body for easier plotting\n",
    "# /scrub/\n",
    "mammals = mammals.loc[mammals.loc[:, 'body'] <= 200, :].sort_values('body')\n",
    "mammals.head()"
   ]
  },
  {
   "cell_type": "markdown",
   "metadata": {},
   "source": [
    "## Demo"
   ]
  },
  {
   "cell_type": "markdown",
   "metadata": {},
   "source": [
    "Brain size and body size are clearly related, but the relationship doesn't look particularly nice:"
   ]
  },
  {
   "cell_type": "code",
   "execution_count": 5,
   "metadata": {},
   "outputs": [
    {
     "data": {
      "image/png": "[encoded data removed]",
      "text/plain": [
       "<Figure size 432x288 with 1 Axes>"
      ]
     },
     "metadata": {
      "needs_background": "light"
     },
     "output_type": "display_data"
    }
   ],
   "source": [
    "# Plot scatterplot of brain size against body size\n",
    "# /scrub/\n",
    "ax = mammals.plot(kind='scatter', x='body', y='brain')"
   ]
  },
  {
   "cell_type": "markdown",
   "metadata": {},
   "source": [
    "Let's see how it looks after we take the logarithm of both variables."
   ]
  },
  {
   "cell_type": "code",
   "execution_count": 6,
   "metadata": {},
   "outputs": [
    {
     "data": {
      "image/png": "[encoded data removed]",
      "text/plain": [
       "<Figure size 432x288 with 1 Axes>"
      ]
     },
     "metadata": {
      "needs_background": "light"
     },
     "output_type": "display_data"
    }
   ],
   "source": [
    "# Plot scatterplot of brain size against body size after log transformation\n",
    "# /scrub/\n",
    "log_mammals = np.log(mammals)\n",
    "ax = log_mammals.plot(kind='scatter', x='body', y='brain');"
   ]
  },
  {
   "cell_type": "markdown",
   "metadata": {},
   "source": [
    "😍now it looks like a textbook example for linear regression."
   ]
  },
  {
   "cell_type": "markdown",
   "metadata": {},
   "source": [
    "This example illustrates the power of \"feature engineering\" -- transforming your variables to get better performance out of a machine learning model."
   ]
  },
  {
   "cell_type": "markdown",
   "metadata": {},
   "source": [
    "## Simple Linear Regression on the Mammals Dataset"
   ]
  },
  {
   "cell_type": "code",
   "execution_count": 7,
   "metadata": {},
   "outputs": [
    {
     "data": {
      "text/plain": [
       "(51, 2)"
      ]
     },
     "execution_count": 7,
     "metadata": {},
     "output_type": "execute_result"
    }
   ],
   "source": [
    "# Check number of rows and columns in `mammals`\n",
    "# /scrub/\n",
    "mammals.shape"
   ]
  },
  {
   "cell_type": "markdown",
   "metadata": {},
   "source": [
    "Let's try out a simple linear regression model: $\\mbox{brain} = \\beta_0 + \\beta_1 * \\mbox{body} + \\epsilon$."
   ]
  },
  {
   "cell_type": "markdown",
   "metadata": {},
   "source": [
    "**Notes:**\n",
    "\n",
    "- The mammals dataset has only 51 rows, so test-set metrics will be fairly unreliable in a simple train/test split. **We should use cross-validation**.\n",
    "- MAE and MSE are arguably inappropriate for this dataset because they give the same score for an error of 500g (about 1 pound), for instance, regardless of whether we are predicting the brain size of a mouse or of an elephant, whereas it seems that being off by 500g is unacceptable if we are predicting mouse brain size but not bad if we are predicting elephant brain size. **A more appropriate metric is *mean absolute percentage error* (MAPE):** the average magnitude of the error in our prediction for `y` as a percent of `y`."
   ]
  },
  {
   "cell_type": "code",
   "execution_count": 8,
   "metadata": {},
   "outputs": [],
   "source": [
    "# Write a function to do leave-one-out cross-validation\n",
    "# returning MAPE for both the training set and the test set\n",
    "# /scrub/\n",
    "from sklearn.linear_model import LinearRegression\n",
    "\n",
    "def my_cross_val_score(X, y):\n",
    "    lr = LinearRegression()\n",
    "    \n",
    "    train_scores = []\n",
    "    test_scores = []\n",
    "\n",
    "    for rownum in X.index:\n",
    "        X_train = X.drop(rownum)\n",
    "        X_test = X.loc[[rownum], :]\n",
    "        y_train = y.drop(rownum)\n",
    "        y_test = y.loc[[rownum]]\n",
    "    \n",
    "        lr.fit(X_train, y_train)\n",
    "\n",
    "        train_pred = lr.predict(X_train)\n",
    "        percent_error_train = mape(y_train, train_pred)\n",
    "        train_scores.append(percent_error_train)\n",
    "\n",
    "        test_pred = lr.predict(X_test)\n",
    "        percent_error_test = mape(y_test, test_pred)\n",
    "        test_scores.append(percent_error_test)\n",
    "\n",
    "    return np.array(train_scores).mean(), np.array(test_scores).mean()\n",
    "\n",
    "\n",
    "def mape(y_true, y_pred):\n",
    "    return abs((y_true - y_pred) / y_true).mean()"
   ]
  },
  {
   "cell_type": "code",
   "execution_count": 9,
   "metadata": {},
   "outputs": [
    {
     "data": {
      "text/plain": [
       "(33.93398492390133, 35.02808298644269)"
      ]
     },
     "execution_count": 9,
     "metadata": {},
     "output_type": "execute_result"
    }
   ],
   "source": [
    "# Create a linear regression model of brain weight against body weight,\n",
    "# and calculate average RMSE on the training set and on the test set\n",
    "# using leave-one-out cross-validation.\n",
    "# /scrub/\n",
    "\n",
    "feature_cols = ['body']\n",
    "target_col = 'brain'\n",
    "\n",
    "X = mammals.loc[:, feature_cols]\n",
    "y = mammals.loc[:, target_col]\n",
    "\n",
    "my_cross_val_score(X, y)"
   ]
  },
  {
   "cell_type": "code",
   "execution_count": 10,
   "metadata": {},
   "outputs": [
    {
     "data": {
      "image/png": "[encoded data removed]",
      "text/plain": [
       "<Figure size 432x288 with 1 Axes>"
      ]
     },
     "metadata": {
      "needs_background": "light"
     },
     "output_type": "display_data"
    }
   ],
   "source": [
    "# Superimpose a line plot of the fitted values from a simple linear regression \n",
    "# model on a scatterplot of the individual data points.\n",
    "# /scrub/\n",
    "lr = LinearRegression()\n",
    "lr.fit(X, y)\n",
    "\n",
    "ax = mammals.plot(kind='scatter', x='body', y='brain')\n",
    "ax.plot(X, lr.predict(X), c='r');"
   ]
  },
  {
   "cell_type": "markdown",
   "metadata": {},
   "source": [
    "## Polynomial Transformations"
   ]
  },
  {
   "cell_type": "markdown",
   "metadata": {},
   "source": [
    "Linear regression creates a model that is linear in terms of features that you pass into it. **But linear regression can capture non-linear relationships with your original features if you give it non-linear transformations of those features.**"
   ]
  },
  {
   "cell_type": "markdown",
   "metadata": {},
   "source": [
    "For instance, let's fit this model:\n",
    "\n",
    "$\\mbox{brain} = \\beta_0 + \\beta_1 * \\mbox{body} + \\beta_2 * \\mbox{body}^2 + \\epsilon$"
   ]
  },
  {
   "cell_type": "code",
   "execution_count": 11,
   "metadata": {},
   "outputs": [
    {
     "data": {
      "text/plain": [
       "(3.3710537728577354, 2.635796201340521)"
      ]
     },
     "execution_count": 11,
     "metadata": {},
     "output_type": "execute_result"
    }
   ],
   "source": [
    "# Create and evaluate a model as before, but with body**2 as an additional feature\n",
    "# /scrub/\n",
    "mammals.loc[:, 'body_squared'] = mammals.loc[:, 'body']**2\n",
    "feature_cols = ['body', 'body_squared']\n",
    "\n",
    "X = mammals.loc[:, feature_cols]\n",
    "\n",
    "my_cross_val_score(X, y)"
   ]
  },
  {
   "cell_type": "code",
   "execution_count": 12,
   "metadata": {},
   "outputs": [
    {
     "data": {
      "image/png": "[encoded data removed]",
      "text/plain": [
       "<Figure size 432x288 with 1 Axes>"
      ]
     },
     "metadata": {
      "needs_background": "light"
     },
     "output_type": "display_data"
    }
   ],
   "source": [
    "# Plot the resulting model on top of the corresponding scatterplot\n",
    "# /scrub/\n",
    "lr.fit(X, y)\n",
    "\n",
    "ax = mammals.plot(kind='scatter', x='body', y='brain')\n",
    "ax.plot(X.loc[:, 'body'], lr.predict(X), c='r');"
   ]
  },
  {
   "cell_type": "code",
   "execution_count": 13,
   "metadata": {},
   "outputs": [],
   "source": [
    "# Clean up by dropped body_squared\n",
    "# /scrub/\n",
    "mammals = mammals.drop('body_squared', axis='columns')"
   ]
  },
  {
   "cell_type": "markdown",
   "metadata": {},
   "source": [
    "MSE has not improved much, but MAPE has improve dramatically because the model is able to do a better job for body sizes 0-25kg."
   ]
  },
  {
   "cell_type": "markdown",
   "metadata": {},
   "source": [
    "In general, A polynomial function of x has the form $c_0 + c_1x + c_2x^2 + c_3x^3 + \\ldots$.\n",
    "\n",
    "If you give a linear regression model $x$, $x^2$, and $x^3$ as features, for instance, it will find the $\\beta_0$, $\\beta_1$, $\\beta_2$, and $\\beta_3$ that minimizes mean-squared error for using $\\beta_0 + \\beta_1x + \\beta_2x^2 + \\beta_3x^3$ to predict $y$.\n",
    "\n",
    "It can always recover simple linear regression by setting the coefficients on the higher-order terms to 0, so adding these higher-order terms only increases the set of relationships that the model can capture."
   ]
  },
  {
   "cell_type": "markdown",
   "metadata": {},
   "source": [
    "**Exercise (1 min.)**\n",
    "\n",
    "- How does adding higher-order polynomial terms as inputs to a linear regression model affect its bias and variance?"
   ]
  },
  {
   "cell_type": "markdown",
   "metadata": {},
   "source": [
    "/scrub/\n",
    "\n",
    "Decreases (or at least does not increase) bias, increases variance."
   ]
  },
  {
   "cell_type": "markdown",
   "metadata": {},
   "source": [
    "$\\blacksquare$"
   ]
  },
  {
   "cell_type": "markdown",
   "metadata": {},
   "source": [
    "**Every additional polynomial term gives your model an additional chance to change directions.**"
   ]
  },
  {
   "cell_type": "code",
   "execution_count": 14,
   "metadata": {
    "scrolled": true
   },
   "outputs": [
    {
     "data": {
      "image/png": "[encoded data removed]",
      "text/plain": [
       "<Figure size 432x288 with 1 Axes>"
      ]
     },
     "metadata": {
      "needs_background": "light"
     },
     "output_type": "display_data"
    }
   ],
   "source": [
    "# first-order\n",
    "x = np.linspace(-1, 1, 100)\n",
    "plt.plot(x, x);"
   ]
  },
  {
   "cell_type": "code",
   "execution_count": 15,
   "metadata": {},
   "outputs": [
    {
     "data": {
      "image/png": "[encoded data removed]",
      "text/plain": [
       "<Figure size 432x288 with 1 Axes>"
      ]
     },
     "metadata": {
      "needs_background": "light"
     },
     "output_type": "display_data"
    }
   ],
   "source": [
    "# second-order\n",
    "plt.plot(x, x**2);"
   ]
  },
  {
   "cell_type": "code",
   "execution_count": 16,
   "metadata": {},
   "outputs": [
    {
     "data": {
      "image/png": "[encoded data removed]",
      "text/plain": [
       "<Figure size 432x288 with 1 Axes>"
      ]
     },
     "metadata": {
      "needs_background": "light"
     },
     "output_type": "display_data"
    }
   ],
   "source": [
    "# third-order\n",
    "x = np.linspace(-.75, 1.5, 100)\n",
    "plt.plot(x, -.4*x - x**2 + x**3);"
   ]
  },
  {
   "cell_type": "code",
   "execution_count": 17,
   "metadata": {
    "scrolled": true
   },
   "outputs": [
    {
     "data": {
      "image/png": "[encoded data removed]",
      "text/plain": [
       "<Figure size 432x288 with 1 Axes>"
      ]
     },
     "metadata": {
      "needs_background": "light"
     },
     "output_type": "display_data"
    }
   ],
   "source": [
    "# fourth-order\n",
    "x = np.linspace(-1, 1, 100)\n",
    "plt.plot(x, -x**2 + x**4);"
   ]
  },
  {
   "cell_type": "markdown",
   "metadata": {},
   "source": [
    "Too many polynomial terms leads to overfitting"
   ]
  },
  {
   "cell_type": "code",
   "execution_count": 18,
   "metadata": {},
   "outputs": [
    {
     "data": {
      "image/png": "[encoded data removed]",
      "text/plain": [
       "<Figure size 360x360 with 1 Axes>"
      ]
     },
     "metadata": {
      "needs_background": "light"
     },
     "output_type": "display_data"
    }
   ],
   "source": [
    "# 8th-order model\n",
    "g = sns.lmplot(x='body', y='brain', data=mammals, ci=None, order=8);"
   ]
  },
  {
   "cell_type": "markdown",
   "metadata": {},
   "source": [
    "An (n-1)-order polynomial can always fit n data points perfectly. It is definitely overfitting!"
   ]
  },
  {
   "cell_type": "code",
   "execution_count": 19,
   "metadata": {},
   "outputs": [
    {
     "name": "stderr",
     "output_type": "stream",
     "text": [
      "/Users/gGandenberger/anaconda3/envs/ga/lib/python3.7/site-packages/seaborn/regression.py:237: RankWarning: Polyfit may be poorly conditioned\n",
      "  return np.polyval(np.polyfit(_x, _y, order), grid)\n"
     ]
    },
    {
     "data": {
      "image/png": "[encoded data removed]",
      "text/plain": [
       "<Figure size 360x360 with 1 Axes>"
      ]
     },
     "metadata": {
      "needs_background": "light"
     },
     "output_type": "display_data"
    }
   ],
   "source": [
    "# 50th-order model\n",
    "fig = sns.lmplot(x='body', y='brain', data=mammals, ci=None, order=50);\n",
    "ax = fig.axes\n",
    "ax[0,0].set_ylim(0, 200);"
   ]
  },
  {
   "cell_type": "markdown",
   "metadata": {},
   "source": [
    "Including multiple transformations of one variable complicates coefficient interpretation."
   ]
  },
  {
   "cell_type": "code",
   "execution_count": 20,
   "metadata": {},
   "outputs": [
    {
     "name": "stdout",
     "output_type": "stream",
     "text": [
      "0.13198730573592954\n",
      "[0.10843153 0.00210168]\n"
     ]
    }
   ],
   "source": [
    "# Print intercept and coefficients from second-order model we created earlier\n",
    "# /scrub/\n",
    "print(lr.intercept_)\n",
    "print(lr.coef_)"
   ]
  },
  {
   "cell_type": "markdown",
   "metadata": {},
   "source": [
    "**Exercise (2 mins.)**"
   ]
  },
  {
   "cell_type": "markdown",
   "metadata": {},
   "source": [
    "- Write down the equation of this second-order model (with fitted coefficient values)."
   ]
  },
  {
   "cell_type": "markdown",
   "metadata": {},
   "source": [
    "/scrub/\n",
    "\n",
    "$brain = .132 + .108*body + .0021 * body^2$"
   ]
  },
  {
   "cell_type": "markdown",
   "metadata": {},
   "source": [
    "- How would you normally interpret the coefficient on `body` in a linear regression model of brain weight against body weight along with some other features? Why doesn't that interpretation work in this case?"
   ]
  },
  {
   "cell_type": "markdown",
   "metadata": {},
   "source": [
    "/scrub/\n",
    "\n",
    "You would normally interpret the coefficient on a variable in a linear regression model as telling you how your model's predictions change with a one-unit increase in that variable, holding all other variables fixed. That interpretation doesn't work here because you can't have a one-unit increase in `body` while holding `body^2` fixed."
   ]
  },
  {
   "cell_type": "markdown",
   "metadata": {},
   "source": [
    "$\\blacksquare$"
   ]
  },
  {
   "cell_type": "markdown",
   "metadata": {},
   "source": [
    "**sklearn has a \"transformer\" that generates polynomial terms**"
   ]
  },
  {
   "cell_type": "code",
   "execution_count": 21,
   "metadata": {
    "scrolled": true
   },
   "outputs": [],
   "source": [
    "# sklearn transformers have the same interface as \"estimators\" (models)\n",
    "# except that you fit them on features and use them to transform features,\n",
    "# rather than fitting them on features and a target and using them to predict\n",
    "# the target.\n",
    "# /scrub/\n",
    "from sklearn.preprocessing import PolynomialFeatures\n",
    "\n",
    "X = mammals.loc[:, ['body']]\n",
    "pf = PolynomialFeatures(degree=3, include_bias=False)\n",
    "pf.fit(X)\n",
    "X_poly = pf.transform(X)  # returns new array without modifying X"
   ]
  },
  {
   "cell_type": "markdown",
   "metadata": {},
   "source": [
    "A transformer returns a modified copy of the object it acts on without changing that objects in place."
   ]
  },
  {
   "cell_type": "code",
   "execution_count": 22,
   "metadata": {},
   "outputs": [
    {
     "data": {
      "text/plain": [
       "(7.910035317586286, 8.258039319786464)"
      ]
     },
     "execution_count": 22,
     "metadata": {},
     "output_type": "execute_result"
    }
   ],
   "source": [
    "# Score a model that uses the polynomial features\n",
    "# /scrub/\n",
    "my_cross_val_score(pd.DataFrame(X_poly, index=X.index), y)"
   ]
  },
  {
   "cell_type": "code",
   "execution_count": 23,
   "metadata": {},
   "outputs": [
    {
     "data": {
      "image/png": "[encoded data removed]",
      "text/plain": [
       "<Figure size 432x288 with 1 Axes>"
      ]
     },
     "metadata": {
      "needs_background": "light"
     },
     "output_type": "display_data"
    }
   ],
   "source": [
    "# Plot the resulting model on top of the corresponding scatterplot\n",
    "# /scrub/\n",
    "lr.fit(X_poly, y)\n",
    "\n",
    "ax = mammals.plot(kind='scatter', x='body', y='brain')\n",
    "ax.plot(X.loc[:, 'body'], lr.predict(X_poly), c='r');"
   ]
  },
  {
   "cell_type": "markdown",
   "metadata": {},
   "source": [
    "The linear regression algorithm is still trying to minimize MSE, and in this case giving it more flexibility in minimizing MSE led to a higher MAPE."
   ]
  },
  {
   "cell_type": "markdown",
   "metadata": {},
   "source": [
    "**Exercise (10 mins., pair programming)**"
   ]
  },
  {
   "cell_type": "markdown",
   "metadata": {},
   "source": [
    "Use the Boston housing data for the exercises below."
   ]
  },
  {
   "cell_type": "code",
   "execution_count": 24,
   "metadata": {
    "scrolled": true
   },
   "outputs": [
    {
     "data": {
      "text/html": [
       "<div>\n",
       "<style scoped>\n",
       "    .dataframe tbody tr th:only-of-type {\n",
       "        vertical-align: middle;\n",
       "    }\n",
       "\n",
       "    .dataframe tbody tr th {\n",
       "        vertical-align: top;\n",
       "    }\n",
       "\n",
       "    .dataframe thead th {\n",
       "        text-align: right;\n",
       "    }\n",
       "</style>\n",
       "<table border=\"1\" class=\"dataframe\">\n",
       "  <thead>\n",
       "    <tr style=\"text-align: right;\">\n",
       "      <th></th>\n",
       "      <th>CRIM</th>\n",
       "      <th>ZN</th>\n",
       "      <th>INDUS</th>\n",
       "      <th>CHAS</th>\n",
       "      <th>NOX</th>\n",
       "      <th>RM</th>\n",
       "      <th>AGE</th>\n",
       "      <th>DIS</th>\n",
       "      <th>RAD</th>\n",
       "      <th>TAX</th>\n",
       "      <th>PTRATIO</th>\n",
       "      <th>B</th>\n",
       "      <th>LSTAT</th>\n",
       "      <th>MEDV</th>\n",
       "    </tr>\n",
       "  </thead>\n",
       "  <tbody>\n",
       "    <tr>\n",
       "      <th>0</th>\n",
       "      <td>0.00632</td>\n",
       "      <td>18.0</td>\n",
       "      <td>2.31</td>\n",
       "      <td>0.0</td>\n",
       "      <td>0.538</td>\n",
       "      <td>6.575</td>\n",
       "      <td>65.2</td>\n",
       "      <td>4.0900</td>\n",
       "      <td>1.0</td>\n",
       "      <td>296.0</td>\n",
       "      <td>15.3</td>\n",
       "      <td>396.90</td>\n",
       "      <td>4.98</td>\n",
       "      <td>24.0</td>\n",
       "    </tr>\n",
       "    <tr>\n",
       "      <th>1</th>\n",
       "      <td>0.02731</td>\n",
       "      <td>0.0</td>\n",
       "      <td>7.07</td>\n",
       "      <td>0.0</td>\n",
       "      <td>0.469</td>\n",
       "      <td>6.421</td>\n",
       "      <td>78.9</td>\n",
       "      <td>4.9671</td>\n",
       "      <td>2.0</td>\n",
       "      <td>242.0</td>\n",
       "      <td>17.8</td>\n",
       "      <td>396.90</td>\n",
       "      <td>9.14</td>\n",
       "      <td>21.6</td>\n",
       "    </tr>\n",
       "    <tr>\n",
       "      <th>2</th>\n",
       "      <td>0.02729</td>\n",
       "      <td>0.0</td>\n",
       "      <td>7.07</td>\n",
       "      <td>0.0</td>\n",
       "      <td>0.469</td>\n",
       "      <td>7.185</td>\n",
       "      <td>61.1</td>\n",
       "      <td>4.9671</td>\n",
       "      <td>2.0</td>\n",
       "      <td>242.0</td>\n",
       "      <td>17.8</td>\n",
       "      <td>392.83</td>\n",
       "      <td>4.03</td>\n",
       "      <td>34.7</td>\n",
       "    </tr>\n",
       "    <tr>\n",
       "      <th>3</th>\n",
       "      <td>0.03237</td>\n",
       "      <td>0.0</td>\n",
       "      <td>2.18</td>\n",
       "      <td>0.0</td>\n",
       "      <td>0.458</td>\n",
       "      <td>6.998</td>\n",
       "      <td>45.8</td>\n",
       "      <td>6.0622</td>\n",
       "      <td>3.0</td>\n",
       "      <td>222.0</td>\n",
       "      <td>18.7</td>\n",
       "      <td>394.63</td>\n",
       "      <td>2.94</td>\n",
       "      <td>33.4</td>\n",
       "    </tr>\n",
       "    <tr>\n",
       "      <th>4</th>\n",
       "      <td>0.06905</td>\n",
       "      <td>0.0</td>\n",
       "      <td>2.18</td>\n",
       "      <td>0.0</td>\n",
       "      <td>0.458</td>\n",
       "      <td>7.147</td>\n",
       "      <td>54.2</td>\n",
       "      <td>6.0622</td>\n",
       "      <td>3.0</td>\n",
       "      <td>222.0</td>\n",
       "      <td>18.7</td>\n",
       "      <td>396.90</td>\n",
       "      <td>5.33</td>\n",
       "      <td>36.2</td>\n",
       "    </tr>\n",
       "  </tbody>\n",
       "</table>\n",
       "</div>"
      ],
      "text/plain": [
       "      CRIM    ZN  INDUS  CHAS    NOX     RM   AGE     DIS  RAD    TAX  \\\n",
       "0  0.00632  18.0   2.31   0.0  0.538  6.575  65.2  4.0900  1.0  296.0   \n",
       "1  0.02731   0.0   7.07   0.0  0.469  6.421  78.9  4.9671  2.0  242.0   \n",
       "2  0.02729   0.0   7.07   0.0  0.469  7.185  61.1  4.9671  2.0  242.0   \n",
       "3  0.03237   0.0   2.18   0.0  0.458  6.998  45.8  6.0622  3.0  222.0   \n",
       "4  0.06905   0.0   2.18   0.0  0.458  7.147  54.2  6.0622  3.0  222.0   \n",
       "\n",
       "   PTRATIO       B  LSTAT  MEDV  \n",
       "0     15.3  396.90   4.98  24.0  \n",
       "1     17.8  396.90   9.14  21.6  \n",
       "2     17.8  392.83   4.03  34.7  \n",
       "3     18.7  394.63   2.94  33.4  \n",
       "4     18.7  396.90   5.33  36.2  "
      ]
     },
     "execution_count": 24,
     "metadata": {},
     "output_type": "execute_result"
    }
   ],
   "source": [
    "from sklearn.datasets import load_boston\n",
    "\n",
    "boston = load_boston()\n",
    "X = pd.DataFrame(boston.data, columns=boston.feature_names)\n",
    "y = pd.DataFrame(boston.target, columns=['MEDV'])\n",
    "boston = pd.concat([X, y], axis=1)\n",
    "boston.head()"
   ]
  },
  {
   "cell_type": "markdown",
   "metadata": {},
   "source": [
    "- Create a linear regression model for MEDV against DIS with no higher-order polynomial terms. Train it on a training set and measure its R2 on both the training set and a test set, using a simple train/test split.\n",
    "\n",
    "*Tip*: Use a new variable such as `X1` to store your feature variable DataFrame for this exercise, rather than overwriting `X`."
   ]
  },
  {
   "cell_type": "code",
   "execution_count": 25,
   "metadata": {},
   "outputs": [
    {
     "name": "stdout",
     "output_type": "stream",
     "text": [
      "0.057407485576294055\n",
      "0.06848362902808514\n"
     ]
    }
   ],
   "source": [
    "# /scrub/\n",
    "from sklearn import metrics\n",
    "from sklearn.model_selection import train_test_split\n",
    "\n",
    "feature_cols = ['DIS']\n",
    "X1 = X.loc[:, feature_cols]\n",
    "X_train, X_test, y_train, y_test = train_test_split(X1, y)\n",
    "\n",
    "lr_boston1 = LinearRegression()\n",
    "lr_boston1.fit(X_train, y_train)\n",
    "\n",
    "print(lr_boston1.score(X_train, y_train))\n",
    "print(lr_boston1.score(X_test, y_test))"
   ]
  },
  {
   "cell_type": "markdown",
   "metadata": {},
   "source": [
    "- **BONUS** (come back to this exercise after completing the non-bonus exercises): Plot your model's fitted values as a function of DIS and overlay them on scatterplots of MEDV against DIS."
   ]
  },
  {
   "cell_type": "code",
   "execution_count": 26,
   "metadata": {},
   "outputs": [
    {
     "data": {
      "image/png": "[encoded data removed]",
      "text/plain": [
       "<Figure size 432x288 with 1 Axes>"
      ]
     },
     "metadata": {
      "needs_background": "light"
     },
     "output_type": "display_data"
    }
   ],
   "source": [
    "# /scrub/\n",
    "\n",
    "ax = boston.plot(kind='scatter', x='DIS', y='MEDV', alpha=.2)\n",
    "ax.plot(X1, lr_boston1.predict(X1), c='r');"
   ]
  },
  {
   "cell_type": "markdown",
   "metadata": {},
   "source": [
    "- Create a model as before, but use polynomial terms for DIS up to and including degree two.\n",
    "\n",
    "*Tip*: Use a new variable such as `X2` to store your feature variable DataFrame for this exercise, rather than overwriting `X`."
   ]
  },
  {
   "cell_type": "code",
   "execution_count": 27,
   "metadata": {},
   "outputs": [
    {
     "name": "stdout",
     "output_type": "stream",
     "text": [
      "0.07903976783968436\n",
      "0.1420429355224465\n"
     ]
    }
   ],
   "source": [
    "# /scrub/\n",
    "pf = PolynomialFeatures(degree=2, include_bias=False)\n",
    "pf.fit(X1)\n",
    "X2 = pf.transform(X1)\n",
    "\n",
    "X_train, X_test, y_train, y_test = train_test_split(X2, y)\n",
    "\n",
    "lr_boston2 = LinearRegression()\n",
    "lr_boston2.fit(X_train, y_train)\n",
    "\n",
    "print(lr_boston2.score(X_train, y_train))\n",
    "print(lr_boston2.score(X_test, y_test))"
   ]
  },
  {
   "cell_type": "markdown",
   "metadata": {},
   "source": [
    "- **BONUS** (come back to this exercise after completing the non-bonus exercises): Plot your model's fitted values as a function of DIS and overlay them on scatterplots of MEDV against DIS.\n",
    "\n",
    "*Tip:* If the result looks like spaghetti, then you probably need to sort the data you are passinginto the model on DIS."
   ]
  },
  {
   "cell_type": "code",
   "execution_count": 28,
   "metadata": {},
   "outputs": [
    {
     "data": {
      "image/png": "[encoded data removed]",
      "text/plain": [
       "<Figure size 432x288 with 1 Axes>"
      ]
     },
     "metadata": {
      "needs_background": "light"
     },
     "output_type": "display_data"
    }
   ],
   "source": [
    "# /scrub/\n",
    "\n",
    "X2_sorted = X2[X2[:, 0].argsort()]\n",
    "\n",
    "ax = boston.plot(kind='scatter', x='DIS', y='MEDV', alpha=.2)\n",
    "ax.plot(X2_sorted[:, 0], lr_boston2.predict(X2_sorted), c='r');"
   ]
  },
  {
   "cell_type": "markdown",
   "metadata": {},
   "source": [
    "- Create a model as before, but use polynomial terms for DIS up to and including degree seven."
   ]
  },
  {
   "cell_type": "code",
   "execution_count": 29,
   "metadata": {},
   "outputs": [
    {
     "name": "stdout",
     "output_type": "stream",
     "text": [
      "0.14252803223992905\n",
      "-8.287270148575432\n"
     ]
    }
   ],
   "source": [
    "# /scrub/\n",
    "pf = PolynomialFeatures(degree=7, include_bias=False)\n",
    "pf.fit(X1)\n",
    "X7 = pf.transform(X1)\n",
    "\n",
    "X_train, X_test, y_train, y_test = train_test_split(X7, y)\n",
    "\n",
    "lr_boston7 = LinearRegression()\n",
    "lr_boston7.fit(X_train, y_train)\n",
    "\n",
    "print(lr_boston7.score(X_train, y_train))\n",
    "print(lr_boston7.score(X_test, y_test))"
   ]
  },
  {
   "cell_type": "markdown",
   "metadata": {},
   "source": [
    "- **BONUS**: Plot your model's fitted values as a function of DIS and overlay them on scatterplots of MEDV against DIS.\n",
    "\n",
    "*Tip*: Use a new variable such as `X2` to store your feature variable DataFrame for this exercise, rather than overwriting `X`."
   ]
  },
  {
   "cell_type": "code",
   "execution_count": 30,
   "metadata": {
    "scrolled": true
   },
   "outputs": [
    {
     "data": {
      "image/png": "[encoded data removed]",
      "text/plain": [
       "<Figure size 432x288 with 1 Axes>"
      ]
     },
     "metadata": {
      "needs_background": "light"
     },
     "output_type": "display_data"
    }
   ],
   "source": [
    "# /scrub/\n",
    "\n",
    "X7_sorted = X7[X7[:, 0].argsort()]\n",
    "\n",
    "ax = boston.plot(kind='scatter', x='DIS', y='MEDV', alpha=.2)\n",
    "ax.plot(X7_sorted[:, 0], lr_boston7.predict(X7_sorted), c='r');"
   ]
  },
  {
   "cell_type": "markdown",
   "metadata": {},
   "source": [
    "- **BONUS:** Create a model as before, but use DIS^(-1) along with DIS as your features."
   ]
  },
  {
   "cell_type": "code",
   "execution_count": 31,
   "metadata": {
    "scrolled": true
   },
   "outputs": [
    {
     "name": "stdout",
     "output_type": "stream",
     "text": [
      "0.11307359599898237\n",
      "0.033284335922887376\n"
     ]
    }
   ],
   "source": [
    "# /scrub/\n",
    "\n",
    "X_inv = X1.copy()\n",
    "X_inv.loc[:, 'DIS_INV'] = 1/X_inv.loc[:, 'DIS']\n",
    "\n",
    "X_train, X_test, y_train, y_test = train_test_split(X_inv, y)\n",
    "\n",
    "lr_boston_inv = LinearRegression()\n",
    "lr_boston_inv.fit(X_train, y_train)\n",
    "\n",
    "print(lr_boston_inv.score(X_train, y_train))\n",
    "print(lr_boston_inv.score(X_test, y_test))"
   ]
  },
  {
   "cell_type": "markdown",
   "metadata": {},
   "source": [
    "- **BONUS**: Plot your model's fitted values as a function of DIS and overlay them on scatterplots of MEDV against DIS.\n",
    "\n",
    "*Tip*: Use a new variable such as `X2` to store your feature variable DataFrame for this exercise, rather than overwriting `X`."
   ]
  },
  {
   "cell_type": "code",
   "execution_count": 32,
   "metadata": {},
   "outputs": [
    {
     "data": {
      "image/png": "[encoded data removed]",
      "text/plain": [
       "<Figure size 432x288 with 1 Axes>"
      ]
     },
     "metadata": {
      "needs_background": "light"
     },
     "output_type": "display_data"
    }
   ],
   "source": [
    "# /scrub/\n",
    "\n",
    "X_inv_sorted = X_inv.sort_values('DIS')\n",
    "\n",
    "ax = boston.plot(kind='scatter', x='DIS', y='MEDV', alpha=.2)\n",
    "ax.plot(X_inv_sorted.loc[:, 'DIS'], lr_boston_inv.predict(X_inv_sorted), c='r');"
   ]
  },
  {
   "cell_type": "markdown",
   "metadata": {},
   "source": [
    "$\\blacksquare$"
   ]
  },
  {
   "cell_type": "markdown",
   "metadata": {},
   "source": [
    "**Notes.**"
   ]
  },
  {
   "cell_type": "markdown",
   "metadata": {},
   "source": [
    "- It is extremely unusual to use more than a third-order polynomial in statistics. It is more common in machine learning, where the emphasis tends to be on predictive accuracy rather than understanding.\n",
    "- It would be unusual to use a polynomial term without including all lower-order polynomial terms.\n",
    "- In addition to polynomial terms (with positive integer exponents), it can also be beneficial to include terms with negative exponents (e.g. $x^{-1}=1/x$) and/or fractional exponents (e.g. $x^{1/2}=\\sqrt{X}$).\n",
    "- The \"bulging rule\" tells you what transformations to consider based on which way the \"bulge\" goes in a scatterplot between a particular feature `x` and the target `y`. You can transform `x`, `y`, or both, but transforming `y` means that you have to do some extra work to make your metrics comparable before and after the transformation.\n",
    "\n",
    "<img src=\"../assets/images/bulging_rule.png\" style=\"height: 400px\">"
   ]
  },
  {
   "cell_type": "markdown",
   "metadata": {},
   "source": [
    "## Interaction Terms"
   ]
  },
  {
   "cell_type": "markdown",
   "metadata": {},
   "source": [
    "Sometimes the significance of one feature depends on the value of another feature.\n",
    "\n",
    "For instance, perhaps median housing prices increase as you get closer to a major employment center *unless crime is high around that area*."
   ]
  },
  {
   "cell_type": "markdown",
   "metadata": {},
   "source": [
    "We can model these kinds of \"interaction effects\" by including the *products* of the interacting variables as features in our models.\n",
    "\n",
    "For example:\n",
    "\n",
    "$$MEDV = \\beta_0 + \\beta_1 * DIS + \\beta_2 * CRIM + \\beta_{12} (DIS * CRIM)$$"
   ]
  },
  {
   "cell_type": "code",
   "execution_count": 33,
   "metadata": {},
   "outputs": [
    {
     "data": {
      "text/plain": [
       "LinearRegression(copy_X=True, fit_intercept=True, n_jobs=None,\n",
       "         normalize=False)"
      ]
     },
     "execution_count": 33,
     "metadata": {},
     "output_type": "execute_result"
    }
   ],
   "source": [
    "# Implement the model above\n",
    "# /scrub/\n",
    "feature_cols = ['DIS', 'CRIM']\n",
    "X = boston.loc[:, feature_cols]\n",
    "X.loc[:, 'INTERACTION'] = X.loc[:, 'DIS'] * X.loc[:, 'CRIM']\n",
    "y = boston.loc[:, 'MEDV']\n",
    "\n",
    "lr_interaction = LinearRegression()\n",
    "lr_interaction.fit(X, y)"
   ]
  },
  {
   "cell_type": "code",
   "execution_count": 34,
   "metadata": {},
   "outputs": [
    {
     "name": "stdout",
     "output_type": "stream",
     "text": [
      "22.688993984140442\n",
      "[ 0.47072015  0.47554791 -0.53442481]\n"
     ]
    }
   ],
   "source": [
    "# /scrub/\n",
    "print(lr_interaction.intercept_)\n",
    "print(lr_interaction.coef_)"
   ]
  },
  {
   "cell_type": "markdown",
   "metadata": {},
   "source": [
    "**Exercise (2 mins.)**\n",
    "\n",
    "- Write down the fitted model we just created."
   ]
  },
  {
   "cell_type": "markdown",
   "metadata": {},
   "source": [
    "/scrub/\n",
    "\n",
    "$$MEDV = 22.62 + 0.48 * DIS + 0.467 * CRIM - 0.527 (DIS * CRIM)$$"
   ]
  },
  {
   "cell_type": "markdown",
   "metadata": {},
   "source": [
    "$\\blacksquare$"
   ]
  },
  {
   "cell_type": "code",
   "execution_count": 35,
   "metadata": {},
   "outputs": [
    {
     "data": {
      "text/html": [
       "<div>\n",
       "<style scoped>\n",
       "    .dataframe tbody tr th:only-of-type {\n",
       "        vertical-align: middle;\n",
       "    }\n",
       "\n",
       "    .dataframe tbody tr th {\n",
       "        vertical-align: top;\n",
       "    }\n",
       "\n",
       "    .dataframe thead th {\n",
       "        text-align: right;\n",
       "    }\n",
       "</style>\n",
       "<table border=\"1\" class=\"dataframe\">\n",
       "  <thead>\n",
       "    <tr style=\"text-align: right;\">\n",
       "      <th></th>\n",
       "      <th>DIS</th>\n",
       "      <th>CRIM</th>\n",
       "    </tr>\n",
       "  </thead>\n",
       "  <tbody>\n",
       "    <tr>\n",
       "      <th>count</th>\n",
       "      <td>506.000000</td>\n",
       "      <td>506.000000</td>\n",
       "    </tr>\n",
       "    <tr>\n",
       "      <th>mean</th>\n",
       "      <td>3.795043</td>\n",
       "      <td>3.613524</td>\n",
       "    </tr>\n",
       "    <tr>\n",
       "      <th>std</th>\n",
       "      <td>2.105710</td>\n",
       "      <td>8.601545</td>\n",
       "    </tr>\n",
       "    <tr>\n",
       "      <th>min</th>\n",
       "      <td>1.129600</td>\n",
       "      <td>0.006320</td>\n",
       "    </tr>\n",
       "    <tr>\n",
       "      <th>25%</th>\n",
       "      <td>2.100175</td>\n",
       "      <td>0.082045</td>\n",
       "    </tr>\n",
       "    <tr>\n",
       "      <th>50%</th>\n",
       "      <td>3.207450</td>\n",
       "      <td>0.256510</td>\n",
       "    </tr>\n",
       "    <tr>\n",
       "      <th>75%</th>\n",
       "      <td>5.188425</td>\n",
       "      <td>3.677083</td>\n",
       "    </tr>\n",
       "    <tr>\n",
       "      <th>max</th>\n",
       "      <td>12.126500</td>\n",
       "      <td>88.976200</td>\n",
       "    </tr>\n",
       "  </tbody>\n",
       "</table>\n",
       "</div>"
      ],
      "text/plain": [
       "              DIS        CRIM\n",
       "count  506.000000  506.000000\n",
       "mean     3.795043    3.613524\n",
       "std      2.105710    8.601545\n",
       "min      1.129600    0.006320\n",
       "25%      2.100175    0.082045\n",
       "50%      3.207450    0.256510\n",
       "75%      5.188425    3.677083\n",
       "max     12.126500   88.976200"
      ]
     },
     "execution_count": 35,
     "metadata": {},
     "output_type": "execute_result"
    }
   ],
   "source": [
    "# check descriptive stats\n",
    "# /scrub/\n",
    "X.loc[:, ['DIS', 'CRIM']].describe()"
   ]
  },
  {
   "cell_type": "markdown",
   "metadata": {},
   "source": [
    "**Recall the usual interpretation of the coefficient on DIS:** how much the model's prediction for MEDV changes with a one-unit increase in DIS, all else being equal (i.e. for a particular value of CRIM).\n",
    "\n",
    "**With interaction terms, interpreting the coefficients for a feature DIS requires specifying particular values for the interacting variables.**"
   ]
  },
  {
   "cell_type": "markdown",
   "metadata": {},
   "source": [
    "For instance, if CRIM is fixed at its 25th percentile value of 0.082, we get\n",
    "\n",
    "$MEDV = 22.62 + 0.48 * DIS + 0.467 * CRIM - 0.527 (DIS * CRIM)$\n",
    "\n",
    "$MEDV = 22.62 + 0.48 * DIS + 0.467 * 0.082 - 0.527 (DIS * 0.082)$\n",
    "\n",
    "$MEDV = 22.62 + 0.48 * DIS + 0.038 - 0.043 * DIS$\n",
    "\n",
    "$MEDV = 22.658 + 0.437 * DIS$\n",
    "\n",
    "So **at CRIM=.082**, the model's prediction for MEDV increases by .437 when DIS increases by one. It's better on average to be away from employment centers when crime is low.\n",
    "\n",
    "The story is different when CRIM has its 75th percentile value of 3.64:\n",
    "\n",
    "$MEDV = 22.62 + 0.48 * DIS + 0.467 * CRIM - 0.527 (DIS * CRIM)$\n",
    "\n",
    "$MEDV = 22.62 + 0.48 * DIS + 0.467 * 3.64 - 0.527 (DIS * 3.64)$\n",
    "\n",
    "$MEDV = 22.62 + 0.48 * DIS + 1.70 - 1.92 * DIS$\n",
    "\n",
    "$MEDV = 24.32 -1.44 * DIS$\n",
    "\n",
    "**At CRIM=3.64**, the model's prediction for MEDV *decreases* by 1.44 when DIS increases by one. It's better on average to be close to employment centers when crime is high."
   ]
  },
  {
   "cell_type": "code",
   "execution_count": 36,
   "metadata": {},
   "outputs": [
    {
     "data": {
      "image/png": "[encoded data removed]",
      "text/plain": [
       "<Figure size 432x288 with 1 Axes>"
      ]
     },
     "metadata": {
      "needs_background": "light"
     },
     "output_type": "display_data"
    }
   ],
   "source": [
    "dis = X.loc[:, 'DIS']\n",
    "y1 = 22.658 + 0.437*dis\n",
    "y2 = 24.32 - 1.44*dis\n",
    "\n",
    "fig, ax = plt.subplots()\n",
    "ax.plot(dis, y1, c='g', label='CRIM=0.82')\n",
    "ax.plot(dis, y2, c='r', label='CRIM=3.64')\n",
    "ax.set_xlabel('DIS')\n",
    "ax.set_ylabel('MEDV')\n",
    "ax.scatter(X.loc[:, 'DIS'], y)\n",
    "ax.legend();"
   ]
  },
  {
   "cell_type": "markdown",
   "metadata": {},
   "source": [
    "**Exercise (8 mins., pair programming)**"
   ]
  },
  {
   "cell_type": "markdown",
   "metadata": {},
   "source": [
    "- How does adding interaction terms affect a model's bias and variance?"
   ]
  },
  {
   "cell_type": "markdown",
   "metadata": {},
   "source": [
    "/scrub/\n",
    "\n",
    "Decreases (or at least does not increase) bias, increases variance."
   ]
  },
  {
   "cell_type": "markdown",
   "metadata": {},
   "source": [
    "For the exercises below you may use `sklearn.model_selection.cross_val_score`, but pass an `sklearn.model_selection.KFold` object with `shuffle=True` to the `cv` parameter rather than a number."
   ]
  },
  {
   "cell_type": "markdown",
   "metadata": {},
   "source": [
    "- Using 5-fold cross-validation, calculate R2 for a model predicting MEDV from DIS and CRIM without an interaction term. "
   ]
  },
  {
   "cell_type": "code",
   "execution_count": 37,
   "metadata": {},
   "outputs": [
    {
     "data": {
      "text/plain": [
       "0.12554309280655457"
      ]
     },
     "execution_count": 37,
     "metadata": {},
     "output_type": "execute_result"
    }
   ],
   "source": [
    "# /scrub/\n",
    "from sklearn.model_selection import cross_val_score, KFold\n",
    "\n",
    "feature_cols = ['DIS', 'CRIM']\n",
    "X = boston.loc[:, feature_cols]\n",
    "y = boston.loc[:, 'MEDV']\n",
    "lr = LinearRegression()\n",
    "kf = KFold(n_splits=5, shuffle=True)\n",
    "\n",
    "cross_val_score(lr, X, y, cv=kf).mean()"
   ]
  },
  {
   "cell_type": "markdown",
   "metadata": {},
   "source": [
    "- Using 5-fold cross-validation, calculate the MSE for a model predicting MEDV from DIS and CRIM with an interaction term. *Hint*: use sklearn.model_selection.cross_val_score"
   ]
  },
  {
   "cell_type": "code",
   "execution_count": 38,
   "metadata": {},
   "outputs": [
    {
     "data": {
      "text/plain": [
       "0.14634621441110737"
      ]
     },
     "execution_count": 38,
     "metadata": {},
     "output_type": "execute_result"
    }
   ],
   "source": [
    "# /scrub/\n",
    "feature_cols = ['DIS', 'CRIM']\n",
    "X = boston.loc[:, feature_cols]\n",
    "X.loc[:, 'INTERACTION'] = X.loc[:, 'DIS'] * X.loc[:, 'CRIM']\n",
    "y = boston.loc[:, 'MEDV']\n",
    "lr = LinearRegression()\n",
    "\n",
    "cross_val_score(lr, X, y, cv=kf).mean()"
   ]
  },
  {
   "cell_type": "markdown",
   "metadata": {},
   "source": [
    "- **Bonus:** Find the best model you can, as measured by MSE in 5-fold cross-validation."
   ]
  },
  {
   "cell_type": "code",
   "execution_count": null,
   "metadata": {},
   "outputs": [],
   "source": []
  },
  {
   "cell_type": "markdown",
   "metadata": {},
   "source": [
    "$\\blacksquare$"
   ]
  },
  {
   "cell_type": "markdown",
   "metadata": {},
   "source": [
    "## Log Transformations"
   ]
  },
  {
   "cell_type": "markdown",
   "metadata": {},
   "source": [
    "When your data is very skewed, try a log transformation."
   ]
  },
  {
   "cell_type": "code",
   "execution_count": 39,
   "metadata": {
    "scrolled": true
   },
   "outputs": [
    {
     "data": {
      "image/png": "[encoded data removed]",
      "text/plain": [
       "<Figure size 432x288 with 2 Axes>"
      ]
     },
     "metadata": {
      "needs_background": "light"
     },
     "output_type": "display_data"
    }
   ],
   "source": [
    "# Plot histograms of mammal brain and body sizes\n",
    "# /scrub/\n",
    "axes = mammals.loc[:, ['brain', 'body']].hist()"
   ]
  },
  {
   "cell_type": "code",
   "execution_count": 40,
   "metadata": {},
   "outputs": [
    {
     "data": {
      "image/png": "[encoded data removed]",
      "text/plain": [
       "<Figure size 432x288 with 1 Axes>"
      ]
     },
     "metadata": {
      "needs_background": "light"
     },
     "output_type": "display_data"
    }
   ],
   "source": [
    "# Plot scatterplot of brain size against body size\n",
    "# /scrub/\n",
    "ax = mammals.plot(kind='scatter', x='body', y='brain')"
   ]
  },
  {
   "cell_type": "code",
   "execution_count": 41,
   "metadata": {},
   "outputs": [
    {
     "data": {
      "image/png": "[encoded data removed]",
      "text/plain": [
       "<Figure size 432x288 with 2 Axes>"
      ]
     },
     "metadata": {
      "needs_background": "light"
     },
     "output_type": "display_data"
    }
   ],
   "source": [
    "# Plot histograms of mammal brain and body sizes after a log transformation\n",
    "# /scrub/\n",
    "log_mammals = np.log(mammals)\n",
    "axes = log_mammals.hist()"
   ]
  },
  {
   "cell_type": "code",
   "execution_count": 42,
   "metadata": {},
   "outputs": [
    {
     "data": {
      "image/png": "[encoded data removed]",
      "text/plain": [
       "<Figure size 432x288 with 1 Axes>"
      ]
     },
     "metadata": {
      "needs_background": "light"
     },
     "output_type": "display_data"
    }
   ],
   "source": [
    "# Plot scatterplot of brain size against body size after log transformation\n",
    "# /scrub/\n",
    "ax = log_mammals.plot(kind='scatter', x='body', y='brain');"
   ]
  },
  {
   "cell_type": "markdown",
   "metadata": {},
   "source": [
    "The data looks much nicer after a log transformation -- the variables are highly correlated, and each looks approximately normal."
   ]
  },
  {
   "cell_type": "markdown",
   "metadata": {},
   "source": [
    "We need to be careful about how we measure performance so that we can do a fair before-and-after comparison -- MAPE of a model for $log(y)$, for instance, does not mean the same thing as MAPE of a model for $y$.\n",
    "\n",
    "Perhaps the simplest way to make the comparison fair is to transform predictions for $log(y)$ back to predictions for $y$."
   ]
  },
  {
   "cell_type": "code",
   "execution_count": 43,
   "metadata": {},
   "outputs": [
    {
     "name": "stdout",
     "output_type": "stream",
     "text": [
      "0.8622186036245755\n",
      "0.915904416326695\n"
     ]
    }
   ],
   "source": [
    "# Train and score a linear model in the log-transformed space.\n",
    "# /scrub/\n",
    "X_log = log_mammals.loc[:, ['body']]\n",
    "y_log = log_mammals.loc[:, 'brain']\n",
    "\n",
    "lr = LinearRegression()\n",
    "\n",
    "train_scores = []\n",
    "test_scores = []\n",
    "\n",
    "for rownum in X_log.index:\n",
    "    X_train_log = X_log.drop(rownum)\n",
    "    X_test_log = X_log.loc[[rownum], :]\n",
    "    y_train_log = y_log.drop(rownum)\n",
    "    y_test_log = y_log.loc[[rownum]]\n",
    "\n",
    "    lr.fit(X_train_log, y_train_log)\n",
    "\n",
    "    train_pred_log = lr.predict(X_train_log)\n",
    "    y_train = np.exp(y_train_log)\n",
    "    train_pred = np.exp(train_pred_log)\n",
    "    percent_error_train = mape(y_train, train_pred)\n",
    "    train_scores.append(percent_error_train)\n",
    "\n",
    "    test_pred_log = lr.predict(X_test_log)\n",
    "    y_test = np.exp(y_test_log)\n",
    "    test_pred = np.exp(test_pred_log)\n",
    "    percent_error_test = mape(y_test, test_pred)\n",
    "    test_scores.append(percent_error_test)\n",
    "\n",
    "print(np.array(train_scores).mean())\n",
    "print(np.array(test_scores).mean())"
   ]
  },
  {
   "cell_type": "code",
   "execution_count": 44,
   "metadata": {},
   "outputs": [
    {
     "data": {
      "image/png": "[encoded data removed]",
      "text/plain": [
       "<Figure size 432x288 with 1 Axes>"
      ]
     },
     "metadata": {
      "needs_background": "light"
     },
     "output_type": "display_data"
    }
   ],
   "source": [
    "# Plot the model's predictions\n",
    "# /scrub/\n",
    "lr.fit(X_log, y_log)\n",
    "\n",
    "ax = mammals.plot(kind='scatter', x='body', y='brain')\n",
    "ax.plot(mammals.loc[:, 'body'], np.exp(lr.predict(X_log)), c='r');"
   ]
  },
  {
   "cell_type": "markdown",
   "metadata": {},
   "source": [
    "**Takeaways:**\n",
    "\n",
    "- When your data is highly skewed, try a log transformation.\n",
    "- When you evaluate a model that transforms $y$, make sure that you calculate metrics for different models on the same scale."
   ]
  },
  {
   "cell_type": "markdown",
   "metadata": {},
   "source": [
    "**Notes:**\n",
    "\n",
    "- A log-transformed variable typically replaces the original variable in a regression analysis, unlike a polynomial term.\n",
    "- You can apply a log transformation to any combination of your features and your target variable."
   ]
  },
  {
   "cell_type": "markdown",
   "metadata": {},
   "source": [
    "## Summary\n",
    "\n",
    "- Linear regression *can* capture non-linear relationships *when you provide the appropriate non-linear transformations*.\n",
    "- Every polynomial term you add allows your model to change directions once.\n",
    "- Interaction terms allow for the possibility that the relationship between a given feature and the target depeneds on the value of another feature.\n",
    "- Log transformations are appropriate for variables with highly skewed distributions."
   ]
  }
 ],
 "metadata": {
  "kernelspec": {
   "display_name": "ga",
   "language": "python",
   "name": "ga"
  },
  "language_info": {
   "codemirror_mode": {
    "name": "ipython",
    "version": 3
   },
   "file_extension": ".py",
   "mimetype": "text/x-python",
   "name": "python",
   "nbconvert_exporter": "python",
   "pygments_lexer": "ipython3",
   "version": "3.7.1"
  }
 },
 "nbformat": 4,
 "nbformat_minor": 2
}
