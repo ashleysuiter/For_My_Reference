{
 "cells": [
  {
   "cell_type": "markdown",
   "metadata": {
    "slideshow": {
     "slide_type": "slide"
    }
   },
   "source": [
    "<img src=\"http://imgur.com/1ZcRyrc.png\" style=\"float: left; margin: 20px; height: 55px\">\n",
    "\n",
    "## Principles of Data Visualization\n",
    "\n",
    "_Author:_ Dave Yerrington (San Francisco)"
   ]
  },
  {
   "cell_type": "markdown",
   "metadata": {
    "slideshow": {
     "slide_type": "slide"
    }
   },
   "source": [
    "<a id='why_data_viz'></a>\n",
    "\n",
    "# Why Use Data Visualization?"
   ]
  },
  {
   "cell_type": "markdown",
   "metadata": {
    "slideshow": {
     "slide_type": "notes"
    }
   },
   "source": [
    "Humans are much better at spotting patterns in a visual display than in a table of numbers, even with summary statistics."
   ]
  },
  {
   "cell_type": "markdown",
   "metadata": {
    "slideshow": {
     "slide_type": "slide"
    }
   },
   "source": [
    "<a id='anscombe'></a>\n",
    "\n",
    "## Example: Anscombe's Quartet\n",
    "\n",
    "Below are the summary statistics for four plots. What do you think the visualization for each plot would look like? \n",
    "\n",
    "![summary statistics for four different plots](../assets/images/anscombs_quartet.png)\n",
    "<br>\n",
    "<br>\n",
    "<br>\n",
    "<br>\n",
    "<br>\n",
    "<br>\n",
    "<br>\n",
    "<br>\n",
    "<br>\n",
    "<br>\n",
    "<br>\n",
    "<br>\n",
    "<br>\n",
    "<br>\n",
    "<br><br>\n",
    "<br>\n",
    "<br>"
   ]
  },
  {
   "cell_type": "markdown",
   "metadata": {
    "slideshow": {
     "slide_type": "slide"
    }
   },
   "source": [
    "![anscomb's quartet](../assets/images/anscombs_quartet_visualization.png)"
   ]
  },
  {
   "cell_type": "markdown",
   "metadata": {
    "slideshow": {
     "slide_type": "notes"
    }
   },
   "source": [
    "**Lessons:**\n",
    "\n",
    "- Summary statistics don't tell the whole story.\n",
    "- Outliers have a big effect on statistical properties.\n",
    "- Visualization is not just about making pretty pictures. It's also about learning how your data is structured so that you model it properly."
   ]
  },
  {
   "cell_type": "markdown",
   "metadata": {
    "slideshow": {
     "slide_type": "slide"
    }
   },
   "source": [
    "<a id='viz_attr'></a>\n",
    "\n",
    "# Mapping Variables to Attributes\n",
    "\n",
    "Visualizing data is a matter of mapping **values of variables** to **visual attributes**. Examples:\n",
    "\n",
    "![](../assets/images/data_attributes.png)\n",
    "\n",
    "People tend to focus on **position**, then **color**, then **size**."
   ]
  },
  {
   "cell_type": "markdown",
   "metadata": {
    "slideshow": {
     "slide_type": "notes"
    },
    "toc-hr-collapsed": true
   },
   "source": [
    "## Color\n",
    "\n",
    "Generally, in data visualizations, you’re going to use color in one of three ways: sequential, divergent, or categorical. "
   ]
  },
  {
   "cell_type": "markdown",
   "metadata": {},
   "source": [
    "### Sequential Colormaps\n",
    "\n",
    "**Sequential** colors are used to show values ordered from low to high.\n",
    "\n",
    "**Example:**"
   ]
  },
  {
   "cell_type": "markdown",
   "metadata": {
    "slideshow": {
     "slide_type": "slide"
    }
   },
   "source": [
    "![sequential](../assets/images/sequential.png)"
   ]
  },
  {
   "cell_type": "markdown",
   "metadata": {
    "slideshow": {
     "slide_type": "notes"
    }
   },
   "source": [
    "### Divergent Colormaps\n",
    "\n",
    "**Divergent** colors are used to show ordered values that have a critical midpoint, like an average or zero. The colors should blend into a neutral color (e.g. white) in the middle of the scale, to avoid exaggerating small differences around the midpoint.\n",
    "\n",
    "**Example:**"
   ]
  },
  {
   "cell_type": "markdown",
   "metadata": {
    "slideshow": {
     "slide_type": "slide"
    }
   },
   "source": [
    "![divergent](../assets/images/divergent.png)"
   ]
  },
  {
   "cell_type": "markdown",
   "metadata": {},
   "source": [
    "### Categorical Colormaps"
   ]
  },
  {
   "cell_type": "markdown",
   "metadata": {
    "slideshow": {
     "slide_type": "notes"
    }
   },
   "source": [
    "**Categorical** colors are used to distinguish data that falls into distinct groups.\n",
    "\n",
    "**Example:**"
   ]
  },
  {
   "cell_type": "markdown",
   "metadata": {
    "slideshow": {
     "slide_type": "slide"
    }
   },
   "source": [
    "![categorical](../assets/images/categorical.png)\n",
    "\n",
    "[Images via MediaShift](http://mediashift.org/2016/02/checklist-does-your-data-visualization-say-what-you-think-it-says/)"
   ]
  },
  {
   "cell_type": "markdown",
   "metadata": {
    "slideshow": {
     "slide_type": "slide"
    },
    "toc-hr-collapsed": true
   },
   "source": [
    "## Choosing the Right Chart"
   ]
  },
  {
   "cell_type": "markdown",
   "metadata": {
    "slideshow": {
     "slide_type": "slide"
    },
    "toc-hr-collapsed": false
   },
   "source": [
    "### Bar Charts\n",
    "\n",
    "![](https://lenagroeger.s3.amazonaws.com/cuny-fall15/MakeThisChart/nytimes-bar-chart.jpg)"
   ]
  },
  {
   "cell_type": "markdown",
   "metadata": {
    "slideshow": {
     "slide_type": "notes"
    }
   },
   "source": [
    "Bar charts are great because they make it easy to compare across categories based on the **position** of the end of the bar."
   ]
  },
  {
   "cell_type": "markdown",
   "metadata": {
    "slideshow": {
     "slide_type": "slide"
    }
   },
   "source": [
    "### Pie Charts\n",
    "\n",
    "![](http://i.imgur.com/uhTf6Ek.jpg)"
   ]
  },
  {
   "cell_type": "markdown",
   "metadata": {
    "slideshow": {
     "slide_type": "notes"
    }
   },
   "source": [
    "Pie charts are kind of the comic sans of data visualization.\n",
    "\n",
    "They are fine when you just want to show that some piece is a very large or small part of some whole, but even then you are probably better off using a bar chart. If you want to make a lot of comparisons across a lot of categories, then you have to use a bar chart.\n",
    "\n",
    "People are much better at judging heights/lengths than angles."
   ]
  },
  {
   "cell_type": "markdown",
   "metadata": {
    "slideshow": {
     "slide_type": "slide"
    }
   },
   "source": [
    "### Scatter Plots\n",
    "\n",
    "![](../assets/images/scatter_plot.png)\n",
    "[Scatter plot via Wikibooks](https://en.wikibooks.org/wiki/Statistics/Displaying_Data/Scatter_Graphs)"
   ]
  },
  {
   "cell_type": "markdown",
   "metadata": {
    "slideshow": {
     "slide_type": "notes"
    }
   },
   "source": [
    "Scatter plots are great for seeing the relationship between two variables, which is important for model building."
   ]
  },
  {
   "cell_type": "markdown",
   "metadata": {
    "slideshow": {
     "slide_type": "slide"
    },
    "toc-hr-collapsed": false
   },
   "source": [
    "### Histograms \n",
    "\n",
    "![](../assets/images/histogram_chart.png)\n",
    "\n",
    "Source: [Charts and graphs via Tableau](https://drive.google.com/file/d/0Bx2SHQGVqWasT1l4NWtLclJJcWM/view)"
   ]
  },
  {
   "cell_type": "markdown",
   "metadata": {
    "slideshow": {
     "slide_type": "notes"
    }
   },
   "source": [
    "Histograms are useful when you want to see how your data are distributed across groups.\n",
    "\n",
    "A **histogram** is a plot of frequency against a *binned continuous variable*, whereas a **bar plot** is a plot of frequency against a *categorical variable*.\n",
    "\n",
    "Typically a bars are connected in a histogram but not in a bar plot."
   ]
  },
  {
   "cell_type": "markdown",
   "metadata": {
    "toc-hr-collapsed": true
   },
   "source": [
    "## Visualization Tools"
   ]
  },
  {
   "cell_type": "markdown",
   "metadata": {
    "slideshow": {
     "slide_type": "slide"
    }
   },
   "source": [
    "### Programming Libraries\n",
    "\n",
    "- **[Matplotlib](https://matplotlib.org/)**\n",
    "    - Inspired by Matlab's plotting functions\n",
    "    - Produces publication-quality static plots\n",
    "    - Gives the user a lot of control\n",
    "    - Not very Pythonic\n",
    "    - Can be confusing\n",
    "- **[Seaborn](https://seaborn.pydata.org/)**\n",
    "    - Extends matplotlib\n",
    "    - Provides modern themes\n",
    "    - Provides convenience functions for statistical data visualization\n",
    "- **[Bokeh](http://bokeh.pydata.org/en/latest/)**\n",
    "    - Provides interactive plots for the web\n",
    "    - Has a more modern interface\n",
    "    - Somewhat limited\n",
    "- **[Graphviz](http://graphviz.readthedocs.io/en/stable/manual.html)**\n",
    "    - Visualizes graph data structures (e.g., edges, vertices, etc)\n",
    "- **[Basemap](http://matplotlib.org/basemap/)**\n",
    "    - Produces static maps\n",
    "- **[D3.js](https://d3js.org/)**\n",
    "    - Used by fivethirtyeight, NYTimes, and others to create stunning, high-performance, interactive visualizations for the web (e.g. [What City is the Microbrew Capital of the United States?](https://pudding.cool/2017/04/beer/))\n",
    "    - Low-level Javascript library"
   ]
  },
  {
   "cell_type": "markdown",
   "metadata": {
    "slideshow": {
     "slide_type": "slide"
    }
   },
   "source": [
    "### GUI Tools\n",
    "\n",
    "- **Excel:** For quick data cleaning and simple graphs\n",
    "- **Power BI:** Suite of business analytics tools\n",
    "- **Tableau:** Business intelligence and analytics software\n",
    "- **Periscope Data:** Data analysis platform\n",
    "- **Plotly:** Create charts and dashboards"
   ]
  }
 ],
 "metadata": {
  "anaconda-cloud": {},
  "kernelspec": {
   "display_name": "Python 3",
   "language": "python",
   "name": "python3"
  },
  "language_info": {
   "codemirror_mode": {
    "name": "ipython",
    "version": 3
   },
   "file_extension": ".py",
   "mimetype": "text/x-python",
   "name": "python",
   "nbconvert_exporter": "python",
   "pygments_lexer": "ipython3",
   "version": "3.6.8"
  }
 },
 "nbformat": 4,
 "nbformat_minor": 2
}
